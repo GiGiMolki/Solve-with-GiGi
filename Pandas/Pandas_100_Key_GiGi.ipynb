{
 "cells": [
  {
   "cell_type": "markdown",
   "id": "3c6d9746",
   "metadata": {},
   "source": [
    "# 📘 Mastering Pandas: 100 Coding Questions\n",
    "\n",
    "This Jupyter Notebook contains **100 Pandas coding questions** in markdown format, followed by blank code cells where you can write your solutions.\n",
    "\n",
    "---\n",
    "\n",
    "### 📌 Instructions:\n",
    "- Read each question carefully.\n",
    "- Write your solution in the blank code cell below each question.\n",
    "- Test your code with different inputs to gain mastery.\n",
    "- Feel free to modify and explore different approaches! 🚀\n",
    "\n",
    "Let's get started! 🎯\n"
   ]
  },
  {
   "cell_type": "markdown",
   "id": "33bb4ac6",
   "metadata": {},
   "source": [
    "### 1. Import Pandas and create a simple DataFrame from a dictionary."
   ]
  },
  {
   "cell_type": "code",
   "execution_count": 2,
   "id": "06af29e8",
   "metadata": {},
   "outputs": [
    {
     "name": "stdout",
     "output_type": "stream",
     "text": [
      "   Majd  GiGi\n",
      "0     1     5\n",
      "1     2     6\n",
      "2     3     7\n",
      "3     4     8\n"
     ]
    }
   ],
   "source": [
    "# Step 1: Import the pandas library\n",
    "import pandas as pd\n",
    "\n",
    "# Step 2: Create a dictionary where keys are column names and values are lists of data\n",
    "data = {\n",
    "    \"Majd\": [1, 2, 3, 4],\n",
    "    \"GiGi\": [5, 6, 7, 8]\n",
    "}\n",
    "\n",
    "# Step 3: Convert the dictionary into a DataFrame\n",
    "df = pd.DataFrame(data)\n",
    "\n",
    "# Step 4: Display the resulting DataFrame\n",
    "print(df)"
   ]
  },
  {
   "cell_type": "markdown",
   "id": "b0bfd8d3",
   "metadata": {},
   "source": [
    "### 2. Create a Pandas Series with a list of 10 numbers."
   ]
  },
  {
   "cell_type": "code",
   "execution_count": 3,
   "id": "9c4433c0",
   "metadata": {},
   "outputs": [
    {
     "name": "stdout",
     "output_type": "stream",
     "text": [
      "0     1\n",
      "1     2\n",
      "2     3\n",
      "3     4\n",
      "4     5\n",
      "5     6\n",
      "6     7\n",
      "7     8\n",
      "8     9\n",
      "9    10\n",
      "dtype: int64\n"
     ]
    }
   ],
   "source": [
    "# Step 1: Create a Series using a list of 10 integers\n",
    "series = pd.Series([1, 2, 3, 4, 5, 6, 7, 8, 9, 10])\n",
    "\n",
    "# Step 2: Display the Series\n",
    "print(series)"
   ]
  },
  {
   "cell_type": "markdown",
   "id": "2ca4ad64",
   "metadata": {},
   "source": [
    "### 3. Load a CSV file into a DataFrame and display the first 5 rows."
   ]
  },
  {
   "cell_type": "code",
   "execution_count": 56,
   "id": "38022218",
   "metadata": {},
   "outputs": [
    {
     "name": "stdout",
     "output_type": "stream",
     "text": [
      "      Name   Age      City   Salary        Date Category\n",
      "0    Alice  45.0  New York  95445.0  2023-01-01        A\n",
      "1      Bob  58.0    London  86235.0  2023-01-02        B\n",
      "2  Charlie  60.0     Tokyo  62330.0  2023-01-03        C\n",
      "3    David  28.0     Paris  46022.0  2023-01-04        A\n",
      "4      Eva  49.0    Berlin  65999.0  2023-01-05        B\n"
     ]
    }
   ],
   "source": [
    "# Step 1: Import pandas\n",
    "import pandas as pd\n",
    "\n",
    "# Step 2: Simulate some data and save it to a CSV file\n",
    "data = {\n",
    "    'Name': ['Alice', 'Bob', 'Charlie', 'David', 'Eva', 'Frank', 'Grace', 'Hannah', 'Ivan', 'Jack', 'Ivan', 'Jack', 'Grace', 'Hannah'],  \n",
    "    'Age': [45, 58, 60, 28, 49, 67, None, 60, 37, 31, 37, 31, 29, 60],  \n",
    "    'City': ['New York', 'London', 'Tokyo', 'Paris', 'Berlin', 'Paris', 'Berlin', 'New York', 'Tokyo', 'London', 'Tokyo', 'London', 'Berlin', 'New York'],  \n",
    "    'Salary': [95445, 86235, 62330, 46022, 65999, 88320, 57141, 65413, 87016, 58725, 87016, 58725, 57141, None],  \n",
    "    'Date': ['2023-01-01', '2023-01-02', '2023-01-03', '2023-01-04', '2023-01-05', '2023-01-06', '2023-01-07', '2023-01-08', '2023-01-09', '2023-01-10', '2023-01-09', '2023-01-10', '2023-01-07', '2023-01-08'],  \n",
    "    'Category': ['A', 'B', 'C', 'A', 'B', 'A', 'C', 'B', 'A', 'B', 'A', 'B', None, 'B']  \n",
    "}\n",
    "\n",
    "# Step 3: Convert the dictionary into a DataFrame\n",
    "df = pd.DataFrame(data)\n",
    "\n",
    "# Step 4: Save the DataFrame as a CSV file\n",
    "df.to_csv(\"CSV.csv\", index=False)\n",
    "\n",
    "# Step 5: Read the CSV file back into a new DataFrame\n",
    "csv = pd.read_csv(\"/Users/mynimbus/Library/Mobile Documents/com~apple~CloudDocs/Pandas codes/Problems/CSV.csv\")\n",
    "\n",
    "# Step 6: Display the first 5 rows of the DataFrame\n",
    "print(csv.head(5))"
   ]
  },
  {
   "cell_type": "markdown",
   "id": "ba8f47e8",
   "metadata": {},
   "source": [
    "### 4. Display the column names and data types of a DataFrame."
   ]
  },
  {
   "cell_type": "code",
   "execution_count": 5,
   "id": "eee65349",
   "metadata": {},
   "outputs": [
    {
     "name": "stdout",
     "output_type": "stream",
     "text": [
      "🧾 Column Names:\n",
      "['Name', 'Age', 'City', 'Salary', 'Date', 'Category']\n",
      "\n",
      "🧬 Data Types:\n",
      "Name         object\n",
      "Age         float64\n",
      "City         object\n",
      "Salary      float64\n",
      "Date         object\n",
      "Category     object\n",
      "dtype: object\n"
     ]
    }
   ],
   "source": [
    "# Display the column names\n",
    "print(\"🧾 Column Names:\")\n",
    "print(csv.columns.tolist())  # Convert Index object to a list for better readability\n",
    "\n",
    "print(\"\\n🧬 Data Types:\")\n",
    "print(csv.dtypes)  # Shows dtype of each column"
   ]
  },
  {
   "cell_type": "code",
   "execution_count": 6,
   "id": "e99fabd7",
   "metadata": {},
   "outputs": [
    {
     "name": "stdout",
     "output_type": "stream",
     "text": [
      "<class 'pandas.core.frame.DataFrame'>\n",
      "RangeIndex: 14 entries, 0 to 13\n",
      "Data columns (total 6 columns):\n",
      " #   Column    Non-Null Count  Dtype  \n",
      "---  ------    --------------  -----  \n",
      " 0   Name      14 non-null     object \n",
      " 1   Age       13 non-null     float64\n",
      " 2   City      14 non-null     object \n",
      " 3   Salary    13 non-null     float64\n",
      " 4   Date      14 non-null     object \n",
      " 5   Category  13 non-null     object \n",
      "dtypes: float64(2), object(4)\n",
      "memory usage: 804.0+ bytes\n"
     ]
    }
   ],
   "source": [
    "# Gives a compact summary of the DataFrame — columns, non-nulls, and data types\n",
    "csv.info()"
   ]
  },
  {
   "cell_type": "code",
   "execution_count": 7,
   "id": "2f118a1e",
   "metadata": {},
   "outputs": [
    {
     "name": "stdout",
     "output_type": "stream",
     "text": [
      "📊 Numeric Columns: ['Age', 'Salary']\n"
     ]
    }
   ],
   "source": [
    "# Filter columns by data type (numeric in this case)\n",
    "numeric_cols = csv.select_dtypes(include='number').columns.tolist()\n",
    "print(\"📊 Numeric Columns:\", numeric_cols)"
   ]
  },
  {
   "cell_type": "markdown",
   "id": "d7e99748",
   "metadata": {},
   "source": [
    "### 5. Get the shape, size, and number of dimensions of a DataFrame."
   ]
  },
  {
   "cell_type": "code",
   "execution_count": 8,
   "id": "7f052391",
   "metadata": {},
   "outputs": [
    {
     "name": "stdout",
     "output_type": "stream",
     "text": [
      "Shape (rows, columns): (14, 6)\n",
      "Total elements (size): 84\n",
      "Number of dimensions: 2\n"
     ]
    }
   ],
   "source": [
    "# 📐 Shape of the DataFrame: (rows, columns)\n",
    "print(\"Shape (rows, columns):\", csv.shape)\n",
    "\n",
    "# 🔢 Total number of elements (rows * columns)\n",
    "print(\"Total elements (size):\", csv.size)\n",
    "\n",
    "# 🌌 Number of dimensions: 2 for a standard DataFrame\n",
    "print(\"Number of dimensions:\", csv.ndim)"
   ]
  },
  {
   "cell_type": "code",
   "execution_count": 9,
   "id": "a031b05a",
   "metadata": {},
   "outputs": [
    {
     "name": "stdout",
     "output_type": "stream",
     "text": [
      "       Metric    Value\n",
      "0       Shape  (14, 6)\n",
      "1        Size       84\n",
      "2  Dimensions        2\n"
     ]
    }
   ],
   "source": [
    "# Display these metrics in a mini DataFrame for a neat look\n",
    "df_dims = pd.DataFrame({\n",
    "    'Metric': ['Shape', 'Size', 'Dimensions'],\n",
    "    'Value': [str(csv.shape), csv.size, csv.ndim]\n",
    "})\n",
    "print(df_dims)"
   ]
  },
  {
   "cell_type": "markdown",
   "id": "71c49b41",
   "metadata": {},
   "source": [
    "### 6. Check for missing values in a DataFrame."
   ]
  },
  {
   "cell_type": "code",
   "execution_count": 10,
   "id": "a37fe4fd",
   "metadata": {},
   "outputs": [
    {
     "name": "stdout",
     "output_type": "stream",
     "text": [
      "Missing values per column:\n",
      "Name        0\n",
      "Age         1\n",
      "City        0\n",
      "Salary      1\n",
      "Date        0\n",
      "Category    1\n",
      "dtype: int64\n"
     ]
    }
   ],
   "source": [
    "# 🔍 Check for missing values in each column and display the count\n",
    "print(\"Missing values per column:\")\n",
    "print(csv.isnull().sum())"
   ]
  },
  {
   "cell_type": "markdown",
   "id": "85370a04",
   "metadata": {},
   "source": [
    "### 7. Convert a NumPy array into a Pandas DataFrame."
   ]
  },
  {
   "cell_type": "code",
   "execution_count": 11,
   "id": "02a9434d",
   "metadata": {},
   "outputs": [
    {
     "name": "stdout",
     "output_type": "stream",
     "text": [
      "   Values\n",
      "0       1\n",
      "1       2\n",
      "2       3\n",
      "3       4\n",
      "4       5\n",
      "5       6\n",
      "6       7\n",
      "7       8\n",
      "8       9\n"
     ]
    }
   ],
   "source": [
    "import numpy as np\n",
    "\n",
    "# 🔁 Create a NumPy array from 1 to 9\n",
    "array = np.arange(1, 10)\n",
    "\n",
    "# 🧱 Convert the 1D array into a DataFrame\n",
    "df_from_array = pd.DataFrame(array, columns=[\"Values\"])  # Naming the column makes it cleaner\n",
    "\n",
    "print(df_from_array)"
   ]
  },
  {
   "cell_type": "markdown",
   "id": "36638d4d",
   "metadata": {},
   "source": [
    "### 8. Save a DataFrame to a CSV file without the index."
   ]
  },
  {
   "cell_type": "code",
   "execution_count": 12,
   "id": "1c135ad9",
   "metadata": {},
   "outputs": [
    {
     "name": "stdout",
     "output_type": "stream",
     "text": [
      "DataFrame saved to CSV without the index.\n"
     ]
    }
   ],
   "source": [
    "# 🚀 Save the DataFrame to a CSV file without including the index\n",
    "df.to_csv(\"CSV.csv\", index=False)\n",
    "\n",
    "# Inform user that the file has been saved\n",
    "print(\"DataFrame saved to CSV without the index.\")"
   ]
  },
  {
   "cell_type": "code",
   "execution_count": 13,
   "id": "4cbd1c55",
   "metadata": {},
   "outputs": [
    {
     "name": "stdout",
     "output_type": "stream",
     "text": [
      "DataFrame saved with a tab separator.\n"
     ]
    }
   ],
   "source": [
    "# Save the DataFrame with a custom separator (e.g., tab-delimited)\n",
    "df.to_csv(\"CSV.csv\", index=False, sep='\\t')\n",
    "\n",
    "# Notice the use of '\\t' for tab separation\n",
    "print(\"DataFrame saved with a tab separator.\")"
   ]
  },
  {
   "cell_type": "markdown",
   "id": "91d051f4",
   "metadata": {},
   "source": [
    "### 9. Convert a dictionary into a DataFrame."
   ]
  },
  {
   "cell_type": "code",
   "execution_count": 14,
   "id": "8b24c01d",
   "metadata": {},
   "outputs": [
    {
     "name": "stdout",
     "output_type": "stream",
     "text": [
      "       Name   Age      City   Salary        Date Category\n",
      "0     Alice  45.0  New York  95445.0  2023-01-01        A\n",
      "1       Bob  58.0    London  86235.0  2023-01-02        B\n",
      "2   Charlie  60.0     Tokyo  62330.0  2023-01-03        C\n",
      "3     David  28.0     Paris  46022.0  2023-01-04        A\n",
      "4       Eva  49.0    Berlin  65999.0  2023-01-05        B\n",
      "5     Frank  67.0     Paris  88320.0  2023-01-06        A\n",
      "6     Grace   NaN    Berlin  57141.0  2023-01-07        C\n",
      "7    Hannah  60.0  New York  65413.0  2023-01-08        B\n",
      "8      Ivan  37.0     Tokyo  87016.0  2023-01-09        A\n",
      "9      Jack  31.0    London  58725.0  2023-01-10        B\n",
      "10     Ivan  37.0     Tokyo  87016.0  2023-01-09        A\n",
      "11     Jack  31.0    London  58725.0  2023-01-10        B\n",
      "12    Grace  29.0    Berlin  57141.0  2023-01-07     None\n",
      "13   Hannah  60.0  New York      NaN  2023-01-08        B\n"
     ]
    }
   ],
   "source": [
    "# 📝 Dictionary with data\n",
    "data = {\n",
    "    'Name': ['Alice', 'Bob', 'Charlie', 'David', 'Eva', 'Frank', 'Grace', 'Hannah', 'Ivan', 'Jack', 'Ivan', 'Jack', 'Grace', 'Hannah'],  \n",
    "    'Age': [45, 58, 60, 28, 49, 67, None, 60, 37, 31, 37, 31, 29, 60],  \n",
    "    'City': ['New York', 'London', 'Tokyo', 'Paris', 'Berlin', 'Paris', 'Berlin', 'New York', 'Tokyo', 'London', 'Tokyo', 'London', 'Berlin', 'New York'],  \n",
    "    'Salary': [95445, 86235, 62330, 46022, 65999, 88320, 57141, 65413, 87016, 58725, 87016, 58725, 57141, None],  \n",
    "    'Date': ['2023-01-01', '2023-01-02', '2023-01-03', '2023-01-04', '2023-01-05', '2023-01-06', '2023-01-07', '2023-01-08', '2023-01-09', '2023-01-10', '2023-01-09', '2023-01-10', '2023-01-07', '2023-01-08'],  \n",
    "    'Category': ['A', 'B', 'C', 'A', 'B', 'A', 'C', 'B', 'A', 'B', 'A', 'B', None, 'B']  \n",
    "}\n",
    "\n",
    "# 📊 Convert the dictionary into a DataFrame\n",
    "df = pd.DataFrame(data)\n",
    "\n",
    "# Display the DataFrame to confirm\n",
    "print(df)"
   ]
  },
  {
   "cell_type": "markdown",
   "id": "696cbdfd",
   "metadata": {},
   "source": [
    "### 10. Generate a DataFrame with random numbers and set custom column names."
   ]
  },
  {
   "cell_type": "code",
   "execution_count": 15,
   "id": "c8c1a722",
   "metadata": {},
   "outputs": [
    {
     "name": "stdout",
     "output_type": "stream",
     "text": [
      "          A         B         C\n",
      "0  0.374540  0.950714  0.731994\n",
      "1  0.598658  0.156019  0.155995\n",
      "2  0.058084  0.866176  0.601115\n",
      "3  0.708073  0.020584  0.969910\n",
      "4  0.832443  0.212339  0.181825\n"
     ]
    }
   ],
   "source": [
    "#  Set the seed for reproducibility (ensures same random values on every run)\n",
    "np.random.seed(42)\n",
    "\n",
    "# Generate a 5x3 DataFrame with random floating-point numbers between 0 and 1\n",
    "df = pd.DataFrame(np.random.rand(5, 3), columns=['A', 'B', 'C'])\n",
    "\n",
    "# Display the DataFrame\n",
    "print(df)"
   ]
  },
  {
   "cell_type": "code",
   "execution_count": 16,
   "id": "ebe5fe18",
   "metadata": {},
   "outputs": [
    {
     "name": "stdout",
     "output_type": "stream",
     "text": [
      "          X         Y         Z\n",
      "0 -0.571380 -0.924083 -2.612549\n",
      "1  0.950370  0.816445 -1.523876\n",
      "2 -0.428046 -0.742407 -0.703344\n",
      "3 -2.139621 -0.629475  0.597720\n",
      "4  2.559488  0.394233  0.122219\n"
     ]
    }
   ],
   "source": [
    "# Generate random numbers from a normal distribution (mean=0, std=1)\n",
    "df_normal = pd.DataFrame(np.random.randn(5, 3), columns=['X', 'Y', 'Z'])\n",
    "\n",
    "# Display the DataFrame\n",
    "print(df_normal)"
   ]
  },
  {
   "cell_type": "code",
   "execution_count": 17,
   "id": "c3fa59f8",
   "metadata": {},
   "outputs": [
    {
     "name": "stdout",
     "output_type": "stream",
     "text": [
      "           M          N          O\n",
      "0  11.705241  10.650516  19.488855\n",
      "1  19.656320  18.083973  13.046138\n",
      "2  10.976721  16.842330  14.401525\n",
      "3  11.220382  14.951769  10.343885\n",
      "4  19.093204  12.587800  16.625223\n"
     ]
    }
   ],
   "source": [
    "# Generate random numbers between a custom range (e.g., 10 to 20)\n",
    "df_range = pd.DataFrame(np.random.uniform(10, 20, size=(5, 3)), columns=['M', 'N', 'O'])\n",
    "\n",
    "print(df_range)"
   ]
  },
  {
   "cell_type": "markdown",
   "id": "cfb4d78e",
   "metadata": {},
   "source": [
    "### 11. Select a single column from a DataFrame."
   ]
  },
  {
   "cell_type": "code",
   "execution_count": 18,
   "id": "a7817818",
   "metadata": {},
   "outputs": [
    {
     "name": "stdout",
     "output_type": "stream",
     "text": [
      "0     45.0\n",
      "1     58.0\n",
      "2     60.0\n",
      "3     28.0\n",
      "4     49.0\n",
      "5     67.0\n",
      "6      NaN\n",
      "7     60.0\n",
      "8     37.0\n",
      "9     31.0\n",
      "10    37.0\n",
      "11    31.0\n",
      "12    29.0\n",
      "13    60.0\n",
      "Name: Age, dtype: float64\n"
     ]
    }
   ],
   "source": [
    "# Select the \"Age\" column from the DataFrame\n",
    "age_column = csv[\"Age\"]\n",
    "\n",
    "# Display the selected column\n",
    "print(age_column)"
   ]
  },
  {
   "cell_type": "markdown",
   "id": "034606e3",
   "metadata": {},
   "source": [
    "### 12. Select multiple columns from a DataFrame."
   ]
  },
  {
   "cell_type": "code",
   "execution_count": 19,
   "id": "1ccec8c3",
   "metadata": {},
   "outputs": [
    {
     "name": "stdout",
     "output_type": "stream",
     "text": [
      "       Name   Age\n",
      "0     Alice  45.0\n",
      "1       Bob  58.0\n",
      "2   Charlie  60.0\n",
      "3     David  28.0\n",
      "4       Eva  49.0\n",
      "5     Frank  67.0\n",
      "6     Grace   NaN\n",
      "7    Hannah  60.0\n",
      "8      Ivan  37.0\n",
      "9      Jack  31.0\n",
      "10     Ivan  37.0\n",
      "11     Jack  31.0\n",
      "12    Grace  29.0\n",
      "13   Hannah  60.0\n"
     ]
    }
   ],
   "source": [
    "#  Select the \"Name\" and \"Age\" columns from the DataFrame\n",
    "selected_columns = csv[[\"Name\", \"Age\"]]\n",
    "\n",
    "# Display the selected columns\n",
    "print(selected_columns)"
   ]
  },
  {
   "cell_type": "code",
   "execution_count": 20,
   "id": "0fa8eceb",
   "metadata": {},
   "outputs": [
    {
     "name": "stdout",
     "output_type": "stream",
     "text": [
      "       Name   Age\n",
      "0     Alice  45.0\n",
      "1       Bob  58.0\n",
      "2   Charlie  60.0\n",
      "3     David  28.0\n",
      "4       Eva  49.0\n",
      "5     Frank  67.0\n",
      "6     Grace   NaN\n",
      "7    Hannah  60.0\n",
      "8      Ivan  37.0\n",
      "9      Jack  31.0\n",
      "10     Ivan  37.0\n",
      "11     Jack  31.0\n",
      "12    Grace  29.0\n",
      "13   Hannah  60.0\n"
     ]
    }
   ],
   "source": [
    "# Using .loc[] to select multiple columns\n",
    "selected_columns_loc = csv.loc[:, [\"Name\", \"Age\"]]\n",
    "print(selected_columns_loc) "
   ]
  },
  {
   "cell_type": "markdown",
   "id": "b02f7cdb",
   "metadata": {},
   "source": [
    "### 13. Select the first 10 rows of a DataFrame."
   ]
  },
  {
   "cell_type": "code",
   "execution_count": 21,
   "id": "24e7de0a",
   "metadata": {},
   "outputs": [
    {
     "name": "stdout",
     "output_type": "stream",
     "text": [
      "      Name   Age      City   Salary        Date Category\n",
      "0    Alice  45.0  New York  95445.0  2023-01-01        A\n",
      "1      Bob  58.0    London  86235.0  2023-01-02        B\n",
      "2  Charlie  60.0     Tokyo  62330.0  2023-01-03        C\n",
      "3    David  28.0     Paris  46022.0  2023-01-04        A\n",
      "4      Eva  49.0    Berlin  65999.0  2023-01-05        B\n",
      "5    Frank  67.0     Paris  88320.0  2023-01-06        A\n",
      "6    Grace   NaN    Berlin  57141.0  2023-01-07        C\n",
      "7   Hannah  60.0  New York  65413.0  2023-01-08        B\n",
      "8     Ivan  37.0     Tokyo  87016.0  2023-01-09        A\n",
      "9     Jack  31.0    London  58725.0  2023-01-10        B\n"
     ]
    }
   ],
   "source": [
    "# Select the first 10 rows of the DataFrame\n",
    "first_10_rows = csv.head(10)\n",
    "\n",
    "# Display the first 10 rows\n",
    "print(first_10_rows)"
   ]
  },
  {
   "cell_type": "markdown",
   "id": "45b0a719",
   "metadata": {},
   "source": [
    "### 14. Select the last 5 rows of a DataFrame."
   ]
  },
  {
   "cell_type": "code",
   "execution_count": 22,
   "id": "a04bd9d0",
   "metadata": {},
   "outputs": [
    {
     "name": "stdout",
     "output_type": "stream",
     "text": [
      "      Name   Age      City   Salary        Date Category\n",
      "9     Jack  31.0    London  58725.0  2023-01-10        B\n",
      "10    Ivan  37.0     Tokyo  87016.0  2023-01-09        A\n",
      "11    Jack  31.0    London  58725.0  2023-01-10        B\n",
      "12   Grace  29.0    Berlin  57141.0  2023-01-07      NaN\n",
      "13  Hannah  60.0  New York      NaN  2023-01-08        B\n"
     ]
    }
   ],
   "source": [
    "# Select the last 5 rows of the DataFrame\n",
    "last_5_rows = csv.tail()\n",
    "\n",
    "# Display the last 5 rows\n",
    "print(last_5_rows)"
   ]
  },
  {
   "cell_type": "markdown",
   "id": "ae9b8d3d",
   "metadata": {},
   "source": [
    "### 15. Use `.loc[]` to select a row based on an index label."
   ]
  },
  {
   "cell_type": "code",
   "execution_count": 23,
   "id": "d3bd98e9",
   "metadata": {},
   "outputs": [
    {
     "name": "stdout",
     "output_type": "stream",
     "text": [
      "Name               Bob\n",
      "Age               58.0\n",
      "City            London\n",
      "Salary         86235.0\n",
      "Date        2023-01-02\n",
      "Category             B\n",
      "Name: 1, dtype: object\n"
     ]
    }
   ],
   "source": [
    "# Use .loc[] to select the row at index label 1\n",
    "row_at_index_1 = csv.loc[1]\n",
    "\n",
    "# Display the selected row\n",
    "print(row_at_index_1)"
   ]
  },
  {
   "cell_type": "markdown",
   "id": "89a831b2",
   "metadata": {},
   "source": [
    "### 16. Use `.iloc[]` to select a row by position."
   ]
  },
  {
   "cell_type": "code",
   "execution_count": 24,
   "id": "881833c4",
   "metadata": {},
   "outputs": [
    {
     "name": "stdout",
     "output_type": "stream",
     "text": [
      "Name              Ivan\n",
      "Age               37.0\n",
      "City             Tokyo\n",
      "Salary         87016.0\n",
      "Date        2023-01-09\n",
      "Category             A\n",
      "Name: 8, dtype: object\n"
     ]
    }
   ],
   "source": [
    "# Use .iloc[] to select the row at the 9th position (index 8)\n",
    "row_at_position_8 = csv.iloc[8]\n",
    "\n",
    "# Display the selected row\n",
    "print(row_at_position_8)"
   ]
  },
  {
   "cell_type": "markdown",
   "id": "0e0a1b84",
   "metadata": {},
   "source": [
    "### 17. Use `.loc[]` to select specific columns and rows."
   ]
  },
  {
   "cell_type": "code",
   "execution_count": 25,
   "id": "aef83d2b",
   "metadata": {},
   "outputs": [
    {
     "name": "stdout",
     "output_type": "stream",
     "text": [
      "      Name   Age      City   Salary\n",
      "0    Alice  45.0  New York  95445.0\n",
      "1      Bob  58.0    London  86235.0\n",
      "2  Charlie  60.0     Tokyo  62330.0\n"
     ]
    }
   ],
   "source": [
    "# Use .loc[] to select rows from index 0 to 2 and columns from \"Name\" to \"Salary\"\n",
    "selected_data = csv.loc[0:2, \"Name\":\"Salary\"]\n",
    "\n",
    "# Display the selected data\n",
    "print(selected_data)"
   ]
  },
  {
   "cell_type": "markdown",
   "id": "636d1106",
   "metadata": {},
   "source": [
    "### 18. Select rows where a column value is greater than a given number."
   ]
  },
  {
   "cell_type": "code",
   "execution_count": 26,
   "id": "dbd9b223",
   "metadata": {},
   "outputs": [
    {
     "name": "stdout",
     "output_type": "stream",
     "text": [
      "    Name   Age      City   Salary        Date Category\n",
      "0  Alice  45.0  New York  95445.0  2023-01-01        A\n"
     ]
    }
   ],
   "source": [
    "# Select rows where the \"Salary\" column value is greater than 90,000\n",
    "high_salary_rows = csv[csv[\"Salary\"] > 90000]\n",
    "\n",
    "# Display the selected rows\n",
    "print(high_salary_rows)"
   ]
  },
  {
   "cell_type": "code",
   "execution_count": 27,
   "id": "107ac509",
   "metadata": {},
   "outputs": [
    {
     "name": "stdout",
     "output_type": "stream",
     "text": [
      "    Name   Age      City   Salary        Date Category\n",
      "0  Alice  45.0  New York  95445.0  2023-01-01        A\n"
     ]
    }
   ],
   "source": [
    "# Using .loc[] to select rows where \"Salary\" is greater than 90,000\n",
    "high_salary_rows_loc = csv.loc[csv[\"Salary\"] > 90000]\n",
    "\n",
    "# Display the selected rows\n",
    "print(high_salary_rows_loc)"
   ]
  },
  {
   "cell_type": "markdown",
   "id": "a1c15152",
   "metadata": {},
   "source": [
    "### 19. Select rows where a column value is between two numbers."
   ]
  },
  {
   "cell_type": "code",
   "execution_count": 28,
   "id": "d7282545",
   "metadata": {},
   "outputs": [
    {
     "name": "stdout",
     "output_type": "stream",
     "text": [
      "     Name   Age    City   Salary        Date Category\n",
      "1     Bob  58.0  London  86235.0  2023-01-02        B\n",
      "5   Frank  67.0   Paris  88320.0  2023-01-06        A\n",
      "8    Ivan  37.0   Tokyo  87016.0  2023-01-09        A\n",
      "10   Ivan  37.0   Tokyo  87016.0  2023-01-09        A\n"
     ]
    }
   ],
   "source": [
    "# Select rows where the \"Salary\" is between 80,000 and 90,000 (exclusive)\n",
    "mid_salary_range = csv[(csv[\"Salary\"] < 90000) & (csv[\"Salary\"] > 80000)]\n",
    "\n",
    "# Display the filtered rows\n",
    "print(mid_salary_range)"
   ]
  },
  {
   "cell_type": "code",
   "execution_count": 29,
   "id": "f2ed1669",
   "metadata": {},
   "outputs": [
    {
     "name": "stdout",
     "output_type": "stream",
     "text": [
      "     Name   Age    City   Salary        Date Category\n",
      "1     Bob  58.0  London  86235.0  2023-01-02        B\n",
      "5   Frank  67.0   Paris  88320.0  2023-01-06        A\n",
      "8    Ivan  37.0   Tokyo  87016.0  2023-01-09        A\n",
      "10   Ivan  37.0   Tokyo  87016.0  2023-01-09        A\n"
     ]
    }
   ],
   "source": [
    "# Select rows where \"Salary\" is between 80,000 and 90,000 (inclusive by default)\n",
    "mid_salary_range_between = csv[csv[\"Salary\"].between(80000, 90000)]\n",
    "\n",
    "# Display the filtered rows\n",
    "print(mid_salary_range_between)"
   ]
  },
  {
   "cell_type": "code",
   "execution_count": 30,
   "id": "1de81265",
   "metadata": {},
   "outputs": [
    {
     "data": {
      "text/html": [
       "<div>\n",
       "<style scoped>\n",
       "    .dataframe tbody tr th:only-of-type {\n",
       "        vertical-align: middle;\n",
       "    }\n",
       "\n",
       "    .dataframe tbody tr th {\n",
       "        vertical-align: top;\n",
       "    }\n",
       "\n",
       "    .dataframe thead th {\n",
       "        text-align: right;\n",
       "    }\n",
       "</style>\n",
       "<table border=\"1\" class=\"dataframe\">\n",
       "  <thead>\n",
       "    <tr style=\"text-align: right;\">\n",
       "      <th></th>\n",
       "      <th>Name</th>\n",
       "      <th>Age</th>\n",
       "      <th>City</th>\n",
       "      <th>Salary</th>\n",
       "      <th>Date</th>\n",
       "      <th>Category</th>\n",
       "    </tr>\n",
       "  </thead>\n",
       "  <tbody>\n",
       "    <tr>\n",
       "      <th>1</th>\n",
       "      <td>Bob</td>\n",
       "      <td>58.0</td>\n",
       "      <td>London</td>\n",
       "      <td>86235.0</td>\n",
       "      <td>2023-01-02</td>\n",
       "      <td>B</td>\n",
       "    </tr>\n",
       "    <tr>\n",
       "      <th>5</th>\n",
       "      <td>Frank</td>\n",
       "      <td>67.0</td>\n",
       "      <td>Paris</td>\n",
       "      <td>88320.0</td>\n",
       "      <td>2023-01-06</td>\n",
       "      <td>A</td>\n",
       "    </tr>\n",
       "    <tr>\n",
       "      <th>8</th>\n",
       "      <td>Ivan</td>\n",
       "      <td>37.0</td>\n",
       "      <td>Tokyo</td>\n",
       "      <td>87016.0</td>\n",
       "      <td>2023-01-09</td>\n",
       "      <td>A</td>\n",
       "    </tr>\n",
       "    <tr>\n",
       "      <th>10</th>\n",
       "      <td>Ivan</td>\n",
       "      <td>37.0</td>\n",
       "      <td>Tokyo</td>\n",
       "      <td>87016.0</td>\n",
       "      <td>2023-01-09</td>\n",
       "      <td>A</td>\n",
       "    </tr>\n",
       "  </tbody>\n",
       "</table>\n",
       "</div>"
      ],
      "text/plain": [
       "     Name   Age    City   Salary        Date Category\n",
       "1     Bob  58.0  London  86235.0  2023-01-02        B\n",
       "5   Frank  67.0   Paris  88320.0  2023-01-06        A\n",
       "8    Ivan  37.0   Tokyo  87016.0  2023-01-09        A\n",
       "10   Ivan  37.0   Tokyo  87016.0  2023-01-09        A"
      ]
     },
     "execution_count": 30,
     "metadata": {},
     "output_type": "execute_result"
    }
   ],
   "source": [
    "# Note: You can set inclusive='neither' in .between() to match the original exclusive condition:\n",
    "\n",
    "csv[csv[\"Salary\"].between(80000, 90000, inclusive=\"neither\")]"
   ]
  },
  {
   "cell_type": "markdown",
   "id": "a0573246",
   "metadata": {},
   "source": [
    "### 20. Use `.query()` to filter data based on a condition."
   ]
  },
  {
   "cell_type": "code",
   "execution_count": 31,
   "id": "7b1bc3a5",
   "metadata": {},
   "outputs": [
    {
     "name": "stdout",
     "output_type": "stream",
     "text": [
      "       Name   Age      City   Salary        Date Category\n",
      "1       Bob  58.0    London  86235.0  2023-01-02        B\n",
      "2   Charlie  60.0     Tokyo  62330.0  2023-01-03        C\n",
      "5     Frank  67.0     Paris  88320.0  2023-01-06        A\n",
      "7    Hannah  60.0  New York  65413.0  2023-01-08        B\n",
      "13   Hannah  60.0  New York      NaN  2023-01-08        B\n"
     ]
    }
   ],
   "source": [
    "# Use .query() to filter rows where \"Age\" is greater than 55\n",
    "age_above_55 = csv.query(\"Age > 55\")\n",
    "\n",
    "# Display the filtered rows\n",
    "print(age_above_55)"
   ]
  },
  {
   "cell_type": "code",
   "execution_count": 32,
   "id": "e243eb16",
   "metadata": {},
   "outputs": [
    {
     "name": "stdout",
     "output_type": "stream",
     "text": [
      "    Name   Age    City   Salary        Date Category\n",
      "1    Bob  58.0  London  86235.0  2023-01-02        B\n",
      "5  Frank  67.0   Paris  88320.0  2023-01-06        A\n"
     ]
    }
   ],
   "source": [
    "# Optional – Using Multiple Conditions in .query():\n",
    "\n",
    "# Filter rows where Age > 55 and Salary > 80000\n",
    "filtered = csv.query(\"Age > 55 and Salary > 80000\")\n",
    "\n",
    "# Display the result\n",
    "print(filtered)"
   ]
  },
  {
   "cell_type": "markdown",
   "id": "eeb9b6bd",
   "metadata": {},
   "source": [
    "### 21. Find the total number of missing values in a DataFrame."
   ]
  },
  {
   "cell_type": "code",
   "execution_count": 33,
   "id": "b5e97e9d",
   "metadata": {},
   "outputs": [
    {
     "name": "stdout",
     "output_type": "stream",
     "text": [
      "Total missing values in DataFrame: 3\n"
     ]
    }
   ],
   "source": [
    "# Count total number of missing (NaN) values across the entire DataFrame\n",
    "total_missing_values = csv.isnull().sum().sum()\n",
    "\n",
    "# Display the total count\n",
    "print(\"Total missing values in DataFrame:\", total_missing_values)"
   ]
  },
  {
   "cell_type": "code",
   "execution_count": 34,
   "id": "370a4363",
   "metadata": {},
   "outputs": [
    {
     "name": "stdout",
     "output_type": "stream",
     "text": [
      "Missing values by column:\n",
      " Name        0\n",
      "Age         1\n",
      "City        0\n",
      "Salary      1\n",
      "Date        0\n",
      "Category    1\n",
      "dtype: int64\n"
     ]
    }
   ],
   "source": [
    "# Optional – Breakdown of Missing Values by Column:\n",
    "\n",
    "# Show the number of missing values in each column\n",
    "missing_by_column = csv.isnull().sum()\n",
    "\n",
    "# Display the breakdown\n",
    "print(\"Missing values by column:\\n\", missing_by_column)\n"
   ]
  },
  {
   "cell_type": "markdown",
   "id": "6a8d77b2",
   "metadata": {},
   "source": [
    "### 22. Fill missing values with the column mean."
   ]
  },
  {
   "cell_type": "code",
   "execution_count": 35,
   "id": "3f7678fd",
   "metadata": {},
   "outputs": [
    {
     "name": "stdout",
     "output_type": "stream",
     "text": [
      "          Age        Salary\n",
      "0   45.000000  95445.000000\n",
      "1   58.000000  86235.000000\n",
      "2   60.000000  62330.000000\n",
      "3   28.000000  46022.000000\n",
      "4   49.000000  65999.000000\n",
      "5   67.000000  88320.000000\n",
      "6   45.538462  57141.000000\n",
      "7   60.000000  65413.000000\n",
      "8   37.000000  87016.000000\n",
      "9   31.000000  58725.000000\n",
      "10  37.000000  87016.000000\n",
      "11  31.000000  58725.000000\n",
      "12  29.000000  57141.000000\n",
      "13  60.000000  70425.230769\n"
     ]
    }
   ],
   "source": [
    "# Fill missing values in each column individually (more readable for beginners)\n",
    "csv[\"Age\"] = csv[\"Age\"].fillna(csv[\"Age\"].mean())\n",
    "csv[\"Salary\"] = csv[\"Salary\"].fillna(csv[\"Salary\"].mean())\n",
    "\n",
    "# Display the updated DataFrame (optional)\n",
    "print(csv[[\"Age\", \"Salary\"]])"
   ]
  },
  {
   "cell_type": "code",
   "execution_count": 36,
   "id": "9ad1d040",
   "metadata": {},
   "outputs": [
    {
     "name": "stdout",
     "output_type": "stream",
     "text": [
      "          Age        Salary\n",
      "0   45.000000  95445.000000\n",
      "1   58.000000  86235.000000\n",
      "2   60.000000  62330.000000\n",
      "3   28.000000  46022.000000\n",
      "4   49.000000  65999.000000\n",
      "5   67.000000  88320.000000\n",
      "6   45.538462  57141.000000\n",
      "7   60.000000  65413.000000\n",
      "8   37.000000  87016.000000\n",
      "9   31.000000  58725.000000\n",
      "10  37.000000  87016.000000\n",
      "11  31.000000  58725.000000\n",
      "12  29.000000  57141.000000\n",
      "13  60.000000  70425.230769\n"
     ]
    }
   ],
   "source": [
    "# Fill missing values in \"Age\" and \"Salary\" columns with their respective column means\n",
    "csv[[\"Age\", \"Salary\"]] = csv[[\"Age\", \"Salary\"]].apply(lambda col: col.fillna(col.mean()))\n",
    "\n",
    "# Display the updated DataFrame (optional)\n",
    "print(csv[[\"Age\", \"Salary\"]])"
   ]
  },
  {
   "cell_type": "markdown",
   "id": "f860db60",
   "metadata": {},
   "source": [
    "### 23. Fill missing values with forward-fill and backward-fill methods."
   ]
  },
  {
   "cell_type": "code",
   "execution_count": 37,
   "id": "e17aa519",
   "metadata": {},
   "outputs": [
    {
     "name": "stdout",
     "output_type": "stream",
     "text": [
      "          Age  Age_ffill  Age_bfill\n",
      "0   45.000000  45.000000  45.000000\n",
      "1   58.000000  58.000000  58.000000\n",
      "2   60.000000  60.000000  60.000000\n",
      "3   28.000000  28.000000  28.000000\n",
      "4   49.000000  49.000000  49.000000\n",
      "5   67.000000  67.000000  67.000000\n",
      "6   45.538462  45.538462  45.538462\n",
      "7   60.000000  60.000000  60.000000\n",
      "8   37.000000  37.000000  37.000000\n",
      "9   31.000000  31.000000  31.000000\n",
      "10  37.000000  37.000000  37.000000\n",
      "11  31.000000  31.000000  31.000000\n",
      "12  29.000000  29.000000  29.000000\n",
      "13  60.000000  60.000000  60.000000\n"
     ]
    }
   ],
   "source": [
    "from warnings import filterwarnings as fw \n",
    "fw('ignore')\n",
    "\n",
    "# Forward-fill: propagates the last valid observation forward\n",
    "csv[\"Age_ffill\"] = csv[\"Age\"].fillna(method=\"ffill\")\n",
    "\n",
    "# Backward-fill: uses the next valid observation to fill gaps\n",
    "csv[\"Age_bfill\"] = csv[\"Age\"].fillna(method=\"bfill\")\n",
    "\n",
    "# Display the newly filled columns\n",
    "print(csv[[\"Age\", \"Age_ffill\", \"Age_bfill\"]])"
   ]
  },
  {
   "cell_type": "markdown",
   "id": "6a2db465",
   "metadata": {},
   "source": [
    "### 24. Drop all rows with missing values."
   ]
  },
  {
   "cell_type": "code",
   "execution_count": 38,
   "id": "99cc8025",
   "metadata": {},
   "outputs": [
    {
     "name": "stdout",
     "output_type": "stream",
     "text": [
      "       Name        Age      City        Salary        Date Category  \\\n",
      "0     Alice  45.000000  New York  95445.000000  2023-01-01        A   \n",
      "1       Bob  58.000000    London  86235.000000  2023-01-02        B   \n",
      "2   Charlie  60.000000     Tokyo  62330.000000  2023-01-03        C   \n",
      "3     David  28.000000     Paris  46022.000000  2023-01-04        A   \n",
      "4       Eva  49.000000    Berlin  65999.000000  2023-01-05        B   \n",
      "5     Frank  67.000000     Paris  88320.000000  2023-01-06        A   \n",
      "6     Grace  45.538462    Berlin  57141.000000  2023-01-07        C   \n",
      "7    Hannah  60.000000  New York  65413.000000  2023-01-08        B   \n",
      "8      Ivan  37.000000     Tokyo  87016.000000  2023-01-09        A   \n",
      "9      Jack  31.000000    London  58725.000000  2023-01-10        B   \n",
      "10     Ivan  37.000000     Tokyo  87016.000000  2023-01-09        A   \n",
      "11     Jack  31.000000    London  58725.000000  2023-01-10        B   \n",
      "13   Hannah  60.000000  New York  70425.230769  2023-01-08        B   \n",
      "\n",
      "    Age_ffill  Age_bfill  \n",
      "0   45.000000  45.000000  \n",
      "1   58.000000  58.000000  \n",
      "2   60.000000  60.000000  \n",
      "3   28.000000  28.000000  \n",
      "4   49.000000  49.000000  \n",
      "5   67.000000  67.000000  \n",
      "6   45.538462  45.538462  \n",
      "7   60.000000  60.000000  \n",
      "8   37.000000  37.000000  \n",
      "9   31.000000  31.000000  \n",
      "10  37.000000  37.000000  \n",
      "11  31.000000  31.000000  \n",
      "13  60.000000  60.000000  \n"
     ]
    }
   ],
   "source": [
    "# Drop all rows that contain any missing (NaN) values\n",
    "cleaned_df = csv.dropna()\n",
    "\n",
    "# Display the resulting DataFrame after dropping rows with missing values\n",
    "print(cleaned_df)\n",
    "\n",
    "# This modifies the original DataFrame directly\n",
    "#csv.dropna(inplace=True)"
   ]
  },
  {
   "cell_type": "markdown",
   "id": "564d4b86",
   "metadata": {},
   "source": [
    "### 25. Drop all columns with missing values."
   ]
  },
  {
   "cell_type": "code",
   "execution_count": 39,
   "id": "5f8112e3",
   "metadata": {},
   "outputs": [
    {
     "name": "stdout",
     "output_type": "stream",
     "text": [
      "       Name        Age      City        Salary        Date  Age_ffill  \\\n",
      "0     Alice  45.000000  New York  95445.000000  2023-01-01  45.000000   \n",
      "1       Bob  58.000000    London  86235.000000  2023-01-02  58.000000   \n",
      "2   Charlie  60.000000     Tokyo  62330.000000  2023-01-03  60.000000   \n",
      "3     David  28.000000     Paris  46022.000000  2023-01-04  28.000000   \n",
      "4       Eva  49.000000    Berlin  65999.000000  2023-01-05  49.000000   \n",
      "5     Frank  67.000000     Paris  88320.000000  2023-01-06  67.000000   \n",
      "6     Grace  45.538462    Berlin  57141.000000  2023-01-07  45.538462   \n",
      "7    Hannah  60.000000  New York  65413.000000  2023-01-08  60.000000   \n",
      "8      Ivan  37.000000     Tokyo  87016.000000  2023-01-09  37.000000   \n",
      "9      Jack  31.000000    London  58725.000000  2023-01-10  31.000000   \n",
      "10     Ivan  37.000000     Tokyo  87016.000000  2023-01-09  37.000000   \n",
      "11     Jack  31.000000    London  58725.000000  2023-01-10  31.000000   \n",
      "12    Grace  29.000000    Berlin  57141.000000  2023-01-07  29.000000   \n",
      "13   Hannah  60.000000  New York  70425.230769  2023-01-08  60.000000   \n",
      "\n",
      "    Age_bfill  \n",
      "0   45.000000  \n",
      "1   58.000000  \n",
      "2   60.000000  \n",
      "3   28.000000  \n",
      "4   49.000000  \n",
      "5   67.000000  \n",
      "6   45.538462  \n",
      "7   60.000000  \n",
      "8   37.000000  \n",
      "9   31.000000  \n",
      "10  37.000000  \n",
      "11  31.000000  \n",
      "12  29.000000  \n",
      "13  60.000000  \n"
     ]
    }
   ],
   "source": [
    "# Drop all columns that contain any missing (NaN) values\n",
    "dropped_columns_df = csv.dropna(axis=1)\n",
    "\n",
    "# Display the DataFrame after dropping columns with missing values\n",
    "print(dropped_columns_df)"
   ]
  },
  {
   "cell_type": "markdown",
   "id": "5055c34e",
   "metadata": {},
   "source": [
    "### 26. Replace all NaN values with a specific value."
   ]
  },
  {
   "cell_type": "code",
   "execution_count": 40,
   "id": "95032d96",
   "metadata": {},
   "outputs": [
    {
     "name": "stdout",
     "output_type": "stream",
     "text": [
      "       Name        Age      City        Salary        Date Category  \\\n",
      "0     Alice  45.000000  New York  95445.000000  2023-01-01        A   \n",
      "1       Bob  58.000000    London  86235.000000  2023-01-02        B   \n",
      "2   Charlie  60.000000     Tokyo  62330.000000  2023-01-03        C   \n",
      "3     David  28.000000     Paris  46022.000000  2023-01-04        A   \n",
      "4       Eva  49.000000    Berlin  65999.000000  2023-01-05        B   \n",
      "5     Frank  67.000000     Paris  88320.000000  2023-01-06        A   \n",
      "6     Grace  45.538462    Berlin  57141.000000  2023-01-07        C   \n",
      "7    Hannah  60.000000  New York  65413.000000  2023-01-08        B   \n",
      "8      Ivan  37.000000     Tokyo  87016.000000  2023-01-09        A   \n",
      "9      Jack  31.000000    London  58725.000000  2023-01-10        B   \n",
      "10     Ivan  37.000000     Tokyo  87016.000000  2023-01-09        A   \n",
      "11     Jack  31.000000    London  58725.000000  2023-01-10        B   \n",
      "12    Grace  29.000000    Berlin  57141.000000  2023-01-07  Unknown   \n",
      "13   Hannah  60.000000  New York  70425.230769  2023-01-08        B   \n",
      "\n",
      "    Age_ffill  Age_bfill  \n",
      "0   45.000000  45.000000  \n",
      "1   58.000000  58.000000  \n",
      "2   60.000000  60.000000  \n",
      "3   28.000000  28.000000  \n",
      "4   49.000000  49.000000  \n",
      "5   67.000000  67.000000  \n",
      "6   45.538462  45.538462  \n",
      "7   60.000000  60.000000  \n",
      "8   37.000000  37.000000  \n",
      "9   31.000000  31.000000  \n",
      "10  37.000000  37.000000  \n",
      "11  31.000000  31.000000  \n",
      "12  29.000000  29.000000  \n",
      "13  60.000000  60.000000  \n"
     ]
    }
   ],
   "source": [
    "# Replace all NaN (missing) values in the DataFrame with a specific value\n",
    "# In this case, we replace them with the string 'Unknown'\n",
    "filled_df = csv.replace(np.nan, 'Unknown')\n",
    "\n",
    "# Display the updated DataFrame\n",
    "print(filled_df)"
   ]
  },
  {
   "cell_type": "markdown",
   "id": "72aef80b",
   "metadata": {},
   "source": [
    "### 27. Convert `NaN` values to 0 in a DataFrame."
   ]
  },
  {
   "cell_type": "code",
   "execution_count": 41,
   "id": "b289b1f6",
   "metadata": {},
   "outputs": [
    {
     "name": "stdout",
     "output_type": "stream",
     "text": [
      "       Name        Age      City        Salary        Date Category  \\\n",
      "0     Alice  45.000000  New York  95445.000000  2023-01-01        A   \n",
      "1       Bob  58.000000    London  86235.000000  2023-01-02        B   \n",
      "2   Charlie  60.000000     Tokyo  62330.000000  2023-01-03        C   \n",
      "3     David  28.000000     Paris  46022.000000  2023-01-04        A   \n",
      "4       Eva  49.000000    Berlin  65999.000000  2023-01-05        B   \n",
      "5     Frank  67.000000     Paris  88320.000000  2023-01-06        A   \n",
      "6     Grace  45.538462    Berlin  57141.000000  2023-01-07        C   \n",
      "7    Hannah  60.000000  New York  65413.000000  2023-01-08        B   \n",
      "8      Ivan  37.000000     Tokyo  87016.000000  2023-01-09        A   \n",
      "9      Jack  31.000000    London  58725.000000  2023-01-10        B   \n",
      "10     Ivan  37.000000     Tokyo  87016.000000  2023-01-09        A   \n",
      "11     Jack  31.000000    London  58725.000000  2023-01-10        B   \n",
      "12    Grace  29.000000    Berlin  57141.000000  2023-01-07        0   \n",
      "13   Hannah  60.000000  New York  70425.230769  2023-01-08        B   \n",
      "\n",
      "    Age_ffill  Age_bfill  \n",
      "0   45.000000  45.000000  \n",
      "1   58.000000  58.000000  \n",
      "2   60.000000  60.000000  \n",
      "3   28.000000  28.000000  \n",
      "4   49.000000  49.000000  \n",
      "5   67.000000  67.000000  \n",
      "6   45.538462  45.538462  \n",
      "7   60.000000  60.000000  \n",
      "8   37.000000  37.000000  \n",
      "9   31.000000  31.000000  \n",
      "10  37.000000  37.000000  \n",
      "11  31.000000  31.000000  \n",
      "12  29.000000  29.000000  \n",
      "13  60.000000  60.000000  \n"
     ]
    }
   ],
   "source": [
    "# Replace all NaN (missing) values in the DataFrame with 0\n",
    "zero_filled_df = csv.fillna(0)\n",
    "\n",
    "# Display the DataFrame after filling missing values with 0\n",
    "print(zero_filled_df)"
   ]
  },
  {
   "cell_type": "markdown",
   "id": "3f05c511",
   "metadata": {},
   "source": [
    "### 28. Identify duplicate rows in a DataFrame."
   ]
  },
  {
   "cell_type": "code",
   "execution_count": 42,
   "id": "d0ee4b36",
   "metadata": {},
   "outputs": [
    {
     "name": "stdout",
     "output_type": "stream",
     "text": [
      "    Name   Age    City   Salary        Date Category  Age_ffill  Age_bfill\n",
      "10  Ivan  37.0   Tokyo  87016.0  2023-01-09        A       37.0       37.0\n",
      "11  Jack  31.0  London  58725.0  2023-01-10        B       31.0       31.0\n"
     ]
    }
   ],
   "source": [
    "# Identify and return all duplicate rows in the DataFrame\n",
    "# By default, it considers all columns to check for duplicates\n",
    "duplicate_rows = csv[csv.duplicated()]\n",
    "\n",
    "# Display the duplicate rows\n",
    "print(duplicate_rows)"
   ]
  },
  {
   "cell_type": "code",
   "execution_count": 43,
   "id": "50f10a11",
   "metadata": {},
   "outputs": [
    {
     "name": "stdout",
     "output_type": "stream",
     "text": [
      "      Name   Age      City        Salary        Date Category  Age_ffill  \\\n",
      "10    Ivan  37.0     Tokyo  87016.000000  2023-01-09        A       37.0   \n",
      "11    Jack  31.0    London  58725.000000  2023-01-10        B       31.0   \n",
      "13  Hannah  60.0  New York  70425.230769  2023-01-08        B       60.0   \n",
      "\n",
      "    Age_bfill  \n",
      "10       37.0  \n",
      "11       31.0  \n",
      "13       60.0  \n"
     ]
    }
   ],
   "source": [
    "# 🔍 Optional – Check Duplicates Based on Specific Columns:\n",
    "\n",
    "# Example: Find duplicates based only on the 'Name' and 'Age' columns\n",
    "duplicates_by_name_age = csv[csv.duplicated(subset=['Name', 'Age'])]\n",
    "\n",
    "print(duplicates_by_name_age)\n"
   ]
  },
  {
   "cell_type": "markdown",
   "id": "0eb68e35",
   "metadata": {},
   "source": [
    "### 29. Remove duplicate rows from a DataFrame."
   ]
  },
  {
   "cell_type": "code",
   "execution_count": 44,
   "id": "c7fce849",
   "metadata": {},
   "outputs": [
    {
     "name": "stdout",
     "output_type": "stream",
     "text": [
      "       Name        Age      City        Salary        Date Category  \\\n",
      "0     Alice  45.000000  New York  95445.000000  2023-01-01        A   \n",
      "1       Bob  58.000000    London  86235.000000  2023-01-02        B   \n",
      "2   Charlie  60.000000     Tokyo  62330.000000  2023-01-03        C   \n",
      "3     David  28.000000     Paris  46022.000000  2023-01-04        A   \n",
      "4       Eva  49.000000    Berlin  65999.000000  2023-01-05        B   \n",
      "5     Frank  67.000000     Paris  88320.000000  2023-01-06        A   \n",
      "6     Grace  45.538462    Berlin  57141.000000  2023-01-07        C   \n",
      "7    Hannah  60.000000  New York  65413.000000  2023-01-08        B   \n",
      "8      Ivan  37.000000     Tokyo  87016.000000  2023-01-09        A   \n",
      "9      Jack  31.000000    London  58725.000000  2023-01-10        B   \n",
      "12    Grace  29.000000    Berlin  57141.000000  2023-01-07      NaN   \n",
      "13   Hannah  60.000000  New York  70425.230769  2023-01-08        B   \n",
      "\n",
      "    Age_ffill  Age_bfill  \n",
      "0   45.000000  45.000000  \n",
      "1   58.000000  58.000000  \n",
      "2   60.000000  60.000000  \n",
      "3   28.000000  28.000000  \n",
      "4   49.000000  49.000000  \n",
      "5   67.000000  67.000000  \n",
      "6   45.538462  45.538462  \n",
      "7   60.000000  60.000000  \n",
      "8   37.000000  37.000000  \n",
      "9   31.000000  31.000000  \n",
      "12  29.000000  29.000000  \n",
      "13  60.000000  60.000000  \n"
     ]
    }
   ],
   "source": [
    "# Remove duplicate rows from the DataFrame\n",
    "# This removes all rows where every column's value is the same as a previous row\n",
    "unique_df = csv.drop_duplicates()\n",
    "\n",
    "# Display the DataFrame after removing duplicates\n",
    "print(unique_df)"
   ]
  },
  {
   "cell_type": "markdown",
   "id": "f50e04a3",
   "metadata": {},
   "source": [
    "### 30. Replace specific values in a column with another value."
   ]
  },
  {
   "cell_type": "code",
   "execution_count": 45,
   "id": "dbc3dc62",
   "metadata": {},
   "outputs": [
    {
     "name": "stdout",
     "output_type": "stream",
     "text": [
      "       Name        Age      City        Salary        Date Category  \\\n",
      "0     Alice  45.000000  New York  95445.000000  2023-01-01        A   \n",
      "1       Bob  58.000000    London  86235.000000  2023-01-02        B   \n",
      "2   Charlie  60.000000     Tokyo  62330.000000  2023-01-03        Z   \n",
      "3     David  28.000000     Paris  46022.000000  2023-01-04        A   \n",
      "4       Eva  49.000000    Berlin  65999.000000  2023-01-05        B   \n",
      "5     Frank  67.000000     Paris  88320.000000  2023-01-06        A   \n",
      "6     Grace  45.538462    Berlin  57141.000000  2023-01-07        Z   \n",
      "7    Hannah  60.000000  New York  65413.000000  2023-01-08        B   \n",
      "8      Ivan  37.000000     Tokyo  87016.000000  2023-01-09        A   \n",
      "9      Jack  31.000000    London  58725.000000  2023-01-10        B   \n",
      "10     Ivan  37.000000     Tokyo  87016.000000  2023-01-09        A   \n",
      "11     Jack  31.000000    London  58725.000000  2023-01-10        B   \n",
      "12    Grace  29.000000    Berlin  57141.000000  2023-01-07      NaN   \n",
      "13   Hannah  60.000000  New York  70425.230769  2023-01-08        B   \n",
      "\n",
      "    Age_ffill  Age_bfill  \n",
      "0   45.000000  45.000000  \n",
      "1   58.000000  58.000000  \n",
      "2   60.000000  60.000000  \n",
      "3   28.000000  28.000000  \n",
      "4   49.000000  49.000000  \n",
      "5   67.000000  67.000000  \n",
      "6   45.538462  45.538462  \n",
      "7   60.000000  60.000000  \n",
      "8   37.000000  37.000000  \n",
      "9   31.000000  31.000000  \n",
      "10  37.000000  37.000000  \n",
      "11  31.000000  31.000000  \n",
      "12  29.000000  29.000000  \n",
      "13  60.000000  60.000000  \n"
     ]
    }
   ],
   "source": [
    "# Replace specific values in the DataFrame\n",
    "# In this case, we replace the value 'C' in any column with the value 'Z'\n",
    "replaced_df = csv.replace(to_replace=\"C\", value=\"Z\")\n",
    "\n",
    "# Display the DataFrame after replacement\n",
    "print(replaced_df)"
   ]
  },
  {
   "cell_type": "markdown",
   "id": "a05f4b8d",
   "metadata": {},
   "source": [
    "### 31. Change the data type of a column from `object` to `int`."
   ]
  },
  {
   "cell_type": "code",
   "execution_count": 46,
   "id": "5f554484",
   "metadata": {},
   "outputs": [
    {
     "name": "stdout",
     "output_type": "stream",
     "text": [
      "Name          object\n",
      "Age          float64\n",
      "City          object\n",
      "Salary       float64\n",
      "Date          object\n",
      "Category      object\n",
      "Age_ffill    float64\n",
      "Age_bfill    float64\n",
      "Age_float    float64\n",
      "dtype: object\n"
     ]
    }
   ],
   "source": [
    "# Change the data type of a column from 'object' (string or mixed types) to 'float'\n",
    "csv[\"Age_float\"] = csv[\"Age\"].astype(\"float\")\n",
    "\n",
    "# Display the updated DataFrame with the new data type for the 'Age' column\n",
    "print(csv.dtypes)  # Verify the change in data type"
   ]
  },
  {
   "cell_type": "markdown",
   "id": "d3b148c3",
   "metadata": {},
   "source": [
    "### 32. Convert a column to datetime format."
   ]
  },
  {
   "cell_type": "code",
   "execution_count": 47,
   "id": "60967127",
   "metadata": {},
   "outputs": [
    {
     "name": "stdout",
     "output_type": "stream",
     "text": [
      "Name                 object\n",
      "Age                 float64\n",
      "City                 object\n",
      "Salary              float64\n",
      "Date         datetime64[ns]\n",
      "Category             object\n",
      "Age_ffill           float64\n",
      "Age_bfill           float64\n",
      "Age_float           float64\n",
      "dtype: object\n"
     ]
    }
   ],
   "source": [
    "# If you know the specific format of the date, you can use the 'format' parameter to speed up conversion\n",
    "csv[\"Date\"] = pd.to_datetime(csv[\"Date\"], format='%Y-%m-%d')\n",
    "\n",
    "# Display the updated DataFrame\n",
    "print(csv.dtypes)"
   ]
  },
  {
   "cell_type": "markdown",
   "id": "f4aa6b7c",
   "metadata": {},
   "source": [
    "### 33. Extract the year, month, and day from a datetime column."
   ]
  },
  {
   "cell_type": "code",
   "execution_count": 48,
   "id": "00b0c175",
   "metadata": {},
   "outputs": [
    {
     "name": "stdout",
     "output_type": "stream",
     "text": [
      "         Date  Year  Month  Day\n",
      "0  2023-01-01  2023      1    1\n",
      "1  2023-01-02  2023      1    2\n",
      "2  2023-01-03  2023      1    3\n",
      "3  2023-01-04  2023      1    4\n",
      "4  2023-01-05  2023      1    5\n",
      "5  2023-01-06  2023      1    6\n",
      "6  2023-01-07  2023      1    7\n",
      "7  2023-01-08  2023      1    8\n",
      "8  2023-01-09  2023      1    9\n",
      "9  2023-01-10  2023      1   10\n",
      "10 2023-01-09  2023      1    9\n",
      "11 2023-01-10  2023      1   10\n",
      "12 2023-01-07  2023      1    7\n",
      "13 2023-01-08  2023      1    8\n",
      "         Date  Weekday  Quarter\n",
      "0  2023-01-01        6        1\n",
      "1  2023-01-02        0        1\n",
      "2  2023-01-03        1        1\n",
      "3  2023-01-04        2        1\n",
      "4  2023-01-05        3        1\n",
      "5  2023-01-06        4        1\n",
      "6  2023-01-07        5        1\n",
      "7  2023-01-08        6        1\n",
      "8  2023-01-09        0        1\n",
      "9  2023-01-10        1        1\n",
      "10 2023-01-09        0        1\n",
      "11 2023-01-10        1        1\n",
      "12 2023-01-07        5        1\n",
      "13 2023-01-08        6        1\n"
     ]
    }
   ],
   "source": [
    "# Extract the year from the 'Date' column\n",
    "csv[\"Year\"] = csv[\"Date\"].dt.year\n",
    "\n",
    "# Extract the month from the 'Date' column\n",
    "csv[\"Month\"] = csv[\"Date\"].dt.month\n",
    "\n",
    "# Extract the day from the 'Date' column\n",
    "csv[\"Day\"] = csv[\"Date\"].dt.day\n",
    "\n",
    "# Display the updated DataFrame with extracted year, month, and day columns\n",
    "print(csv[['Date', 'Year', 'Month', 'Day']])\n",
    "\n",
    "\n",
    "# You can also extract other components such as weekday, quarter, or day of the week\n",
    "csv[\"Weekday\"] = csv[\"Date\"].dt.weekday  # Monday=0, Sunday=6\n",
    "csv[\"Quarter\"] = csv[\"Date\"].dt.quarter  # Extracts the quarter (1, 2, 3, or 4)\n",
    "\n",
    "# Display the updated DataFrame\n",
    "print(csv[['Date', 'Weekday', 'Quarter']])\n"
   ]
  },
  {
   "cell_type": "markdown",
   "id": "01a9858f",
   "metadata": {},
   "source": [
    "### 34. Create a new column by performing operations on two columns."
   ]
  },
  {
   "cell_type": "code",
   "execution_count": 49,
   "id": "98aff464",
   "metadata": {},
   "outputs": [
    {
     "data": {
      "text/html": [
       "<div>\n",
       "<style scoped>\n",
       "    .dataframe tbody tr th:only-of-type {\n",
       "        vertical-align: middle;\n",
       "    }\n",
       "\n",
       "    .dataframe tbody tr th {\n",
       "        vertical-align: top;\n",
       "    }\n",
       "\n",
       "    .dataframe thead th {\n",
       "        text-align: right;\n",
       "    }\n",
       "</style>\n",
       "<table border=\"1\" class=\"dataframe\">\n",
       "  <thead>\n",
       "    <tr style=\"text-align: right;\">\n",
       "      <th></th>\n",
       "      <th>Name</th>\n",
       "      <th>Age</th>\n",
       "      <th>City</th>\n",
       "      <th>Salary</th>\n",
       "      <th>Date</th>\n",
       "      <th>Category</th>\n",
       "      <th>Age_ffill</th>\n",
       "      <th>Age_bfill</th>\n",
       "      <th>Age_float</th>\n",
       "      <th>Year</th>\n",
       "      <th>Month</th>\n",
       "      <th>Day</th>\n",
       "      <th>Weekday</th>\n",
       "      <th>Quarter</th>\n",
       "    </tr>\n",
       "  </thead>\n",
       "  <tbody>\n",
       "    <tr>\n",
       "      <th>0</th>\n",
       "      <td>Alice</td>\n",
       "      <td>45.000000</td>\n",
       "      <td>New York</td>\n",
       "      <td>95445.000000</td>\n",
       "      <td>2023-01-01</td>\n",
       "      <td>A</td>\n",
       "      <td>45.000000</td>\n",
       "      <td>45.000000</td>\n",
       "      <td>45.000000</td>\n",
       "      <td>2023</td>\n",
       "      <td>1</td>\n",
       "      <td>1</td>\n",
       "      <td>6</td>\n",
       "      <td>1</td>\n",
       "    </tr>\n",
       "    <tr>\n",
       "      <th>1</th>\n",
       "      <td>Bob</td>\n",
       "      <td>58.000000</td>\n",
       "      <td>London</td>\n",
       "      <td>86235.000000</td>\n",
       "      <td>2023-01-02</td>\n",
       "      <td>B</td>\n",
       "      <td>58.000000</td>\n",
       "      <td>58.000000</td>\n",
       "      <td>58.000000</td>\n",
       "      <td>2023</td>\n",
       "      <td>1</td>\n",
       "      <td>2</td>\n",
       "      <td>0</td>\n",
       "      <td>1</td>\n",
       "    </tr>\n",
       "    <tr>\n",
       "      <th>2</th>\n",
       "      <td>Charlie</td>\n",
       "      <td>60.000000</td>\n",
       "      <td>Tokyo</td>\n",
       "      <td>62330.000000</td>\n",
       "      <td>2023-01-03</td>\n",
       "      <td>C</td>\n",
       "      <td>60.000000</td>\n",
       "      <td>60.000000</td>\n",
       "      <td>60.000000</td>\n",
       "      <td>2023</td>\n",
       "      <td>1</td>\n",
       "      <td>3</td>\n",
       "      <td>1</td>\n",
       "      <td>1</td>\n",
       "    </tr>\n",
       "    <tr>\n",
       "      <th>3</th>\n",
       "      <td>David</td>\n",
       "      <td>28.000000</td>\n",
       "      <td>Paris</td>\n",
       "      <td>46022.000000</td>\n",
       "      <td>2023-01-04</td>\n",
       "      <td>A</td>\n",
       "      <td>28.000000</td>\n",
       "      <td>28.000000</td>\n",
       "      <td>28.000000</td>\n",
       "      <td>2023</td>\n",
       "      <td>1</td>\n",
       "      <td>4</td>\n",
       "      <td>2</td>\n",
       "      <td>1</td>\n",
       "    </tr>\n",
       "    <tr>\n",
       "      <th>4</th>\n",
       "      <td>Eva</td>\n",
       "      <td>49.000000</td>\n",
       "      <td>Berlin</td>\n",
       "      <td>65999.000000</td>\n",
       "      <td>2023-01-05</td>\n",
       "      <td>B</td>\n",
       "      <td>49.000000</td>\n",
       "      <td>49.000000</td>\n",
       "      <td>49.000000</td>\n",
       "      <td>2023</td>\n",
       "      <td>1</td>\n",
       "      <td>5</td>\n",
       "      <td>3</td>\n",
       "      <td>1</td>\n",
       "    </tr>\n",
       "    <tr>\n",
       "      <th>5</th>\n",
       "      <td>Frank</td>\n",
       "      <td>67.000000</td>\n",
       "      <td>Paris</td>\n",
       "      <td>88320.000000</td>\n",
       "      <td>2023-01-06</td>\n",
       "      <td>A</td>\n",
       "      <td>67.000000</td>\n",
       "      <td>67.000000</td>\n",
       "      <td>67.000000</td>\n",
       "      <td>2023</td>\n",
       "      <td>1</td>\n",
       "      <td>6</td>\n",
       "      <td>4</td>\n",
       "      <td>1</td>\n",
       "    </tr>\n",
       "    <tr>\n",
       "      <th>6</th>\n",
       "      <td>Grace</td>\n",
       "      <td>45.538462</td>\n",
       "      <td>Berlin</td>\n",
       "      <td>57141.000000</td>\n",
       "      <td>2023-01-07</td>\n",
       "      <td>C</td>\n",
       "      <td>45.538462</td>\n",
       "      <td>45.538462</td>\n",
       "      <td>45.538462</td>\n",
       "      <td>2023</td>\n",
       "      <td>1</td>\n",
       "      <td>7</td>\n",
       "      <td>5</td>\n",
       "      <td>1</td>\n",
       "    </tr>\n",
       "    <tr>\n",
       "      <th>7</th>\n",
       "      <td>Hannah</td>\n",
       "      <td>60.000000</td>\n",
       "      <td>New York</td>\n",
       "      <td>65413.000000</td>\n",
       "      <td>2023-01-08</td>\n",
       "      <td>B</td>\n",
       "      <td>60.000000</td>\n",
       "      <td>60.000000</td>\n",
       "      <td>60.000000</td>\n",
       "      <td>2023</td>\n",
       "      <td>1</td>\n",
       "      <td>8</td>\n",
       "      <td>6</td>\n",
       "      <td>1</td>\n",
       "    </tr>\n",
       "    <tr>\n",
       "      <th>8</th>\n",
       "      <td>Ivan</td>\n",
       "      <td>37.000000</td>\n",
       "      <td>Tokyo</td>\n",
       "      <td>87016.000000</td>\n",
       "      <td>2023-01-09</td>\n",
       "      <td>A</td>\n",
       "      <td>37.000000</td>\n",
       "      <td>37.000000</td>\n",
       "      <td>37.000000</td>\n",
       "      <td>2023</td>\n",
       "      <td>1</td>\n",
       "      <td>9</td>\n",
       "      <td>0</td>\n",
       "      <td>1</td>\n",
       "    </tr>\n",
       "    <tr>\n",
       "      <th>9</th>\n",
       "      <td>Jack</td>\n",
       "      <td>31.000000</td>\n",
       "      <td>London</td>\n",
       "      <td>58725.000000</td>\n",
       "      <td>2023-01-10</td>\n",
       "      <td>B</td>\n",
       "      <td>31.000000</td>\n",
       "      <td>31.000000</td>\n",
       "      <td>31.000000</td>\n",
       "      <td>2023</td>\n",
       "      <td>1</td>\n",
       "      <td>10</td>\n",
       "      <td>1</td>\n",
       "      <td>1</td>\n",
       "    </tr>\n",
       "    <tr>\n",
       "      <th>10</th>\n",
       "      <td>Ivan</td>\n",
       "      <td>37.000000</td>\n",
       "      <td>Tokyo</td>\n",
       "      <td>87016.000000</td>\n",
       "      <td>2023-01-09</td>\n",
       "      <td>A</td>\n",
       "      <td>37.000000</td>\n",
       "      <td>37.000000</td>\n",
       "      <td>37.000000</td>\n",
       "      <td>2023</td>\n",
       "      <td>1</td>\n",
       "      <td>9</td>\n",
       "      <td>0</td>\n",
       "      <td>1</td>\n",
       "    </tr>\n",
       "    <tr>\n",
       "      <th>11</th>\n",
       "      <td>Jack</td>\n",
       "      <td>31.000000</td>\n",
       "      <td>London</td>\n",
       "      <td>58725.000000</td>\n",
       "      <td>2023-01-10</td>\n",
       "      <td>B</td>\n",
       "      <td>31.000000</td>\n",
       "      <td>31.000000</td>\n",
       "      <td>31.000000</td>\n",
       "      <td>2023</td>\n",
       "      <td>1</td>\n",
       "      <td>10</td>\n",
       "      <td>1</td>\n",
       "      <td>1</td>\n",
       "    </tr>\n",
       "    <tr>\n",
       "      <th>12</th>\n",
       "      <td>Grace</td>\n",
       "      <td>29.000000</td>\n",
       "      <td>Berlin</td>\n",
       "      <td>57141.000000</td>\n",
       "      <td>2023-01-07</td>\n",
       "      <td>NaN</td>\n",
       "      <td>29.000000</td>\n",
       "      <td>29.000000</td>\n",
       "      <td>29.000000</td>\n",
       "      <td>2023</td>\n",
       "      <td>1</td>\n",
       "      <td>7</td>\n",
       "      <td>5</td>\n",
       "      <td>1</td>\n",
       "    </tr>\n",
       "    <tr>\n",
       "      <th>13</th>\n",
       "      <td>Hannah</td>\n",
       "      <td>60.000000</td>\n",
       "      <td>New York</td>\n",
       "      <td>70425.230769</td>\n",
       "      <td>2023-01-08</td>\n",
       "      <td>B</td>\n",
       "      <td>60.000000</td>\n",
       "      <td>60.000000</td>\n",
       "      <td>60.000000</td>\n",
       "      <td>2023</td>\n",
       "      <td>1</td>\n",
       "      <td>8</td>\n",
       "      <td>6</td>\n",
       "      <td>1</td>\n",
       "    </tr>\n",
       "  </tbody>\n",
       "</table>\n",
       "</div>"
      ],
      "text/plain": [
       "       Name        Age      City        Salary       Date Category  Age_ffill  \\\n",
       "0     Alice  45.000000  New York  95445.000000 2023-01-01        A  45.000000   \n",
       "1       Bob  58.000000    London  86235.000000 2023-01-02        B  58.000000   \n",
       "2   Charlie  60.000000     Tokyo  62330.000000 2023-01-03        C  60.000000   \n",
       "3     David  28.000000     Paris  46022.000000 2023-01-04        A  28.000000   \n",
       "4       Eva  49.000000    Berlin  65999.000000 2023-01-05        B  49.000000   \n",
       "5     Frank  67.000000     Paris  88320.000000 2023-01-06        A  67.000000   \n",
       "6     Grace  45.538462    Berlin  57141.000000 2023-01-07        C  45.538462   \n",
       "7    Hannah  60.000000  New York  65413.000000 2023-01-08        B  60.000000   \n",
       "8      Ivan  37.000000     Tokyo  87016.000000 2023-01-09        A  37.000000   \n",
       "9      Jack  31.000000    London  58725.000000 2023-01-10        B  31.000000   \n",
       "10     Ivan  37.000000     Tokyo  87016.000000 2023-01-09        A  37.000000   \n",
       "11     Jack  31.000000    London  58725.000000 2023-01-10        B  31.000000   \n",
       "12    Grace  29.000000    Berlin  57141.000000 2023-01-07      NaN  29.000000   \n",
       "13   Hannah  60.000000  New York  70425.230769 2023-01-08        B  60.000000   \n",
       "\n",
       "    Age_bfill  Age_float  Year  Month  Day  Weekday  Quarter  \n",
       "0   45.000000  45.000000  2023      1    1        6        1  \n",
       "1   58.000000  58.000000  2023      1    2        0        1  \n",
       "2   60.000000  60.000000  2023      1    3        1        1  \n",
       "3   28.000000  28.000000  2023      1    4        2        1  \n",
       "4   49.000000  49.000000  2023      1    5        3        1  \n",
       "5   67.000000  67.000000  2023      1    6        4        1  \n",
       "6   45.538462  45.538462  2023      1    7        5        1  \n",
       "7   60.000000  60.000000  2023      1    8        6        1  \n",
       "8   37.000000  37.000000  2023      1    9        0        1  \n",
       "9   31.000000  31.000000  2023      1   10        1        1  \n",
       "10  37.000000  37.000000  2023      1    9        0        1  \n",
       "11  31.000000  31.000000  2023      1   10        1        1  \n",
       "12  29.000000  29.000000  2023      1    7        5        1  \n",
       "13  60.000000  60.000000  2023      1    8        6        1  "
      ]
     },
     "execution_count": 49,
     "metadata": {},
     "output_type": "execute_result"
    }
   ],
   "source": [
    "csv"
   ]
  },
  {
   "cell_type": "code",
   "execution_count": 50,
   "id": "7b872e7a",
   "metadata": {},
   "outputs": [
    {
     "name": "stdout",
     "output_type": "stream",
     "text": [
      "          Age        Salary           Sum\n",
      "0   45.000000  95445.000000  95490.000000\n",
      "1   58.000000  86235.000000  86293.000000\n",
      "2   60.000000  62330.000000  62390.000000\n",
      "3   28.000000  46022.000000  46050.000000\n",
      "4   49.000000  65999.000000  66048.000000\n",
      "5   67.000000  88320.000000  88387.000000\n",
      "6   45.538462  57141.000000  57186.538462\n",
      "7   60.000000  65413.000000  65473.000000\n",
      "8   37.000000  87016.000000  87053.000000\n",
      "9   31.000000  58725.000000  58756.000000\n",
      "10  37.000000  87016.000000  87053.000000\n",
      "11  31.000000  58725.000000  58756.000000\n",
      "12  29.000000  57141.000000  57170.000000\n",
      "13  60.000000  70425.230769  70485.230769\n"
     ]
    }
   ],
   "source": [
    "# Instead of using 'apply', it's more efficient to directly add the columns\n",
    "csv[\"Sum\"] = csv[\"Age\"] + csv[\"Salary\"]\n",
    "\n",
    "# Display the DataFrame with the 'Sum' column\n",
    "print(csv[['Age', 'Salary', 'Sum']])"
   ]
  },
  {
   "cell_type": "code",
   "execution_count": 51,
   "id": "a9dec4f8",
   "metadata": {},
   "outputs": [
    {
     "name": "stdout",
     "output_type": "stream",
     "text": [
      "          Age        Salary           Sum\n",
      "0   45.000000  95445.000000  95490.000000\n",
      "1   58.000000  86235.000000  86293.000000\n",
      "2   60.000000  62330.000000  62390.000000\n",
      "3   28.000000  46022.000000  46050.000000\n",
      "4   49.000000  65999.000000  66048.000000\n",
      "5   67.000000  88320.000000  88387.000000\n",
      "6   45.538462  57141.000000  57186.538462\n",
      "7   60.000000  65413.000000  65473.000000\n",
      "8   37.000000  87016.000000  87053.000000\n",
      "9   31.000000  58725.000000  58756.000000\n",
      "10  37.000000  87016.000000  87053.000000\n",
      "11  31.000000  58725.000000  58756.000000\n",
      "12  29.000000  57141.000000  57170.000000\n",
      "13  60.000000  70425.230769  70485.230769\n"
     ]
    }
   ],
   "source": [
    "# Create a new column 'Sum' by performing the sum of 'Age' and 'Salary' columns\n",
    "# Use the 'apply' function to perform element-wise addition\n",
    "csv[\"Sum\"] = csv.apply(lambda row: row[\"Age\"] + row[\"Salary\"], axis=1)\n",
    "\n",
    "# Display the DataFrame with the newly created 'Sum' column\n",
    "print(csv[['Age', 'Salary', 'Sum']])"
   ]
  },
  {
   "cell_type": "markdown",
   "id": "a66e1a4a",
   "metadata": {},
   "source": [
    "### 35. Rename multiple columns in a DataFrame."
   ]
  },
  {
   "cell_type": "code",
   "execution_count": 52,
   "id": "8fb4a585",
   "metadata": {},
   "outputs": [
    {
     "name": "stdout",
     "output_type": "stream",
     "text": [
      "    Age_in_Years  Annual_Salary     Total_Sum\n",
      "0      45.000000   95445.000000  95490.000000\n",
      "1      58.000000   86235.000000  86293.000000\n",
      "2      60.000000   62330.000000  62390.000000\n",
      "3      28.000000   46022.000000  46050.000000\n",
      "4      49.000000   65999.000000  66048.000000\n",
      "5      67.000000   88320.000000  88387.000000\n",
      "6      45.538462   57141.000000  57186.538462\n",
      "7      60.000000   65413.000000  65473.000000\n",
      "8      37.000000   87016.000000  87053.000000\n",
      "9      31.000000   58725.000000  58756.000000\n",
      "10     37.000000   87016.000000  87053.000000\n",
      "11     31.000000   58725.000000  58756.000000\n",
      "12     29.000000   57141.000000  57170.000000\n",
      "13     60.000000   70425.230769  70485.230769\n"
     ]
    }
   ],
   "source": [
    "# Rename multiple columns in the DataFrame using the 'rename' method\n",
    "csv.rename(columns={\"Age\": \"Age_in_Years\", \"Salary\": \"Annual_Salary\", \"Sum\": \"Total_Sum\"}, inplace=True)\n",
    "\n",
    "# Display the updated DataFrame with renamed columns\n",
    "print(csv[['Age_in_Years', 'Annual_Salary', 'Total_Sum']])"
   ]
  },
  {
   "cell_type": "markdown",
   "id": "32d261df",
   "metadata": {},
   "source": [
    "### 36. Convert categorical columns into numerical values."
   ]
  },
  {
   "cell_type": "code",
   "execution_count": 53,
   "id": "4ef4a9e1",
   "metadata": {},
   "outputs": [
    {
     "name": "stdout",
     "output_type": "stream",
     "text": [
      "   Category  Category_Numeric\n",
      "0         A                 0\n",
      "1         B                 1\n",
      "2         C                 2\n",
      "3         A                 0\n",
      "4         B                 1\n",
      "5         A                 0\n",
      "6         C                 2\n",
      "7         B                 1\n",
      "8         A                 0\n",
      "9         B                 1\n",
      "10        A                 0\n",
      "11        B                 1\n",
      "12      NaN                -1\n",
      "13        B                 1\n"
     ]
    }
   ],
   "source": [
    "# Convert the 'Category' column (categorical) into numerical values using 'pd.factorize'\n",
    "csv[\"Category_Numeric\"] = pd.factorize(csv[\"Category\"])[0]\n",
    "\n",
    "# Display the DataFrame with the newly added numerical 'Category_Numeric' column\n",
    "print(csv[['Category', 'Category_Numeric']])\n"
   ]
  },
  {
   "cell_type": "markdown",
   "id": "600ce3cd",
   "metadata": {},
   "source": [
    "### 37. Create a new column based on conditions using `apply()`."
   ]
  },
  {
   "cell_type": "code",
   "execution_count": 57,
   "id": "a696f520",
   "metadata": {},
   "outputs": [
    {
     "name": "stdout",
     "output_type": "stream",
     "text": [
      "       Name   Age  Status\n",
      "0     Alice  45.0  Junior\n",
      "1       Bob  58.0  Senior\n",
      "2   Charlie  60.0  Senior\n",
      "3     David  28.0  Junior\n",
      "4       Eva  49.0  Junior\n",
      "5     Frank  67.0  Senior\n",
      "6     Grace   NaN  Junior\n",
      "7    Hannah  60.0  Senior\n",
      "8      Ivan  37.0  Junior\n",
      "9      Jack  31.0  Junior\n",
      "10     Ivan  37.0  Junior\n",
      "11     Jack  31.0  Junior\n",
      "12    Grace  29.0  Junior\n",
      "13   Hannah  60.0  Senior\n"
     ]
    }
   ],
   "source": [
    "# Create a new column 'Status' based on Age using apply() and a lambda function\n",
    "csv[\"Status\"] = csv.apply(lambda row: \"Senior\" if row[\"Age\"] >= 50 else \"Junior\", axis=1)\n",
    "\n",
    "# Display the relevant columns to check results\n",
    "print(csv[[\"Name\", \"Age\", \"Status\"]])"
   ]
  },
  {
   "cell_type": "markdown",
   "id": "c5624e1b",
   "metadata": {},
   "source": [
    "### 38. Normalize all numeric columns in a DataFrame."
   ]
  },
  {
   "cell_type": "code",
   "execution_count": null,
   "id": "627fd54d",
   "metadata": {},
   "outputs": [
    {
     "data": {
      "text/html": [
       "<div>\n",
       "<style scoped>\n",
       "    .dataframe tbody tr th:only-of-type {\n",
       "        vertical-align: middle;\n",
       "    }\n",
       "\n",
       "    .dataframe tbody tr th {\n",
       "        vertical-align: top;\n",
       "    }\n",
       "\n",
       "    .dataframe thead th {\n",
       "        text-align: right;\n",
       "    }\n",
       "</style>\n",
       "<table border=\"1\" class=\"dataframe\">\n",
       "  <thead>\n",
       "    <tr style=\"text-align: right;\">\n",
       "      <th></th>\n",
       "      <th>Name</th>\n",
       "      <th>Age</th>\n",
       "      <th>City</th>\n",
       "      <th>Salary</th>\n",
       "      <th>Date</th>\n",
       "      <th>Category</th>\n",
       "      <th>Sum</th>\n",
       "      <th>City_code</th>\n",
       "    </tr>\n",
       "  </thead>\n",
       "  <tbody>\n",
       "    <tr>\n",
       "      <th>0</th>\n",
       "      <td>Alice</td>\n",
       "      <td>45.000000</td>\n",
       "      <td>New York</td>\n",
       "      <td>1.000000</td>\n",
       "      <td>2023-01-01</td>\n",
       "      <td>A</td>\n",
       "      <td>95490.000000</td>\n",
       "      <td>0</td>\n",
       "    </tr>\n",
       "    <tr>\n",
       "      <th>1</th>\n",
       "      <td>Bob</td>\n",
       "      <td>58.000000</td>\n",
       "      <td>London</td>\n",
       "      <td>0.813650</td>\n",
       "      <td>2023-01-02</td>\n",
       "      <td>B</td>\n",
       "      <td>86293.000000</td>\n",
       "      <td>1</td>\n",
       "    </tr>\n",
       "    <tr>\n",
       "      <th>2</th>\n",
       "      <td>Charlie</td>\n",
       "      <td>60.000000</td>\n",
       "      <td>Tokyo</td>\n",
       "      <td>0.329968</td>\n",
       "      <td>2023-01-03</td>\n",
       "      <td>C</td>\n",
       "      <td>62390.000000</td>\n",
       "      <td>2</td>\n",
       "    </tr>\n",
       "    <tr>\n",
       "      <th>3</th>\n",
       "      <td>David</td>\n",
       "      <td>28.000000</td>\n",
       "      <td>Paris</td>\n",
       "      <td>0.000000</td>\n",
       "      <td>2023-01-04</td>\n",
       "      <td>A</td>\n",
       "      <td>46050.000000</td>\n",
       "      <td>3</td>\n",
       "    </tr>\n",
       "    <tr>\n",
       "      <th>4</th>\n",
       "      <td>Eva</td>\n",
       "      <td>49.000000</td>\n",
       "      <td>Berlin</td>\n",
       "      <td>0.404205</td>\n",
       "      <td>2023-01-05</td>\n",
       "      <td>B</td>\n",
       "      <td>66048.000000</td>\n",
       "      <td>4</td>\n",
       "    </tr>\n",
       "    <tr>\n",
       "      <th>5</th>\n",
       "      <td>Frank</td>\n",
       "      <td>67.000000</td>\n",
       "      <td>Paris</td>\n",
       "      <td>0.855836</td>\n",
       "      <td>2023-01-06</td>\n",
       "      <td>A</td>\n",
       "      <td>88387.000000</td>\n",
       "      <td>3</td>\n",
       "    </tr>\n",
       "    <tr>\n",
       "      <th>6</th>\n",
       "      <td>Grace</td>\n",
       "      <td>45.538462</td>\n",
       "      <td>Berlin</td>\n",
       "      <td>0.224976</td>\n",
       "      <td>2023-01-07</td>\n",
       "      <td>C</td>\n",
       "      <td>57186.538462</td>\n",
       "      <td>4</td>\n",
       "    </tr>\n",
       "    <tr>\n",
       "      <th>7</th>\n",
       "      <td>Hannah</td>\n",
       "      <td>60.000000</td>\n",
       "      <td>New York</td>\n",
       "      <td>0.392348</td>\n",
       "      <td>2023-01-08</td>\n",
       "      <td>B</td>\n",
       "      <td>65473.000000</td>\n",
       "      <td>0</td>\n",
       "    </tr>\n",
       "    <tr>\n",
       "      <th>8</th>\n",
       "      <td>Ivan</td>\n",
       "      <td>37.000000</td>\n",
       "      <td>Tokyo</td>\n",
       "      <td>0.829452</td>\n",
       "      <td>2023-01-09</td>\n",
       "      <td>A</td>\n",
       "      <td>87053.000000</td>\n",
       "      <td>2</td>\n",
       "    </tr>\n",
       "    <tr>\n",
       "      <th>9</th>\n",
       "      <td>Jack</td>\n",
       "      <td>31.000000</td>\n",
       "      <td>London</td>\n",
       "      <td>0.257026</td>\n",
       "      <td>2023-01-10</td>\n",
       "      <td>B</td>\n",
       "      <td>58756.000000</td>\n",
       "      <td>1</td>\n",
       "    </tr>\n",
       "    <tr>\n",
       "      <th>10</th>\n",
       "      <td>Ivan</td>\n",
       "      <td>37.000000</td>\n",
       "      <td>Tokyo</td>\n",
       "      <td>0.829452</td>\n",
       "      <td>2023-01-09</td>\n",
       "      <td>A</td>\n",
       "      <td>87053.000000</td>\n",
       "      <td>2</td>\n",
       "    </tr>\n",
       "    <tr>\n",
       "      <th>11</th>\n",
       "      <td>Jack</td>\n",
       "      <td>31.000000</td>\n",
       "      <td>London</td>\n",
       "      <td>0.257026</td>\n",
       "      <td>2023-01-10</td>\n",
       "      <td>B</td>\n",
       "      <td>58756.000000</td>\n",
       "      <td>1</td>\n",
       "    </tr>\n",
       "    <tr>\n",
       "      <th>12</th>\n",
       "      <td>Grace</td>\n",
       "      <td>29.000000</td>\n",
       "      <td>Berlin</td>\n",
       "      <td>0.224976</td>\n",
       "      <td>2023-01-07</td>\n",
       "      <td>NaN</td>\n",
       "      <td>57170.000000</td>\n",
       "      <td>4</td>\n",
       "    </tr>\n",
       "    <tr>\n",
       "      <th>13</th>\n",
       "      <td>Hannah</td>\n",
       "      <td>60.000000</td>\n",
       "      <td>New York</td>\n",
       "      <td>0.493763</td>\n",
       "      <td>2023-01-08</td>\n",
       "      <td>B</td>\n",
       "      <td>70485.230769</td>\n",
       "      <td>0</td>\n",
       "    </tr>\n",
       "  </tbody>\n",
       "</table>\n",
       "</div>"
      ],
      "text/plain": [
       "       Name        Age      City    Salary       Date Category           Sum  \\\n",
       "0     Alice  45.000000  New York  1.000000 2023-01-01        A  95490.000000   \n",
       "1       Bob  58.000000    London  0.813650 2023-01-02        B  86293.000000   \n",
       "2   Charlie  60.000000     Tokyo  0.329968 2023-01-03        C  62390.000000   \n",
       "3     David  28.000000     Paris  0.000000 2023-01-04        A  46050.000000   \n",
       "4       Eva  49.000000    Berlin  0.404205 2023-01-05        B  66048.000000   \n",
       "5     Frank  67.000000     Paris  0.855836 2023-01-06        A  88387.000000   \n",
       "6     Grace  45.538462    Berlin  0.224976 2023-01-07        C  57186.538462   \n",
       "7    Hannah  60.000000  New York  0.392348 2023-01-08        B  65473.000000   \n",
       "8      Ivan  37.000000     Tokyo  0.829452 2023-01-09        A  87053.000000   \n",
       "9      Jack  31.000000    London  0.257026 2023-01-10        B  58756.000000   \n",
       "10     Ivan  37.000000     Tokyo  0.829452 2023-01-09        A  87053.000000   \n",
       "11     Jack  31.000000    London  0.257026 2023-01-10        B  58756.000000   \n",
       "12    Grace  29.000000    Berlin  0.224976 2023-01-07      NaN  57170.000000   \n",
       "13   Hannah  60.000000  New York  0.493763 2023-01-08        B  70485.230769   \n",
       "\n",
       "    City_code  \n",
       "0           0  \n",
       "1           1  \n",
       "2           2  \n",
       "3           3  \n",
       "4           4  \n",
       "5           3  \n",
       "6           4  \n",
       "7           0  \n",
       "8           2  \n",
       "9           1  \n",
       "10          2  \n",
       "11          1  \n",
       "12          4  \n",
       "13          0  "
      ]
     },
     "execution_count": 115,
     "metadata": {},
     "output_type": "execute_result"
    }
   ],
   "source": [
    "# Select numeric columns\n",
    "numeric_cols = csv.select_dtypes(include='number').columns\n",
    "\n",
    "# Normalize each numeric column using min-max scaling\n",
    "csv[numeric_cols] = csv[numeric_cols].apply(lambda col: (col - col.min()) / (col.max() - col.min()))\n",
    "\n",
    "# Display the normalized DataFrame\n",
    "csv.head()"
   ]
  },
  {
   "cell_type": "markdown",
   "id": "d507388e",
   "metadata": {},
   "source": [
    "### 39. Binning a numerical column into categories using `pd.cut()`."
   ]
  },
  {
   "cell_type": "code",
   "execution_count": null,
   "id": "c4eebc1c",
   "metadata": {},
   "outputs": [
    {
     "data": {
      "text/html": [
       "<div>\n",
       "<style scoped>\n",
       "    .dataframe tbody tr th:only-of-type {\n",
       "        vertical-align: middle;\n",
       "    }\n",
       "\n",
       "    .dataframe tbody tr th {\n",
       "        vertical-align: top;\n",
       "    }\n",
       "\n",
       "    .dataframe thead th {\n",
       "        text-align: right;\n",
       "    }\n",
       "</style>\n",
       "<table border=\"1\" class=\"dataframe\">\n",
       "  <thead>\n",
       "    <tr style=\"text-align: right;\">\n",
       "      <th></th>\n",
       "      <th>Name</th>\n",
       "      <th>Age</th>\n",
       "      <th>City</th>\n",
       "      <th>Salary</th>\n",
       "      <th>Date</th>\n",
       "      <th>Category</th>\n",
       "      <th>Age_float</th>\n",
       "      <th>Sum</th>\n",
       "      <th>Status</th>\n",
       "      <th>Expertise</th>\n",
       "    </tr>\n",
       "  </thead>\n",
       "  <tbody>\n",
       "    <tr>\n",
       "      <th>0</th>\n",
       "      <td>Alice</td>\n",
       "      <td>45.0</td>\n",
       "      <td>New York</td>\n",
       "      <td>95445.0</td>\n",
       "      <td>2023-01-01</td>\n",
       "      <td>A</td>\n",
       "      <td>45.0</td>\n",
       "      <td>95490.0</td>\n",
       "      <td>Junior</td>\n",
       "      <td>Junior</td>\n",
       "    </tr>\n",
       "    <tr>\n",
       "      <th>1</th>\n",
       "      <td>Bob</td>\n",
       "      <td>58.0</td>\n",
       "      <td>London</td>\n",
       "      <td>86235.0</td>\n",
       "      <td>2023-01-02</td>\n",
       "      <td>B</td>\n",
       "      <td>58.0</td>\n",
       "      <td>86293.0</td>\n",
       "      <td>Senior</td>\n",
       "      <td>Senior</td>\n",
       "    </tr>\n",
       "    <tr>\n",
       "      <th>2</th>\n",
       "      <td>Charlie</td>\n",
       "      <td>60.0</td>\n",
       "      <td>Tokyo</td>\n",
       "      <td>62330.0</td>\n",
       "      <td>2023-01-03</td>\n",
       "      <td>C</td>\n",
       "      <td>60.0</td>\n",
       "      <td>62390.0</td>\n",
       "      <td>Senior</td>\n",
       "      <td>Senior</td>\n",
       "    </tr>\n",
       "    <tr>\n",
       "      <th>3</th>\n",
       "      <td>David</td>\n",
       "      <td>28.0</td>\n",
       "      <td>Paris</td>\n",
       "      <td>46022.0</td>\n",
       "      <td>2023-01-04</td>\n",
       "      <td>A</td>\n",
       "      <td>28.0</td>\n",
       "      <td>46050.0</td>\n",
       "      <td>Junior</td>\n",
       "      <td>Junior</td>\n",
       "    </tr>\n",
       "    <tr>\n",
       "      <th>4</th>\n",
       "      <td>Eva</td>\n",
       "      <td>49.0</td>\n",
       "      <td>Berlin</td>\n",
       "      <td>65999.0</td>\n",
       "      <td>2023-01-05</td>\n",
       "      <td>B</td>\n",
       "      <td>49.0</td>\n",
       "      <td>66048.0</td>\n",
       "      <td>Junior</td>\n",
       "      <td>Senior</td>\n",
       "    </tr>\n",
       "  </tbody>\n",
       "</table>\n",
       "</div>"
      ],
      "text/plain": [
       "      Name   Age      City   Salary        Date Category  Age_float      Sum  \\\n",
       "0    Alice  45.0  New York  95445.0  2023-01-01        A       45.0  95490.0   \n",
       "1      Bob  58.0    London  86235.0  2023-01-02        B       58.0  86293.0   \n",
       "2  Charlie  60.0     Tokyo  62330.0  2023-01-03        C       60.0  62390.0   \n",
       "3    David  28.0     Paris  46022.0  2023-01-04        A       28.0  46050.0   \n",
       "4      Eva  49.0    Berlin  65999.0  2023-01-05        B       49.0  66048.0   \n",
       "\n",
       "   Status Expertise  \n",
       "0  Junior    Junior  \n",
       "1  Senior    Senior  \n",
       "2  Senior    Senior  \n",
       "3  Junior    Junior  \n",
       "4  Junior    Senior  "
      ]
     },
     "execution_count": 102,
     "metadata": {},
     "output_type": "execute_result"
    }
   ],
   "source": [
    "# Define the bins and corresponding labels\n",
    "bins = [0, 45, 70]\n",
    "labels = [\"Junior\", \"Senior\"]\n",
    "\n",
    "# Use pd.cut() to categorize the Age column\n",
    "csv[\"Expertise\"] = pd.cut(csv[\"Age\"], bins=bins, labels=labels, right=True)\n",
    "\n",
    "# Display the updated DataFrame\n",
    "csv.head()\n"
   ]
  },
  {
   "cell_type": "markdown",
   "id": "52d1d6a8",
   "metadata": {},
   "source": [
    "### 40. Convert a DataFrame to a NumPy array."
   ]
  },
  {
   "cell_type": "code",
   "execution_count": null,
   "id": "77e76495",
   "metadata": {},
   "outputs": [
    {
     "data": {
      "text/plain": [
       "array([['Alice', 45.0, 'New York', 1.0, Timestamp('2023-01-01 00:00:00'),\n",
       "        'A', 95490.0, 0, 'juniour'],\n",
       "       ['Bob', 58.0, 'London', 0.8136495154078061,\n",
       "        Timestamp('2023-01-02 00:00:00'), 'B', 86293.0, 1, 'senior'],\n",
       "       ['Charlie', 60.0, 'Tokyo', 0.32996782874370234,\n",
       "        Timestamp('2023-01-03 00:00:00'), 'C', 62390.0, 2, 'senior'],\n",
       "       ['David', 28.0, 'Paris', 0.0, Timestamp('2023-01-04 00:00:00'),\n",
       "        'A', 46050.0, 3, 'juniour'],\n",
       "       ['Eva', 49.0, 'Berlin', 0.40420452016267727,\n",
       "        Timestamp('2023-01-05 00:00:00'), 'B', 66048.0, 4, 'senior'],\n",
       "       ['Frank', 67.0, 'Paris', 0.8558363514962669,\n",
       "        Timestamp('2023-01-06 00:00:00'), 'A', 88387.0, 3, 'senior'],\n",
       "       ['Grace', 45.53846153846154, 'Berlin', 0.22497622564393097,\n",
       "        Timestamp('2023-01-07 00:00:00'), 'C', 57186.53846153846, 4,\n",
       "        'senior'],\n",
       "       ['Hannah', 60.0, 'New York', 0.3923476923699492,\n",
       "        Timestamp('2023-01-08 00:00:00'), 'B', 65473.0, 0, 'senior'],\n",
       "       ['Ivan', 37.0, 'Tokyo', 0.8294518746332679,\n",
       "        Timestamp('2023-01-09 00:00:00'), 'A', 87053.0, 2, 'juniour'],\n",
       "       ['Jack', 31.0, 'London', 0.25702608097444507,\n",
       "        Timestamp('2023-01-10 00:00:00'), 'B', 58756.0, 1, 'juniour'],\n",
       "       ['Ivan', 37.0, 'Tokyo', 0.8294518746332679,\n",
       "        Timestamp('2023-01-09 00:00:00'), 'A', 87053.0, 2, 'juniour'],\n",
       "       ['Jack', 31.0, 'London', 0.25702608097444507,\n",
       "        Timestamp('2023-01-10 00:00:00'), 'B', 58756.0, 1, 'juniour'],\n",
       "       ['Grace', 29.0, 'Berlin', 0.22497622564393097,\n",
       "        Timestamp('2023-01-07 00:00:00'), nan, 57170.0, 4, 'juniour'],\n",
       "       ['Hannah', 60.0, 'New York', 0.4937626362064376,\n",
       "        Timestamp('2023-01-08 00:00:00'), 'B', 70485.23076923077, 0,\n",
       "        'senior']], dtype=object)"
      ]
     },
     "execution_count": 117,
     "metadata": {},
     "output_type": "execute_result"
    }
   ],
   "source": [
    "csv.to_numpy()"
   ]
  },
  {
   "cell_type": "markdown",
   "id": "ff5a0689",
   "metadata": {},
   "source": [
    "### 41. Group a DataFrame by a column and find the mean."
   ]
  },
  {
   "cell_type": "code",
   "execution_count": null,
   "id": "ab6d6df1",
   "metadata": {},
   "outputs": [
    {
     "data": {
      "text/plain": [
       "City\n",
       "Berlin      60093.666667\n",
       "London      67895.000000\n",
       "New York    80429.000000\n",
       "Paris       67171.000000\n",
       "Tokyo       78787.333333\n",
       "Name: Salary, dtype: float64"
      ]
     },
     "execution_count": 27,
     "metadata": {},
     "output_type": "execute_result"
    }
   ],
   "source": [
    "csv.groupby([\"City\"])[\"Salary\"].mean()"
   ]
  },
  {
   "cell_type": "markdown",
   "id": "88474c29",
   "metadata": {},
   "source": [
    "### 42. Group by multiple columns and compute the sum."
   ]
  },
  {
   "cell_type": "code",
   "execution_count": null,
   "id": "56462e7f",
   "metadata": {},
   "outputs": [
    {
     "data": {
      "text/plain": [
       "City      Expertise\n",
       "Berlin    Junior        57141.000000\n",
       "          Senior       123140.000000\n",
       "London    Junior       117450.000000\n",
       "          Senior        86235.000000\n",
       "New York  Junior        95445.000000\n",
       "          Senior       135838.230769\n",
       "Paris     Junior        46022.000000\n",
       "          Senior        88320.000000\n",
       "Tokyo     Junior       174032.000000\n",
       "          Senior        62330.000000\n",
       "Name: Salary, dtype: float64"
      ]
     },
     "execution_count": 103,
     "metadata": {},
     "output_type": "execute_result"
    }
   ],
   "source": [
    "csv.groupby([\"City\", \"Expertise\"])[\"Salary\"].sum()"
   ]
  },
  {
   "cell_type": "markdown",
   "id": "e54b5e4f",
   "metadata": {},
   "source": [
    "### 43. Find the maximum value of each group."
   ]
  },
  {
   "cell_type": "code",
   "execution_count": null,
   "id": "9c0233ff",
   "metadata": {},
   "outputs": [
    {
     "data": {
      "text/plain": [
       "City      Expertise\n",
       "Berlin    Junior       57141.000000\n",
       "          Senior       65999.000000\n",
       "London    Junior       58725.000000\n",
       "          Senior       86235.000000\n",
       "New York  Junior       95445.000000\n",
       "          Senior       70425.230769\n",
       "Paris     Junior       46022.000000\n",
       "          Senior       88320.000000\n",
       "Tokyo     Junior       87016.000000\n",
       "          Senior       62330.000000\n",
       "Name: Salary, dtype: float64"
      ]
     },
     "execution_count": 104,
     "metadata": {},
     "output_type": "execute_result"
    }
   ],
   "source": [
    "csv.groupby([\"City\", \"Expertise\"])[\"Salary\"].max()\n"
   ]
  },
  {
   "cell_type": "markdown",
   "id": "821640c0",
   "metadata": {},
   "source": [
    "### 44. Find the total count of each group."
   ]
  },
  {
   "cell_type": "code",
   "execution_count": null,
   "id": "5ef429b7",
   "metadata": {},
   "outputs": [
    {
     "data": {
      "text/plain": [
       "City\n",
       "Berlin      3\n",
       "London      3\n",
       "New York    3\n",
       "Paris       2\n",
       "Tokyo       3\n",
       "Name: Name, dtype: int64"
      ]
     },
     "execution_count": 121,
     "metadata": {},
     "output_type": "execute_result"
    }
   ],
   "source": [
    "(csv.groupby(\"City\")[\"Name\"].count())"
   ]
  },
  {
   "cell_type": "markdown",
   "id": "85044ed1",
   "metadata": {},
   "source": [
    "### 45. Get the top 3 rows from each group."
   ]
  },
  {
   "cell_type": "code",
   "execution_count": null,
   "id": "e78375ca",
   "metadata": {},
   "outputs": [
    {
     "data": {
      "text/html": [
       "<div>\n",
       "<style scoped>\n",
       "    .dataframe tbody tr th:only-of-type {\n",
       "        vertical-align: middle;\n",
       "    }\n",
       "\n",
       "    .dataframe tbody tr th {\n",
       "        vertical-align: top;\n",
       "    }\n",
       "\n",
       "    .dataframe thead th {\n",
       "        text-align: right;\n",
       "    }\n",
       "</style>\n",
       "<table border=\"1\" class=\"dataframe\">\n",
       "  <thead>\n",
       "    <tr style=\"text-align: right;\">\n",
       "      <th></th>\n",
       "      <th>Name</th>\n",
       "      <th>Age</th>\n",
       "      <th>City</th>\n",
       "      <th>Salary</th>\n",
       "      <th>Date</th>\n",
       "      <th>Category</th>\n",
       "      <th>Age_float</th>\n",
       "      <th>Sum</th>\n",
       "      <th>Status</th>\n",
       "      <th>Expertise</th>\n",
       "    </tr>\n",
       "  </thead>\n",
       "  <tbody>\n",
       "    <tr>\n",
       "      <th>0</th>\n",
       "      <td>Alice</td>\n",
       "      <td>45.000000</td>\n",
       "      <td>New York</td>\n",
       "      <td>95445.000000</td>\n",
       "      <td>2023-01-01</td>\n",
       "      <td>A</td>\n",
       "      <td>45.000000</td>\n",
       "      <td>95490.000000</td>\n",
       "      <td>Junior</td>\n",
       "      <td>Junior</td>\n",
       "    </tr>\n",
       "    <tr>\n",
       "      <th>1</th>\n",
       "      <td>Bob</td>\n",
       "      <td>58.000000</td>\n",
       "      <td>London</td>\n",
       "      <td>86235.000000</td>\n",
       "      <td>2023-01-02</td>\n",
       "      <td>B</td>\n",
       "      <td>58.000000</td>\n",
       "      <td>86293.000000</td>\n",
       "      <td>Senior</td>\n",
       "      <td>Senior</td>\n",
       "    </tr>\n",
       "    <tr>\n",
       "      <th>2</th>\n",
       "      <td>Charlie</td>\n",
       "      <td>60.000000</td>\n",
       "      <td>Tokyo</td>\n",
       "      <td>62330.000000</td>\n",
       "      <td>2023-01-03</td>\n",
       "      <td>C</td>\n",
       "      <td>60.000000</td>\n",
       "      <td>62390.000000</td>\n",
       "      <td>Senior</td>\n",
       "      <td>Senior</td>\n",
       "    </tr>\n",
       "    <tr>\n",
       "      <th>3</th>\n",
       "      <td>David</td>\n",
       "      <td>28.000000</td>\n",
       "      <td>Paris</td>\n",
       "      <td>46022.000000</td>\n",
       "      <td>2023-01-04</td>\n",
       "      <td>A</td>\n",
       "      <td>28.000000</td>\n",
       "      <td>46050.000000</td>\n",
       "      <td>Junior</td>\n",
       "      <td>Junior</td>\n",
       "    </tr>\n",
       "    <tr>\n",
       "      <th>4</th>\n",
       "      <td>Eva</td>\n",
       "      <td>49.000000</td>\n",
       "      <td>Berlin</td>\n",
       "      <td>65999.000000</td>\n",
       "      <td>2023-01-05</td>\n",
       "      <td>B</td>\n",
       "      <td>49.000000</td>\n",
       "      <td>66048.000000</td>\n",
       "      <td>Junior</td>\n",
       "      <td>Senior</td>\n",
       "    </tr>\n",
       "    <tr>\n",
       "      <th>5</th>\n",
       "      <td>Frank</td>\n",
       "      <td>67.000000</td>\n",
       "      <td>Paris</td>\n",
       "      <td>88320.000000</td>\n",
       "      <td>2023-01-06</td>\n",
       "      <td>A</td>\n",
       "      <td>67.000000</td>\n",
       "      <td>88387.000000</td>\n",
       "      <td>Senior</td>\n",
       "      <td>Senior</td>\n",
       "    </tr>\n",
       "    <tr>\n",
       "      <th>6</th>\n",
       "      <td>Grace</td>\n",
       "      <td>45.538462</td>\n",
       "      <td>Berlin</td>\n",
       "      <td>57141.000000</td>\n",
       "      <td>2023-01-07</td>\n",
       "      <td>C</td>\n",
       "      <td>45.538462</td>\n",
       "      <td>57186.538462</td>\n",
       "      <td>Junior</td>\n",
       "      <td>Senior</td>\n",
       "    </tr>\n",
       "    <tr>\n",
       "      <th>7</th>\n",
       "      <td>Hannah</td>\n",
       "      <td>60.000000</td>\n",
       "      <td>New York</td>\n",
       "      <td>65413.000000</td>\n",
       "      <td>2023-01-08</td>\n",
       "      <td>B</td>\n",
       "      <td>60.000000</td>\n",
       "      <td>65473.000000</td>\n",
       "      <td>Senior</td>\n",
       "      <td>Senior</td>\n",
       "    </tr>\n",
       "    <tr>\n",
       "      <th>8</th>\n",
       "      <td>Ivan</td>\n",
       "      <td>37.000000</td>\n",
       "      <td>Tokyo</td>\n",
       "      <td>87016.000000</td>\n",
       "      <td>2023-01-09</td>\n",
       "      <td>A</td>\n",
       "      <td>37.000000</td>\n",
       "      <td>87053.000000</td>\n",
       "      <td>Junior</td>\n",
       "      <td>Junior</td>\n",
       "    </tr>\n",
       "    <tr>\n",
       "      <th>9</th>\n",
       "      <td>Jack</td>\n",
       "      <td>31.000000</td>\n",
       "      <td>London</td>\n",
       "      <td>58725.000000</td>\n",
       "      <td>2023-01-10</td>\n",
       "      <td>B</td>\n",
       "      <td>31.000000</td>\n",
       "      <td>58756.000000</td>\n",
       "      <td>Junior</td>\n",
       "      <td>Junior</td>\n",
       "    </tr>\n",
       "    <tr>\n",
       "      <th>10</th>\n",
       "      <td>Ivan</td>\n",
       "      <td>37.000000</td>\n",
       "      <td>Tokyo</td>\n",
       "      <td>87016.000000</td>\n",
       "      <td>2023-01-09</td>\n",
       "      <td>A</td>\n",
       "      <td>37.000000</td>\n",
       "      <td>87053.000000</td>\n",
       "      <td>Junior</td>\n",
       "      <td>Junior</td>\n",
       "    </tr>\n",
       "    <tr>\n",
       "      <th>11</th>\n",
       "      <td>Jack</td>\n",
       "      <td>31.000000</td>\n",
       "      <td>London</td>\n",
       "      <td>58725.000000</td>\n",
       "      <td>2023-01-10</td>\n",
       "      <td>B</td>\n",
       "      <td>31.000000</td>\n",
       "      <td>58756.000000</td>\n",
       "      <td>Junior</td>\n",
       "      <td>Junior</td>\n",
       "    </tr>\n",
       "    <tr>\n",
       "      <th>12</th>\n",
       "      <td>Grace</td>\n",
       "      <td>29.000000</td>\n",
       "      <td>Berlin</td>\n",
       "      <td>57141.000000</td>\n",
       "      <td>2023-01-07</td>\n",
       "      <td>NaN</td>\n",
       "      <td>29.000000</td>\n",
       "      <td>57170.000000</td>\n",
       "      <td>Junior</td>\n",
       "      <td>Junior</td>\n",
       "    </tr>\n",
       "    <tr>\n",
       "      <th>13</th>\n",
       "      <td>Hannah</td>\n",
       "      <td>60.000000</td>\n",
       "      <td>New York</td>\n",
       "      <td>70425.230769</td>\n",
       "      <td>2023-01-08</td>\n",
       "      <td>B</td>\n",
       "      <td>60.000000</td>\n",
       "      <td>70485.230769</td>\n",
       "      <td>Senior</td>\n",
       "      <td>Senior</td>\n",
       "    </tr>\n",
       "  </tbody>\n",
       "</table>\n",
       "</div>"
      ],
      "text/plain": [
       "       Name        Age      City        Salary        Date Category  \\\n",
       "0     Alice  45.000000  New York  95445.000000  2023-01-01        A   \n",
       "1       Bob  58.000000    London  86235.000000  2023-01-02        B   \n",
       "2   Charlie  60.000000     Tokyo  62330.000000  2023-01-03        C   \n",
       "3     David  28.000000     Paris  46022.000000  2023-01-04        A   \n",
       "4       Eva  49.000000    Berlin  65999.000000  2023-01-05        B   \n",
       "5     Frank  67.000000     Paris  88320.000000  2023-01-06        A   \n",
       "6     Grace  45.538462    Berlin  57141.000000  2023-01-07        C   \n",
       "7    Hannah  60.000000  New York  65413.000000  2023-01-08        B   \n",
       "8      Ivan  37.000000     Tokyo  87016.000000  2023-01-09        A   \n",
       "9      Jack  31.000000    London  58725.000000  2023-01-10        B   \n",
       "10     Ivan  37.000000     Tokyo  87016.000000  2023-01-09        A   \n",
       "11     Jack  31.000000    London  58725.000000  2023-01-10        B   \n",
       "12    Grace  29.000000    Berlin  57141.000000  2023-01-07      NaN   \n",
       "13   Hannah  60.000000  New York  70425.230769  2023-01-08        B   \n",
       "\n",
       "    Age_float           Sum  Status Expertise  \n",
       "0   45.000000  95490.000000  Junior    Junior  \n",
       "1   58.000000  86293.000000  Senior    Senior  \n",
       "2   60.000000  62390.000000  Senior    Senior  \n",
       "3   28.000000  46050.000000  Junior    Junior  \n",
       "4   49.000000  66048.000000  Junior    Senior  \n",
       "5   67.000000  88387.000000  Senior    Senior  \n",
       "6   45.538462  57186.538462  Junior    Senior  \n",
       "7   60.000000  65473.000000  Senior    Senior  \n",
       "8   37.000000  87053.000000  Junior    Junior  \n",
       "9   31.000000  58756.000000  Junior    Junior  \n",
       "10  37.000000  87053.000000  Junior    Junior  \n",
       "11  31.000000  58756.000000  Junior    Junior  \n",
       "12  29.000000  57170.000000  Junior    Junior  \n",
       "13  60.000000  70485.230769  Senior    Senior  "
      ]
     },
     "execution_count": 105,
     "metadata": {},
     "output_type": "execute_result"
    }
   ],
   "source": [
    "csv.groupby([\"City\",\"Expertise\"]).head(3)"
   ]
  },
  {
   "cell_type": "markdown",
   "id": "f7ea00c1",
   "metadata": {},
   "source": [
    "### 46. Use `agg()` to apply multiple aggregation functions."
   ]
  },
  {
   "cell_type": "code",
   "execution_count": null,
   "id": "713cf6d9",
   "metadata": {},
   "outputs": [
    {
     "data": {
      "text/html": [
       "<div>\n",
       "<style scoped>\n",
       "    .dataframe tbody tr th:only-of-type {\n",
       "        vertical-align: middle;\n",
       "    }\n",
       "\n",
       "    .dataframe tbody tr th {\n",
       "        vertical-align: top;\n",
       "    }\n",
       "\n",
       "    .dataframe thead th {\n",
       "        text-align: right;\n",
       "    }\n",
       "</style>\n",
       "<table border=\"1\" class=\"dataframe\">\n",
       "  <thead>\n",
       "    <tr style=\"text-align: right;\">\n",
       "      <th></th>\n",
       "      <th>mean</th>\n",
       "      <th>max</th>\n",
       "      <th>sum</th>\n",
       "    </tr>\n",
       "    <tr>\n",
       "      <th>City</th>\n",
       "      <th></th>\n",
       "      <th></th>\n",
       "      <th></th>\n",
       "    </tr>\n",
       "  </thead>\n",
       "  <tbody>\n",
       "    <tr>\n",
       "      <th>Berlin</th>\n",
       "      <td>60093.666667</td>\n",
       "      <td>65999.0</td>\n",
       "      <td>180281.000000</td>\n",
       "    </tr>\n",
       "    <tr>\n",
       "      <th>London</th>\n",
       "      <td>67895.000000</td>\n",
       "      <td>86235.0</td>\n",
       "      <td>203685.000000</td>\n",
       "    </tr>\n",
       "    <tr>\n",
       "      <th>New York</th>\n",
       "      <td>77094.410256</td>\n",
       "      <td>95445.0</td>\n",
       "      <td>231283.230769</td>\n",
       "    </tr>\n",
       "    <tr>\n",
       "      <th>Paris</th>\n",
       "      <td>67171.000000</td>\n",
       "      <td>88320.0</td>\n",
       "      <td>134342.000000</td>\n",
       "    </tr>\n",
       "    <tr>\n",
       "      <th>Tokyo</th>\n",
       "      <td>78787.333333</td>\n",
       "      <td>87016.0</td>\n",
       "      <td>236362.000000</td>\n",
       "    </tr>\n",
       "  </tbody>\n",
       "</table>\n",
       "</div>"
      ],
      "text/plain": [
       "                  mean      max            sum\n",
       "City                                          \n",
       "Berlin    60093.666667  65999.0  180281.000000\n",
       "London    67895.000000  86235.0  203685.000000\n",
       "New York  77094.410256  95445.0  231283.230769\n",
       "Paris     67171.000000  88320.0  134342.000000\n",
       "Tokyo     78787.333333  87016.0  236362.000000"
      ]
     },
     "execution_count": 106,
     "metadata": {},
     "output_type": "execute_result"
    }
   ],
   "source": [
    "csv.groupby([\"City\"])[\"Salary\"].agg([\"mean\",\"max\",\"sum\"])"
   ]
  },
  {
   "cell_type": "markdown",
   "id": "c13302cc",
   "metadata": {},
   "source": [
    "### 47. Get unique values in a column."
   ]
  },
  {
   "cell_type": "code",
   "execution_count": null,
   "id": "5ee0efd3",
   "metadata": {},
   "outputs": [
    {
     "name": "stdout",
     "output_type": "stream",
     "text": [
      "['New York' 'London' 'Tokyo' 'Paris' 'Berlin']\n"
     ]
    }
   ],
   "source": [
    "# Get the unique values in the 'City' column\n",
    "unique_cities = csv[\"City\"].unique()\n",
    "\n",
    "# Display the unique cities\n",
    "print(unique_cities)"
   ]
  },
  {
   "cell_type": "markdown",
   "id": "f12d78c9",
   "metadata": {},
   "source": [
    "### 48. Count the occurrences of each unique value in a column."
   ]
  },
  {
   "cell_type": "code",
   "execution_count": null,
   "id": "1774b182",
   "metadata": {},
   "outputs": [
    {
     "data": {
      "text/plain": [
       "5"
      ]
     },
     "execution_count": 125,
     "metadata": {},
     "output_type": "execute_result"
    }
   ],
   "source": [
    "# Count the number of unique values in the 'City' column\n",
    "unique_city_count = csv[\"City\"].nunique()\n",
    "\n",
    "# Display the count of unique cities\n",
    "print(unique_city_count)"
   ]
  },
  {
   "cell_type": "markdown",
   "id": "1e2e1347",
   "metadata": {},
   "source": [
    "### 49. Compute the cumulative sum of a column."
   ]
  },
  {
   "cell_type": "code",
   "execution_count": null,
   "id": "3062f3a6",
   "metadata": {},
   "outputs": [
    {
     "name": "stdout",
     "output_type": "stream",
     "text": [
      "0      45.000000\n",
      "1     103.000000\n",
      "2     163.000000\n",
      "3     191.000000\n",
      "4     240.000000\n",
      "5     307.000000\n",
      "6     352.538462\n",
      "7     412.538462\n",
      "8     449.538462\n",
      "9     480.538462\n",
      "10    517.538462\n",
      "11    548.538462\n",
      "12    577.538462\n",
      "13    637.538462\n",
      "Name: Age, dtype: float64\n"
     ]
    }
   ],
   "source": [
    "# Compute the cumulative sum of the 'Age' column\n",
    "cumulative_age_sum = csv[\"Age\"].cumsum()\n",
    "\n",
    "# Display the cumulative sum\n",
    "print(cumulative_age_sum)"
   ]
  },
  {
   "cell_type": "markdown",
   "id": "d20ee0c3",
   "metadata": {},
   "source": [
    "### 50. Compute rolling averages with a window size of 3."
   ]
  },
  {
   "cell_type": "code",
   "execution_count": null,
   "id": "ee0b46e7",
   "metadata": {},
   "outputs": [
    {
     "name": "stdout",
     "output_type": "stream",
     "text": [
      "0           NaN\n",
      "1           NaN\n",
      "2     54.333333\n",
      "3     48.666667\n",
      "4     45.666667\n",
      "5     48.000000\n",
      "6     53.846154\n",
      "7     57.512821\n",
      "8     47.512821\n",
      "9     42.666667\n",
      "10    35.000000\n",
      "11    33.000000\n",
      "12    32.333333\n",
      "13    40.000000\n",
      "Name: Age, dtype: float64\n"
     ]
    }
   ],
   "source": [
    "# Compute the rolling average of the 'Age' column with a window size of 3\n",
    "rolling_avg_age = csv[\"Age\"].rolling(window=3).mean()\n",
    "\n",
    "# Display the rolling averages\n",
    "print(rolling_avg_age)\n",
    "\n",
    "\n",
    "#\t•\tThe .rolling(window=3) method creates a rolling window of 3 values for each position in the column.\n",
    "#\t•\tThe .mean() calculates the average for each window as it moves across the column.\n",
    "#\t•\tThis is useful for smoothing out fluctuations or trends in time-series data, such as a moving average in stock prices or any sequential data."
   ]
  },
  {
   "cell_type": "markdown",
   "id": "40dfd45b",
   "metadata": {},
   "source": [
    "### 51. Merge two DataFrames based on a common column."
   ]
  },
  {
   "cell_type": "code",
   "execution_count": null,
   "id": "dcd7a77c",
   "metadata": {},
   "outputs": [
    {
     "name": "stdout",
     "output_type": "stream",
     "text": [
      "   ID   Name  Age      City  Salary\n",
      "0   1  Alice   25  New York   60000\n",
      "1   2    Bob   30    London   75000\n",
      "2   4  David   28     Paris   62000\n",
      "3   5    Eva   24    Berlin   57000\n"
     ]
    }
   ],
   "source": [
    "left_data = {\n",
    "    'ID': [1, 2, 3, 4, 5],\n",
    "    'Name': ['Alice', 'Bob', 'Charlie', 'David', 'Eva'],\n",
    "    'Age': [25, 30, 35, 28, 24],\n",
    "}\n",
    "\n",
    "left_df = pd.DataFrame(left_data)\n",
    "\n",
    "# Sample data for right DataFrame\n",
    "right_data = {\n",
    "    'ID': [1, 2, 4, 5],\n",
    "    'City': ['New York', 'London', 'Paris', 'Berlin'],\n",
    "    'Salary': [60000, 75000, 62000, 57000],\n",
    "}\n",
    "\n",
    "right_df = pd.DataFrame(right_data)\n",
    "\n",
    "\n",
    "# Merge the left and right DataFrames on the 'ID' column\n",
    "merged_df = pd.merge(left_df, right_df, on=\"ID\", how=\"inner\")\n",
    "\n",
    "# Display the merged DataFrame\n",
    "print(merged_df)"
   ]
  },
  {
   "cell_type": "markdown",
   "id": "1d9ddcba",
   "metadata": {},
   "source": [
    "### 52. Perform an inner join on two DataFrames."
   ]
  },
  {
   "cell_type": "code",
   "execution_count": null,
   "id": "be320101",
   "metadata": {},
   "outputs": [
    {
     "data": {
      "text/html": [
       "<div>\n",
       "<style scoped>\n",
       "    .dataframe tbody tr th:only-of-type {\n",
       "        vertical-align: middle;\n",
       "    }\n",
       "\n",
       "    .dataframe tbody tr th {\n",
       "        vertical-align: top;\n",
       "    }\n",
       "\n",
       "    .dataframe thead th {\n",
       "        text-align: right;\n",
       "    }\n",
       "</style>\n",
       "<table border=\"1\" class=\"dataframe\">\n",
       "  <thead>\n",
       "    <tr style=\"text-align: right;\">\n",
       "      <th></th>\n",
       "      <th>ID</th>\n",
       "      <th>Name</th>\n",
       "      <th>Age</th>\n",
       "      <th>City</th>\n",
       "      <th>Salary</th>\n",
       "    </tr>\n",
       "  </thead>\n",
       "  <tbody>\n",
       "    <tr>\n",
       "      <th>0</th>\n",
       "      <td>1</td>\n",
       "      <td>Alice</td>\n",
       "      <td>25</td>\n",
       "      <td>New York</td>\n",
       "      <td>60000</td>\n",
       "    </tr>\n",
       "    <tr>\n",
       "      <th>1</th>\n",
       "      <td>2</td>\n",
       "      <td>Bob</td>\n",
       "      <td>30</td>\n",
       "      <td>London</td>\n",
       "      <td>75000</td>\n",
       "    </tr>\n",
       "    <tr>\n",
       "      <th>2</th>\n",
       "      <td>4</td>\n",
       "      <td>David</td>\n",
       "      <td>28</td>\n",
       "      <td>Paris</td>\n",
       "      <td>62000</td>\n",
       "    </tr>\n",
       "    <tr>\n",
       "      <th>3</th>\n",
       "      <td>5</td>\n",
       "      <td>Eva</td>\n",
       "      <td>24</td>\n",
       "      <td>Berlin</td>\n",
       "      <td>57000</td>\n",
       "    </tr>\n",
       "  </tbody>\n",
       "</table>\n",
       "</div>"
      ],
      "text/plain": [
       "   ID   Name  Age      City  Salary\n",
       "0   1  Alice   25  New York   60000\n",
       "1   2    Bob   30    London   75000\n",
       "2   4  David   28     Paris   62000\n",
       "3   5    Eva   24    Berlin   57000"
      ]
     },
     "execution_count": 130,
     "metadata": {},
     "output_type": "execute_result"
    }
   ],
   "source": [
    "# Perform inner join on left_df and right_df based on 'ID'\n",
    "merged_df = pd.merge(left_df, right_df, on=\"ID\", how=\"inner\")\n",
    "\n",
    "# Display the result of the inner join\n",
    "print(merged_df)"
   ]
  },
  {
   "cell_type": "markdown",
   "id": "11467cc5",
   "metadata": {},
   "source": [
    "### 53. Perform a left join on two DataFrames."
   ]
  },
  {
   "cell_type": "code",
   "execution_count": null,
   "id": "d0d49fde",
   "metadata": {},
   "outputs": [
    {
     "name": "stdout",
     "output_type": "stream",
     "text": [
      "   ID     Name  Age      City   Salary\n",
      "0   1    Alice   25  New York  60000.0\n",
      "1   2      Bob   30    London  75000.0\n",
      "2   3  Charlie   35       NaN      NaN\n",
      "3   4    David   28     Paris  62000.0\n",
      "4   5      Eva   24    Berlin  57000.0\n"
     ]
    }
   ],
   "source": [
    "# Perform left join on left_df and right_df based on 'ID'\n",
    "merged_df = pd.merge(left_df, right_df, on=\"ID\", how=\"left\")\n",
    "\n",
    "# Display the result of the left join\n",
    "print(merged_df)"
   ]
  },
  {
   "cell_type": "markdown",
   "id": "b84d267d",
   "metadata": {},
   "source": [
    "### 54. Perform a right join on two DataFrames."
   ]
  },
  {
   "cell_type": "code",
   "execution_count": null,
   "id": "c79a5e03",
   "metadata": {},
   "outputs": [
    {
     "name": "stdout",
     "output_type": "stream",
     "text": [
      "   ID   Name  Age      City  Salary\n",
      "0   1  Alice   25  New York   60000\n",
      "1   2    Bob   30    London   75000\n",
      "2   4  David   28     Paris   62000\n",
      "3   5    Eva   24    Berlin   57000\n"
     ]
    }
   ],
   "source": [
    "# Perform right join on left_df and right_df based on 'ID'\n",
    "merged_df = pd.merge(left_df, right_df, on=\"ID\", how=\"right\")\n",
    "\n",
    "# Display the result of the right join\n",
    "print(merged_df)"
   ]
  },
  {
   "cell_type": "markdown",
   "id": "f156b5b6",
   "metadata": {},
   "source": [
    "### 55. Perform an outer join on two DataFrames."
   ]
  },
  {
   "cell_type": "code",
   "execution_count": null,
   "id": "ab629478",
   "metadata": {},
   "outputs": [
    {
     "name": "stdout",
     "output_type": "stream",
     "text": [
      "   ID     Name  Age      City   Salary\n",
      "0   1    Alice   25  New York  60000.0\n",
      "1   2      Bob   30    London  75000.0\n",
      "2   3  Charlie   35       NaN      NaN\n",
      "3   4    David   28     Paris  62000.0\n",
      "4   5      Eva   24    Berlin  57000.0\n"
     ]
    }
   ],
   "source": [
    "# Perform outer join on left_df and right_df based on 'ID'\n",
    "merged_df = pd.merge(left_df, right_df, on=\"ID\", how=\"outer\")\n",
    "\n",
    "# Display the result of the outer join\n",
    "print(merged_df)"
   ]
  },
  {
   "cell_type": "markdown",
   "id": "5ed26ac0",
   "metadata": {},
   "source": [
    "### 56. Concatenate two DataFrames vertically."
   ]
  },
  {
   "cell_type": "code",
   "execution_count": null,
   "id": "25684136",
   "metadata": {},
   "outputs": [
    {
     "name": "stdout",
     "output_type": "stream",
     "text": [
      "   ID     Name   Age      City   Salary\n",
      "0   1    Alice  25.0       NaN      NaN\n",
      "1   2      Bob  30.0       NaN      NaN\n",
      "2   3  Charlie  35.0       NaN      NaN\n",
      "3   4    David  28.0       NaN      NaN\n",
      "4   5      Eva  24.0       NaN      NaN\n",
      "0   1      NaN   NaN  New York  60000.0\n",
      "1   2      NaN   NaN    London  75000.0\n",
      "2   4      NaN   NaN     Paris  62000.0\n",
      "3   5      NaN   NaN    Berlin  57000.0\n"
     ]
    }
   ],
   "source": [
    "# Concatenate left_df and right_df vertically (along columns)\n",
    "concatenated_df = pd.concat([left_df, right_df], axis=0)\n",
    "\n",
    "# Display the concatenated DataFrame\n",
    "print(concatenated_df)"
   ]
  },
  {
   "cell_type": "markdown",
   "id": "332e358c",
   "metadata": {},
   "source": [
    "### 57. Concatenate two DataFrames horizontally."
   ]
  },
  {
   "cell_type": "code",
   "execution_count": null,
   "id": "c52d853f",
   "metadata": {},
   "outputs": [
    {
     "name": "stdout",
     "output_type": "stream",
     "text": [
      "   ID     Name  Age   ID      City   Salary\n",
      "0   1    Alice   25  1.0  New York  60000.0\n",
      "1   2      Bob   30  2.0    London  75000.0\n",
      "2   3  Charlie   35  4.0     Paris  62000.0\n",
      "3   4    David   28  5.0    Berlin  57000.0\n",
      "4   5      Eva   24  NaN       NaN      NaN\n"
     ]
    }
   ],
   "source": [
    "# Concatenate left_df and right_df vertically (along columns)\n",
    "concatenated_df = pd.concat([left_df, right_df], axis=1)\n",
    "\n",
    "# Display the concatenated DataFrame\n",
    "print(concatenated_df)"
   ]
  },
  {
   "cell_type": "code",
   "execution_count": null,
   "id": "2e7ce8eb",
   "metadata": {},
   "outputs": [],
   "source": [
    "left_data = {\n",
    "    'ID': [1, 2, 3, 4, 5],\n",
    "    'Name': ['Alice', 'Bob', 'Charlie', 'David', 'Eva'],\n",
    "    'Age': [25, 30, 35, 28, 24],\n",
    "}\n",
    "\n",
    "left_df = pd.DataFrame(left_data)\n",
    "\n",
    "# Sample data for right DataFrame\n",
    "right_data = {\n",
    "    'ID1': [1, 2, 4, 5],\n",
    "    'City': ['New York', 'London', 'Paris', 'Berlin'],\n",
    "    'Salary': [60000, 75000, 62000, 57000],\n",
    "}\n",
    "\n",
    "right_df = pd.DataFrame(right_data)"
   ]
  },
  {
   "cell_type": "markdown",
   "id": "68bd0614",
   "metadata": {},
   "source": [
    "### 58. Merge two DataFrames with different column names."
   ]
  },
  {
   "cell_type": "code",
   "execution_count": null,
   "id": "d93e2519",
   "metadata": {},
   "outputs": [
    {
     "data": {
      "text/html": [
       "<div>\n",
       "<style scoped>\n",
       "    .dataframe tbody tr th:only-of-type {\n",
       "        vertical-align: middle;\n",
       "    }\n",
       "\n",
       "    .dataframe tbody tr th {\n",
       "        vertical-align: top;\n",
       "    }\n",
       "\n",
       "    .dataframe thead th {\n",
       "        text-align: right;\n",
       "    }\n",
       "</style>\n",
       "<table border=\"1\" class=\"dataframe\">\n",
       "  <thead>\n",
       "    <tr style=\"text-align: right;\">\n",
       "      <th></th>\n",
       "      <th>ID</th>\n",
       "      <th>Name</th>\n",
       "      <th>Age</th>\n",
       "      <th>ID1</th>\n",
       "      <th>City</th>\n",
       "      <th>Salary</th>\n",
       "    </tr>\n",
       "  </thead>\n",
       "  <tbody>\n",
       "    <tr>\n",
       "      <th>0</th>\n",
       "      <td>1</td>\n",
       "      <td>Alice</td>\n",
       "      <td>25</td>\n",
       "      <td>1.0</td>\n",
       "      <td>New York</td>\n",
       "      <td>60000.0</td>\n",
       "    </tr>\n",
       "    <tr>\n",
       "      <th>1</th>\n",
       "      <td>2</td>\n",
       "      <td>Bob</td>\n",
       "      <td>30</td>\n",
       "      <td>2.0</td>\n",
       "      <td>London</td>\n",
       "      <td>75000.0</td>\n",
       "    </tr>\n",
       "    <tr>\n",
       "      <th>2</th>\n",
       "      <td>3</td>\n",
       "      <td>Charlie</td>\n",
       "      <td>35</td>\n",
       "      <td>NaN</td>\n",
       "      <td>NaN</td>\n",
       "      <td>NaN</td>\n",
       "    </tr>\n",
       "    <tr>\n",
       "      <th>3</th>\n",
       "      <td>4</td>\n",
       "      <td>David</td>\n",
       "      <td>28</td>\n",
       "      <td>4.0</td>\n",
       "      <td>Paris</td>\n",
       "      <td>62000.0</td>\n",
       "    </tr>\n",
       "    <tr>\n",
       "      <th>4</th>\n",
       "      <td>5</td>\n",
       "      <td>Eva</td>\n",
       "      <td>24</td>\n",
       "      <td>5.0</td>\n",
       "      <td>Berlin</td>\n",
       "      <td>57000.0</td>\n",
       "    </tr>\n",
       "  </tbody>\n",
       "</table>\n",
       "</div>"
      ],
      "text/plain": [
       "   ID     Name  Age  ID1      City   Salary\n",
       "0   1    Alice   25  1.0  New York  60000.0\n",
       "1   2      Bob   30  2.0    London  75000.0\n",
       "2   3  Charlie   35  NaN       NaN      NaN\n",
       "3   4    David   28  4.0     Paris  62000.0\n",
       "4   5      Eva   24  5.0    Berlin  57000.0"
      ]
     },
     "execution_count": 247,
     "metadata": {},
     "output_type": "execute_result"
    }
   ],
   "source": [
    "pd.merge(left_df,right_df,left_on=\"ID\",right_on=\"ID1\",how=\"outer\")"
   ]
  },
  {
   "cell_type": "markdown",
   "id": "5cfe1f10",
   "metadata": {},
   "source": [
    "### 59. Join two DataFrames based on the index."
   ]
  },
  {
   "cell_type": "code",
   "execution_count": null,
   "id": "68388e47",
   "metadata": {},
   "outputs": [
    {
     "data": {
      "text/html": [
       "<div>\n",
       "<style scoped>\n",
       "    .dataframe tbody tr th:only-of-type {\n",
       "        vertical-align: middle;\n",
       "    }\n",
       "\n",
       "    .dataframe tbody tr th {\n",
       "        vertical-align: top;\n",
       "    }\n",
       "\n",
       "    .dataframe thead th {\n",
       "        text-align: right;\n",
       "    }\n",
       "</style>\n",
       "<table border=\"1\" class=\"dataframe\">\n",
       "  <thead>\n",
       "    <tr style=\"text-align: right;\">\n",
       "      <th></th>\n",
       "      <th>ID_x</th>\n",
       "      <th>Name</th>\n",
       "      <th>Age</th>\n",
       "      <th>ID_y</th>\n",
       "      <th>City</th>\n",
       "      <th>Salary</th>\n",
       "    </tr>\n",
       "  </thead>\n",
       "  <tbody>\n",
       "    <tr>\n",
       "      <th>0</th>\n",
       "      <td>1</td>\n",
       "      <td>Alice</td>\n",
       "      <td>25</td>\n",
       "      <td>1.0</td>\n",
       "      <td>New York</td>\n",
       "      <td>60000.0</td>\n",
       "    </tr>\n",
       "    <tr>\n",
       "      <th>1</th>\n",
       "      <td>2</td>\n",
       "      <td>Bob</td>\n",
       "      <td>30</td>\n",
       "      <td>2.0</td>\n",
       "      <td>London</td>\n",
       "      <td>75000.0</td>\n",
       "    </tr>\n",
       "    <tr>\n",
       "      <th>2</th>\n",
       "      <td>3</td>\n",
       "      <td>Charlie</td>\n",
       "      <td>35</td>\n",
       "      <td>4.0</td>\n",
       "      <td>Paris</td>\n",
       "      <td>62000.0</td>\n",
       "    </tr>\n",
       "    <tr>\n",
       "      <th>3</th>\n",
       "      <td>4</td>\n",
       "      <td>David</td>\n",
       "      <td>28</td>\n",
       "      <td>5.0</td>\n",
       "      <td>Berlin</td>\n",
       "      <td>57000.0</td>\n",
       "    </tr>\n",
       "    <tr>\n",
       "      <th>4</th>\n",
       "      <td>5</td>\n",
       "      <td>Eva</td>\n",
       "      <td>24</td>\n",
       "      <td>NaN</td>\n",
       "      <td>NaN</td>\n",
       "      <td>NaN</td>\n",
       "    </tr>\n",
       "  </tbody>\n",
       "</table>\n",
       "</div>"
      ],
      "text/plain": [
       "   ID_x     Name  Age  ID_y      City   Salary\n",
       "0     1    Alice   25   1.0  New York  60000.0\n",
       "1     2      Bob   30   2.0    London  75000.0\n",
       "2     3  Charlie   35   4.0     Paris  62000.0\n",
       "3     4    David   28   5.0    Berlin  57000.0\n",
       "4     5      Eva   24   NaN       NaN      NaN"
      ]
     },
     "execution_count": 141,
     "metadata": {},
     "output_type": "execute_result"
    }
   ],
   "source": [
    "pd.merge(left_df, right_df, left_index=True, right_index=True, how=\"outer\")"
   ]
  },
  {
   "cell_type": "markdown",
   "id": "1ac19dd3",
   "metadata": {},
   "source": [
    "### 60. Stack and unstack a DataFrame."
   ]
  },
  {
   "cell_type": "code",
   "execution_count": null,
   "id": "8c0fc935",
   "metadata": {},
   "outputs": [
    {
     "name": "stdout",
     "output_type": "stream",
     "text": [
      "Original MultiIndex DataFrame:\n",
      "\n",
      "         A            B        \n",
      "      Math Science Math Science\n",
      "Alice   85      78   92      80\n",
      "Bob     90      88   81      79\n",
      "\n",
      "DataFrame after stacking columns into rows:\n",
      "\n",
      "                A   B\n",
      "Alice Math     85  92\n",
      "      Science  78  80\n",
      "Bob   Math     90  81\n",
      "      Science  88  79\n",
      "\n",
      "Unstacked and transposed DataFrame:\n",
      "\n",
      "A  Math     Alice    85\n",
      "            Bob      90\n",
      "   Science  Alice    78\n",
      "            Bob      88\n",
      "B  Math     Alice    92\n",
      "            Bob      81\n",
      "   Science  Alice    80\n",
      "            Bob      79\n",
      "dtype: int64\n"
     ]
    }
   ],
   "source": [
    "# Create a DataFrame with MultiIndex columns\n",
    "df = pd.DataFrame({\n",
    "    ('A', 'Math'): [85, 90],\n",
    "    ('A', 'Science'): [78, 88],\n",
    "    ('B', 'Math'): [92, 81],\n",
    "    ('B', 'Science'): [80, 79]\n",
    "}, index=['Alice', 'Bob'])\n",
    "\n",
    "# Display the original MultiIndex column DataFrame\n",
    "print(\"Original MultiIndex DataFrame:\\n\")\n",
    "print(df)\n",
    "\n",
    "# Stack the inner level of column index ('Math', 'Science') into row index\n",
    "stacked_df = df.stack()\n",
    "\n",
    "# Display the stacked DataFrame\n",
    "print(\"\\nDataFrame after stacking columns into rows:\\n\")\n",
    "print(stacked_df)\n",
    "\n",
    "# Unstack the stacked DataFrame and transpose it for a clearer format\n",
    "unstacked_transposed_df = df.unstack().T\n",
    "\n",
    "# Display the unstacked and transposed DataFrame\n",
    "print(\"\\nUnstacked and transposed DataFrame:\\n\")\n",
    "print(unstacked_transposed_df)"
   ]
  },
  {
   "cell_type": "markdown",
   "id": "038c7d85",
   "metadata": {},
   "source": [
    "### 61. Sort a DataFrame based on a single column in ascending order."
   ]
  },
  {
   "cell_type": "code",
   "execution_count": null,
   "id": "17512eea",
   "metadata": {},
   "outputs": [
    {
     "name": "stdout",
     "output_type": "stream",
     "text": [
      "       Name        Age      City        Salary        Date Category  \\\n",
      "3     David  28.000000     Paris  46022.000000  2023-01-04        A   \n",
      "12    Grace  29.000000    Berlin  57141.000000  2023-01-07      NaN   \n",
      "9      Jack  31.000000    London  58725.000000  2023-01-10        B   \n",
      "11     Jack  31.000000    London  58725.000000  2023-01-10        B   \n",
      "8      Ivan  37.000000     Tokyo  87016.000000  2023-01-09        A   \n",
      "10     Ivan  37.000000     Tokyo  87016.000000  2023-01-09        A   \n",
      "0     Alice  45.000000  New York  95445.000000  2023-01-01        A   \n",
      "6     Grace  45.538462    Berlin  57141.000000  2023-01-07        C   \n",
      "4       Eva  49.000000    Berlin  65999.000000  2023-01-05        B   \n",
      "1       Bob  58.000000    London  86235.000000  2023-01-02        B   \n",
      "2   Charlie  60.000000     Tokyo  62330.000000  2023-01-03        C   \n",
      "7    Hannah  60.000000  New York  65413.000000  2023-01-08        B   \n",
      "13   Hannah  60.000000  New York  70425.230769  2023-01-08        B   \n",
      "5     Frank  67.000000     Paris  88320.000000  2023-01-06        A   \n",
      "\n",
      "    Age_float           Sum  Status  \n",
      "3   28.000000  46050.000000  Junior  \n",
      "12  29.000000  57170.000000  Junior  \n",
      "9   31.000000  58756.000000  Junior  \n",
      "11  31.000000  58756.000000  Junior  \n",
      "8   37.000000  87053.000000  Junior  \n",
      "10  37.000000  87053.000000  Junior  \n",
      "0   45.000000  95490.000000  Junior  \n",
      "6   45.538462  57186.538462  Junior  \n",
      "4   49.000000  66048.000000  Junior  \n",
      "1   58.000000  86293.000000  Senior  \n",
      "2   60.000000  62390.000000  Senior  \n",
      "7   60.000000  65473.000000  Senior  \n",
      "13  60.000000  70485.230769  Senior  \n",
      "5   67.000000  88387.000000  Senior  \n"
     ]
    }
   ],
   "source": [
    "# Sort the DataFrame by the 'Age' column in ascending order\n",
    "sorted_df = csv.sort_values(by=\"Age\", ascending=True)\n",
    "\n",
    "# Display the sorted DataFrame\n",
    "print(sorted_df)"
   ]
  },
  {
   "cell_type": "markdown",
   "id": "fcfcea3b",
   "metadata": {},
   "source": [
    "### 62. Sort a DataFrame by multiple columns."
   ]
  },
  {
   "cell_type": "code",
   "execution_count": null,
   "id": "876375ca",
   "metadata": {},
   "outputs": [
    {
     "name": "stdout",
     "output_type": "stream",
     "text": [
      "       Name        Age      City        Salary        Date Category  \\\n",
      "3     David  28.000000     Paris  46022.000000  2023-01-04        A   \n",
      "12    Grace  29.000000    Berlin  57141.000000  2023-01-07      NaN   \n",
      "9      Jack  31.000000    London  58725.000000  2023-01-10        B   \n",
      "11     Jack  31.000000    London  58725.000000  2023-01-10        B   \n",
      "8      Ivan  37.000000     Tokyo  87016.000000  2023-01-09        A   \n",
      "10     Ivan  37.000000     Tokyo  87016.000000  2023-01-09        A   \n",
      "0     Alice  45.000000  New York  95445.000000  2023-01-01        A   \n",
      "6     Grace  45.538462    Berlin  57141.000000  2023-01-07        C   \n",
      "4       Eva  49.000000    Berlin  65999.000000  2023-01-05        B   \n",
      "1       Bob  58.000000    London  86235.000000  2023-01-02        B   \n",
      "13   Hannah  60.000000  New York  70425.230769  2023-01-08        B   \n",
      "7    Hannah  60.000000  New York  65413.000000  2023-01-08        B   \n",
      "2   Charlie  60.000000     Tokyo  62330.000000  2023-01-03        C   \n",
      "5     Frank  67.000000     Paris  88320.000000  2023-01-06        A   \n",
      "\n",
      "    Age_float           Sum  Status  \n",
      "3   28.000000  46050.000000  Junior  \n",
      "12  29.000000  57170.000000  Junior  \n",
      "9   31.000000  58756.000000  Junior  \n",
      "11  31.000000  58756.000000  Junior  \n",
      "8   37.000000  87053.000000  Junior  \n",
      "10  37.000000  87053.000000  Junior  \n",
      "0   45.000000  95490.000000  Junior  \n",
      "6   45.538462  57186.538462  Junior  \n",
      "4   49.000000  66048.000000  Junior  \n",
      "1   58.000000  86293.000000  Senior  \n",
      "13  60.000000  70485.230769  Senior  \n",
      "7   60.000000  65473.000000  Senior  \n",
      "2   60.000000  62390.000000  Senior  \n",
      "5   67.000000  88387.000000  Senior  \n"
     ]
    }
   ],
   "source": [
    "# Sort the DataFrame first by 'Age' in ascending order,\n",
    "# then by 'Salary' in descending order for rows with the same Age\n",
    "sorted_df = csv.sort_values(by=[\"Age\", \"Salary\"], ascending=[True, False])\n",
    "\n",
    "# Display the sorted DataFrame\n",
    "print(sorted_df)"
   ]
  },
  {
   "cell_type": "markdown",
   "id": "9ae9b0f9",
   "metadata": {},
   "source": [
    "### 63. Sort a DataFrame in descending order."
   ]
  },
  {
   "cell_type": "code",
   "execution_count": null,
   "id": "146bf384",
   "metadata": {},
   "outputs": [
    {
     "name": "stdout",
     "output_type": "stream",
     "text": [
      "       Name        Age      City        Salary        Date Category  \\\n",
      "5     Frank  67.000000     Paris  88320.000000  2023-01-06        A   \n",
      "2   Charlie  60.000000     Tokyo  62330.000000  2023-01-03        C   \n",
      "7    Hannah  60.000000  New York  65413.000000  2023-01-08        B   \n",
      "13   Hannah  60.000000  New York  70425.230769  2023-01-08        B   \n",
      "1       Bob  58.000000    London  86235.000000  2023-01-02        B   \n",
      "4       Eva  49.000000    Berlin  65999.000000  2023-01-05        B   \n",
      "6     Grace  45.538462    Berlin  57141.000000  2023-01-07        C   \n",
      "0     Alice  45.000000  New York  95445.000000  2023-01-01        A   \n",
      "8      Ivan  37.000000     Tokyo  87016.000000  2023-01-09        A   \n",
      "10     Ivan  37.000000     Tokyo  87016.000000  2023-01-09        A   \n",
      "9      Jack  31.000000    London  58725.000000  2023-01-10        B   \n",
      "11     Jack  31.000000    London  58725.000000  2023-01-10        B   \n",
      "12    Grace  29.000000    Berlin  57141.000000  2023-01-07      NaN   \n",
      "3     David  28.000000     Paris  46022.000000  2023-01-04        A   \n",
      "\n",
      "    Age_float           Sum  Status  \n",
      "5   67.000000  88387.000000  Senior  \n",
      "2   60.000000  62390.000000  Senior  \n",
      "7   60.000000  65473.000000  Senior  \n",
      "13  60.000000  70485.230769  Senior  \n",
      "1   58.000000  86293.000000  Senior  \n",
      "4   49.000000  66048.000000  Junior  \n",
      "6   45.538462  57186.538462  Junior  \n",
      "0   45.000000  95490.000000  Junior  \n",
      "8   37.000000  87053.000000  Junior  \n",
      "10  37.000000  87053.000000  Junior  \n",
      "9   31.000000  58756.000000  Junior  \n",
      "11  31.000000  58756.000000  Junior  \n",
      "12  29.000000  57170.000000  Junior  \n",
      "3   28.000000  46050.000000  Junior  \n"
     ]
    }
   ],
   "source": [
    "# Sort the DataFrame by the 'Age' column in descending order\n",
    "sorted_df = csv.sort_values(by=\"Age\", ascending=False)\n",
    "\n",
    "# Display the sorted DataFrame\n",
    "print(sorted_df)"
   ]
  },
  {
   "cell_type": "markdown",
   "id": "252c010f",
   "metadata": {},
   "source": [
    "### 64. Rank values in a column."
   ]
  },
  {
   "cell_type": "code",
   "execution_count": null,
   "id": "ff3a020f",
   "metadata": {},
   "outputs": [
    {
     "name": "stdout",
     "output_type": "stream",
     "text": [
      "0      8.0\n",
      "1      5.0\n",
      "2      3.0\n",
      "3     14.0\n",
      "4      6.0\n",
      "5      1.0\n",
      "6      7.0\n",
      "7      3.0\n",
      "8      9.5\n",
      "9     11.5\n",
      "10     9.5\n",
      "11    11.5\n",
      "12    13.0\n",
      "13     3.0\n",
      "Name: Rank, dtype: float64\n"
     ]
    }
   ],
   "source": [
    "# Rank the values in the 'Age' column in descending order\n",
    "# method=\"average\" assigns the average rank to tied values\n",
    "csv[\"Rank\"] = csv[\"Age\"].rank(ascending=False, method=\"average\")\n",
    "\n",
    "# Display the Rank column\n",
    "print(csv[\"Rank\"])"
   ]
  },
  {
   "cell_type": "markdown",
   "id": "ee8ea63e",
   "metadata": {},
   "source": [
    "### 65. Get the row with the highest value in a specific column."
   ]
  },
  {
   "cell_type": "code",
   "execution_count": null,
   "id": "029e740e",
   "metadata": {},
   "outputs": [
    {
     "name": "stdout",
     "output_type": "stream",
     "text": [
      "Name              Frank\n",
      "Age                67.0\n",
      "City              Paris\n",
      "Salary          88320.0\n",
      "Date         2023-01-06\n",
      "Category              A\n",
      "Age_float          67.0\n",
      "Sum             88387.0\n",
      "Status           Senior\n",
      "Rank                1.0\n",
      "Name: 5, dtype: object\n"
     ]
    }
   ],
   "source": [
    "# Find the index of the row where the 'Age' column has the highest value\n",
    "# Then use .loc[] to retrieve the entire row\n",
    "row_with_max_age = csv.loc[csv[\"Age\"].idxmax()]\n",
    "\n",
    "# Display the row with the highest age\n",
    "print(row_with_max_age)\n"
   ]
  },
  {
   "cell_type": "code",
   "execution_count": null,
   "id": "cb15242b",
   "metadata": {},
   "outputs": [
    {
     "name": "stdout",
     "output_type": "stream",
     "text": [
      "    Name   Age   City   Salary        Date Category  Age_float      Sum  \\\n",
      "5  Frank  67.0  Paris  88320.0  2023-01-06        A       67.0  88387.0   \n",
      "\n",
      "   Status  Rank  \n",
      "5  Senior   1.0  \n"
     ]
    }
   ],
   "source": [
    "# Get the row with the highest value in the 'Age' column using nlargest()\n",
    "# nlargest(n, column) returns the top 'n' rows with the largest values in the specified column\n",
    "top_age_row = csv.nlargest(1, \"Age\")\n",
    "\n",
    "# Display the row with the highest age\n",
    "print(top_age_row)"
   ]
  },
  {
   "cell_type": "code",
   "execution_count": null,
   "id": "d296a838",
   "metadata": {},
   "outputs": [
    {
     "name": "stdout",
     "output_type": "stream",
     "text": [
      "Name              Frank\n",
      "Age                67.0\n",
      "City              Paris\n",
      "Salary          88320.0\n",
      "Date         2023-01-06\n",
      "Category              A\n",
      "Age_float          67.0\n",
      "Sum             88387.0\n",
      "Status           Senior\n",
      "Rank                1.0\n",
      "Name: 5, dtype: object\n"
     ]
    }
   ],
   "source": [
    "# Sort the DataFrame by the 'Age' column in descending order\n",
    "# Then, select the first row (which will have the highest age)\n",
    "top_age_row = csv.sort_values(by=\"Age\", ascending=False).iloc[0]\n",
    "\n",
    "# Display the row with the highest age\n",
    "print(top_age_row)"
   ]
  },
  {
   "cell_type": "markdown",
   "id": "8fa4d242",
   "metadata": {},
   "source": [
    "### 66. Get the row with the lowest value in a specific column."
   ]
  },
  {
   "cell_type": "code",
   "execution_count": null,
   "id": "e5f77140",
   "metadata": {},
   "outputs": [
    {
     "name": "stdout",
     "output_type": "stream",
     "text": [
      "Name              David\n",
      "Age                28.0\n",
      "City              Paris\n",
      "Salary          46022.0\n",
      "Date         2023-01-04\n",
      "Category              A\n",
      "Age_float          28.0\n",
      "Sum             46050.0\n",
      "Status           Junior\n",
      "Rank               14.0\n",
      "Name: 3, dtype: object\n"
     ]
    }
   ],
   "source": [
    "# Sort the DataFrame by the 'Age' column in ascending order\n",
    "# Then, select the first row (which will have the lowest age)\n",
    "lowest_age_row = csv.sort_values(by=\"Age\", ascending=True).iloc[0]\n",
    "\n",
    "# Display the row with the lowest age\n",
    "print(lowest_age_row)"
   ]
  },
  {
   "cell_type": "markdown",
   "id": "a9db6288",
   "metadata": {},
   "source": [
    "### 67. Shuffle the rows of a DataFrame randomly."
   ]
  },
  {
   "cell_type": "code",
   "execution_count": null,
   "id": "edb3ba98",
   "metadata": {},
   "outputs": [
    {
     "name": "stdout",
     "output_type": "stream",
     "text": [
      "       Name        Age      City        Salary        Date Category  \\\n",
      "0      Jack  31.000000    London  58725.000000  2023-01-10        B   \n",
      "1      Jack  31.000000    London  58725.000000  2023-01-10        B   \n",
      "2     Alice  45.000000  New York  95445.000000  2023-01-01        A   \n",
      "3     Grace  29.000000    Berlin  57141.000000  2023-01-07      NaN   \n",
      "4     Frank  67.000000     Paris  88320.000000  2023-01-06        A   \n",
      "5      Ivan  37.000000     Tokyo  87016.000000  2023-01-09        A   \n",
      "6   Charlie  60.000000     Tokyo  62330.000000  2023-01-03        C   \n",
      "7       Bob  58.000000    London  86235.000000  2023-01-02        B   \n",
      "8    Hannah  60.000000  New York  70425.230769  2023-01-08        B   \n",
      "9       Eva  49.000000    Berlin  65999.000000  2023-01-05        B   \n",
      "10   Hannah  60.000000  New York  65413.000000  2023-01-08        B   \n",
      "11     Ivan  37.000000     Tokyo  87016.000000  2023-01-09        A   \n",
      "12    David  28.000000     Paris  46022.000000  2023-01-04        A   \n",
      "13    Grace  45.538462    Berlin  57141.000000  2023-01-07        C   \n",
      "\n",
      "    Age_float           Sum  Status  Rank  \n",
      "0   31.000000  58756.000000  Junior  11.5  \n",
      "1   31.000000  58756.000000  Junior  11.5  \n",
      "2   45.000000  95490.000000  Junior   8.0  \n",
      "3   29.000000  57170.000000  Junior  13.0  \n",
      "4   67.000000  88387.000000  Senior   1.0  \n",
      "5   37.000000  87053.000000  Junior   9.5  \n",
      "6   60.000000  62390.000000  Senior   3.0  \n",
      "7   58.000000  86293.000000  Senior   5.0  \n",
      "8   60.000000  70485.230769  Senior   3.0  \n",
      "9   49.000000  66048.000000  Junior   6.0  \n",
      "10  60.000000  65473.000000  Senior   3.0  \n",
      "11  37.000000  87053.000000  Junior   9.5  \n",
      "12  28.000000  46050.000000  Junior  14.0  \n",
      "13  45.538462  57186.538462  Junior   7.0  \n"
     ]
    }
   ],
   "source": [
    "# Shuffle the rows of the DataFrame randomly\n",
    "# frac=1 means shuffle all the rows, random_state=42 ensures reproducibility\n",
    "# reset_index(drop=True) resets the index and drops the old index to avoid it being added as a new column\n",
    "shuffled_df = csv.sample(frac=1, random_state=42).reset_index(drop=True)\n",
    "\n",
    "# Display the shuffled DataFrame\n",
    "print(shuffled_df)"
   ]
  },
  {
   "cell_type": "markdown",
   "id": "c7066c12",
   "metadata": {},
   "source": [
    "### 68. Reset the index of a DataFrame."
   ]
  },
  {
   "cell_type": "code",
   "execution_count": null,
   "id": "ae62b370",
   "metadata": {},
   "outputs": [
    {
     "name": "stdout",
     "output_type": "stream",
     "text": [
      "       Name        Age      City        Salary        Date Category  \\\n",
      "0     Alice  45.000000  New York  95445.000000  2023-01-01        A   \n",
      "1       Bob  58.000000    London  86235.000000  2023-01-02        B   \n",
      "2   Charlie  60.000000     Tokyo  62330.000000  2023-01-03        C   \n",
      "3     David  28.000000     Paris  46022.000000  2023-01-04        A   \n",
      "4       Eva  49.000000    Berlin  65999.000000  2023-01-05        B   \n",
      "5     Frank  67.000000     Paris  88320.000000  2023-01-06        A   \n",
      "6     Grace  45.538462    Berlin  57141.000000  2023-01-07        C   \n",
      "7    Hannah  60.000000  New York  65413.000000  2023-01-08        B   \n",
      "8      Ivan  37.000000     Tokyo  87016.000000  2023-01-09        A   \n",
      "9      Jack  31.000000    London  58725.000000  2023-01-10        B   \n",
      "10     Ivan  37.000000     Tokyo  87016.000000  2023-01-09        A   \n",
      "11     Jack  31.000000    London  58725.000000  2023-01-10        B   \n",
      "12    Grace  29.000000    Berlin  57141.000000  2023-01-07      NaN   \n",
      "13   Hannah  60.000000  New York  70425.230769  2023-01-08        B   \n",
      "\n",
      "    Age_float           Sum  Status  Rank  \n",
      "0   45.000000  95490.000000  Junior   8.0  \n",
      "1   58.000000  86293.000000  Senior   5.0  \n",
      "2   60.000000  62390.000000  Senior   3.0  \n",
      "3   28.000000  46050.000000  Junior  14.0  \n",
      "4   49.000000  66048.000000  Junior   6.0  \n",
      "5   67.000000  88387.000000  Senior   1.0  \n",
      "6   45.538462  57186.538462  Junior   7.0  \n",
      "7   60.000000  65473.000000  Senior   3.0  \n",
      "8   37.000000  87053.000000  Junior   9.5  \n",
      "9   31.000000  58756.000000  Junior  11.5  \n",
      "10  37.000000  87053.000000  Junior   9.5  \n",
      "11  31.000000  58756.000000  Junior  11.5  \n",
      "12  29.000000  57170.000000  Junior  13.0  \n",
      "13  60.000000  70485.230769  Senior   3.0  \n"
     ]
    }
   ],
   "source": [
    "# Reset the index of the DataFrame\n",
    "# drop=True ensures that the old index is not added as a new column in the DataFrame\n",
    "reset_df = csv.reset_index(drop=True)\n",
    "\n",
    "# Display the DataFrame with reset index\n",
    "print(reset_df)"
   ]
  },
  {
   "cell_type": "markdown",
   "id": "0d3440ff",
   "metadata": {},
   "source": [
    "### 69. Set a column as the index of a DataFrame."
   ]
  },
  {
   "cell_type": "code",
   "execution_count": null,
   "id": "38e0ee6a",
   "metadata": {},
   "outputs": [
    {
     "name": "stdout",
     "output_type": "stream",
     "text": [
      "              Name      City        Salary        Date Category  Age_float  \\\n",
      "Age                                                                          \n",
      "45.000000    Alice  New York  95445.000000  2023-01-01        A  45.000000   \n",
      "58.000000      Bob    London  86235.000000  2023-01-02        B  58.000000   \n",
      "60.000000  Charlie     Tokyo  62330.000000  2023-01-03        C  60.000000   \n",
      "28.000000    David     Paris  46022.000000  2023-01-04        A  28.000000   \n",
      "49.000000      Eva    Berlin  65999.000000  2023-01-05        B  49.000000   \n",
      "67.000000    Frank     Paris  88320.000000  2023-01-06        A  67.000000   \n",
      "45.538462    Grace    Berlin  57141.000000  2023-01-07        C  45.538462   \n",
      "60.000000   Hannah  New York  65413.000000  2023-01-08        B  60.000000   \n",
      "37.000000     Ivan     Tokyo  87016.000000  2023-01-09        A  37.000000   \n",
      "31.000000     Jack    London  58725.000000  2023-01-10        B  31.000000   \n",
      "37.000000     Ivan     Tokyo  87016.000000  2023-01-09        A  37.000000   \n",
      "31.000000     Jack    London  58725.000000  2023-01-10        B  31.000000   \n",
      "29.000000    Grace    Berlin  57141.000000  2023-01-07      NaN  29.000000   \n",
      "60.000000   Hannah  New York  70425.230769  2023-01-08        B  60.000000   \n",
      "\n",
      "                    Sum  Status  Rank  \n",
      "Age                                    \n",
      "45.000000  95490.000000  Junior   8.0  \n",
      "58.000000  86293.000000  Senior   5.0  \n",
      "60.000000  62390.000000  Senior   3.0  \n",
      "28.000000  46050.000000  Junior  14.0  \n",
      "49.000000  66048.000000  Junior   6.0  \n",
      "67.000000  88387.000000  Senior   1.0  \n",
      "45.538462  57186.538462  Junior   7.0  \n",
      "60.000000  65473.000000  Senior   3.0  \n",
      "37.000000  87053.000000  Junior   9.5  \n",
      "31.000000  58756.000000  Junior  11.5  \n",
      "37.000000  87053.000000  Junior   9.5  \n",
      "31.000000  58756.000000  Junior  11.5  \n",
      "29.000000  57170.000000  Junior  13.0  \n",
      "60.000000  70485.230769  Senior   3.0  \n"
     ]
    }
   ],
   "source": [
    "# Set the 'Age' column as the index of the DataFrame\n",
    "# The original 'Age' column will be removed from the DataFrame and become the index\n",
    "set_index_df = csv.set_index(\"Age\")\n",
    "\n",
    "# Display the DataFrame with 'Age' set as the index\n",
    "print(set_index_df)"
   ]
  },
  {
   "cell_type": "markdown",
   "id": "dae1bb2e",
   "metadata": {},
   "source": [
    "### 70. Sort index values in a DataFrame."
   ]
  },
  {
   "cell_type": "code",
   "execution_count": 58,
   "id": "19674b1e",
   "metadata": {},
   "outputs": [
    {
     "name": "stdout",
     "output_type": "stream",
     "text": [
      "       Name   Age      City   Salary        Date Category  Status\n",
      "0     Alice  45.0  New York  95445.0  2023-01-01        A  Junior\n",
      "1       Bob  58.0    London  86235.0  2023-01-02        B  Senior\n",
      "2   Charlie  60.0     Tokyo  62330.0  2023-01-03        C  Senior\n",
      "3     David  28.0     Paris  46022.0  2023-01-04        A  Junior\n",
      "4       Eva  49.0    Berlin  65999.0  2023-01-05        B  Junior\n",
      "5     Frank  67.0     Paris  88320.0  2023-01-06        A  Senior\n",
      "6     Grace   NaN    Berlin  57141.0  2023-01-07        C  Junior\n",
      "7    Hannah  60.0  New York  65413.0  2023-01-08        B  Senior\n",
      "8      Ivan  37.0     Tokyo  87016.0  2023-01-09        A  Junior\n",
      "9      Jack  31.0    London  58725.0  2023-01-10        B  Junior\n",
      "10     Ivan  37.0     Tokyo  87016.0  2023-01-09        A  Junior\n",
      "11     Jack  31.0    London  58725.0  2023-01-10        B  Junior\n",
      "12    Grace  29.0    Berlin  57141.0  2023-01-07      NaN  Junior\n",
      "13   Hannah  60.0  New York      NaN  2023-01-08        B  Senior\n"
     ]
    }
   ],
   "source": [
    "# Sort the DataFrame based on the index in ascending order\n",
    "# The default sorting order is ascending\n",
    "sorted_by_index = csv.sort_index()\n",
    "\n",
    "# Display the DataFrame with sorted index\n",
    "print(sorted_by_index)"
   ]
  },
  {
   "cell_type": "markdown",
   "id": "e2e155ce",
   "metadata": {},
   "source": [
    "### 71. Plot a simple line chart from a DataFrame."
   ]
  },
  {
   "cell_type": "code",
   "execution_count": 59,
   "id": "fc5a5dcb",
   "metadata": {},
   "outputs": [
    {
     "data": {
      "image/png": "[encoded data removed]",
      "text/plain": [
       "<Figure size 640x480 with 1 Axes>"
      ]
     },
     "metadata": {},
     "output_type": "display_data"
    }
   ],
   "source": [
    "import matplotlib.pyplot as plt\n",
    "\n",
    "# Sample data\n",
    "data = {\n",
    "    'Month': ['Jan', 'Feb', 'Mar', 'Apr', 'May', 'Jun'],\n",
    "    'Sales': [100, 150, 200, 250, 300, 350]\n",
    "}\n",
    "\n",
    "# Create a DataFrame\n",
    "df = pd.DataFrame(data)\n",
    "\n",
    "# Plot a simple line chart\n",
    "df.plot(x='Month', y='Sales', kind='line', marker='o')\n",
    "\n",
    "# Add title and labels\n",
    "plt.title('Sales Trend Over 6 Months')\n",
    "plt.xlabel('Month')\n",
    "plt.ylabel('Sales')\n",
    "\n",
    "# Display the plot\n",
    "plt.show()"
   ]
  },
  {
   "cell_type": "markdown",
   "id": "606bcd67",
   "metadata": {},
   "source": [
    "### 72. Create a bar plot for a categorical column."
   ]
  },
  {
   "cell_type": "code",
   "execution_count": 60,
   "id": "00cc9ab5",
   "metadata": {},
   "outputs": [
    {
     "data": {
      "image/png": "[encoded data removed]",
      "text/plain": [
       "<Figure size 640x480 with 1 Axes>"
      ]
     },
     "metadata": {},
     "output_type": "display_data"
    }
   ],
   "source": [
    "import matplotlib.pyplot as plt\n",
    "\n",
    "# Sample data\n",
    "data = {\n",
    "    'Category': ['A', 'B', 'C', 'A', 'B', 'C', 'A', 'B', 'C'],\n",
    "    'Count': [3, 5, 2, 4, 6, 3, 7, 2, 5]\n",
    "}\n",
    "\n",
    "# Create a DataFrame\n",
    "df = pd.DataFrame(data)\n",
    "\n",
    "# Create a bar plot for the 'Category' column\n",
    "df.groupby('Category')['Count'].sum().plot(kind='bar', color='skyblue')\n",
    "\n",
    "# Add title and labels\n",
    "plt.title('Category-wise Count')\n",
    "plt.xlabel('Category')\n",
    "plt.ylabel('Count')\n",
    "\n",
    "# Display the plot\n",
    "plt.show()"
   ]
  },
  {
   "cell_type": "markdown",
   "id": "b0e77bd3",
   "metadata": {},
   "source": [
    "### 73. Generate a histogram for a numerical column."
   ]
  },
  {
   "cell_type": "code",
   "execution_count": 61,
   "id": "c36276bc",
   "metadata": {},
   "outputs": [
    {
     "data": {
      "image/png": "[encoded data removed]",
      "text/plain": [
       "<Figure size 640x480 with 1 Axes>"
      ]
     },
     "metadata": {},
     "output_type": "display_data"
    }
   ],
   "source": [
    "import matplotlib.pyplot as plt\n",
    "\n",
    "# Sample data\n",
    "data = {\n",
    "    'Age': [25, 30, 35, 40, 45, 50, 55, 60, 65, 70, 75, 80]\n",
    "}\n",
    "\n",
    "# Create a DataFrame\n",
    "df = pd.DataFrame(data)\n",
    "\n",
    "# Plot the histogram for the 'Age' column\n",
    "df['Age'].plot(kind='hist', bins=10, color='skyblue', edgecolor='black')\n",
    "\n",
    "# Add title and labels\n",
    "plt.title('Distribution of Age')\n",
    "plt.xlabel('Age')\n",
    "plt.ylabel('Frequency')\n",
    "\n",
    "# Display the plot\n",
    "plt.show()"
   ]
  },
  {
   "cell_type": "markdown",
   "id": "a8c325c6",
   "metadata": {},
   "source": [
    "### 74. Create a scatter plot between two numerical columns."
   ]
  },
  {
   "cell_type": "code",
   "execution_count": 62,
   "id": "5bd8781d",
   "metadata": {},
   "outputs": [
    {
     "data": {
      "image/png": "[encoded data removed]",
      "text/plain": [
       "<Figure size 640x480 with 1 Axes>"
      ]
     },
     "metadata": {},
     "output_type": "display_data"
    }
   ],
   "source": [
    "import matplotlib.pyplot as plt\n",
    "\n",
    "# Sample data\n",
    "data = {\n",
    "    'Age': [25, 30, 35, 40, 45, 50, 55, 60, 65, 70],\n",
    "    'Salary': [50000, 55000, 60000, 65000, 70000, 75000, 80000, 85000, 90000, 95000]\n",
    "}\n",
    "\n",
    "# Create a DataFrame\n",
    "df = pd.DataFrame(data)\n",
    "\n",
    "# Create a scatter plot between 'Age' and 'Salary'\n",
    "df.plot(kind='scatter', x='Age', y='Salary', color='green')\n",
    "\n",
    "# Add title and labels\n",
    "plt.title('Scatter Plot between Age and Salary')\n",
    "plt.xlabel('Age')\n",
    "plt.ylabel('Salary')\n",
    "\n",
    "# Display the plot\n",
    "plt.show()"
   ]
  },
  {
   "cell_type": "markdown",
   "id": "ff96c18f",
   "metadata": {},
   "source": [
    "### 75. Generate a box plot for a column."
   ]
  },
  {
   "cell_type": "code",
   "execution_count": 63,
   "id": "fcffea40",
   "metadata": {},
   "outputs": [
    {
     "data": {
      "image/png": "[encoded data removed]",
      "text/plain": [
       "<Figure size 640x480 with 1 Axes>"
      ]
     },
     "metadata": {},
     "output_type": "display_data"
    }
   ],
   "source": [
    "import matplotlib.pyplot as plt\n",
    "\n",
    "# Sample data\n",
    "data = {\n",
    "    'Age': [25, 30, 35, 40, 45, 50, 55, 60, 65, 70],\n",
    "    'Salary': [50000, 55000, 60000, 65000, 70000, 75000, 80000, 85000, 90000, 95000]\n",
    "}\n",
    "\n",
    "# Create a DataFrame\n",
    "df = pd.DataFrame(data)\n",
    "\n",
    "# Create a box plot for the 'Salary' column\n",
    "df.boxplot(column='Salary', grid=False)\n",
    "\n",
    "# Add title and labels\n",
    "plt.title('Box Plot of Salary')\n",
    "plt.ylabel('Salary')\n",
    "\n",
    "# Display the plot\n",
    "plt.show()"
   ]
  },
  {
   "cell_type": "markdown",
   "id": "c59aae96",
   "metadata": {},
   "source": [
    "### 76. Create a pie chart using Pandas."
   ]
  },
  {
   "cell_type": "code",
   "execution_count": 64,
   "id": "e8df2142",
   "metadata": {},
   "outputs": [
    {
     "data": {
      "image/png": "[encoded data removed]",
      "text/plain": [
       "<Figure size 800x800 with 1 Axes>"
      ]
     },
     "metadata": {},
     "output_type": "display_data"
    }
   ],
   "source": [
    "import matplotlib.pyplot as plt\n",
    "\n",
    "# Sample data for a categorical column\n",
    "data = {\n",
    "    'City': ['New York', 'London', 'Paris', 'Berlin', 'Tokyo'],\n",
    "    'Population': [8419600, 8982000, 2148000, 3769000, 13929286]\n",
    "}\n",
    "\n",
    "# Create a DataFrame\n",
    "df = pd.DataFrame(data)\n",
    "\n",
    "# Create a pie chart for the 'Population' column, using 'City' as labels\n",
    "df.set_index('City')['Population'].plot(kind='pie', autopct='%1.1f%%', figsize=(8, 8), legend=False)\n",
    "\n",
    "# Add a title\n",
    "plt.title('City Population Distribution')\n",
    "\n",
    "# Display the plot\n",
    "plt.show()"
   ]
  },
  {
   "cell_type": "markdown",
   "id": "32567f4d",
   "metadata": {},
   "source": [
    "### 77. Visualize the correlation matrix of a DataFrame."
   ]
  },
  {
   "cell_type": "code",
   "execution_count": 65,
   "id": "0fe3f4e8",
   "metadata": {},
   "outputs": [
    {
     "data": {
      "image/png": "[encoded data removed]",
      "text/plain": [
       "<Figure size 800x600 with 2 Axes>"
      ]
     },
     "metadata": {},
     "output_type": "display_data"
    }
   ],
   "source": [
    "import pandas as pd\n",
    "import seaborn as sns\n",
    "import matplotlib.pyplot as plt\n",
    "\n",
    "# Sample data for a DataFrame\n",
    "data = {\n",
    "    'Age': [25, 30, 35, 40, 45],\n",
    "    'Salary': [50000, 60000, 70000, 80000, 90000],\n",
    "    'Experience': [1, 5, 10, 15, 20]\n",
    "}\n",
    "\n",
    "# Create a DataFrame\n",
    "df = pd.DataFrame(data)\n",
    "\n",
    "# Calculate the correlation matrix\n",
    "correlation_matrix = df.corr()\n",
    "\n",
    "# Set up the matplotlib figure\n",
    "plt.figure(figsize=(8, 6))\n",
    "\n",
    "# Create a heatmap using seaborn\n",
    "sns.heatmap(correlation_matrix, annot=True, cmap='coolwarm', fmt='.2f', cbar=True)\n",
    "\n",
    "# Add a title\n",
    "plt.title('Correlation Matrix')\n",
    "\n",
    "# Display the plot\n",
    "plt.show()"
   ]
  },
  {
   "cell_type": "markdown",
   "id": "642ff4fb",
   "metadata": {},
   "source": [
    "### 78. Plot multiple line charts in a single figure."
   ]
  },
  {
   "cell_type": "code",
   "execution_count": 66,
   "id": "77919520",
   "metadata": {},
   "outputs": [
    {
     "data": {
      "image/png": "[encoded data removed]",
      "text/plain": [
       "<Figure size 1000x600 with 1 Axes>"
      ]
     },
     "metadata": {},
     "output_type": "display_data"
    }
   ],
   "source": [
    "import pandas as pd\n",
    "import matplotlib.pyplot as plt\n",
    "\n",
    "# Sample data for a DataFrame\n",
    "data = {\n",
    "    'Year': [2015, 2016, 2017, 2018, 2019],\n",
    "    'Revenue': [100, 120, 150, 170, 200],\n",
    "    'Profit': [20, 30, 40, 50, 60]\n",
    "}\n",
    "\n",
    "# Create a DataFrame\n",
    "df = pd.DataFrame(data)\n",
    "\n",
    "# Create a figure and axis\n",
    "plt.figure(figsize=(10, 6))\n",
    "\n",
    "# Plot multiple line charts\n",
    "plt.plot(df['Year'], df['Revenue'], label='Revenue', color='blue', marker='o')\n",
    "plt.plot(df['Year'], df['Profit'], label='Profit', color='green', marker='o')\n",
    "\n",
    "# Add title and labels\n",
    "plt.title('Revenue and Profit Over Time')\n",
    "plt.xlabel('Year')\n",
    "plt.ylabel('Amount')\n",
    "\n",
    "# Show legend\n",
    "plt.legend()\n",
    "\n",
    "# Display the plot\n",
    "plt.show()"
   ]
  },
  {
   "cell_type": "markdown",
   "id": "12101641",
   "metadata": {},
   "source": [
    "### 79. Change the style and color of a plot."
   ]
  },
  {
   "cell_type": "code",
   "execution_count": 67,
   "id": "8b64bf6f",
   "metadata": {},
   "outputs": [
    {
     "data": {
      "image/png": "[encoded data removed]",
      "text/plain": [
       "<Figure size 1000x600 with 1 Axes>"
      ]
     },
     "metadata": {},
     "output_type": "display_data"
    }
   ],
   "source": [
    "import pandas as pd\n",
    "import matplotlib.pyplot as plt\n",
    "\n",
    "# Sample data for a DataFrame\n",
    "data = {\n",
    "    'Year': [2015, 2016, 2017, 2018, 2019],\n",
    "    'Revenue': [100, 120, 150, 170, 200],\n",
    "    'Profit': [20, 30, 40, 50, 60]\n",
    "}\n",
    "\n",
    "# Create a DataFrame\n",
    "df = pd.DataFrame(data)\n",
    "\n",
    "# Create a figure and axis\n",
    "plt.figure(figsize=(10, 6))\n",
    "\n",
    "# Plot with different styles and colors\n",
    "# Revenue line with dashed blue line and square markers\n",
    "plt.plot(df['Year'], df['Revenue'], label='Revenue', color='blue', linestyle='--', marker='s', markersize=8)\n",
    "\n",
    "# Profit line with solid red line and circular markers\n",
    "plt.plot(df['Year'], df['Profit'], label='Profit', color='red', linestyle='-', marker='o', markersize=6)\n",
    "\n",
    "# Add title and labels\n",
    "plt.title('Revenue and Profit Over Time', fontsize=16)\n",
    "plt.xlabel('Year', fontsize=12)\n",
    "plt.ylabel('Amount', fontsize=12)\n",
    "\n",
    "# Show legend\n",
    "plt.legend()\n",
    "\n",
    "# Display the plot\n",
    "plt.show()"
   ]
  },
  {
   "cell_type": "markdown",
   "id": "25a5002e",
   "metadata": {},
   "source": [
    "### 80. Save a plot as an image file."
   ]
  },
  {
   "cell_type": "code",
   "execution_count": 68,
   "id": "ee273d58",
   "metadata": {},
   "outputs": [
    {
     "data": {
      "image/png": "[encoded data removed]",
      "text/plain": [
       "<Figure size 1000x600 with 1 Axes>"
      ]
     },
     "metadata": {},
     "output_type": "display_data"
    }
   ],
   "source": [
    "import pandas as pd\n",
    "import matplotlib.pyplot as plt\n",
    "\n",
    "# Sample data for a DataFrame\n",
    "data = {\n",
    "    'Year': [2015, 2016, 2017, 2018, 2019],\n",
    "    'Revenue': [100, 120, 150, 170, 200],\n",
    "    'Profit': [20, 30, 40, 50, 60]\n",
    "}\n",
    "\n",
    "# Create a DataFrame\n",
    "df = pd.DataFrame(data)\n",
    "\n",
    "# Create a figure and axis\n",
    "plt.figure(figsize=(10, 6))\n",
    "\n",
    "# Plot the data\n",
    "plt.plot(df['Year'], df['Revenue'], label='Revenue', color='blue', linestyle='--', marker='s', markersize=8)\n",
    "plt.plot(df['Year'], df['Profit'], label='Profit', color='red', linestyle='-', marker='o', markersize=6)\n",
    "\n",
    "# Add title and labels\n",
    "plt.title('Revenue and Profit Over Time', fontsize=16)\n",
    "plt.xlabel('Year', fontsize=12)\n",
    "plt.ylabel('Amount', fontsize=12)\n",
    "\n",
    "# Show legend\n",
    "plt.legend()\n",
    "\n",
    "# Save the plot as a PNG file\n",
    "plt.savefig('revenue_profit_plot.png', dpi=300, bbox_inches='tight')\n",
    "\n",
    "# Optionally display the plot\n",
    "plt.show()"
   ]
  },
  {
   "cell_type": "markdown",
   "id": "94bb4d28",
   "metadata": {},
   "source": [
    "### 81. Use a MultiIndex in a DataFrame."
   ]
  },
  {
   "cell_type": "code",
   "execution_count": 69,
   "id": "f6c510a7",
   "metadata": {},
   "outputs": [
    {
     "name": "stdout",
     "output_type": "stream",
     "text": [
      "  BMSCE     VIT    \n",
      "     ML DSA  ML DSA\n",
      "A     1   1   0   0\n",
      "B     0   0   1   1\n",
      "C     1   1   0   0\n",
      "D     0   0   1   1\n"
     ]
    },
    {
     "data": {
      "text/html": [
       "<div>\n",
       "<style scoped>\n",
       "    .dataframe tbody tr th:only-of-type {\n",
       "        vertical-align: middle;\n",
       "    }\n",
       "\n",
       "    .dataframe tbody tr th {\n",
       "        vertical-align: top;\n",
       "    }\n",
       "\n",
       "    .dataframe thead tr th {\n",
       "        text-align: left;\n",
       "    }\n",
       "</style>\n",
       "<table border=\"1\" class=\"dataframe\">\n",
       "  <thead>\n",
       "    <tr>\n",
       "      <th></th>\n",
       "      <th colspan=\"2\" halign=\"left\">BMSCE</th>\n",
       "      <th colspan=\"2\" halign=\"left\">VIT</th>\n",
       "    </tr>\n",
       "    <tr>\n",
       "      <th></th>\n",
       "      <th>ML</th>\n",
       "      <th>DSA</th>\n",
       "      <th>ML</th>\n",
       "      <th>DSA</th>\n",
       "    </tr>\n",
       "  </thead>\n",
       "  <tbody>\n",
       "    <tr>\n",
       "      <th>A</th>\n",
       "      <td>1</td>\n",
       "      <td>1</td>\n",
       "      <td>0</td>\n",
       "      <td>0</td>\n",
       "    </tr>\n",
       "    <tr>\n",
       "      <th>B</th>\n",
       "      <td>0</td>\n",
       "      <td>0</td>\n",
       "      <td>1</td>\n",
       "      <td>1</td>\n",
       "    </tr>\n",
       "    <tr>\n",
       "      <th>C</th>\n",
       "      <td>1</td>\n",
       "      <td>1</td>\n",
       "      <td>0</td>\n",
       "      <td>0</td>\n",
       "    </tr>\n",
       "    <tr>\n",
       "      <th>D</th>\n",
       "      <td>0</td>\n",
       "      <td>0</td>\n",
       "      <td>1</td>\n",
       "      <td>1</td>\n",
       "    </tr>\n",
       "  </tbody>\n",
       "</table>\n",
       "</div>"
      ],
      "text/plain": [
       "  BMSCE     VIT    \n",
       "     ML DSA  ML DSA\n",
       "A     1   1   0   0\n",
       "B     0   0   1   1\n",
       "C     1   1   0   0\n",
       "D     0   0   1   1"
      ]
     },
     "execution_count": 69,
     "metadata": {},
     "output_type": "execute_result"
    }
   ],
   "source": [
    "import pandas as pd\n",
    "\n",
    "# Creating a MultiIndex for columns\n",
    "multi_index = pd.MultiIndex.from_product([[\"BMSCE\", \"VIT\"], [\"ML\", \"DSA\"]])\n",
    "\n",
    "# Creating the DataFrame with MultiIndex columns\n",
    "dat = pd.DataFrame(\n",
    "    [\n",
    "        [1, 1, 0, 0],\n",
    "        [0, 0, 1, 1],\n",
    "        [1, 1, 0, 0],\n",
    "        [0, 0, 1, 1]\n",
    "    ],\n",
    "    index=[\"A\", \"B\", \"C\", \"D\"],\n",
    "    columns=multi_index\n",
    ")\n",
    "\n",
    "# Display the DataFrame\n",
    "print(dat)\n",
    "\n",
    "dat"
   ]
  },
  {
   "cell_type": "markdown",
   "id": "cdbfcaab",
   "metadata": {},
   "source": [
    "### 82. Work with time-series data and resample it."
   ]
  },
  {
   "cell_type": "code",
   "execution_count": 70,
   "id": "5be96b3b",
   "metadata": {},
   "outputs": [
    {
     "name": "stdout",
     "output_type": "stream",
     "text": [
      "Original DataFrame:\n",
      "            Sales\n",
      "Date             \n",
      "2024-03-01    100\n",
      "2024-03-02    120\n",
      "2024-03-03     90\n",
      "2024-03-04    150\n",
      "2024-03-05    180\n",
      "2024-03-06    130\n",
      "2024-03-07    170\n",
      "2024-03-08    200\n",
      "2024-03-09    190\n",
      "2024-03-10    160\n",
      "\n",
      "Resampled DataFrame (Weekly Average):\n",
      "                 Sales\n",
      "Date                  \n",
      "2024-03-03  103.333333\n",
      "2024-03-10  168.571429\n"
     ]
    }
   ],
   "source": [
    "# Sample time-series data\n",
    "data = {\n",
    "    'Date': pd.date_range(start='2024-03-01', periods=10, freq='D'),\n",
    "    'Sales': [100, 120, 90, 150, 180, 130, 170, 200, 190, 160]\n",
    "}\n",
    "\n",
    "# Creating the DataFrame\n",
    "df = pd.DataFrame(data)\n",
    "\n",
    "# Set 'Date' as the index\n",
    "df.set_index('Date', inplace=True)\n",
    "\n",
    "# Display the original DataFrame\n",
    "print(\"Original DataFrame:\")\n",
    "print(df)\n",
    "\n",
    "# Resampling the data to get weekly averages\n",
    "resampled_df = df.resample(\"W\").mean()\n",
    "\n",
    "# Display the resampled DataFrame\n",
    "print(\"\\nResampled DataFrame (Weekly Average):\")\n",
    "print(resampled_df)"
   ]
  },
  {
   "cell_type": "markdown",
   "id": "15bcb824",
   "metadata": {},
   "source": [
    "### 83. Calculate the rolling mean of a column."
   ]
  },
  {
   "cell_type": "code",
   "execution_count": 72,
   "id": "b6c8e15c",
   "metadata": {},
   "outputs": [
    {
     "data": {
      "text/plain": [
       "0      NaN\n",
       "1     51.5\n",
       "2     59.0\n",
       "3     44.0\n",
       "4     38.5\n",
       "5     58.0\n",
       "6      NaN\n",
       "7      NaN\n",
       "8     48.5\n",
       "9     34.0\n",
       "10    34.0\n",
       "11    34.0\n",
       "12    30.0\n",
       "13    44.5\n",
       "Name: Age, dtype: float64"
      ]
     },
     "execution_count": 72,
     "metadata": {},
     "output_type": "execute_result"
    }
   ],
   "source": [
    "# 'csv' is your DataFrame\n",
    "csv[\"Age\"].rolling(window=2).mean()"
   ]
  },
  {
   "cell_type": "markdown",
   "id": "74a29342",
   "metadata": {},
   "source": [
    "### 84. Perform cross-tabulation of two columns."
   ]
  },
  {
   "cell_type": "code",
   "execution_count": 74,
   "id": "f0f20b35",
   "metadata": {},
   "outputs": [
    {
     "data": {
      "text/html": [
       "<div>\n",
       "<style scoped>\n",
       "    .dataframe tbody tr th:only-of-type {\n",
       "        vertical-align: middle;\n",
       "    }\n",
       "\n",
       "    .dataframe tbody tr th {\n",
       "        vertical-align: top;\n",
       "    }\n",
       "\n",
       "    .dataframe thead th {\n",
       "        text-align: right;\n",
       "    }\n",
       "</style>\n",
       "<table border=\"1\" class=\"dataframe\">\n",
       "  <thead>\n",
       "    <tr style=\"text-align: right;\">\n",
       "      <th>City</th>\n",
       "      <th>Berlin</th>\n",
       "      <th>London</th>\n",
       "      <th>New York</th>\n",
       "      <th>Paris</th>\n",
       "      <th>Tokyo</th>\n",
       "    </tr>\n",
       "    <tr>\n",
       "      <th>Age</th>\n",
       "      <th></th>\n",
       "      <th></th>\n",
       "      <th></th>\n",
       "      <th></th>\n",
       "      <th></th>\n",
       "    </tr>\n",
       "  </thead>\n",
       "  <tbody>\n",
       "    <tr>\n",
       "      <th>28.0</th>\n",
       "      <td>0</td>\n",
       "      <td>0</td>\n",
       "      <td>0</td>\n",
       "      <td>1</td>\n",
       "      <td>0</td>\n",
       "    </tr>\n",
       "    <tr>\n",
       "      <th>29.0</th>\n",
       "      <td>1</td>\n",
       "      <td>0</td>\n",
       "      <td>0</td>\n",
       "      <td>0</td>\n",
       "      <td>0</td>\n",
       "    </tr>\n",
       "    <tr>\n",
       "      <th>31.0</th>\n",
       "      <td>0</td>\n",
       "      <td>2</td>\n",
       "      <td>0</td>\n",
       "      <td>0</td>\n",
       "      <td>0</td>\n",
       "    </tr>\n",
       "    <tr>\n",
       "      <th>37.0</th>\n",
       "      <td>0</td>\n",
       "      <td>0</td>\n",
       "      <td>0</td>\n",
       "      <td>0</td>\n",
       "      <td>2</td>\n",
       "    </tr>\n",
       "    <tr>\n",
       "      <th>45.0</th>\n",
       "      <td>0</td>\n",
       "      <td>0</td>\n",
       "      <td>1</td>\n",
       "      <td>0</td>\n",
       "      <td>0</td>\n",
       "    </tr>\n",
       "    <tr>\n",
       "      <th>49.0</th>\n",
       "      <td>1</td>\n",
       "      <td>0</td>\n",
       "      <td>0</td>\n",
       "      <td>0</td>\n",
       "      <td>0</td>\n",
       "    </tr>\n",
       "    <tr>\n",
       "      <th>58.0</th>\n",
       "      <td>0</td>\n",
       "      <td>1</td>\n",
       "      <td>0</td>\n",
       "      <td>0</td>\n",
       "      <td>0</td>\n",
       "    </tr>\n",
       "    <tr>\n",
       "      <th>60.0</th>\n",
       "      <td>0</td>\n",
       "      <td>0</td>\n",
       "      <td>2</td>\n",
       "      <td>0</td>\n",
       "      <td>1</td>\n",
       "    </tr>\n",
       "    <tr>\n",
       "      <th>67.0</th>\n",
       "      <td>0</td>\n",
       "      <td>0</td>\n",
       "      <td>0</td>\n",
       "      <td>1</td>\n",
       "      <td>0</td>\n",
       "    </tr>\n",
       "  </tbody>\n",
       "</table>\n",
       "</div>"
      ],
      "text/plain": [
       "City  Berlin  London  New York  Paris  Tokyo\n",
       "Age                                         \n",
       "28.0       0       0         0      1      0\n",
       "29.0       1       0         0      0      0\n",
       "31.0       0       2         0      0      0\n",
       "37.0       0       0         0      0      2\n",
       "45.0       0       0         1      0      0\n",
       "49.0       1       0         0      0      0\n",
       "58.0       0       1         0      0      0\n",
       "60.0       0       0         2      0      1\n",
       "67.0       0       0         0      1      0"
      ]
     },
     "execution_count": 74,
     "metadata": {},
     "output_type": "execute_result"
    }
   ],
   "source": [
    "# Assuming 'csv' is your DataFrame\n",
    "pd.crosstab(csv[\"Age\"], csv[\"City\"])"
   ]
  },
  {
   "cell_type": "markdown",
   "id": "7f86079b",
   "metadata": {},
   "source": [
    "### 85. Create a pivot table from a DataFrame."
   ]
  },
  {
   "cell_type": "code",
   "execution_count": 75,
   "id": "2c470655",
   "metadata": {},
   "outputs": [
    {
     "data": {
      "text/html": [
       "<div>\n",
       "<style scoped>\n",
       "    .dataframe tbody tr th:only-of-type {\n",
       "        vertical-align: middle;\n",
       "    }\n",
       "\n",
       "    .dataframe tbody tr th {\n",
       "        vertical-align: top;\n",
       "    }\n",
       "\n",
       "    .dataframe thead th {\n",
       "        text-align: right;\n",
       "    }\n",
       "</style>\n",
       "<table border=\"1\" class=\"dataframe\">\n",
       "  <thead>\n",
       "    <tr style=\"text-align: right;\">\n",
       "      <th>City</th>\n",
       "      <th>Berlin</th>\n",
       "      <th>London</th>\n",
       "      <th>New York</th>\n",
       "      <th>Paris</th>\n",
       "      <th>Tokyo</th>\n",
       "    </tr>\n",
       "    <tr>\n",
       "      <th>Name</th>\n",
       "      <th></th>\n",
       "      <th></th>\n",
       "      <th></th>\n",
       "      <th></th>\n",
       "      <th></th>\n",
       "    </tr>\n",
       "  </thead>\n",
       "  <tbody>\n",
       "    <tr>\n",
       "      <th>Alice</th>\n",
       "      <td>NaN</td>\n",
       "      <td>NaN</td>\n",
       "      <td>45.0</td>\n",
       "      <td>NaN</td>\n",
       "      <td>NaN</td>\n",
       "    </tr>\n",
       "    <tr>\n",
       "      <th>Bob</th>\n",
       "      <td>NaN</td>\n",
       "      <td>58.0</td>\n",
       "      <td>NaN</td>\n",
       "      <td>NaN</td>\n",
       "      <td>NaN</td>\n",
       "    </tr>\n",
       "    <tr>\n",
       "      <th>Charlie</th>\n",
       "      <td>NaN</td>\n",
       "      <td>NaN</td>\n",
       "      <td>NaN</td>\n",
       "      <td>NaN</td>\n",
       "      <td>60.0</td>\n",
       "    </tr>\n",
       "    <tr>\n",
       "      <th>David</th>\n",
       "      <td>NaN</td>\n",
       "      <td>NaN</td>\n",
       "      <td>NaN</td>\n",
       "      <td>28.0</td>\n",
       "      <td>NaN</td>\n",
       "    </tr>\n",
       "    <tr>\n",
       "      <th>Eva</th>\n",
       "      <td>49.0</td>\n",
       "      <td>NaN</td>\n",
       "      <td>NaN</td>\n",
       "      <td>NaN</td>\n",
       "      <td>NaN</td>\n",
       "    </tr>\n",
       "    <tr>\n",
       "      <th>Frank</th>\n",
       "      <td>NaN</td>\n",
       "      <td>NaN</td>\n",
       "      <td>NaN</td>\n",
       "      <td>67.0</td>\n",
       "      <td>NaN</td>\n",
       "    </tr>\n",
       "    <tr>\n",
       "      <th>Grace</th>\n",
       "      <td>29.0</td>\n",
       "      <td>NaN</td>\n",
       "      <td>NaN</td>\n",
       "      <td>NaN</td>\n",
       "      <td>NaN</td>\n",
       "    </tr>\n",
       "    <tr>\n",
       "      <th>Hannah</th>\n",
       "      <td>NaN</td>\n",
       "      <td>NaN</td>\n",
       "      <td>60.0</td>\n",
       "      <td>NaN</td>\n",
       "      <td>NaN</td>\n",
       "    </tr>\n",
       "    <tr>\n",
       "      <th>Ivan</th>\n",
       "      <td>NaN</td>\n",
       "      <td>NaN</td>\n",
       "      <td>NaN</td>\n",
       "      <td>NaN</td>\n",
       "      <td>37.0</td>\n",
       "    </tr>\n",
       "    <tr>\n",
       "      <th>Jack</th>\n",
       "      <td>NaN</td>\n",
       "      <td>31.0</td>\n",
       "      <td>NaN</td>\n",
       "      <td>NaN</td>\n",
       "      <td>NaN</td>\n",
       "    </tr>\n",
       "  </tbody>\n",
       "</table>\n",
       "</div>"
      ],
      "text/plain": [
       "City     Berlin  London  New York  Paris  Tokyo\n",
       "Name                                           \n",
       "Alice       NaN     NaN      45.0    NaN    NaN\n",
       "Bob         NaN    58.0       NaN    NaN    NaN\n",
       "Charlie     NaN     NaN       NaN    NaN   60.0\n",
       "David       NaN     NaN       NaN   28.0    NaN\n",
       "Eva        49.0     NaN       NaN    NaN    NaN\n",
       "Frank       NaN     NaN       NaN   67.0    NaN\n",
       "Grace      29.0     NaN       NaN    NaN    NaN\n",
       "Hannah      NaN     NaN      60.0    NaN    NaN\n",
       "Ivan        NaN     NaN       NaN    NaN   37.0\n",
       "Jack        NaN    31.0       NaN    NaN    NaN"
      ]
     },
     "execution_count": 75,
     "metadata": {},
     "output_type": "execute_result"
    }
   ],
   "source": [
    "# Create a pivot table from the DataFrame\n",
    "csv.pivot_table(index=\"Name\", columns=\"City\", values=\"Age\")"
   ]
  },
  {
   "cell_type": "markdown",
   "id": "6ec2b793",
   "metadata": {},
   "source": [
    "### 86. Apply a lambda function to a DataFrame."
   ]
  },
  {
   "cell_type": "code",
   "execution_count": 79,
   "id": "dac5e518",
   "metadata": {},
   "outputs": [],
   "source": [
    "# Apply a lambda function to add 'Age' and 'Salary' columns for each row\n",
    "csv[\"Sum\"] = csv.apply(lambda col: col[\"Age\"] + col[\"Salary\"], axis=1)"
   ]
  },
  {
   "cell_type": "markdown",
   "id": "d69b316f",
   "metadata": {},
   "source": [
    "### 87. Find and remove outliers using IQR method."
   ]
  },
  {
   "cell_type": "code",
   "execution_count": null,
   "id": "46c981bb",
   "metadata": {},
   "outputs": [],
   "source": [
    "import pandas as pd\n",
    "\n",
    "def remove_outliers(df, columns):\n",
    "    \"\"\"Removes outliers in specified columns based on the IQR method.\"\"\"\n",
    "    cleaned_df = df.copy()\n",
    "\n",
    "    for col in columns:\n",
    "        if col not in df.columns:\n",
    "            print(f\"Warning: Column '{col}' not found in DataFrame!\")\n",
    "            continue  # Skip missing columns\n",
    "        \n",
    "        Q1 = cleaned_df[col].quantile(0.25)\n",
    "        Q3 = cleaned_df[col].quantile(0.75)\n",
    "        IQR = Q3 - Q1\n",
    "        lower_bound = Q1 - 1.5 * IQR\n",
    "        upper_bound = Q3 + 1.5 * IQR\n",
    "        \n",
    "        # Keep only the rows within the bounds\n",
    "        cleaned_df = cleaned_df[(cleaned_df[col] >= lower_bound) & (cleaned_df[col] <= upper_bound)]\n",
    "    \n",
    "    return cleaned_df\n",
    "\n",
    "# Example DataFrame\n",
    "data = pd.DataFrame({\n",
    "    'A': [10, 12, 14, 100, 15, 18, 110],  # 100 and 110 are outliers\n",
    "    'B': [5, 8, 7, 9, 6, 200, 220]        # 200 and 220 are outliers\n",
    "})\n",
    "\n",
    "# Remove Outliers\n",
    "cleaned_data = remove_outliers(data, ['A', 'B'])\n",
    "print(cleaned_data)"
   ]
  },
  {
   "cell_type": "markdown",
   "id": "cdbc60f1",
   "metadata": {},
   "source": [
    "### 88. Detect and replace outliers using the Z-score method."
   ]
  },
  {
   "cell_type": "code",
   "execution_count": null,
   "id": "9e2e67d1",
   "metadata": {},
   "outputs": [],
   "source": [
    "import pandas as pd\n",
    "import numpy as np\n",
    "\n",
    "def remove_outliers_zscore(df, columns, threshold=3):\n",
    "    \"\"\"Removes outliers using the Z-score method.\"\"\"\n",
    "    cleaned_df = df.copy()\n",
    "\n",
    "    for col in columns:\n",
    "        if col not in df.columns:\n",
    "            print(f\"Warning: Column '{col}' not found in DataFrame!\")\n",
    "            continue  # Skip missing columns\n",
    "\n",
    "        # Compute Z-scores\n",
    "        mean = cleaned_df[col].mean()\n",
    "        std = cleaned_df[col].std()\n",
    "        z_scores = (cleaned_df[col] - mean) / std\n",
    "\n",
    "        # Keep only rows where Z-score is within the threshold\n",
    "        cleaned_df = cleaned_df[np.abs(z_scores) <= threshold]\n",
    "\n",
    "    return cleaned_df\n",
    "\n",
    "# Example DataFrame\n",
    "data = pd.DataFrame({\n",
    "    'A': [10, 12, 14, 100, 15, 18, 110],  # 100 and 110 are outliers\n",
    "    'B': [5, 8, 7, 9, 6, 200, 220]        # 200 and 220 are outliers\n",
    "})\n",
    "\n",
    "# Remove Outliers Using Z-score Method\n",
    "cleaned_data = remove_outliers_zscore(data, ['A', 'B'])\n",
    "print(cleaned_data)"
   ]
  },
  {
   "cell_type": "markdown",
   "id": "fa01cc7d",
   "metadata": {},
   "source": [
    "### 89. Compute weighted averages using Pandas."
   ]
  },
  {
   "cell_type": "code",
   "execution_count": null,
   "id": "c3b895a0",
   "metadata": {},
   "outputs": [
    {
     "name": "stdout",
     "output_type": "stream",
     "text": [
      "Weighted Average: 36.666666666666664\n"
     ]
    }
   ],
   "source": [
    "import pandas as pd\n",
    "import numpy as np\n",
    "\n",
    "# Example DataFrame\n",
    "data = pd.DataFrame({\n",
    "    'Value': [10, 20, 30, 40, 50],\n",
    "    'Weight': [1, 2, 3, 4, 5]  # Higher weight means more influence\n",
    "})\n",
    "\n",
    "# Compute Weighted Average\n",
    "weighted_avg = np.average(data['Value'], weights=data['Weight'])\n",
    "print(\"Weighted Average:\", weighted_avg)"
   ]
  },
  {
   "cell_type": "code",
   "execution_count": null,
   "id": "bbb69e81",
   "metadata": {},
   "outputs": [
    {
     "name": "stdout",
     "output_type": "stream",
     "text": [
      "Weighted Average: 36.666666666666664\n"
     ]
    }
   ],
   "source": [
    "weighted_avg = (data['Value'] * data['Weight']).sum() / data['Weight'].sum()\n",
    "print(\"Weighted Average:\", weighted_avg)"
   ]
  },
  {
   "cell_type": "markdown",
   "id": "c6fd0a69",
   "metadata": {},
   "source": [
    "### 90. Convert a DataFrame from wide to long format."
   ]
  },
  {
   "cell_type": "code",
   "execution_count": 80,
   "id": "6f68de82",
   "metadata": {},
   "outputs": [
    {
     "name": "stdout",
     "output_type": "stream",
     "text": [
      "   ID  Subject  Score\n",
      "0   1     Math     85\n",
      "1   2     Math     90\n",
      "2   3     Math     88\n",
      "3   1  Science     78\n",
      "4   2  Science     88\n",
      "5   3  Science     91\n"
     ]
    }
   ],
   "source": [
    "# Sample wide format DataFrame\n",
    "df = pd.DataFrame({\n",
    "    'ID': [1, 2, 3],\n",
    "    'Math': [85, 90, 88],\n",
    "    'Science': [78, 88, 91]\n",
    "})\n",
    "\n",
    "# Convert from wide to long format\n",
    "long_df = pd.melt(df, id_vars=['ID'], value_vars=['Math', 'Science'], \n",
    "                  var_name='Subject', value_name='Score')\n",
    "\n",
    "print(long_df)"
   ]
  },
  {
   "cell_type": "markdown",
   "id": "bc23b3bf",
   "metadata": {},
   "source": [
    "### 91. Read a large CSV file in chunks using `chunksize`."
   ]
  },
  {
   "cell_type": "code",
   "execution_count": 82,
   "id": "cde213ed",
   "metadata": {},
   "outputs": [
    {
     "name": "stdout",
     "output_type": "stream",
     "text": [
      "      Name   Age      City   Salary        Date Category\n",
      "0    Alice  45.0  New York  95445.0  2023-01-01        A\n",
      "1      Bob  58.0    London  86235.0  2023-01-02        B\n",
      "2  Charlie  60.0     Tokyo  62330.0  2023-01-03        C\n",
      "3    David  28.0     Paris  46022.0  2023-01-04        A\n",
      "4      Eva  49.0    Berlin  65999.0  2023-01-05        B\n"
     ]
    }
   ],
   "source": [
    "import pandas as pd\n",
    "\n",
    "# Define the chunksize (number of rows per chunk)\n",
    "chunksize = 10000\n",
    "\n",
    "# Create an empty list to store chunks if needed\n",
    "chunks = []\n",
    "\n",
    "# Read the CSV file in chunks\n",
    "for chunk in pd.read_csv('CSV.csv', chunksize=chunksize):\n",
    "    # Perform operations on each chunk, like processing or appending to a list\n",
    "    print(chunk.head())  # Just printing the first few rows of each chunk\n",
    "    # If you want to store chunks for further processing, you can append them to the list\n",
    "    chunks.append(chunk)\n",
    "\n",
    "# If you want to concatenate all chunks into a single DataFrame (if memory allows)\n",
    "df = pd.concat(chunks, axis=0)"
   ]
  },
  {
   "cell_type": "markdown",
   "id": "6d1b5cce",
   "metadata": {},
   "source": [
    "### 92. Use `astype('category')` to optimize memory usage."
   ]
  },
  {
   "cell_type": "code",
   "execution_count": null,
   "id": "8ff6b207",
   "metadata": {},
   "outputs": [],
   "source": [
    "import pandas as pd\n",
    "\n",
    "# Sample DataFrame with a categorical column\n",
    "data = {\n",
    "    'Name': ['Alice', 'Bob', 'Charlie', 'David', 'Eve', 'Alice', 'Charlie', 'Bob'],\n",
    "    'City': ['New York', 'London', 'Paris', 'Berlin', 'New York', 'Paris', 'London', 'Berlin'],\n",
    "    'Age': [25, 30, 35, 40, 29, 31, 33, 45]\n",
    "}\n",
    "\n",
    "df = pd.DataFrame(data)\n",
    "\n",
    "# Before optimization, check memory usage\n",
    "print(\"Memory usage before optimization:\")\n",
    "print(df.memory_usage(deep=True))\n",
    "\n",
    "# Convert 'City' column to category to save memory\n",
    "df['City'] = df['City'].astype('category')\n",
    "\n",
    "# After optimization, check memory usage again\n",
    "print(\"\\nMemory usage after optimization:\")\n",
    "print(df.memory_usage(deep=True))\n",
    "\n",
    "# Optional: Check the memory usage of the 'City' column after conversion\n",
    "print(\"\\nMemory usage for 'City' column after optimization:\")\n",
    "print(df['City'].memory_usage(deep=True))"
   ]
  },
  {
   "cell_type": "markdown",
   "id": "af4aa1b4",
   "metadata": {},
   "source": [
    "### 93. Convert a DataFrame to a dictionary."
   ]
  },
  {
   "cell_type": "code",
   "execution_count": null,
   "id": "3acdd23e",
   "metadata": {},
   "outputs": [
    {
     "data": {
      "text/plain": [
       "{'Name': 0       Alice\n",
       " 1         Bob\n",
       " 2     Charlie\n",
       " 3       David\n",
       " 4         Eva\n",
       " 5       Frank\n",
       " 6       Grace\n",
       " 7      Hannah\n",
       " 8        Ivan\n",
       " 9        Jack\n",
       " 10       Ivan\n",
       " 11       Jack\n",
       " 12      Grace\n",
       " 13     Hannah\n",
       " Name: Name, dtype: object,\n",
       " 'Age': 0     45.000000\n",
       " 1     58.000000\n",
       " 2     60.000000\n",
       " 3     28.000000\n",
       " 4     49.000000\n",
       " 5     67.000000\n",
       " 6     45.538462\n",
       " 7     60.000000\n",
       " 8     37.000000\n",
       " 9     31.000000\n",
       " 10    37.000000\n",
       " 11    31.000000\n",
       " 12    29.000000\n",
       " 13    60.000000\n",
       " Name: Age, dtype: float64,\n",
       " 'City': 0     New York\n",
       " 1       London\n",
       " 2        Tokyo\n",
       " 3        Paris\n",
       " 4       Berlin\n",
       " 5        Paris\n",
       " 6       Berlin\n",
       " 7     New York\n",
       " 8        Tokyo\n",
       " 9       London\n",
       " 10       Tokyo\n",
       " 11      London\n",
       " 12      Berlin\n",
       " 13    New York\n",
       " Name: City, dtype: object,\n",
       " 'Salary': 0     1.000000\n",
       " 1     0.813650\n",
       " 2     0.329968\n",
       " 3     0.000000\n",
       " 4     0.404205\n",
       " 5     0.855836\n",
       " 6     0.224976\n",
       " 7     0.392348\n",
       " 8     0.829452\n",
       " 9     0.257026\n",
       " 10    0.829452\n",
       " 11    0.257026\n",
       " 12    0.224976\n",
       " 13    0.493763\n",
       " Name: Salary, dtype: float64,\n",
       " 'Date': 0    2023-01-01\n",
       " 1    2023-01-02\n",
       " 2    2023-01-03\n",
       " 3    2023-01-04\n",
       " 4    2023-01-05\n",
       " 5    2023-01-06\n",
       " 6    2023-01-07\n",
       " 7    2023-01-08\n",
       " 8    2023-01-09\n",
       " 9    2023-01-10\n",
       " 10   2023-01-09\n",
       " 11   2023-01-10\n",
       " 12   2023-01-07\n",
       " 13   2023-01-08\n",
       " Name: Date, dtype: datetime64[ns],\n",
       " 'Category': 0       A\n",
       " 1       B\n",
       " 2       C\n",
       " 3       A\n",
       " 4       B\n",
       " 5       A\n",
       " 6       C\n",
       " 7       B\n",
       " 8       A\n",
       " 9       B\n",
       " 10      A\n",
       " 11      B\n",
       " 12    NaN\n",
       " 13      B\n",
       " Name: Category, dtype: object,\n",
       " 'Sum': 0     46.000000\n",
       " 1     58.813650\n",
       " 2     60.329968\n",
       " 3     28.000000\n",
       " 4     49.404205\n",
       " 5     67.855836\n",
       " 6     45.763438\n",
       " 7     60.392348\n",
       " 8     37.829452\n",
       " 9     31.257026\n",
       " 10    37.829452\n",
       " 11    31.257026\n",
       " 12    29.224976\n",
       " 13    60.493763\n",
       " Name: Sum, dtype: float64,\n",
       " 'City_code': 0     0\n",
       " 1     1\n",
       " 2     2\n",
       " 3     3\n",
       " 4     4\n",
       " 5     3\n",
       " 6     4\n",
       " 7     0\n",
       " 8     2\n",
       " 9     1\n",
       " 10    2\n",
       " 11    1\n",
       " 12    4\n",
       " 13    0\n",
       " Name: City_code, dtype: int64,\n",
       " 'Expertise': 0     juniour\n",
       " 1      senior\n",
       " 2      senior\n",
       " 3     juniour\n",
       " 4      senior\n",
       " 5      senior\n",
       " 6      senior\n",
       " 7      senior\n",
       " 8     juniour\n",
       " 9     juniour\n",
       " 10    juniour\n",
       " 11    juniour\n",
       " 12    juniour\n",
       " 13     senior\n",
       " Name: Expertise, dtype: category\n",
       " Categories (2, object): ['juniour' < 'senior'],\n",
       " 'Rank': 0      8.0\n",
       " 1      5.0\n",
       " 2      3.0\n",
       " 3     14.0\n",
       " 4      6.0\n",
       " 5      1.0\n",
       " 6      7.0\n",
       " 7      3.0\n",
       " 8      9.5\n",
       " 9     11.5\n",
       " 10     9.5\n",
       " 11    11.5\n",
       " 12    13.0\n",
       " 13     3.0\n",
       " Name: Rank, dtype: float64}"
      ]
     },
     "execution_count": 190,
     "metadata": {},
     "output_type": "execute_result"
    }
   ],
   "source": [
    "dict(csv)"
   ]
  },
  {
   "cell_type": "markdown",
   "id": "8afcb8da",
   "metadata": {},
   "source": [
    "### 94. Use `to_parquet()` for faster storage than CSV."
   ]
  },
  {
   "cell_type": "code",
   "execution_count": 84,
   "id": "b726e2b3",
   "metadata": {},
   "outputs": [
    {
     "name": "stdout",
     "output_type": "stream",
     "text": [
      "{'Name': {0: 'Alice', 1: 'Bob', 2: 'Charlie'}, 'Age': {0: 25, 1: 30, 2: 35}, 'City': {0: 'New York', 1: 'London', 2: 'Paris'}}\n"
     ]
    }
   ],
   "source": [
    "import pandas as pd\n",
    "\n",
    "# Sample DataFrame\n",
    "data = {\n",
    "    'Name': ['Alice', 'Bob', 'Charlie'],\n",
    "    'Age': [25, 30, 35],\n",
    "    'City': ['New York', 'London', 'Paris']\n",
    "}\n",
    "\n",
    "df = pd.DataFrame(data)\n",
    "\n",
    "# Convert to dictionary with columns as keys\n",
    "dict_output = df.to_dict()\n",
    "\n",
    "print(dict_output)"
   ]
  },
  {
   "cell_type": "markdown",
   "id": "ebcb1b5b",
   "metadata": {},
   "source": [
    "### 95. Use `query()` for fast filtering instead of Boolean indexing."
   ]
  },
  {
   "cell_type": "code",
   "execution_count": 85,
   "id": "d23406c7",
   "metadata": {},
   "outputs": [
    {
     "name": "stdout",
     "output_type": "stream",
     "text": [
      "      Name  Age  Salary\n",
      "2  Charlie   35   55000\n"
     ]
    }
   ],
   "source": [
    "import pandas as pd\n",
    "\n",
    "# Sample DataFrame\n",
    "data = {\n",
    "    'Name': ['Alice', 'Bob', 'Charlie', 'David', 'Eva'],\n",
    "    'Age': [25, 30, 35, 28, 24],\n",
    "    'Salary': [50000, 60000, 55000, 62000, 45000]\n",
    "}\n",
    "\n",
    "df = pd.DataFrame(data)\n",
    "\n",
    "# Use query() for filtering\n",
    "filtered_df = df.query('Age > 30')\n",
    "\n",
    "print(filtered_df)"
   ]
  },
  {
   "cell_type": "markdown",
   "id": "ede102c1",
   "metadata": {},
   "source": [
    "### 96. Use `explode()` to split lists in a column into separate rows."
   ]
  },
  {
   "cell_type": "code",
   "execution_count": 86,
   "id": "c841b91f",
   "metadata": {},
   "outputs": [
    {
     "name": "stdout",
     "output_type": "stream",
     "text": [
      "Original DataFrame:\n",
      "      Name                      Hobbies\n",
      "0    Alice            [Reading, Hiking]\n",
      "1      Bob          [Swimming, Cycling]\n",
      "2  Charlie  [Painting, Gaming, Reading]\n",
      "\n",
      "Exploded DataFrame:\n",
      "      Name   Hobbies\n",
      "0    Alice   Reading\n",
      "0    Alice    Hiking\n",
      "1      Bob  Swimming\n",
      "1      Bob   Cycling\n",
      "2  Charlie  Painting\n",
      "2  Charlie    Gaming\n",
      "2  Charlie   Reading\n"
     ]
    }
   ],
   "source": [
    "import pandas as pd\n",
    "\n",
    "# Sample DataFrame with a list-like column\n",
    "data = {\n",
    "    'Name': ['Alice', 'Bob', 'Charlie'],\n",
    "    'Hobbies': [['Reading', 'Hiking'], ['Swimming', 'Cycling'], ['Painting', 'Gaming', 'Reading']]\n",
    "}\n",
    "\n",
    "df = pd.DataFrame(data)\n",
    "\n",
    "print(\"Original DataFrame:\")\n",
    "print(df)\n",
    "\n",
    "# Use explode() to split the list-like column into separate rows\n",
    "exploded_df = df.explode('Hobbies')\n",
    "\n",
    "print(\"\\nExploded DataFrame:\")\n",
    "print(exploded_df)"
   ]
  },
  {
   "cell_type": "markdown",
   "id": "85e45f47",
   "metadata": {},
   "source": [
    "### 97. Convert timestamps to Unix format for efficiency."
   ]
  },
  {
   "cell_type": "code",
   "execution_count": 87,
   "id": "7d01d20d",
   "metadata": {},
   "outputs": [
    {
     "name": "stdout",
     "output_type": "stream",
     "text": [
      "Original DataFrame:\n",
      "            Timestamp\n",
      "0 2024-03-01 12:00:00\n",
      "1 2024-03-02 14:30:00\n",
      "2 2024-03-03 16:45:00\n",
      "\n",
      "DataFrame with Unix Timestamps:\n",
      "            Timestamp  Unix_Timestamp\n",
      "0 2024-03-01 12:00:00      1709294400\n",
      "1 2024-03-02 14:30:00      1709389800\n",
      "2 2024-03-03 16:45:00      1709484300\n"
     ]
    }
   ],
   "source": [
    "import pandas as pd\n",
    "\n",
    "# Sample DataFrame with datetime column\n",
    "data = {\n",
    "    'Timestamp': pd.to_datetime(['2024-03-01 12:00:00', '2024-03-02 14:30:00', '2024-03-03 16:45:00'])\n",
    "}\n",
    "\n",
    "df = pd.DataFrame(data)\n",
    "\n",
    "print(\"Original DataFrame:\")\n",
    "print(df)\n",
    "\n",
    "# Convert timestamps to Unix format (seconds since epoch)\n",
    "df['Unix_Timestamp'] = df['Timestamp'].astype('int64') // 10**9  # Convert to seconds\n",
    "\n",
    "print(\"\\nDataFrame with Unix Timestamps:\")\n",
    "print(df)"
   ]
  },
  {
   "cell_type": "markdown",
   "id": "c4439f34",
   "metadata": {},
   "source": [
    "### 98. Optimize Pandas operations using Dask for parallel computing."
   ]
  },
  {
   "cell_type": "code",
   "execution_count": 3,
   "id": "3d214eae",
   "metadata": {},
   "outputs": [],
   "source": [
    "#pip install \"dask[complete]\""
   ]
  },
  {
   "cell_type": "code",
   "execution_count": 5,
   "id": "ef4309be",
   "metadata": {},
   "outputs": [
    {
     "name": "stdout",
     "output_type": "stream",
     "text": [
      "45.53846153846154\n"
     ]
    }
   ],
   "source": [
    "import dask.dataframe as dd\n",
    "\n",
    "# Create a Dask DataFrame from a CSV file\n",
    "df = dd.read_csv('CSV.csv')\n",
    "\n",
    "# Perform a computation (e.g., calculating the mean of a column)\n",
    "result = df['Age'].mean().compute()\n",
    "\n",
    "print(result)"
   ]
  },
  {
   "cell_type": "markdown",
   "id": "3364dc63",
   "metadata": {},
   "source": [
    "### 99. Use `memory_usage()` to check DataFrame memory consumption."
   ]
  },
  {
   "cell_type": "code",
   "execution_count": 6,
   "id": "c5d97faf",
   "metadata": {},
   "outputs": [
    {
     "name": "stdout",
     "output_type": "stream",
     "text": [
      "Index     132\n",
      "Name       32\n",
      "Age        32\n",
      "Salary     32\n",
      "dtype: int64\n"
     ]
    }
   ],
   "source": [
    "import pandas as pd\n",
    "\n",
    "# Sample DataFrame\n",
    "data = {\n",
    "    'Name': ['Alice', 'Bob', 'Charlie', 'David'],\n",
    "    'Age': [25, 30, 35, 40],\n",
    "    'Salary': [50000, 60000, 70000, 80000]\n",
    "}\n",
    "\n",
    "df = pd.DataFrame(data)\n",
    "\n",
    "# Get the memory usage of each column\n",
    "print(df.memory_usage())"
   ]
  },
  {
   "cell_type": "markdown",
   "id": "b32ef171",
   "metadata": {},
   "source": [
    "### 100. Use `df.style.format()` to display numbers with specific formatting."
   ]
  },
  {
   "cell_type": "code",
   "execution_count": 8,
   "id": "d6aa132e",
   "metadata": {},
   "outputs": [
    {
     "data": {
      "text/html": [
       "<style type=\"text/css\">\n",
       "</style>\n",
       "<table id=\"T_bd618\">\n",
       "  <thead>\n",
       "    <tr>\n",
       "      <th class=\"blank level0\" >&nbsp;</th>\n",
       "      <th id=\"T_bd618_level0_col0\" class=\"col_heading level0 col0\" >Name</th>\n",
       "      <th id=\"T_bd618_level0_col1\" class=\"col_heading level0 col1\" >Salary</th>\n",
       "      <th id=\"T_bd618_level0_col2\" class=\"col_heading level0 col2\" >Age</th>\n",
       "    </tr>\n",
       "  </thead>\n",
       "  <tbody>\n",
       "    <tr>\n",
       "      <th id=\"T_bd618_level0_row0\" class=\"row_heading level0 row0\" >0</th>\n",
       "      <td id=\"T_bd618_row0_col0\" class=\"data row0 col0\" >Alice</td>\n",
       "      <td id=\"T_bd618_row0_col1\" class=\"data row0 col1\" >50000.12</td>\n",
       "      <td id=\"T_bd618_row0_col2\" class=\"data row0 col2\" >25</td>\n",
       "    </tr>\n",
       "    <tr>\n",
       "      <th id=\"T_bd618_level0_row1\" class=\"row_heading level0 row1\" >1</th>\n",
       "      <td id=\"T_bd618_row1_col0\" class=\"data row1 col0\" >Bob</td>\n",
       "      <td id=\"T_bd618_row1_col1\" class=\"data row1 col1\" >60000.57</td>\n",
       "      <td id=\"T_bd618_row1_col2\" class=\"data row1 col2\" >30</td>\n",
       "    </tr>\n",
       "    <tr>\n",
       "      <th id=\"T_bd618_level0_row2\" class=\"row_heading level0 row2\" >2</th>\n",
       "      <td id=\"T_bd618_row2_col0\" class=\"data row2 col0\" >Charlie</td>\n",
       "      <td id=\"T_bd618_row2_col1\" class=\"data row2 col1\" >70000.91</td>\n",
       "      <td id=\"T_bd618_row2_col2\" class=\"data row2 col2\" >35</td>\n",
       "    </tr>\n",
       "    <tr>\n",
       "      <th id=\"T_bd618_level0_row3\" class=\"row_heading level0 row3\" >3</th>\n",
       "      <td id=\"T_bd618_row3_col0\" class=\"data row3 col0\" >David</td>\n",
       "      <td id=\"T_bd618_row3_col1\" class=\"data row3 col1\" >80000.12</td>\n",
       "      <td id=\"T_bd618_row3_col2\" class=\"data row3 col2\" >40</td>\n",
       "    </tr>\n",
       "  </tbody>\n",
       "</table>\n"
      ],
      "text/plain": [
       "<pandas.io.formats.style.Styler at 0x13275ee40>"
      ]
     },
     "execution_count": 8,
     "metadata": {},
     "output_type": "execute_result"
    }
   ],
   "source": [
    "import pandas as pd\n",
    "\n",
    "# Sample DataFrame\n",
    "data = {\n",
    "    'Name': ['Alice', 'Bob', 'Charlie', 'David'],\n",
    "    'Salary': [50000.1234, 60000.5678, 70000.91011, 80000.1213],\n",
    "    'Age': [25, 30, 35, 40]\n",
    "}\n",
    "\n",
    "df = pd.DataFrame(data)\n",
    "\n",
    "# Format the 'Salary' column to 2 decimal places\n",
    "formatted_df = df.style.format({'Salary': '{:.2f}'})\n",
    "\n",
    "formatted_df"
   ]
  }
 ],
 "metadata": {
  "kernelspec": {
   "display_name": "Python 3",
   "language": "python",
   "name": "python3"
  },
  "language_info": {
   "codemirror_mode": {
    "name": "ipython",
    "version": 3
   },
   "file_extension": ".py",
   "mimetype": "text/x-python",
   "name": "python",
   "nbconvert_exporter": "python",
   "pygments_lexer": "ipython3",
   "version": "3.13.1"
  }
 },
 "nbformat": 4,
 "nbformat_minor": 5
}
