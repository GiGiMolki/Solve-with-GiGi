{
 "cells": [
  {
   "cell_type": "markdown",
   "id": "3c6d9746",
   "metadata": {},
   "source": [
    "# 📘 Mastering Pandas: 100 Coding Questions\n",
    "\n",
    "This Jupyter Notebook contains **100 Pandas coding questions** in markdown format, followed by blank code cells where you can write your solutions.\n",
    "\n",
    "---\n",
    "\n",
    "### 📌 Instructions:\n",
    "- Read each question carefully.\n",
    "- Write your solution in the blank code cell below each question.\n",
    "- Test your code with different inputs to gain mastery.\n",
    "- Feel free to modify and explore different approaches! 🚀\n",
    "\n",
    "Let's get started! 🎯\n"
   ]
  },
  {
   "cell_type": "markdown",
   "id": "33bb4ac6",
   "metadata": {},
   "source": [
    "### 1. Import Pandas and create a simple DataFrame from a dictionary."
   ]
  },
  {
   "cell_type": "code",
   "execution_count": null,
   "id": "06af29e8",
   "metadata": {},
   "outputs": [],
   "source": []
  },
  {
   "cell_type": "markdown",
   "id": "b0bfd8d3",
   "metadata": {},
   "source": [
    "### 2. Create a Pandas Series with a list of 10 numbers."
   ]
  },
  {
   "cell_type": "code",
   "execution_count": null,
   "id": "9c4433c0",
   "metadata": {},
   "outputs": [],
   "source": []
  },
  {
   "cell_type": "markdown",
   "id": "2ca4ad64",
   "metadata": {},
   "source": [
    "### 3. Load a CSV file into a DataFrame and display the first 5 rows."
   ]
  },
  {
   "cell_type": "code",
   "execution_count": null,
   "id": "38022218",
   "metadata": {},
   "outputs": [],
   "source": []
  },
  {
   "cell_type": "markdown",
   "id": "ba8f47e8",
   "metadata": {},
   "source": [
    "### 4. Display the column names and data types of a DataFrame."
   ]
  },
  {
   "cell_type": "code",
   "execution_count": null,
   "id": "eee65349",
   "metadata": {},
   "outputs": [],
   "source": []
  },
  {
   "cell_type": "markdown",
   "id": "d7e99748",
   "metadata": {},
   "source": [
    "### 5. Get the shape, size, and number of dimensions of a DataFrame."
   ]
  },
  {
   "cell_type": "code",
   "execution_count": null,
   "id": "7f052391",
   "metadata": {},
   "outputs": [],
   "source": []
  },
  {
   "cell_type": "markdown",
   "id": "71c49b41",
   "metadata": {},
   "source": [
    "### 6. Check for missing values in a DataFrame."
   ]
  },
  {
   "cell_type": "code",
   "execution_count": null,
   "id": "a37fe4fd",
   "metadata": {},
   "outputs": [],
   "source": []
  },
  {
   "cell_type": "markdown",
   "id": "85370a04",
   "metadata": {},
   "source": [
    "### 7. Convert a NumPy array into a Pandas DataFrame."
   ]
  },
  {
   "cell_type": "code",
   "execution_count": null,
   "id": "02a9434d",
   "metadata": {},
   "outputs": [],
   "source": []
  },
  {
   "cell_type": "markdown",
   "id": "36638d4d",
   "metadata": {},
   "source": [
    "### 8. Save a DataFrame to a CSV file without the index."
   ]
  },
  {
   "cell_type": "code",
   "execution_count": null,
   "id": "1c135ad9",
   "metadata": {},
   "outputs": [],
   "source": []
  },
  {
   "cell_type": "markdown",
   "id": "91d051f4",
   "metadata": {},
   "source": [
    "### 9. Convert a dictionary into a DataFrame."
   ]
  },
  {
   "cell_type": "code",
   "execution_count": null,
   "id": "8b24c01d",
   "metadata": {},
   "outputs": [],
   "source": []
  },
  {
   "cell_type": "markdown",
   "id": "696cbdfd",
   "metadata": {},
   "source": [
    "### 10. Generate a DataFrame with random numbers and set custom column names."
   ]
  },
  {
   "cell_type": "code",
   "execution_count": null,
   "id": "c8c1a722",
   "metadata": {},
   "outputs": [],
   "source": []
  },
  {
   "cell_type": "markdown",
   "id": "cfb4d78e",
   "metadata": {},
   "source": [
    "### 11. Select a single column from a DataFrame."
   ]
  },
  {
   "cell_type": "code",
   "execution_count": null,
   "id": "a7817818",
   "metadata": {},
   "outputs": [],
   "source": []
  },
  {
   "cell_type": "markdown",
   "id": "034606e3",
   "metadata": {},
   "source": [
    "### 12. Select multiple columns from a DataFrame."
   ]
  },
  {
   "cell_type": "code",
   "execution_count": null,
   "id": "1ccec8c3",
   "metadata": {},
   "outputs": [],
   "source": []
  },
  {
   "cell_type": "markdown",
   "id": "b02f7cdb",
   "metadata": {},
   "source": [
    "### 13. Select the first 10 rows of a DataFrame."
   ]
  },
  {
   "cell_type": "code",
   "execution_count": null,
   "id": "24e7de0a",
   "metadata": {},
   "outputs": [],
   "source": []
  },
  {
   "cell_type": "markdown",
   "id": "45b0a719",
   "metadata": {},
   "source": [
    "### 14. Select the last 5 rows of a DataFrame."
   ]
  },
  {
   "cell_type": "code",
   "execution_count": null,
   "id": "a04bd9d0",
   "metadata": {},
   "outputs": [],
   "source": []
  },
  {
   "cell_type": "markdown",
   "id": "ae9b8d3d",
   "metadata": {},
   "source": [
    "### 15. Use `.loc[]` to select a row based on an index label."
   ]
  },
  {
   "cell_type": "code",
   "execution_count": null,
   "id": "d3bd98e9",
   "metadata": {},
   "outputs": [],
   "source": []
  },
  {
   "cell_type": "markdown",
   "id": "89a831b2",
   "metadata": {},
   "source": [
    "### 16. Use `.iloc[]` to select a row by position."
   ]
  },
  {
   "cell_type": "code",
   "execution_count": null,
   "id": "881833c4",
   "metadata": {},
   "outputs": [],
   "source": []
  },
  {
   "cell_type": "markdown",
   "id": "0e0a1b84",
   "metadata": {},
   "source": [
    "### 17. Use `.loc[]` to select specific columns and rows."
   ]
  },
  {
   "cell_type": "code",
   "execution_count": null,
   "id": "aef83d2b",
   "metadata": {},
   "outputs": [],
   "source": []
  },
  {
   "cell_type": "markdown",
   "id": "636d1106",
   "metadata": {},
   "source": [
    "### 18. Select rows where a column value is greater than a given number."
   ]
  },
  {
   "cell_type": "code",
   "execution_count": null,
   "id": "dbd9b223",
   "metadata": {},
   "outputs": [],
   "source": []
  },
  {
   "cell_type": "markdown",
   "id": "a1c15152",
   "metadata": {},
   "source": [
    "### 19. Select rows where a column value is between two numbers."
   ]
  },
  {
   "cell_type": "code",
   "execution_count": null,
   "id": "d7282545",
   "metadata": {},
   "outputs": [],
   "source": []
  },
  {
   "cell_type": "markdown",
   "id": "a0573246",
   "metadata": {},
   "source": [
    "### 20. Use `.query()` to filter data based on a condition."
   ]
  },
  {
   "cell_type": "code",
   "execution_count": null,
   "id": "7b1bc3a5",
   "metadata": {},
   "outputs": [],
   "source": []
  },
  {
   "cell_type": "markdown",
   "id": "eeb9b6bd",
   "metadata": {},
   "source": [
    "### 21. Find the total number of missing values in a DataFrame."
   ]
  },
  {
   "cell_type": "code",
   "execution_count": null,
   "id": "b5e97e9d",
   "metadata": {},
   "outputs": [],
   "source": []
  },
  {
   "cell_type": "markdown",
   "id": "6a8d77b2",
   "metadata": {},
   "source": [
    "### 22. Fill missing values with the column mean."
   ]
  },
  {
   "cell_type": "code",
   "execution_count": null,
   "id": "3f7678fd",
   "metadata": {},
   "outputs": [],
   "source": []
  },
  {
   "cell_type": "markdown",
   "id": "f860db60",
   "metadata": {},
   "source": [
    "### 23. Fill missing values with forward-fill and backward-fill methods."
   ]
  },
  {
   "cell_type": "code",
   "execution_count": null,
   "id": "e17aa519",
   "metadata": {},
   "outputs": [],
   "source": []
  },
  {
   "cell_type": "markdown",
   "id": "6a2db465",
   "metadata": {},
   "source": [
    "### 24. Drop all rows with missing values."
   ]
  },
  {
   "cell_type": "code",
   "execution_count": null,
   "id": "99cc8025",
   "metadata": {},
   "outputs": [],
   "source": []
  },
  {
   "cell_type": "markdown",
   "id": "564d4b86",
   "metadata": {},
   "source": [
    "### 25. Drop all columns with missing values."
   ]
  },
  {
   "cell_type": "code",
   "execution_count": null,
   "id": "5f8112e3",
   "metadata": {},
   "outputs": [],
   "source": []
  },
  {
   "cell_type": "markdown",
   "id": "5055c34e",
   "metadata": {},
   "source": [
    "### 26. Replace all NaN values with a specific value."
   ]
  },
  {
   "cell_type": "code",
   "execution_count": null,
   "id": "95032d96",
   "metadata": {},
   "outputs": [],
   "source": []
  },
  {
   "cell_type": "markdown",
   "id": "72aef80b",
   "metadata": {},
   "source": [
    "### 27. Convert `NaN` values to 0 in a DataFrame."
   ]
  },
  {
   "cell_type": "code",
   "execution_count": null,
   "id": "b289b1f6",
   "metadata": {},
   "outputs": [],
   "source": []
  },
  {
   "cell_type": "markdown",
   "id": "3f05c511",
   "metadata": {},
   "source": [
    "### 28. Identify duplicate rows in a DataFrame."
   ]
  },
  {
   "cell_type": "code",
   "execution_count": null,
   "id": "d0ee4b36",
   "metadata": {},
   "outputs": [],
   "source": []
  },
  {
   "cell_type": "markdown",
   "id": "0eb68e35",
   "metadata": {},
   "source": [
    "### 29. Remove duplicate rows from a DataFrame."
   ]
  },
  {
   "cell_type": "code",
   "execution_count": null,
   "id": "c7fce849",
   "metadata": {},
   "outputs": [],
   "source": []
  },
  {
   "cell_type": "markdown",
   "id": "f50e04a3",
   "metadata": {},
   "source": [
    "### 30. Replace specific values in a column with another value."
   ]
  },
  {
   "cell_type": "code",
   "execution_count": null,
   "id": "dbc3dc62",
   "metadata": {},
   "outputs": [],
   "source": []
  },
  {
   "cell_type": "markdown",
   "id": "a05f4b8d",
   "metadata": {},
   "source": [
    "### 31. Change the data type of a column from `object` to `int`."
   ]
  },
  {
   "cell_type": "code",
   "execution_count": null,
   "id": "5f554484",
   "metadata": {},
   "outputs": [],
   "source": []
  },
  {
   "cell_type": "markdown",
   "id": "d3b148c3",
   "metadata": {},
   "source": [
    "### 32. Convert a column to datetime format."
   ]
  },
  {
   "cell_type": "code",
   "execution_count": null,
   "id": "60967127",
   "metadata": {},
   "outputs": [],
   "source": []
  },
  {
   "cell_type": "markdown",
   "id": "f4aa6b7c",
   "metadata": {},
   "source": [
    "### 33. Extract the year, month, and day from a datetime column."
   ]
  },
  {
   "cell_type": "code",
   "execution_count": null,
   "id": "00b0c175",
   "metadata": {},
   "outputs": [],
   "source": []
  },
  {
   "cell_type": "markdown",
   "id": "01a9858f",
   "metadata": {},
   "source": [
    "### 34. Create a new column by performing operations on two columns."
   ]
  },
  {
   "cell_type": "code",
   "execution_count": null,
   "id": "98aff464",
   "metadata": {},
   "outputs": [],
   "source": []
  },
  {
   "cell_type": "code",
   "execution_count": null,
   "id": "7b872e7a",
   "metadata": {},
   "outputs": [],
   "source": []
  },
  {
   "cell_type": "markdown",
   "id": "a66e1a4a",
   "metadata": {},
   "source": [
    "### 35. Rename multiple columns in a DataFrame."
   ]
  },
  {
   "cell_type": "code",
   "execution_count": null,
   "id": "8fb4a585",
   "metadata": {},
   "outputs": [],
   "source": []
  },
  {
   "cell_type": "markdown",
   "id": "32d261df",
   "metadata": {},
   "source": [
    "### 36. Convert categorical columns into numerical values."
   ]
  },
  {
   "cell_type": "code",
   "execution_count": null,
   "id": "4ef4a9e1",
   "metadata": {},
   "outputs": [],
   "source": []
  },
  {
   "cell_type": "markdown",
   "id": "600ce3cd",
   "metadata": {},
   "source": [
    "### 37. Create a new column based on conditions using `apply()`."
   ]
  },
  {
   "cell_type": "code",
   "execution_count": null,
   "id": "a696f520",
   "metadata": {},
   "outputs": [],
   "source": []
  },
  {
   "cell_type": "markdown",
   "id": "c5624e1b",
   "metadata": {},
   "source": [
    "### 38. Normalize all numeric columns in a DataFrame."
   ]
  },
  {
   "cell_type": "code",
   "execution_count": null,
   "id": "627fd54d",
   "metadata": {},
   "outputs": [],
   "source": []
  },
  {
   "cell_type": "markdown",
   "id": "d507388e",
   "metadata": {},
   "source": [
    "### 39. Binning a numerical column into categories using `pd.cut()`."
   ]
  },
  {
   "cell_type": "code",
   "execution_count": null,
   "id": "c4eebc1c",
   "metadata": {},
   "outputs": [],
   "source": []
  },
  {
   "cell_type": "markdown",
   "id": "52d1d6a8",
   "metadata": {},
   "source": [
    "### 40. Convert a DataFrame to a NumPy array."
   ]
  },
  {
   "cell_type": "code",
   "execution_count": null,
   "id": "77e76495",
   "metadata": {},
   "outputs": [],
   "source": []
  },
  {
   "cell_type": "markdown",
   "id": "ff5a0689",
   "metadata": {},
   "source": [
    "### 41. Group a DataFrame by a column and find the mean."
   ]
  },
  {
   "cell_type": "code",
   "execution_count": null,
   "id": "ab6d6df1",
   "metadata": {},
   "outputs": [],
   "source": []
  },
  {
   "cell_type": "markdown",
   "id": "88474c29",
   "metadata": {},
   "source": [
    "### 42. Group by multiple columns and compute the sum."
   ]
  },
  {
   "cell_type": "code",
   "execution_count": null,
   "id": "56462e7f",
   "metadata": {},
   "outputs": [],
   "source": []
  },
  {
   "cell_type": "markdown",
   "id": "e54b5e4f",
   "metadata": {},
   "source": [
    "### 43. Find the maximum value of each group."
   ]
  },
  {
   "cell_type": "code",
   "execution_count": null,
   "id": "9c0233ff",
   "metadata": {},
   "outputs": [],
   "source": []
  },
  {
   "cell_type": "markdown",
   "id": "821640c0",
   "metadata": {},
   "source": [
    "### 44. Find the total count of each group."
   ]
  },
  {
   "cell_type": "code",
   "execution_count": null,
   "id": "5ef429b7",
   "metadata": {},
   "outputs": [],
   "source": []
  },
  {
   "cell_type": "markdown",
   "id": "85044ed1",
   "metadata": {},
   "source": [
    "### 45. Get the top 3 rows from each group."
   ]
  },
  {
   "cell_type": "code",
   "execution_count": null,
   "id": "e78375ca",
   "metadata": {},
   "outputs": [],
   "source": []
  },
  {
   "cell_type": "markdown",
   "id": "f7ea00c1",
   "metadata": {},
   "source": [
    "### 46. Use `agg()` to apply multiple aggregation functions."
   ]
  },
  {
   "cell_type": "code",
   "execution_count": null,
   "id": "713cf6d9",
   "metadata": {},
   "outputs": [],
   "source": []
  },
  {
   "cell_type": "markdown",
   "id": "c13302cc",
   "metadata": {},
   "source": [
    "### 47. Get unique values in a column."
   ]
  },
  {
   "cell_type": "code",
   "execution_count": null,
   "id": "5ee0efd3",
   "metadata": {},
   "outputs": [],
   "source": []
  },
  {
   "cell_type": "markdown",
   "id": "f12d78c9",
   "metadata": {},
   "source": [
    "### 48. Count the occurrences of each unique value in a column."
   ]
  },
  {
   "cell_type": "code",
   "execution_count": null,
   "id": "1774b182",
   "metadata": {},
   "outputs": [],
   "source": []
  },
  {
   "cell_type": "markdown",
   "id": "1e2e1347",
   "metadata": {},
   "source": [
    "### 49. Compute the cumulative sum of a column."
   ]
  },
  {
   "cell_type": "code",
   "execution_count": null,
   "id": "3062f3a6",
   "metadata": {},
   "outputs": [],
   "source": []
  },
  {
   "cell_type": "markdown",
   "id": "d20ee0c3",
   "metadata": {},
   "source": [
    "### 50. Compute rolling averages with a window size of 3."
   ]
  },
  {
   "cell_type": "code",
   "execution_count": null,
   "id": "ee0b46e7",
   "metadata": {},
   "outputs": [],
   "source": []
  },
  {
   "cell_type": "markdown",
   "id": "40dfd45b",
   "metadata": {},
   "source": [
    "### 51. Merge two DataFrames based on a common column."
   ]
  },
  {
   "cell_type": "code",
   "execution_count": null,
   "id": "dcd7a77c",
   "metadata": {},
   "outputs": [],
   "source": []
  },
  {
   "cell_type": "code",
   "execution_count": null,
   "id": "0b80434b",
   "metadata": {},
   "outputs": [],
   "source": []
  },
  {
   "cell_type": "markdown",
   "id": "1d9ddcba",
   "metadata": {},
   "source": [
    "### 52. Perform an inner join on two DataFrames."
   ]
  },
  {
   "cell_type": "code",
   "execution_count": null,
   "id": "be320101",
   "metadata": {},
   "outputs": [],
   "source": []
  },
  {
   "cell_type": "markdown",
   "id": "11467cc5",
   "metadata": {},
   "source": [
    "### 53. Perform a left join on two DataFrames."
   ]
  },
  {
   "cell_type": "code",
   "execution_count": null,
   "id": "d0d49fde",
   "metadata": {},
   "outputs": [],
   "source": []
  },
  {
   "cell_type": "markdown",
   "id": "b84d267d",
   "metadata": {},
   "source": [
    "### 54. Perform a right join on two DataFrames."
   ]
  },
  {
   "cell_type": "code",
   "execution_count": null,
   "id": "c79a5e03",
   "metadata": {},
   "outputs": [],
   "source": []
  },
  {
   "cell_type": "markdown",
   "id": "f156b5b6",
   "metadata": {},
   "source": [
    "### 55. Perform an outer join on two DataFrames."
   ]
  },
  {
   "cell_type": "code",
   "execution_count": null,
   "id": "ab629478",
   "metadata": {},
   "outputs": [],
   "source": []
  },
  {
   "cell_type": "markdown",
   "id": "5ed26ac0",
   "metadata": {},
   "source": [
    "### 56. Concatenate two DataFrames vertically."
   ]
  },
  {
   "cell_type": "code",
   "execution_count": null,
   "id": "25684136",
   "metadata": {},
   "outputs": [],
   "source": []
  },
  {
   "cell_type": "markdown",
   "id": "332e358c",
   "metadata": {},
   "source": [
    "### 57. Concatenate two DataFrames horizontally."
   ]
  },
  {
   "cell_type": "code",
   "execution_count": null,
   "id": "c52d853f",
   "metadata": {},
   "outputs": [],
   "source": []
  },
  {
   "cell_type": "code",
   "execution_count": null,
   "id": "2e7ce8eb",
   "metadata": {},
   "outputs": [],
   "source": []
  },
  {
   "cell_type": "markdown",
   "id": "68bd0614",
   "metadata": {},
   "source": [
    "### 58. Merge two DataFrames with different column names."
   ]
  },
  {
   "cell_type": "code",
   "execution_count": null,
   "id": "d93e2519",
   "metadata": {},
   "outputs": [],
   "source": []
  },
  {
   "cell_type": "markdown",
   "id": "5cfe1f10",
   "metadata": {},
   "source": [
    "### 59. Join two DataFrames based on the index."
   ]
  },
  {
   "cell_type": "code",
   "execution_count": null,
   "id": "68388e47",
   "metadata": {},
   "outputs": [],
   "source": []
  },
  {
   "cell_type": "markdown",
   "id": "1ac19dd3",
   "metadata": {},
   "source": [
    "### 60. Stack and unstack a DataFrame."
   ]
  },
  {
   "cell_type": "code",
   "execution_count": null,
   "id": "8c0fc935",
   "metadata": {},
   "outputs": [],
   "source": []
  },
  {
   "cell_type": "markdown",
   "id": "038c7d85",
   "metadata": {},
   "source": [
    "### 61. Sort a DataFrame based on a single column in ascending order."
   ]
  },
  {
   "cell_type": "code",
   "execution_count": null,
   "id": "17512eea",
   "metadata": {},
   "outputs": [],
   "source": []
  },
  {
   "cell_type": "markdown",
   "id": "fcfcea3b",
   "metadata": {},
   "source": [
    "### 62. Sort a DataFrame by multiple columns."
   ]
  },
  {
   "cell_type": "code",
   "execution_count": null,
   "id": "876375ca",
   "metadata": {},
   "outputs": [],
   "source": []
  },
  {
   "cell_type": "markdown",
   "id": "9ae9b0f9",
   "metadata": {},
   "source": [
    "### 63. Sort a DataFrame in descending order."
   ]
  },
  {
   "cell_type": "code",
   "execution_count": null,
   "id": "146bf384",
   "metadata": {},
   "outputs": [],
   "source": []
  },
  {
   "cell_type": "markdown",
   "id": "252c010f",
   "metadata": {},
   "source": [
    "### 64. Rank values in a column."
   ]
  },
  {
   "cell_type": "code",
   "execution_count": null,
   "id": "ff3a020f",
   "metadata": {},
   "outputs": [],
   "source": []
  },
  {
   "cell_type": "markdown",
   "id": "ee8ea63e",
   "metadata": {},
   "source": [
    "### 65. Get the row with the highest value in a specific column."
   ]
  },
  {
   "cell_type": "code",
   "execution_count": null,
   "id": "029e740e",
   "metadata": {},
   "outputs": [],
   "source": []
  },
  {
   "cell_type": "code",
   "execution_count": null,
   "id": "cb15242b",
   "metadata": {},
   "outputs": [],
   "source": []
  },
  {
   "cell_type": "code",
   "execution_count": null,
   "id": "d296a838",
   "metadata": {},
   "outputs": [],
   "source": []
  },
  {
   "cell_type": "markdown",
   "id": "8fa4d242",
   "metadata": {},
   "source": [
    "### 66. Get the row with the lowest value in a specific column."
   ]
  },
  {
   "cell_type": "code",
   "execution_count": null,
   "id": "e5f77140",
   "metadata": {},
   "outputs": [],
   "source": []
  },
  {
   "cell_type": "markdown",
   "id": "a9db6288",
   "metadata": {},
   "source": [
    "### 67. Shuffle the rows of a DataFrame randomly."
   ]
  },
  {
   "cell_type": "code",
   "execution_count": null,
   "id": "edb3ba98",
   "metadata": {},
   "outputs": [],
   "source": []
  },
  {
   "cell_type": "markdown",
   "id": "c7066c12",
   "metadata": {},
   "source": [
    "### 68. Reset the index of a DataFrame."
   ]
  },
  {
   "cell_type": "code",
   "execution_count": null,
   "id": "ae62b370",
   "metadata": {},
   "outputs": [],
   "source": []
  },
  {
   "cell_type": "markdown",
   "id": "0d3440ff",
   "metadata": {},
   "source": [
    "### 69. Set a column as the index of a DataFrame."
   ]
  },
  {
   "cell_type": "code",
   "execution_count": null,
   "id": "38e0ee6a",
   "metadata": {},
   "outputs": [],
   "source": []
  },
  {
   "cell_type": "markdown",
   "id": "dae1bb2e",
   "metadata": {},
   "source": [
    "### 70. Sort index values in a DataFrame."
   ]
  },
  {
   "cell_type": "code",
   "execution_count": null,
   "id": "19674b1e",
   "metadata": {},
   "outputs": [],
   "source": []
  },
  {
   "cell_type": "markdown",
   "id": "e2e155ce",
   "metadata": {},
   "source": [
    "### 71. Plot a simple line chart from a DataFrame."
   ]
  },
  {
   "cell_type": "code",
   "execution_count": null,
   "id": "fc5a5dcb",
   "metadata": {},
   "outputs": [],
   "source": []
  },
  {
   "cell_type": "markdown",
   "id": "606bcd67",
   "metadata": {},
   "source": [
    "### 72. Create a bar plot for a categorical column."
   ]
  },
  {
   "cell_type": "code",
   "execution_count": null,
   "id": "00cc9ab5",
   "metadata": {},
   "outputs": [],
   "source": []
  },
  {
   "cell_type": "markdown",
   "id": "b0e77bd3",
   "metadata": {},
   "source": [
    "### 73. Generate a histogram for a numerical column."
   ]
  },
  {
   "cell_type": "code",
   "execution_count": null,
   "id": "c36276bc",
   "metadata": {},
   "outputs": [],
   "source": []
  },
  {
   "cell_type": "markdown",
   "id": "a8c325c6",
   "metadata": {},
   "source": [
    "### 74. Create a scatter plot between two numerical columns."
   ]
  },
  {
   "cell_type": "code",
   "execution_count": null,
   "id": "5bd8781d",
   "metadata": {},
   "outputs": [],
   "source": []
  },
  {
   "cell_type": "markdown",
   "id": "ff96c18f",
   "metadata": {},
   "source": [
    "### 75. Generate a box plot for a column."
   ]
  },
  {
   "cell_type": "code",
   "execution_count": null,
   "id": "fcffea40",
   "metadata": {},
   "outputs": [],
   "source": []
  },
  {
   "cell_type": "markdown",
   "id": "c59aae96",
   "metadata": {},
   "source": [
    "### 76. Create a pie chart using Pandas."
   ]
  },
  {
   "cell_type": "code",
   "execution_count": null,
   "id": "e8df2142",
   "metadata": {},
   "outputs": [],
   "source": []
  },
  {
   "cell_type": "markdown",
   "id": "32567f4d",
   "metadata": {},
   "source": [
    "### 77. Visualize the correlation matrix of a DataFrame."
   ]
  },
  {
   "cell_type": "code",
   "execution_count": null,
   "id": "0fe3f4e8",
   "metadata": {},
   "outputs": [],
   "source": []
  },
  {
   "cell_type": "markdown",
   "id": "642ff4fb",
   "metadata": {},
   "source": [
    "### 78. Plot multiple line charts in a single figure."
   ]
  },
  {
   "cell_type": "code",
   "execution_count": null,
   "id": "77919520",
   "metadata": {},
   "outputs": [],
   "source": []
  },
  {
   "cell_type": "markdown",
   "id": "12101641",
   "metadata": {},
   "source": [
    "### 79. Change the style and color of a plot."
   ]
  },
  {
   "cell_type": "code",
   "execution_count": null,
   "id": "8b64bf6f",
   "metadata": {},
   "outputs": [],
   "source": []
  },
  {
   "cell_type": "markdown",
   "id": "25a5002e",
   "metadata": {},
   "source": [
    "### 80. Save a plot as an image file."
   ]
  },
  {
   "cell_type": "code",
   "execution_count": null,
   "id": "ee273d58",
   "metadata": {},
   "outputs": [],
   "source": []
  },
  {
   "cell_type": "markdown",
   "id": "94bb4d28",
   "metadata": {},
   "source": [
    "### 81. Use a MultiIndex in a DataFrame."
   ]
  },
  {
   "cell_type": "code",
   "execution_count": null,
   "id": "f6c510a7",
   "metadata": {},
   "outputs": [],
   "source": []
  },
  {
   "cell_type": "markdown",
   "id": "cdbfcaab",
   "metadata": {},
   "source": [
    "### 82. Work with time-series data and resample it."
   ]
  },
  {
   "cell_type": "code",
   "execution_count": null,
   "id": "5be96b3b",
   "metadata": {},
   "outputs": [],
   "source": []
  },
  {
   "cell_type": "markdown",
   "id": "15bcb824",
   "metadata": {},
   "source": [
    "### 83. Calculate the rolling mean of a column."
   ]
  },
  {
   "cell_type": "code",
   "execution_count": null,
   "id": "b6c8e15c",
   "metadata": {},
   "outputs": [],
   "source": []
  },
  {
   "cell_type": "markdown",
   "id": "74a29342",
   "metadata": {},
   "source": [
    "### 84. Perform cross-tabulation of two columns."
   ]
  },
  {
   "cell_type": "code",
   "execution_count": null,
   "id": "f0f20b35",
   "metadata": {},
   "outputs": [],
   "source": []
  },
  {
   "cell_type": "markdown",
   "id": "7f86079b",
   "metadata": {},
   "source": [
    "### 85. Create a pivot table from a DataFrame."
   ]
  },
  {
   "cell_type": "code",
   "execution_count": null,
   "id": "2c470655",
   "metadata": {},
   "outputs": [],
   "source": []
  },
  {
   "cell_type": "markdown",
   "id": "6ec2b793",
   "metadata": {},
   "source": [
    "### 86. Apply a lambda function to a DataFrame."
   ]
  },
  {
   "cell_type": "code",
   "execution_count": null,
   "id": "dac5e518",
   "metadata": {},
   "outputs": [],
   "source": []
  },
  {
   "cell_type": "markdown",
   "id": "d69b316f",
   "metadata": {},
   "source": [
    "### 87. Find and remove outliers using IQR method."
   ]
  },
  {
   "cell_type": "code",
   "execution_count": null,
   "id": "46c981bb",
   "metadata": {},
   "outputs": [],
   "source": []
  },
  {
   "cell_type": "markdown",
   "id": "cdbc60f1",
   "metadata": {},
   "source": [
    "### 88. Detect and replace outliers using the Z-score method."
   ]
  },
  {
   "cell_type": "code",
   "execution_count": null,
   "id": "9e2e67d1",
   "metadata": {},
   "outputs": [],
   "source": []
  },
  {
   "cell_type": "markdown",
   "id": "fa01cc7d",
   "metadata": {},
   "source": [
    "### 89. Compute weighted averages using Pandas."
   ]
  },
  {
   "cell_type": "code",
   "execution_count": null,
   "id": "c3b895a0",
   "metadata": {},
   "outputs": [],
   "source": []
  },
  {
   "cell_type": "code",
   "execution_count": null,
   "id": "bbb69e81",
   "metadata": {},
   "outputs": [],
   "source": []
  },
  {
   "cell_type": "markdown",
   "id": "c6fd0a69",
   "metadata": {},
   "source": [
    "### 90. Convert a DataFrame from wide to long format."
   ]
  },
  {
   "cell_type": "code",
   "execution_count": null,
   "id": "6f68de82",
   "metadata": {},
   "outputs": [],
   "source": []
  },
  {
   "cell_type": "markdown",
   "id": "bc23b3bf",
   "metadata": {},
   "source": [
    "### 91. Read a large CSV file in chunks using `chunksize`."
   ]
  },
  {
   "cell_type": "code",
   "execution_count": null,
   "id": "cde213ed",
   "metadata": {},
   "outputs": [],
   "source": []
  },
  {
   "cell_type": "markdown",
   "id": "6d1b5cce",
   "metadata": {},
   "source": [
    "### 92. Use `astype('category')` to optimize memory usage."
   ]
  },
  {
   "cell_type": "code",
   "execution_count": null,
   "id": "8ff6b207",
   "metadata": {},
   "outputs": [],
   "source": []
  },
  {
   "cell_type": "markdown",
   "id": "af4aa1b4",
   "metadata": {},
   "source": [
    "### 93. Convert a DataFrame to a dictionary."
   ]
  },
  {
   "cell_type": "code",
   "execution_count": null,
   "id": "3acdd23e",
   "metadata": {},
   "outputs": [],
   "source": []
  },
  {
   "cell_type": "markdown",
   "id": "8afcb8da",
   "metadata": {},
   "source": [
    "### 94. Use `to_parquet()` for faster storage than CSV."
   ]
  },
  {
   "cell_type": "code",
   "execution_count": null,
   "id": "b726e2b3",
   "metadata": {},
   "outputs": [],
   "source": []
  },
  {
   "cell_type": "markdown",
   "id": "ebcb1b5b",
   "metadata": {},
   "source": [
    "### 95. Use `query()` for fast filtering instead of Boolean indexing."
   ]
  },
  {
   "cell_type": "code",
   "execution_count": null,
   "id": "d23406c7",
   "metadata": {},
   "outputs": [],
   "source": []
  },
  {
   "cell_type": "markdown",
   "id": "ede102c1",
   "metadata": {},
   "source": [
    "### 96. Use `explode()` to split lists in a column into separate rows."
   ]
  },
  {
   "cell_type": "code",
   "execution_count": null,
   "id": "c841b91f",
   "metadata": {},
   "outputs": [],
   "source": []
  },
  {
   "cell_type": "markdown",
   "id": "85e45f47",
   "metadata": {},
   "source": [
    "### 97. Convert timestamps to Unix format for efficiency."
   ]
  },
  {
   "cell_type": "code",
   "execution_count": null,
   "id": "7d01d20d",
   "metadata": {},
   "outputs": [],
   "source": []
  },
  {
   "cell_type": "markdown",
   "id": "c4439f34",
   "metadata": {},
   "source": [
    "### 98. Parallelize Pandas operations using `modin.pandas`."
   ]
  },
  {
   "cell_type": "code",
   "execution_count": null,
   "id": "3d214eae",
   "metadata": {},
   "outputs": [],
   "source": []
  },
  {
   "cell_type": "markdown",
   "id": "3364dc63",
   "metadata": {},
   "source": [
    "### 99. Use `memory_usage()` to check DataFrame memory consumption."
   ]
  },
  {
   "cell_type": "code",
   "execution_count": null,
   "id": "c5d97faf",
   "metadata": {},
   "outputs": [],
   "source": []
  },
  {
   "cell_type": "markdown",
   "id": "b32ef171",
   "metadata": {},
   "source": [
    "### 100. Use `df.style.format()` to display numbers with specific formatting."
   ]
  },
  {
   "cell_type": "code",
   "execution_count": null,
   "id": "d6aa132e",
   "metadata": {},
   "outputs": [],
   "source": []
  }
 ],
 "metadata": {
  "kernelspec": {
   "display_name": "Python 3",
   "language": "python",
   "name": "python3"
  },
  "language_info": {
   "codemirror_mode": {
    "name": "ipython",
    "version": 3
   },
   "file_extension": ".py",
   "mimetype": "text/x-python",
   "name": "python",
   "nbconvert_exporter": "python",
   "pygments_lexer": "ipython3",
   "version": "3.13.1"
  }
 },
 "nbformat": 4,
 "nbformat_minor": 5
}
