{
 "cells": [
  {
   "cell_type": "markdown",
   "id": "27c01251",
   "metadata": {},
   "source": [
    "### Basic NumPy Operations"
   ]
  },
  {
   "cell_type": "markdown",
   "id": "5389171e",
   "metadata": {},
   "source": [
    "1. Import NumPy and check its version."
   ]
  },
  {
   "cell_type": "code",
   "execution_count": null,
   "id": "42b74d12",
   "metadata": {},
   "outputs": [],
   "source": []
  },
  {
   "cell_type": "markdown",
   "id": "4c01be87",
   "metadata": {},
   "source": [
    "2. Create a NumPy array of integers from 1 to 10."
   ]
  },
  {
   "cell_type": "code",
   "execution_count": null,
   "id": "4e3384ce",
   "metadata": {},
   "outputs": [],
   "source": []
  },
  {
   "cell_type": "markdown",
   "id": "19191fcb",
   "metadata": {},
   "source": [
    "3. Convert a list `[1, 2, 3, 4, 5]` into a NumPy array."
   ]
  },
  {
   "cell_type": "code",
   "execution_count": null,
   "id": "661407ca",
   "metadata": {},
   "outputs": [],
   "source": []
  },
  {
   "cell_type": "markdown",
   "id": "a6c591ba",
   "metadata": {},
   "source": [
    "4. Create a NumPy array filled with zeros of shape `(3,4)`."
   ]
  },
  {
   "cell_type": "code",
   "execution_count": null,
   "id": "6242b0cd",
   "metadata": {},
   "outputs": [],
   "source": []
  },
  {
   "cell_type": "markdown",
   "id": "a60461df",
   "metadata": {},
   "source": [
    "5. Create a NumPy array filled with ones of shape `(2,3)`."
   ]
  },
  {
   "cell_type": "code",
   "execution_count": null,
   "id": "112636bd",
   "metadata": {},
   "outputs": [],
   "source": []
  },
  {
   "cell_type": "markdown",
   "id": "66a2a61f",
   "metadata": {},
   "source": [
    "6. Create a NumPy array filled with random values between 0 and 1 of shape `(4,4)`."
   ]
  },
  {
   "cell_type": "code",
   "execution_count": null,
   "id": "d69215fc",
   "metadata": {},
   "outputs": [],
   "source": []
  },
  {
   "cell_type": "markdown",
   "id": "c774a67c",
   "metadata": {},
   "source": [
    "7. Generate an array with values from 10 to 50."
   ]
  },
  {
   "cell_type": "code",
   "execution_count": null,
   "id": "776543cc",
   "metadata": {},
   "outputs": [],
   "source": []
  },
  {
   "cell_type": "markdown",
   "id": "aee96501",
   "metadata": {},
   "source": [
    "8. Create an array of even numbers from 2 to 20."
   ]
  },
  {
   "cell_type": "code",
   "execution_count": null,
   "id": "96dd42f2",
   "metadata": {},
   "outputs": [],
   "source": []
  },
  {
   "cell_type": "markdown",
   "id": "31b9b643",
   "metadata": {},
   "source": [
    "9. Reverse an array `[1, 2, 3, 4, 5]` using NumPy."
   ]
  },
  {
   "cell_type": "code",
   "execution_count": null,
   "id": "31546030",
   "metadata": {},
   "outputs": [],
   "source": []
  },
  {
   "cell_type": "markdown",
   "id": "7b872661",
   "metadata": {},
   "source": [
    "10. Reshape an array of 12 elements into a 3×4 matrix."
   ]
  },
  {
   "cell_type": "code",
   "execution_count": null,
   "id": "2480ccc7",
   "metadata": {},
   "outputs": [],
   "source": []
  },
  {
   "cell_type": "markdown",
   "id": "578f86e4",
   "metadata": {},
   "source": [
    "### Array Indexing and Slicing"
   ]
  },
  {
   "cell_type": "markdown",
   "id": "51265a8b",
   "metadata": {},
   "source": [
    "11. Extract the first three elements from a NumPy array `[10, 20, 30, 40, 50]`."
   ]
  },
  {
   "cell_type": "code",
   "execution_count": null,
   "id": "9ee19589",
   "metadata": {},
   "outputs": [],
   "source": []
  },
  {
   "cell_type": "markdown",
   "id": "eb55072c",
   "metadata": {},
   "source": [
    "12. Extract all even-indexed elements from `[1, 2, 3, 4, 5, 6, 7, 8]`."
   ]
  },
  {
   "cell_type": "code",
   "execution_count": null,
   "id": "d781191c",
   "metadata": {},
   "outputs": [],
   "source": []
  },
  {
   "cell_type": "markdown",
   "id": "dec64d7f",
   "metadata": {},
   "source": [
    "13. Extract all odd numbers from a NumPy array `[1, 2, 3, 4, 5, 6, 7, 8]`."
   ]
  },
  {
   "cell_type": "code",
   "execution_count": null,
   "id": "b02b2b5d",
   "metadata": {},
   "outputs": [],
   "source": []
  },
  {
   "cell_type": "markdown",
   "id": "f6fb70cb",
   "metadata": {},
   "source": [
    "14. Extract numbers greater than 5 from `[2, 4, 6, 8, 10]`."
   ]
  },
  {
   "cell_type": "code",
   "execution_count": null,
   "id": "75eff54a",
   "metadata": {},
   "outputs": [],
   "source": []
  },
  {
   "cell_type": "markdown",
   "id": "78f06a65",
   "metadata": {},
   "source": [
    "15. Replace all odd numbers in an array with `-1`."
   ]
  },
  {
   "cell_type": "code",
   "execution_count": null,
   "id": "b794cb23",
   "metadata": {},
   "outputs": [],
   "source": []
  },
  {
   "cell_type": "markdown",
   "id": "806272cd",
   "metadata": {},
   "source": [
    "16. Replace all values greater than 50 in an array with `100`."
   ]
  },
  {
   "cell_type": "code",
   "execution_count": null,
   "id": "ff4a07f6",
   "metadata": {},
   "outputs": [],
   "source": []
  },
  {
   "cell_type": "markdown",
   "id": "f463eb88",
   "metadata": {},
   "source": [
    "17. Extract a 2×2 subarray from a 3×3 matrix."
   ]
  },
  {
   "cell_type": "code",
   "execution_count": null,
   "id": "d9e7cbd6",
   "metadata": {},
   "outputs": [],
   "source": []
  },
  {
   "cell_type": "markdown",
   "id": "296fdeda",
   "metadata": {},
   "source": [
    "18. Replace all even numbers in an array with 0."
   ]
  },
  {
   "cell_type": "code",
   "execution_count": null,
   "id": "7ceb7ca2",
   "metadata": {},
   "outputs": [],
   "source": []
  },
  {
   "cell_type": "markdown",
   "id": "601f3101",
   "metadata": {},
   "source": [
    "19. Convert a 1D array to a 2D column vector."
   ]
  },
  {
   "cell_type": "code",
   "execution_count": null,
   "id": "d6a62a38",
   "metadata": {},
   "outputs": [],
   "source": []
  },
  {
   "cell_type": "markdown",
   "id": "d38fae9f",
   "metadata": {},
   "source": [
    "20. Convert a 1D array to a 2D row vector."
   ]
  },
  {
   "cell_type": "code",
   "execution_count": null,
   "id": "a5688eba",
   "metadata": {},
   "outputs": [],
   "source": []
  },
  {
   "cell_type": "markdown",
   "id": "27ad90f9",
   "metadata": {},
   "source": [
    "### Mathematical Operations"
   ]
  },
  {
   "cell_type": "markdown",
   "id": "9e623f2a",
   "metadata": {},
   "source": [
    "21. Add two NumPy arrays element-wise."
   ]
  },
  {
   "cell_type": "code",
   "execution_count": null,
   "id": "f8458d24",
   "metadata": {},
   "outputs": [],
   "source": []
  },
  {
   "cell_type": "markdown",
   "id": "de690172",
   "metadata": {},
   "source": [
    "22. Subtract two NumPy arrays element-wise."
   ]
  },
  {
   "cell_type": "code",
   "execution_count": null,
   "id": "18497940",
   "metadata": {},
   "outputs": [],
   "source": []
  },
  {
   "cell_type": "markdown",
   "id": "647a71e0",
   "metadata": {},
   "source": [
    "23. Multiply two NumPy arrays element-wise."
   ]
  },
  {
   "cell_type": "code",
   "execution_count": null,
   "id": "aa4833b7",
   "metadata": {},
   "outputs": [],
   "source": []
  },
  {
   "cell_type": "markdown",
   "id": "f6d5fe8d",
   "metadata": {},
   "source": [
    "24. Divide two NumPy arrays element-wise."
   ]
  },
  {
   "cell_type": "code",
   "execution_count": null,
   "id": "fb32b88d",
   "metadata": {},
   "outputs": [],
   "source": []
  },
  {
   "cell_type": "markdown",
   "id": "aad0e212",
   "metadata": {},
   "source": [
    "25. Compute the dot product of two NumPy arrays."
   ]
  },
  {
   "cell_type": "code",
   "execution_count": null,
   "id": "74bcfbe0",
   "metadata": {},
   "outputs": [],
   "source": []
  },
  {
   "cell_type": "markdown",
   "id": "f571beab",
   "metadata": {},
   "source": [
    "26. Compute the sum of all elements in an array."
   ]
  },
  {
   "cell_type": "code",
   "execution_count": null,
   "id": "8b50b207",
   "metadata": {},
   "outputs": [],
   "source": []
  },
  {
   "cell_type": "markdown",
   "id": "50c50e09",
   "metadata": {},
   "source": [
    "27. Compute the mean of a NumPy array."
   ]
  },
  {
   "cell_type": "code",
   "execution_count": null,
   "id": "9bcfe37e",
   "metadata": {},
   "outputs": [],
   "source": []
  },
  {
   "cell_type": "markdown",
   "id": "4129309d",
   "metadata": {},
   "source": [
    "28. Compute the standard deviation of a NumPy array."
   ]
  },
  {
   "cell_type": "code",
   "execution_count": null,
   "id": "59824c28",
   "metadata": {},
   "outputs": [],
   "source": []
  },
  {
   "cell_type": "markdown",
   "id": "3d4fe4d4",
   "metadata": {},
   "source": [
    "29. Compute the maximum and minimum values of an array."
   ]
  },
  {
   "cell_type": "code",
   "execution_count": null,
   "id": "82723323",
   "metadata": {},
   "outputs": [],
   "source": []
  },
  {
   "cell_type": "markdown",
   "id": "89779051",
   "metadata": {},
   "source": [
    "30. Find the index of the maximum value in an array."
   ]
  },
  {
   "cell_type": "code",
   "execution_count": null,
   "id": "0a697ffc",
   "metadata": {},
   "outputs": [],
   "source": []
  },
  {
   "cell_type": "markdown",
   "id": "325e4dad",
   "metadata": {},
   "source": [
    "31. Find the index of the minimum value in an array."
   ]
  },
  {
   "cell_type": "code",
   "execution_count": null,
   "id": "c9e48ae6",
   "metadata": {},
   "outputs": [],
   "source": []
  },
  {
   "cell_type": "markdown",
   "id": "ae39245f",
   "metadata": {},
   "source": [
    "32. Compute the cumulative sum of an array."
   ]
  },
  {
   "cell_type": "code",
   "execution_count": null,
   "id": "9defbbdb",
   "metadata": {},
   "outputs": [],
   "source": []
  },
  {
   "cell_type": "markdown",
   "id": "0144e8e7",
   "metadata": {},
   "source": [
    "33. Compute the cumulative product of an array."
   ]
  },
  {
   "cell_type": "code",
   "execution_count": null,
   "id": "cc5ad1b7",
   "metadata": {},
   "outputs": [],
   "source": []
  },
  {
   "cell_type": "markdown",
   "id": "62a717e8",
   "metadata": {},
   "source": [
    "34. Normalize an array (scale values between 0 and 1)."
   ]
  },
  {
   "cell_type": "code",
   "execution_count": null,
   "id": "2ad46ada",
   "metadata": {},
   "outputs": [],
   "source": []
  },
  {
   "cell_type": "markdown",
   "id": "8ed5c302",
   "metadata": {},
   "source": [
    "35. Compute the square root of each element in an array."
   ]
  },
  {
   "cell_type": "code",
   "execution_count": null,
   "id": "afca1003",
   "metadata": {},
   "outputs": [],
   "source": []
  },
  {
   "cell_type": "markdown",
   "id": "37d1f303",
   "metadata": {},
   "source": [
    "36. Compute the exponential (e^x) of each element in an array."
   ]
  },
  {
   "cell_type": "code",
   "execution_count": null,
   "id": "55fbba75",
   "metadata": {},
   "outputs": [],
   "source": []
  },
  {
   "cell_type": "markdown",
   "id": "29f3f511",
   "metadata": {},
   "source": [
    "37. Compute the natural logarithm of each element in an array."
   ]
  },
  {
   "cell_type": "code",
   "execution_count": null,
   "id": "3e789876",
   "metadata": {},
   "outputs": [],
   "source": []
  },
  {
   "cell_type": "markdown",
   "id": "6fa21f2d",
   "metadata": {},
   "source": [
    "38. Round an array to 2 decimal places."
   ]
  },
  {
   "cell_type": "code",
   "execution_count": null,
   "id": "8e5a2cc9",
   "metadata": {},
   "outputs": [],
   "source": []
  },
  {
   "cell_type": "markdown",
   "id": "1b29e085",
   "metadata": {},
   "source": [
    "39. Compute the absolute value of an array."
   ]
  },
  {
   "cell_type": "code",
   "execution_count": null,
   "id": "66a81066",
   "metadata": {},
   "outputs": [],
   "source": []
  },
  {
   "cell_type": "markdown",
   "id": "ce895568",
   "metadata": {},
   "source": [
    "40. Generate a NumPy array of 100 linearly spaced numbers between 0 and 10."
   ]
  },
  {
   "cell_type": "code",
   "execution_count": null,
   "id": "f90bc3c0",
   "metadata": {},
   "outputs": [],
   "source": []
  },
  {
   "cell_type": "markdown",
   "id": "546c1071",
   "metadata": {},
   "source": [
    "### Linear Algebra with NumPy"
   ]
  },
  {
   "cell_type": "markdown",
   "id": "0767ea9a",
   "metadata": {},
   "source": [
    "41. Create a 3×3 identity matrix."
   ]
  },
  {
   "cell_type": "code",
   "execution_count": null,
   "id": "b87d5897",
   "metadata": {},
   "outputs": [],
   "source": []
  },
  {
   "cell_type": "markdown",
   "id": "0574053c",
   "metadata": {},
   "source": [
    "42. Compute the determinant of a square matrix."
   ]
  },
  {
   "cell_type": "code",
   "execution_count": null,
   "id": "83f231d7",
   "metadata": {},
   "outputs": [],
   "source": []
  },
  {
   "cell_type": "markdown",
   "id": "3f61623c",
   "metadata": {},
   "source": [
    "43. Compute the inverse of a square matrix."
   ]
  },
  {
   "cell_type": "code",
   "execution_count": null,
   "id": "7e811553",
   "metadata": {},
   "outputs": [],
   "source": []
  },
  {
   "cell_type": "markdown",
   "id": "adbce0de",
   "metadata": {},
   "source": [
    "44. Compute the eigenvalues and eigenvectors of a matrix."
   ]
  },
  {
   "cell_type": "code",
   "execution_count": null,
   "id": "d9c7cca5",
   "metadata": {},
   "outputs": [],
   "source": []
  },
  {
   "cell_type": "markdown",
   "id": "cc46b68a",
   "metadata": {},
   "source": [
    "45. Compute the rank of a matrix."
   ]
  },
  {
   "cell_type": "code",
   "execution_count": null,
   "id": "47632c70",
   "metadata": {},
   "outputs": [],
   "source": []
  },
  {
   "cell_type": "markdown",
   "id": "8172cc51",
   "metadata": {},
   "source": [
    "46. Perform singular value decomposition (SVD) on a matrix."
   ]
  },
  {
   "cell_type": "code",
   "execution_count": null,
   "id": "52cf8b03",
   "metadata": {},
   "outputs": [],
   "source": []
  },
  {
   "cell_type": "markdown",
   "id": "483f464c",
   "metadata": {},
   "source": [
    "47. Solve a system of linear equations using NumPy."
   ]
  },
  {
   "cell_type": "code",
   "execution_count": null,
   "id": "a339ecab",
   "metadata": {},
   "outputs": [],
   "source": []
  },
  {
   "cell_type": "markdown",
   "id": "aa6e8216",
   "metadata": {},
   "source": [
    "48. Compute the Frobenius norm of a matrix."
   ]
  },
  {
   "cell_type": "code",
   "execution_count": null,
   "id": "c3bc7efd",
   "metadata": {},
   "outputs": [],
   "source": []
  },
  {
   "cell_type": "markdown",
   "id": "95a3f6d3",
   "metadata": {},
   "source": [
    "49. Compute the trace of a square matrix."
   ]
  },
  {
   "cell_type": "code",
   "execution_count": null,
   "id": "aedc8b33",
   "metadata": {},
   "outputs": [],
   "source": []
  },
  {
   "cell_type": "markdown",
   "id": "efdbbbd2",
   "metadata": {},
   "source": [
    "50. Compute the cross product of two vectors."
   ]
  },
  {
   "cell_type": "code",
   "execution_count": null,
   "id": "aae73585",
   "metadata": {},
   "outputs": [],
   "source": []
  },
  {
   "cell_type": "markdown",
   "id": "37fe20f1",
   "metadata": {},
   "source": [
    "### Random Number Generation"
   ]
  },
  {
   "cell_type": "markdown",
   "id": "475e69c9",
   "metadata": {},
   "source": [
    "51. Generate a random integer between 1 and 100."
   ]
  },
  {
   "cell_type": "code",
   "execution_count": null,
   "id": "e116d473",
   "metadata": {},
   "outputs": [],
   "source": []
  },
  {
   "cell_type": "markdown",
   "id": "117c402a",
   "metadata": {},
   "source": [
    "52. Generate a 5×5 matrix of random integers between 1 and 50."
   ]
  },
  {
   "cell_type": "code",
   "execution_count": null,
   "id": "d7b12872",
   "metadata": {},
   "outputs": [],
   "source": []
  },
  {
   "cell_type": "markdown",
   "id": "59710f13",
   "metadata": {},
   "source": [
    "53. Generate an array of 10 random numbers from a normal distribution."
   ]
  },
  {
   "cell_type": "code",
   "execution_count": null,
   "id": "94b10349",
   "metadata": {},
   "outputs": [],
   "source": []
  },
  {
   "cell_type": "markdown",
   "id": "9f523800",
   "metadata": {},
   "source": [
    "54. Shuffle the elements of a NumPy array randomly."
   ]
  },
  {
   "cell_type": "code",
   "execution_count": null,
   "id": "32a6a7d5",
   "metadata": {},
   "outputs": [],
   "source": []
  },
  {
   "cell_type": "markdown",
   "id": "16f53787",
   "metadata": {},
   "source": [
    "55. Set a random seed for reproducibility."
   ]
  },
  {
   "cell_type": "code",
   "execution_count": null,
   "id": "e85cd517",
   "metadata": {},
   "outputs": [],
   "source": []
  },
  {
   "cell_type": "markdown",
   "id": "5befdb74",
   "metadata": {},
   "source": [
    "56. Generate a 2×3 array of random floats between 0 and 1."
   ]
  },
  {
   "cell_type": "code",
   "execution_count": null,
   "id": "f43e6929",
   "metadata": {},
   "outputs": [],
   "source": []
  },
  {
   "cell_type": "markdown",
   "id": "4219c5dc",
   "metadata": {},
   "source": [
    "57. Sample 5 random elements from an array."
   ]
  },
  {
   "cell_type": "code",
   "execution_count": null,
   "id": "c05bfbbc",
   "metadata": {},
   "outputs": [],
   "source": []
  },
  {
   "cell_type": "markdown",
   "id": "ccdb7cb0",
   "metadata": {},
   "source": [
    "58. Generate a permutation of numbers from 1 to 10."
   ]
  },
  {
   "cell_type": "code",
   "execution_count": null,
   "id": "25a2c45f",
   "metadata": {},
   "outputs": [],
   "source": []
  },
  {
   "cell_type": "markdown",
   "id": "ae41116e",
   "metadata": {},
   "source": [
    "59. Create a NumPy array with random values and replace all values below 0.5 with 0."
   ]
  },
  {
   "cell_type": "code",
   "execution_count": null,
   "id": "792b646b",
   "metadata": {},
   "outputs": [],
   "source": []
  },
  {
   "cell_type": "markdown",
   "id": "3ba24f28",
   "metadata": {},
   "source": [
    "60. Simulate rolling a die 100 times and find the frequency of each outcome."
   ]
  },
  {
   "cell_type": "code",
   "execution_count": null,
   "id": "32702ed3",
   "metadata": {},
   "outputs": [],
   "source": []
  },
  {
   "cell_type": "markdown",
   "id": "2516b115",
   "metadata": {},
   "source": [
    "### Boolean Indexing and Filtering"
   ]
  },
  {
   "cell_type": "markdown",
   "id": "aa6bd9d4",
   "metadata": {},
   "source": [
    "61. Create a Boolean mask for values greater than 50 in an array."
   ]
  },
  {
   "cell_type": "code",
   "execution_count": null,
   "id": "33b9261d",
   "metadata": {},
   "outputs": [],
   "source": []
  },
  {
   "cell_type": "markdown",
   "id": "24dbcad6",
   "metadata": {},
   "source": [
    "62. Extract elements from an array that satisfy a condition."
   ]
  },
  {
   "cell_type": "code",
   "execution_count": null,
   "id": "c3e72565",
   "metadata": {},
   "outputs": [],
   "source": []
  },
  {
   "cell_type": "markdown",
   "id": "bb0210c7",
   "metadata": {},
   "source": [
    "63. Replace values less than 10 in an array with their square."
   ]
  },
  {
   "cell_type": "code",
   "execution_count": null,
   "id": "bbdfdb4b",
   "metadata": {},
   "outputs": [],
   "source": []
  },
  {
   "cell_type": "markdown",
   "id": "51372bb0",
   "metadata": {},
   "source": [
    "64. Count the number of nonzero elements in an array."
   ]
  },
  {
   "cell_type": "code",
   "execution_count": null,
   "id": "f698bf49",
   "metadata": {},
   "outputs": [],
   "source": []
  },
  {
   "cell_type": "markdown",
   "id": "655e1cdc",
   "metadata": {},
   "source": [
    "65. Count the number of elements that satisfy a condition."
   ]
  },
  {
   "cell_type": "code",
   "execution_count": null,
   "id": "1dbebc50",
   "metadata": {},
   "outputs": [],
   "source": []
  },
  {
   "cell_type": "markdown",
   "id": "05564591",
   "metadata": {},
   "source": [
    "66. Check if any value in an array is greater than 100."
   ]
  },
  {
   "cell_type": "code",
   "execution_count": null,
   "id": "01af7576",
   "metadata": {},
   "outputs": [],
   "source": []
  },
  {
   "cell_type": "markdown",
   "id": "ee6a27d4",
   "metadata": {},
   "source": [
    "67. Check if all values in an array are positive."
   ]
  },
  {
   "cell_type": "code",
   "execution_count": null,
   "id": "eb3dfd04",
   "metadata": {},
   "outputs": [],
   "source": []
  },
  {
   "cell_type": "markdown",
   "id": "3ae6a1ec",
   "metadata": {},
   "source": [
    "68. Find the indices where an array has negative values."
   ]
  },
  {
   "cell_type": "code",
   "execution_count": null,
   "id": "245e6591",
   "metadata": {},
   "outputs": [],
   "source": []
  },
  {
   "cell_type": "markdown",
   "id": "6a5b4429",
   "metadata": {},
   "source": [
    "69. Convert a Boolean array into integers (0 and 1)."
   ]
  },
  {
   "cell_type": "code",
   "execution_count": null,
   "id": "79ded572",
   "metadata": {},
   "outputs": [],
   "source": []
  },
  {
   "cell_type": "markdown",
   "id": "cd323abc",
   "metadata": {},
   "source": [
    "70. Find the most frequent value in an array."
   ]
  },
  {
   "cell_type": "code",
   "execution_count": null,
   "id": "a018f9b0",
   "metadata": {},
   "outputs": [],
   "source": []
  },
  {
   "cell_type": "markdown",
   "id": "5a0b8d09",
   "metadata": {},
   "source": [
    "### Advanced NumPy Operations"
   ]
  },
  {
   "cell_type": "markdown",
   "id": "1af45d7f",
   "metadata": {},
   "source": [
    "71. Stack two NumPy arrays vertically."
   ]
  },
  {
   "cell_type": "code",
   "execution_count": null,
   "id": "db65099c",
   "metadata": {},
   "outputs": [],
   "source": []
  },
  {
   "cell_type": "markdown",
   "id": "c060a985",
   "metadata": {},
   "source": [
    "72. Stack two NumPy arrays horizontally."
   ]
  },
  {
   "cell_type": "code",
   "execution_count": null,
   "id": "496c79de",
   "metadata": {},
   "outputs": [],
   "source": []
  },
  {
   "cell_type": "markdown",
   "id": "460aaa31",
   "metadata": {},
   "source": [
    "73. Split an array into 3 equal parts."
   ]
  },
  {
   "cell_type": "code",
   "execution_count": null,
   "id": "c846b5f8",
   "metadata": {},
   "outputs": [],
   "source": []
  },
  {
   "cell_type": "markdown",
   "id": "1102a7ee",
   "metadata": {},
   "source": [
    "74. Repeat each element of an array 3 times."
   ]
  },
  {
   "cell_type": "code",
   "execution_count": null,
   "id": "79dbbd15",
   "metadata": {},
   "outputs": [],
   "source": []
  },
  {
   "cell_type": "markdown",
   "id": "7c6b9416",
   "metadata": {},
   "source": [
    "75. Tile an array 2×3 times."
   ]
  },
  {
   "cell_type": "code",
   "execution_count": null,
   "id": "fd176e58",
   "metadata": {},
   "outputs": [],
   "source": []
  },
  {
   "cell_type": "markdown",
   "id": "a722d6b2",
   "metadata": {},
   "source": [
    "76. Find unique elements in an array."
   ]
  },
  {
   "cell_type": "code",
   "execution_count": null,
   "id": "33777a81",
   "metadata": {},
   "outputs": [],
   "source": []
  },
  {
   "cell_type": "markdown",
   "id": "be3e3d24",
   "metadata": {},
   "source": [
    "77. Find the intersection of two arrays."
   ]
  },
  {
   "cell_type": "code",
   "execution_count": null,
   "id": "0479b6f3",
   "metadata": {},
   "outputs": [],
   "source": []
  },
  {
   "cell_type": "markdown",
   "id": "beb55534",
   "metadata": {},
   "source": [
    "78. Find the union of two arrays."
   ]
  },
  {
   "cell_type": "code",
   "execution_count": null,
   "id": "ce3310b4",
   "metadata": {},
   "outputs": [],
   "source": []
  },
  {
   "cell_type": "markdown",
   "id": "67b335f5",
   "metadata": {},
   "source": [
    "79. Find the difference between two arrays."
   ]
  },
  {
   "cell_type": "code",
   "execution_count": null,
   "id": "c7849816",
   "metadata": {},
   "outputs": [],
   "source": []
  },
  {
   "cell_type": "markdown",
   "id": "734764a6",
   "metadata": {},
   "source": [
    "80. Find the indices where two arrays match."
   ]
  },
  {
   "cell_type": "code",
   "execution_count": null,
   "id": "9e55d25f",
   "metadata": {},
   "outputs": [],
   "source": []
  },
  {
   "cell_type": "markdown",
   "id": "3e567dbf",
   "metadata": {},
   "source": [
    "### Performance Optimization"
   ]
  },
  {
   "cell_type": "markdown",
   "id": "76bb0143",
   "metadata": {},
   "source": [
    "81. Measure the execution time of a NumPy operation."
   ]
  },
  {
   "cell_type": "code",
   "execution_count": null,
   "id": "683b5abf",
   "metadata": {},
   "outputs": [],
   "source": []
  },
  {
   "cell_type": "markdown",
   "id": "06256ce5",
   "metadata": {},
   "source": [
    "82. Convert a large list into a NumPy array and compare performance."
   ]
  },
  {
   "cell_type": "code",
   "execution_count": null,
   "id": "3ea6ad60",
   "metadata": {},
   "outputs": [],
   "source": []
  },
  {
   "cell_type": "markdown",
   "id": "8533d318",
   "metadata": {},
   "source": [
    "83. Use NumPy broadcasting to perform element-wise operations without loops."
   ]
  },
  {
   "cell_type": "code",
   "execution_count": null,
   "id": "83f40c30",
   "metadata": {},
   "outputs": [],
   "source": []
  },
  {
   "cell_type": "markdown",
   "id": "211485cb",
   "metadata": {},
   "source": [
    "84. Compare the memory usage of a NumPy array vs. a Python list."
   ]
  },
  {
   "cell_type": "code",
   "execution_count": null,
   "id": "c54524c3",
   "metadata": {},
   "outputs": [],
   "source": []
  },
  {
   "cell_type": "markdown",
   "id": "1c376551",
   "metadata": {},
   "source": [
    "85. Perform element-wise multiplication using broadcasting instead of loops."
   ]
  },
  {
   "cell_type": "code",
   "execution_count": null,
   "id": "ee518c2a",
   "metadata": {},
   "outputs": [],
   "source": []
  },
  {
   "cell_type": "markdown",
   "id": "bca59ab8",
   "metadata": {},
   "source": [
    "86. Use NumPy's vectorized operations to replace a for-loop sum."
   ]
  },
  {
   "cell_type": "code",
   "execution_count": null,
   "id": "7e06ae3b",
   "metadata": {},
   "outputs": [],
   "source": []
  },
  {
   "cell_type": "markdown",
   "id": "6fb80023",
   "metadata": {},
   "source": [
    "87. Compute the moving average of an array using NumPy."
   ]
  },
  {
   "cell_type": "code",
   "execution_count": null,
   "id": "64f3fa26",
   "metadata": {},
   "outputs": [],
   "source": []
  },
  {
   "cell_type": "markdown",
   "id": "8da71afd",
   "metadata": {},
   "source": [
    "88. Implement a sliding window function using NumPy."
   ]
  },
  {
   "cell_type": "code",
   "execution_count": null,
   "id": "93d5457b",
   "metadata": {},
   "outputs": [],
   "source": []
  },
  {
   "cell_type": "markdown",
   "id": "4a522b34",
   "metadata": {},
   "source": [
    "89. Find the nearest value to a given number in a NumPy array."
   ]
  },
  {
   "cell_type": "code",
   "execution_count": null,
   "id": "d29c4659",
   "metadata": {},
   "outputs": [],
   "source": []
  },
  {
   "cell_type": "markdown",
   "id": "6d373cfe",
   "metadata": {},
   "source": [
    "90. Convert a Python dictionary into a NumPy structured array."
   ]
  },
  {
   "cell_type": "code",
   "execution_count": null,
   "id": "39cf3c49",
   "metadata": {},
   "outputs": [],
   "source": []
  },
  {
   "cell_type": "markdown",
   "id": "c1e45e45",
   "metadata": {},
   "source": [
    "### Applications and Case Studies"
   ]
  },
  {
   "cell_type": "markdown",
   "id": "eaddcc1e",
   "metadata": {},
   "source": [
    "91. Read a CSV file into a NumPy array."
   ]
  },
  {
   "cell_type": "code",
   "execution_count": null,
   "id": "7a3f5393",
   "metadata": {},
   "outputs": [],
   "source": []
  },
  {
   "cell_type": "markdown",
   "id": "f02fa0ae",
   "metadata": {},
   "source": [
    "92. Save a NumPy array to a CSV file."
   ]
  },
  {
   "cell_type": "code",
   "execution_count": null,
   "id": "e1a8508d",
   "metadata": {},
   "outputs": [],
   "source": []
  },
  {
   "cell_type": "markdown",
   "id": "90fb7c87",
   "metadata": {},
   "source": [
    "93. Load a NumPy array from a text file."
   ]
  },
  {
   "cell_type": "code",
   "execution_count": null,
   "id": "38232bbe",
   "metadata": {},
   "outputs": [],
   "source": []
  },
  {
   "cell_type": "markdown",
   "id": "e7927acf",
   "metadata": {},
   "source": [
    "94. Normalize an image represented as a NumPy array."
   ]
  },
  {
   "cell_type": "code",
   "execution_count": null,
   "id": "2523bbeb",
   "metadata": {},
   "outputs": [],
   "source": []
  },
  {
   "cell_type": "markdown",
   "id": "cf8db3e5",
   "metadata": {},
   "source": [
    "95. Convert a grayscale image to a binary image using NumPy."
   ]
  },
  {
   "cell_type": "code",
   "execution_count": null,
   "id": "56bcbe90",
   "metadata": {},
   "outputs": [],
   "source": []
  },
  {
   "cell_type": "markdown",
   "id": "8418eaf4",
   "metadata": {},
   "source": [
    "96. Apply a Gaussian blur filter to an image using NumPy."
   ]
  },
  {
   "cell_type": "code",
   "execution_count": null,
   "id": "9dd84e15",
   "metadata": {},
   "outputs": [],
   "source": []
  },
  {
   "cell_type": "markdown",
   "id": "42fd9a1f",
   "metadata": {},
   "source": [
    "97. Compute the histogram of pixel intensities in an image."
   ]
  },
  {
   "cell_type": "code",
   "execution_count": null,
   "id": "3147ab6c",
   "metadata": {},
   "outputs": [],
   "source": []
  },
  {
   "cell_type": "markdown",
   "id": "862c0b5a",
   "metadata": {},
   "source": [
    "98. Perform principal component analysis (PCA) using NumPy."
   ]
  },
  {
   "cell_type": "code",
   "execution_count": null,
   "id": "511e75e1",
   "metadata": {},
   "outputs": [],
   "source": []
  },
  {
   "cell_type": "markdown",
   "id": "5452bae2",
   "metadata": {},
   "source": [
    "99. Solve a real-world dataset problem using NumPy."
   ]
  },
  {
   "cell_type": "code",
   "execution_count": null,
   "id": "711da445",
   "metadata": {},
   "outputs": [],
   "source": []
  },
  {
   "cell_type": "markdown",
   "id": "63a5a75e",
   "metadata": {},
   "source": [
    "100. Create a NumPy-based implementation of k-means clustering."
   ]
  },
  {
   "cell_type": "code",
   "execution_count": null,
   "id": "d835d8ae",
   "metadata": {},
   "outputs": [],
   "source": []
  }
 ],
 "metadata": {
  "kernelspec": {
   "display_name": "Python 3",
   "language": "python",
   "name": "python3"
  },
  "language_info": {
   "codemirror_mode": {
    "name": "ipython",
    "version": 3
   },
   "file_extension": ".py",
   "mimetype": "text/x-python",
   "name": "python",
   "nbconvert_exporter": "python",
   "pygments_lexer": "ipython3",
   "version": "3.13.1"
  }
 },
 "nbformat": 4,
 "nbformat_minor": 5
}
