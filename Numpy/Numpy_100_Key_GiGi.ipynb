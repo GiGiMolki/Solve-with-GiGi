{
 "cells": [
  {
   "cell_type": "markdown",
   "id": "27c01251",
   "metadata": {},
   "source": [
    "### Basic NumPy Operations"
   ]
  },
  {
   "cell_type": "markdown",
   "id": "5389171e",
   "metadata": {},
   "source": [
    "1. Import NumPy and check its version."
   ]
  },
  {
   "cell_type": "code",
   "execution_count": null,
   "id": "42b74d12",
   "metadata": {},
   "outputs": [
    {
     "name": "stdout",
     "output_type": "stream",
     "text": [
      "NumPy version: 2.2.2\n"
     ]
    }
   ],
   "source": [
    "# Import the NumPy library\n",
    "import numpy as np\n",
    "\n",
    "# Display the installed NumPy version\n",
    "print(\"NumPy version:\", np.__version__)\n"
   ]
  },
  {
   "cell_type": "markdown",
   "id": "4c01be87",
   "metadata": {},
   "source": [
    "2. Create a NumPy array of integers from 1 to 10."
   ]
  },
  {
   "cell_type": "code",
   "execution_count": 166,
   "id": "4e3384ce",
   "metadata": {},
   "outputs": [
    {
     "name": "stdout",
     "output_type": "stream",
     "text": [
      "Array from 1 to 10: [ 1  2  3  4  5  6  7  8  9 10]\n"
     ]
    }
   ],
   "source": [
    "# Create a NumPy array of integers from 1 to 10 (inclusive)\n",
    "arr = np.arange(1, 11)\n",
    "\n",
    "# Display the result\n",
    "print(\"Array from 1 to 10:\", arr)"
   ]
  },
  {
   "cell_type": "markdown",
   "id": "19191fcb",
   "metadata": {},
   "source": [
    "3. Convert a list `[1, 2, 3, 4, 5]` into a NumPy array."
   ]
  },
  {
   "cell_type": "code",
   "execution_count": 167,
   "id": "661407ca",
   "metadata": {},
   "outputs": [
    {
     "name": "stdout",
     "output_type": "stream",
     "text": [
      "Converted NumPy array: [1 2 3 4 5]\n"
     ]
    }
   ],
   "source": [
    "# Convert a Python list to a NumPy array\n",
    "arr = np.array([1, 2, 3, 4, 5])\n",
    "\n",
    "# Display the result\n",
    "print(\"Converted NumPy array:\", arr)"
   ]
  },
  {
   "cell_type": "markdown",
   "id": "a6c591ba",
   "metadata": {},
   "source": [
    "4. Create a NumPy array filled with zeros of shape `(3,4)`."
   ]
  },
  {
   "cell_type": "code",
   "execution_count": 168,
   "id": "6242b0cd",
   "metadata": {},
   "outputs": [
    {
     "name": "stdout",
     "output_type": "stream",
     "text": [
      "3x4 array filled with zeros:\n",
      " [[0. 0. 0. 0.]\n",
      " [0. 0. 0. 0.]\n",
      " [0. 0. 0. 0.]]\n"
     ]
    }
   ],
   "source": [
    "# Create a 3x4 NumPy array filled with zeros\n",
    "zero_array = np.zeros((3, 4))\n",
    "\n",
    "# Display the result\n",
    "print(\"3x4 array filled with zeros:\\n\", zero_array)"
   ]
  },
  {
   "cell_type": "markdown",
   "id": "a60461df",
   "metadata": {},
   "source": [
    "5. Create a NumPy array filled with ones of shape `(2,3)`."
   ]
  },
  {
   "cell_type": "code",
   "execution_count": 169,
   "id": "112636bd",
   "metadata": {},
   "outputs": [
    {
     "name": "stdout",
     "output_type": "stream",
     "text": [
      "2x3 array filled with ones:\n",
      " [[1. 1. 1.]\n",
      " [1. 1. 1.]]\n"
     ]
    }
   ],
   "source": [
    "# Create a 2x3 NumPy array filled with ones\n",
    "ones_array = np.ones((2, 3))\n",
    "\n",
    "# Display the result\n",
    "print(\"2x3 array filled with ones:\\n\", ones_array)"
   ]
  },
  {
   "cell_type": "markdown",
   "id": "66a2a61f",
   "metadata": {},
   "source": [
    "6. Create a NumPy array filled with random values between 0 and 1 of shape `(4,4)`."
   ]
  },
  {
   "cell_type": "code",
   "execution_count": 170,
   "id": "d69215fc",
   "metadata": {},
   "outputs": [
    {
     "name": "stdout",
     "output_type": "stream",
     "text": [
      "4x4 array with random values between 0 and 1:\n",
      " [[0.84252053 0.13742404 0.68334172 0.49578951]\n",
      " [0.86732326 0.18504604 0.64347917 0.81351641]\n",
      " [0.51196704 0.67181224 0.85748643 0.90810626]\n",
      " [0.69729935 0.08826805 0.07917431 0.32413494]]\n"
     ]
    }
   ],
   "source": [
    "# Create a 4x4 NumPy array with random values between 0 and 1\n",
    "random_array = np.random.rand(4, 4)\n",
    "\n",
    "# Display the result\n",
    "print(\"4x4 array with random values between 0 and 1:\\n\", random_array)"
   ]
  },
  {
   "cell_type": "markdown",
   "id": "c774a67c",
   "metadata": {},
   "source": [
    "7. Generate an array with values from 10 to 50."
   ]
  },
  {
   "cell_type": "code",
   "execution_count": 171,
   "id": "776543cc",
   "metadata": {},
   "outputs": [
    {
     "name": "stdout",
     "output_type": "stream",
     "text": [
      "Array with values from 10 to 50 reshaped to (4, 10):\n",
      " [[10 11 12 13 14 15 16 17 18 19]\n",
      " [20 21 22 23 24 25 26 27 28 29]\n",
      " [30 31 32 33 34 35 36 37 38 39]\n",
      " [40 41 42 43 44 45 46 47 48 49]]\n"
     ]
    }
   ],
   "source": [
    "# Generate an array with values from 10 to 50 and reshape it into a 4x10 array\n",
    "arr = np.arange(10, 50).reshape(4, 10)\n",
    "\n",
    "# Display the result\n",
    "print(\"Array with values from 10 to 50 reshaped to (4, 10):\\n\", arr)"
   ]
  },
  {
   "cell_type": "markdown",
   "id": "aee96501",
   "metadata": {},
   "source": [
    "8. Create an array of even numbers from 2 to 20."
   ]
  },
  {
   "cell_type": "code",
   "execution_count": 172,
   "id": "96dd42f2",
   "metadata": {},
   "outputs": [
    {
     "name": "stdout",
     "output_type": "stream",
     "text": [
      "Even numbers from 2 to 20: [ 2  4  6  8 10 12 14 16 18 20]\n"
     ]
    }
   ],
   "source": [
    "# Create an array of even numbers from 2 to 20\n",
    "even_numbers = np.arange(2, 21, 2)\n",
    "\n",
    "# Display the result\n",
    "print(\"Even numbers from 2 to 20:\", even_numbers)\n"
   ]
  },
  {
   "cell_type": "markdown",
   "id": "31b9b643",
   "metadata": {},
   "source": [
    "9. Reverse an array `[1, 2, 3, 4, 5]` using NumPy."
   ]
  },
  {
   "cell_type": "code",
   "execution_count": 173,
   "id": "31546030",
   "metadata": {},
   "outputs": [
    {
     "name": "stdout",
     "output_type": "stream",
     "text": [
      "Reversed array: [5 4 3 2 1]\n"
     ]
    }
   ],
   "source": [
    "# Reverse the array using slicing\n",
    "arr = np.array([1, 2, 3, 4, 5])\n",
    "reversed_arr = arr[::-1]\n",
    "\n",
    "# Display the result\n",
    "print(\"Reversed array:\", reversed_arr)"
   ]
  },
  {
   "cell_type": "markdown",
   "id": "7b872661",
   "metadata": {},
   "source": [
    "10. Reshape an array of 12 elements into a 3×4 matrix."
   ]
  },
  {
   "cell_type": "code",
   "execution_count": 174,
   "id": "2480ccc7",
   "metadata": {},
   "outputs": [
    {
     "name": "stdout",
     "output_type": "stream",
     "text": [
      "Reshaped array (3x4 matrix):\n",
      " [[ 0  1  2  3]\n",
      " [ 4  5  6  7]\n",
      " [ 8  9 10 11]]\n"
     ]
    }
   ],
   "source": [
    "# Reshape an array of 12 elements into a 3x4 matrix\n",
    "arr = np.arange(0, 12).reshape(3, 4)\n",
    "\n",
    "# Display the result\n",
    "print(\"Reshaped array (3x4 matrix):\\n\", arr)"
   ]
  },
  {
   "cell_type": "markdown",
   "id": "578f86e4",
   "metadata": {},
   "source": [
    "### Array Indexing and Slicing"
   ]
  },
  {
   "cell_type": "markdown",
   "id": "51265a8b",
   "metadata": {},
   "source": [
    "11. Extract the first three elements from a NumPy array `[10, 20, 30, 40, 50]`."
   ]
  },
  {
   "cell_type": "code",
   "execution_count": 175,
   "id": "9ee19589",
   "metadata": {},
   "outputs": [
    {
     "name": "stdout",
     "output_type": "stream",
     "text": [
      "First three elements: [10 20 30]\n"
     ]
    }
   ],
   "source": [
    "# Extract the first three elements from the array\n",
    "arr = np.array([10, 20, 30, 40, 50])\n",
    "first_three = arr[:3]\n",
    "\n",
    "# Display the result\n",
    "print(\"First three elements:\", first_three)"
   ]
  },
  {
   "cell_type": "markdown",
   "id": "eb55072c",
   "metadata": {},
   "source": [
    "12. Extract all even-indexed elements from `[1, 2, 3, 4, 5, 6, 7, 8]`."
   ]
  },
  {
   "cell_type": "code",
   "execution_count": 176,
   "id": "d781191c",
   "metadata": {},
   "outputs": [
    {
     "name": "stdout",
     "output_type": "stream",
     "text": [
      "Even-indexed elements (using slicing): [1 3 5 7]\n"
     ]
    }
   ],
   "source": [
    "# Method 1: Using slicing to extract elements at even indices\n",
    "arr = np.array([1, 2, 3, 4, 5, 6, 7, 8])\n",
    "even_indexed_elements = arr[::2]  # Select elements at even indices\n",
    "\n",
    "# Display the result\n",
    "print(\"Even-indexed elements (using slicing):\", even_indexed_elements)"
   ]
  },
  {
   "cell_type": "code",
   "execution_count": 177,
   "id": "776275e0",
   "metadata": {},
   "outputs": [
    {
     "name": "stdout",
     "output_type": "stream",
     "text": [
      "Even-indexed elements (using np.where()): [1 3 5 7]\n"
     ]
    }
   ],
   "source": [
    "\n",
    "# Method 2: Using np.where() to achieve the same result\n",
    "even_indexed_elements_using_where = arr[np.where(np.arange(len(arr)) % 2 == 0)]\n",
    "\n",
    "# Display the result\n",
    "print(\"Even-indexed elements (using np.where()):\", even_indexed_elements_using_where)"
   ]
  },
  {
   "cell_type": "markdown",
   "id": "dec64d7f",
   "metadata": {},
   "source": [
    "13. Extract all odd numbers from a NumPy array `[1, 2, 3, 4, 5, 6, 7, 8]`."
   ]
  },
  {
   "cell_type": "code",
   "execution_count": 178,
   "id": "b02b2b5d",
   "metadata": {},
   "outputs": [
    {
     "name": "stdout",
     "output_type": "stream",
     "text": [
      "Odd numbers (using boolean indexing): [1 3 5 7]\n"
     ]
    }
   ],
   "source": [
    "# Create the array\n",
    "arr = np.array([1, 2, 3, 4, 5, 6, 7, 8])\n",
    "\n",
    "# Method 1: Using boolean indexing\n",
    "odd_elements = arr[arr % 2 != 0]\n",
    "print(\"Odd numbers (using boolean indexing):\", odd_elements)"
   ]
  },
  {
   "cell_type": "code",
   "execution_count": 179,
   "id": "37e97354",
   "metadata": {},
   "outputs": [
    {
     "name": "stdout",
     "output_type": "stream",
     "text": [
      "Odd numbers (using np.where()): [1 3 5 7]\n"
     ]
    }
   ],
   "source": [
    "# Method 2: Using np.where()\n",
    "odd_elements_where = arr[np.where(arr % 2 != 0)]\n",
    "print(\"Odd numbers (using np.where()):\", odd_elements_where)"
   ]
  },
  {
   "cell_type": "markdown",
   "id": "f6fb70cb",
   "metadata": {},
   "source": [
    "14. Extract numbers greater than 5 from `[2, 4, 6, 8, 10]`."
   ]
  },
  {
   "cell_type": "code",
   "execution_count": 180,
   "id": "75eff54a",
   "metadata": {},
   "outputs": [
    {
     "name": "stdout",
     "output_type": "stream",
     "text": [
      "Numbers greater than 5: [ 6  8 10]\n"
     ]
    }
   ],
   "source": [
    "# Create the array\n",
    "arr = np.array([2, 4, 6, 8, 10])\n",
    "\n",
    "# Extract elements greater than 5\n",
    "greater_than_five = arr[arr > 5]\n",
    "\n",
    "# Display the result\n",
    "print(\"Numbers greater than 5:\", greater_than_five)"
   ]
  },
  {
   "cell_type": "markdown",
   "id": "78f06a65",
   "metadata": {},
   "source": [
    "15. Replace all odd numbers in an array with `-1`."
   ]
  },
  {
   "cell_type": "code",
   "execution_count": 181,
   "id": "b794cb23",
   "metadata": {},
   "outputs": [
    {
     "name": "stdout",
     "output_type": "stream",
     "text": [
      "Array after replacing odd numbers with -1: [-1  2 -1  4 -1  6 -1  8]\n"
     ]
    }
   ],
   "source": [
    "# Create the array\n",
    "arr = np.array([1, 2, 3, 4, 5, 6, 7, 8])\n",
    "\n",
    "# Replace all odd numbers with -1\n",
    "replaced_arr = np.where(arr % 2 != 0, -1, arr)\n",
    "\n",
    "# Display the result\n",
    "print(\"Array after replacing odd numbers with -1:\", replaced_arr)"
   ]
  },
  {
   "cell_type": "markdown",
   "id": "806272cd",
   "metadata": {},
   "source": [
    "16. Replace all values greater than 50 in an array with `100`."
   ]
  },
  {
   "cell_type": "code",
   "execution_count": 182,
   "id": "ff4a07f6",
   "metadata": {},
   "outputs": [
    {
     "name": "stdout",
     "output_type": "stream",
     "text": [
      "Original array: [29 46 22 26 22 46 46 42 57 20]\n",
      "Modified array (values > 50 replaced with 100): [ 29  46  22  26  22  46  46  42 100  20]\n"
     ]
    }
   ],
   "source": [
    "# Generate an array of 10 random integers between 20 and 60\n",
    "arr = np.random.randint(20, 60, 10)\n",
    "\n",
    "# Replace all values greater than 50 with 100\n",
    "replaced_arr = np.where(arr > 50, 100, arr)\n",
    "\n",
    "# Display original and modified arrays\n",
    "print(\"Original array:\", arr)\n",
    "print(\"Modified array (values > 50 replaced with 100):\", replaced_arr)"
   ]
  },
  {
   "cell_type": "markdown",
   "id": "f463eb88",
   "metadata": {},
   "source": [
    "17. Extract a 2×2 subarray from a 3×3 matrix."
   ]
  },
  {
   "cell_type": "code",
   "execution_count": 183,
   "id": "d9e7cbd6",
   "metadata": {},
   "outputs": [
    {
     "name": "stdout",
     "output_type": "stream",
     "text": [
      "Original 3×3 matrix:\n",
      " [[0 1 2]\n",
      " [3 4 5]\n",
      " [6 7 8]]\n",
      "2×2 subarray:\n",
      " [[0 1]\n",
      " [3 4]]\n"
     ]
    }
   ],
   "source": [
    "# Create a 3×3 matrix with values from 0 to 8\n",
    "arr1 = np.arange(9).reshape(3, 3)\n",
    "\n",
    "# Extract the top-left 2×2 subarray\n",
    "subarray = arr1[:2, :2]\n",
    "\n",
    "# Display original and extracted subarray\n",
    "print(\"Original 3×3 matrix:\\n\", arr1)\n",
    "print(\"2×2 subarray:\\n\", subarray)"
   ]
  },
  {
   "cell_type": "markdown",
   "id": "296fdeda",
   "metadata": {},
   "source": [
    "18. Replace all even numbers in an array with 0."
   ]
  },
  {
   "cell_type": "code",
   "execution_count": 184,
   "id": "7ceb7ca2",
   "metadata": {},
   "outputs": [
    {
     "name": "stdout",
     "output_type": "stream",
     "text": [
      "Original array: [0 1 2 3 4 5 6 7 8]\n",
      "Array after replacing even numbers with 0: [0 1 0 3 0 5 0 7 0]\n"
     ]
    }
   ],
   "source": [
    "# Create an array from 0 to 8\n",
    "arr = np.arange(0, 9)\n",
    "\n",
    "# Replace all even numbers with 0\n",
    "replaced_arr = np.where(arr % 2 == 0, 0, arr)\n",
    "\n",
    "# Display results\n",
    "print(\"Original array:\", arr)\n",
    "print(\"Array after replacing even numbers with 0:\", replaced_arr)"
   ]
  },
  {
   "cell_type": "markdown",
   "id": "601f3101",
   "metadata": {},
   "source": [
    "19. Convert a 1D array to a 2D column vector."
   ]
  },
  {
   "cell_type": "code",
   "execution_count": 185,
   "id": "d6a62a38",
   "metadata": {},
   "outputs": [
    {
     "name": "stdout",
     "output_type": "stream",
     "text": [
      "[[1]\n",
      " [2]\n",
      " [3]\n",
      " [4]]\n"
     ]
    }
   ],
   "source": [
    "# 1D array\n",
    "arr = np.array([1, 2, 3, 4])\n",
    "\n",
    "# Convert to 2D column vector\n",
    "column_vector = arr.reshape(-1, 1)  # (4,1)\n",
    "\n",
    "print(column_vector)"
   ]
  },
  {
   "cell_type": "markdown",
   "id": "d38fae9f",
   "metadata": {},
   "source": [
    "20. Convert a 1D array to a 2D row vector."
   ]
  },
  {
   "cell_type": "code",
   "execution_count": 186,
   "id": "a5688eba",
   "metadata": {},
   "outputs": [
    {
     "name": "stdout",
     "output_type": "stream",
     "text": [
      "[[1 2 3 4]]\n"
     ]
    }
   ],
   "source": [
    "import numpy as np\n",
    "\n",
    "# 1D array\n",
    "arr = np.array([1, 2, 3, 4])\n",
    "\n",
    "# Convert to 2D row vector\n",
    "row_vector = arr.reshape(1, -1)  # Shape: (1, 4)\n",
    "\n",
    "print(row_vector)"
   ]
  },
  {
   "cell_type": "markdown",
   "id": "27ad90f9",
   "metadata": {},
   "source": [
    "### Mathematical Operations"
   ]
  },
  {
   "cell_type": "markdown",
   "id": "9e623f2a",
   "metadata": {},
   "source": [
    "21. Add two NumPy arrays element-wise."
   ]
  },
  {
   "cell_type": "code",
   "execution_count": 187,
   "id": "f8458d24",
   "metadata": {},
   "outputs": [
    {
     "name": "stdout",
     "output_type": "stream",
     "text": [
      "[5 7 9]\n"
     ]
    }
   ],
   "source": [
    "a = np.array([1, 2, 3])\n",
    "b = np.array([4, 5, 6])\n",
    "\n",
    "result = a + b\n",
    "\n",
    "print(result)"
   ]
  },
  {
   "cell_type": "code",
   "execution_count": 188,
   "id": "8a414472",
   "metadata": {},
   "outputs": [
    {
     "name": "stdout",
     "output_type": "stream",
     "text": [
      "[5 7 9]\n"
     ]
    }
   ],
   "source": [
    "result = np.add(a, b)\n",
    "print(result)"
   ]
  },
  {
   "cell_type": "markdown",
   "id": "de690172",
   "metadata": {},
   "source": [
    "22. Subtract two NumPy arrays element-wise."
   ]
  },
  {
   "cell_type": "code",
   "execution_count": 189,
   "id": "18497940",
   "metadata": {},
   "outputs": [
    {
     "name": "stdout",
     "output_type": "stream",
     "text": [
      "[ 9 18 27]\n"
     ]
    }
   ],
   "source": [
    "a = np.array([10, 20, 30])\n",
    "b = np.array([1, 2, 3])\n",
    "\n",
    "result = a - b\n",
    "\n",
    "print(result)"
   ]
  },
  {
   "cell_type": "code",
   "execution_count": 190,
   "id": "7bc4e1b6",
   "metadata": {},
   "outputs": [
    {
     "name": "stdout",
     "output_type": "stream",
     "text": [
      "[ 9 18 27]\n"
     ]
    }
   ],
   "source": [
    "result = np.subtract(a, b)\n",
    "print(result)"
   ]
  },
  {
   "cell_type": "markdown",
   "id": "647a71e0",
   "metadata": {},
   "source": [
    "23. Multiply two NumPy arrays element-wise."
   ]
  },
  {
   "cell_type": "code",
   "execution_count": 191,
   "id": "aa4833b7",
   "metadata": {},
   "outputs": [
    {
     "name": "stdout",
     "output_type": "stream",
     "text": [
      "[ 6 20 42]\n"
     ]
    }
   ],
   "source": [
    "a = np.array([2, 4, 6])\n",
    "b = np.array([3, 5, 7])\n",
    "\n",
    "result = a * b\n",
    "\n",
    "print(result)"
   ]
  },
  {
   "cell_type": "code",
   "execution_count": 192,
   "id": "bf8a16e9",
   "metadata": {},
   "outputs": [
    {
     "name": "stdout",
     "output_type": "stream",
     "text": [
      "[ 6 20 42]\n"
     ]
    }
   ],
   "source": [
    "result = np.multiply(a, b)\n",
    "print(result)"
   ]
  },
  {
   "cell_type": "markdown",
   "id": "f6d5fe8d",
   "metadata": {},
   "source": [
    "24. Divide two NumPy arrays element-wise."
   ]
  },
  {
   "cell_type": "code",
   "execution_count": 193,
   "id": "fb32b88d",
   "metadata": {},
   "outputs": [
    {
     "name": "stdout",
     "output_type": "stream",
     "text": [
      "[5. 5. 6.]\n"
     ]
    }
   ],
   "source": [
    "a = np.array([10, 20, 30])\n",
    "b = np.array([2, 4, 5])\n",
    "\n",
    "result = a / b\n",
    "\n",
    "print(result)"
   ]
  },
  {
   "cell_type": "code",
   "execution_count": 194,
   "id": "bde4a7ed",
   "metadata": {},
   "outputs": [
    {
     "name": "stdout",
     "output_type": "stream",
     "text": [
      "[5. 5. 6.]\n"
     ]
    }
   ],
   "source": [
    "result = np.divide(a, b)\n",
    "print(result)"
   ]
  },
  {
   "cell_type": "markdown",
   "id": "aad0e212",
   "metadata": {},
   "source": [
    "25. Compute the dot product of two NumPy arrays."
   ]
  },
  {
   "cell_type": "code",
   "execution_count": 195,
   "id": "74bcfbe0",
   "metadata": {},
   "outputs": [
    {
     "name": "stdout",
     "output_type": "stream",
     "text": [
      "32\n"
     ]
    }
   ],
   "source": [
    "a = np.array([1, 2, 3])\n",
    "b = np.array([4, 5, 6])\n",
    "\n",
    "dot_product = np.dot(a, b)\n",
    "\n",
    "print(dot_product)"
   ]
  },
  {
   "cell_type": "code",
   "execution_count": 196,
   "id": "c5286d5f",
   "metadata": {},
   "outputs": [
    {
     "name": "stdout",
     "output_type": "stream",
     "text": [
      "32\n"
     ]
    }
   ],
   "source": [
    "dot_product = a @ b\n",
    "print(dot_product)"
   ]
  },
  {
   "cell_type": "markdown",
   "id": "f571beab",
   "metadata": {},
   "source": [
    "26. Compute the sum of all elements in an array."
   ]
  },
  {
   "cell_type": "code",
   "execution_count": 197,
   "id": "8b50b207",
   "metadata": {},
   "outputs": [
    {
     "name": "stdout",
     "output_type": "stream",
     "text": [
      "21\n"
     ]
    }
   ],
   "source": [
    "\n",
    "arr = np.array([[1, 2, 3],\n",
    "                [4, 5, 6]])\n",
    "\n",
    "total_sum = arr.sum()\n",
    "\n",
    "print(total_sum)"
   ]
  },
  {
   "cell_type": "code",
   "execution_count": 198,
   "id": "eb7ba93c",
   "metadata": {},
   "outputs": [
    {
     "name": "stdout",
     "output_type": "stream",
     "text": [
      "21\n"
     ]
    }
   ],
   "source": [
    "total_sum = np.sum(arr)\n",
    "print(total_sum)"
   ]
  },
  {
   "cell_type": "code",
   "execution_count": 199,
   "id": "8adeecb9",
   "metadata": {},
   "outputs": [
    {
     "name": "stdout",
     "output_type": "stream",
     "text": [
      "Row-wise sum: [ 6 15]\n",
      "Column-wise sum: [5 7 9]\n"
     ]
    }
   ],
   "source": [
    "row_sum = arr.sum(axis=1)  # Sum of each row\n",
    "col_sum = arr.sum(axis=0)  # Sum of each column\n",
    "\n",
    "print(\"Row-wise sum:\", row_sum)\n",
    "print(\"Column-wise sum:\", col_sum)"
   ]
  },
  {
   "cell_type": "markdown",
   "id": "50c50e09",
   "metadata": {},
   "source": [
    "27. Compute the mean of a NumPy array."
   ]
  },
  {
   "cell_type": "code",
   "execution_count": 200,
   "id": "9bcfe37e",
   "metadata": {},
   "outputs": [
    {
     "name": "stdout",
     "output_type": "stream",
     "text": [
      "3.5\n"
     ]
    }
   ],
   "source": [
    "mean_value = np.mean(arr)\n",
    "print(mean_value)"
   ]
  },
  {
   "cell_type": "code",
   "execution_count": 201,
   "id": "d87f8856",
   "metadata": {},
   "outputs": [
    {
     "name": "stdout",
     "output_type": "stream",
     "text": [
      "Row-wise mean: [2. 5.]\n",
      "Column-wise mean: [2.5 3.5 4.5]\n"
     ]
    }
   ],
   "source": [
    "row_mean = np.mean(arr, axis=1)   # Mean of each row\n",
    "col_mean = np.mean(arr, axis=0)   # Mean of each column\n",
    "\n",
    "print(\"Row-wise mean:\", row_mean)\n",
    "print(\"Column-wise mean:\", col_mean)"
   ]
  },
  {
   "cell_type": "markdown",
   "id": "4129309d",
   "metadata": {},
   "source": [
    "28. Compute the standard deviation of a NumPy array."
   ]
  },
  {
   "cell_type": "code",
   "execution_count": 202,
   "id": "59824c28",
   "metadata": {},
   "outputs": [
    {
     "name": "stdout",
     "output_type": "stream",
     "text": [
      "1.707825127659933\n"
     ]
    }
   ],
   "source": [
    "std_dev = np.std(arr)\n",
    "print(std_dev)"
   ]
  },
  {
   "cell_type": "code",
   "execution_count": 203,
   "id": "0be0d4c4",
   "metadata": {},
   "outputs": [
    {
     "name": "stdout",
     "output_type": "stream",
     "text": [
      "Row-wise std: [0.81649658 0.81649658]\n",
      "Column-wise std: [1.5 1.5 1.5]\n"
     ]
    }
   ],
   "source": [
    "row_std = np.std(arr, axis=1)   # Std dev of each row\n",
    "col_std = np.std(arr, axis=0)   # Std dev of each column\n",
    "\n",
    "print(\"Row-wise std:\", row_std)\n",
    "print(\"Column-wise std:\", col_std)"
   ]
  },
  {
   "cell_type": "code",
   "execution_count": 204,
   "id": "10141d58",
   "metadata": {},
   "outputs": [
    {
     "data": {
      "text/plain": [
       "np.float64(1.8708286933869707)"
      ]
     },
     "execution_count": 204,
     "metadata": {},
     "output_type": "execute_result"
    }
   ],
   "source": [
    "#For sample standard deviation, use ddof=1:\n",
    "\n",
    "sample_std = np.std(arr, ddof=1)\n",
    "sample_std"
   ]
  },
  {
   "cell_type": "markdown",
   "id": "3d4fe4d4",
   "metadata": {},
   "source": [
    "29. Compute the maximum and minimum values of an array."
   ]
  },
  {
   "cell_type": "code",
   "execution_count": 205,
   "id": "82723323",
   "metadata": {},
   "outputs": [
    {
     "name": "stdout",
     "output_type": "stream",
     "text": [
      "Max: 6\n",
      "Min: 1\n"
     ]
    }
   ],
   "source": [
    "max_val = np.max(arr)\n",
    "min_val = np.min(arr)\n",
    "\n",
    "print(\"Max:\", max_val)\n",
    "print(\"Min:\", min_val)"
   ]
  },
  {
   "cell_type": "code",
   "execution_count": 206,
   "id": "d7171633",
   "metadata": {},
   "outputs": [
    {
     "name": "stdout",
     "output_type": "stream",
     "text": [
      "Row-wise max: [3 6]\n",
      "Column-wise max: [4 5 6]\n",
      "Row-wise min: [1 4]\n",
      "Column-wise min: [1 2 3]\n"
     ]
    }
   ],
   "source": [
    "row_max = np.max(arr, axis=1)\n",
    "col_max = np.max(arr, axis=0)\n",
    "\n",
    "row_min = np.min(arr, axis=1)\n",
    "col_min = np.min(arr, axis=0)\n",
    "\n",
    "print(\"Row-wise max:\", row_max)\n",
    "print(\"Column-wise max:\", col_max)\n",
    "print(\"Row-wise min:\", row_min)\n",
    "print(\"Column-wise min:\", col_min)"
   ]
  },
  {
   "cell_type": "markdown",
   "id": "89779051",
   "metadata": {},
   "source": [
    "30. Find the index of the maximum value in an array."
   ]
  },
  {
   "cell_type": "code",
   "execution_count": 207,
   "id": "0a697ffc",
   "metadata": {},
   "outputs": [
    {
     "name": "stdout",
     "output_type": "stream",
     "text": [
      "Index of the maximum value: 2\n"
     ]
    }
   ],
   "source": [
    "# Create an array\n",
    "arr = np.array([1, 3, 7, 2, 5])\n",
    "\n",
    "# Find the index of the maximum value\n",
    "max_index = np.argmax(arr)\n",
    "\n",
    "# Display the result\n",
    "print(\"Index of the maximum value:\", max_index)"
   ]
  },
  {
   "cell_type": "markdown",
   "id": "325e4dad",
   "metadata": {},
   "source": [
    "31. Find the index of the minimum value in an array."
   ]
  },
  {
   "cell_type": "code",
   "execution_count": 208,
   "id": "c9e48ae6",
   "metadata": {},
   "outputs": [
    {
     "name": "stdout",
     "output_type": "stream",
     "text": [
      "Index of the minimum value: 0\n"
     ]
    }
   ],
   "source": [
    "# Create an array\n",
    "arr = np.array([1, 3, 7, 2, 5])\n",
    "\n",
    "# Find the index of the minimum value\n",
    "min_index = np.argmin(arr)\n",
    "\n",
    "# Display the result\n",
    "print(\"Index of the minimum value:\", min_index)"
   ]
  },
  {
   "cell_type": "markdown",
   "id": "ae39245f",
   "metadata": {},
   "source": [
    "32. Compute the cumulative sum of an array."
   ]
  },
  {
   "cell_type": "code",
   "execution_count": 209,
   "id": "9defbbdb",
   "metadata": {},
   "outputs": [
    {
     "name": "stdout",
     "output_type": "stream",
     "text": [
      "Cumulative sum of the array: [ 1  3  6 10 15]\n"
     ]
    }
   ],
   "source": [
    "# Create an array\n",
    "arr = np.array([1, 2, 3, 4, 5])\n",
    "\n",
    "# Compute the cumulative sum\n",
    "cumulative_sum = np.cumsum(arr)\n",
    "\n",
    "# Display the result\n",
    "print(\"Cumulative sum of the array:\", cumulative_sum)"
   ]
  },
  {
   "cell_type": "markdown",
   "id": "0144e8e7",
   "metadata": {},
   "source": [
    "33. Compute the cumulative product of an array."
   ]
  },
  {
   "cell_type": "code",
   "execution_count": 210,
   "id": "cc5ad1b7",
   "metadata": {},
   "outputs": [
    {
     "name": "stdout",
     "output_type": "stream",
     "text": [
      "Cumulative product of the array: [  1   2   6  24 120]\n"
     ]
    }
   ],
   "source": [
    "# Create an array\n",
    "arr = np.array([1, 2, 3, 4, 5])\n",
    "\n",
    "# Compute the cumulative product\n",
    "cumulative_product = np.cumprod(arr)\n",
    "\n",
    "# Display the result\n",
    "print(\"Cumulative product of the array:\", cumulative_product)"
   ]
  },
  {
   "cell_type": "markdown",
   "id": "62a717e8",
   "metadata": {},
   "source": [
    "34. Normalize an array (scale values between 0 and 1)."
   ]
  },
  {
   "cell_type": "code",
   "execution_count": 211,
   "id": "2ad46ada",
   "metadata": {},
   "outputs": [
    {
     "name": "stdout",
     "output_type": "stream",
     "text": [
      "Normalized array: [0.   0.25 0.5  0.75 1.  ]\n"
     ]
    }
   ],
   "source": [
    "# Create an array\n",
    "arr = np.array([1, 2, 3, 4, 5])\n",
    "\n",
    "# Normalize the array\n",
    "normalized_arr = (arr - arr.min()) / (arr.max() - arr.min())\n",
    "\n",
    "# Display the result\n",
    "print(\"Normalized array:\", normalized_arr)"
   ]
  },
  {
   "cell_type": "markdown",
   "id": "8ed5c302",
   "metadata": {},
   "source": [
    "35. Compute the square root of each element in an array."
   ]
  },
  {
   "cell_type": "code",
   "execution_count": 212,
   "id": "afca1003",
   "metadata": {},
   "outputs": [
    {
     "name": "stdout",
     "output_type": "stream",
     "text": [
      "Square root of each element: [1. 2. 3. 4. 5.]\n"
     ]
    }
   ],
   "source": [
    "# Create an array\n",
    "arr = np.array([1, 4, 9, 16, 25])\n",
    "\n",
    "# Compute the square root of each element\n",
    "sqrt_arr = np.sqrt(arr)\n",
    "\n",
    "# Display the result\n",
    "print(\"Square root of each element:\", sqrt_arr)"
   ]
  },
  {
   "cell_type": "markdown",
   "id": "37d1f303",
   "metadata": {},
   "source": [
    "36. Compute the exponential (e^x) of each element in an array."
   ]
  },
  {
   "cell_type": "code",
   "execution_count": 213,
   "id": "55fbba75",
   "metadata": {},
   "outputs": [
    {
     "name": "stdout",
     "output_type": "stream",
     "text": [
      "Exponential (e^x) of each element: [  2.71828183   7.3890561   20.08553692  54.59815003 148.4131591 ]\n"
     ]
    }
   ],
   "source": [
    "# Create an array\n",
    "arr = np.array([1, 2, 3, 4, 5])\n",
    "\n",
    "# Compute the exponential (e^x) of each element\n",
    "exp_arr = np.exp(arr)\n",
    "\n",
    "# Display the result\n",
    "print(\"Exponential (e^x) of each element:\", exp_arr)"
   ]
  },
  {
   "cell_type": "markdown",
   "id": "29f3f511",
   "metadata": {},
   "source": [
    "37. Compute the natural logarithm of each element in an array."
   ]
  },
  {
   "cell_type": "code",
   "execution_count": 214,
   "id": "3e789876",
   "metadata": {},
   "outputs": [
    {
     "name": "stdout",
     "output_type": "stream",
     "text": [
      "Natural logarithm of each element: [0.         0.69314718 1.09861229 1.38629436 1.60943791]\n"
     ]
    }
   ],
   "source": [
    "# Create an array\n",
    "arr = np.array([1, 2, 3, 4, 5])\n",
    "\n",
    "# Compute the natural logarithm (ln(x)) of each element\n",
    "log_arr = np.log(arr)\n",
    "\n",
    "# Display the result\n",
    "print(\"Natural logarithm of each element:\", log_arr)"
   ]
  },
  {
   "cell_type": "markdown",
   "id": "6fa21f2d",
   "metadata": {},
   "source": [
    "38. Round an array to 2 decimal places."
   ]
  },
  {
   "cell_type": "code",
   "execution_count": 215,
   "id": "8e5a2cc9",
   "metadata": {},
   "outputs": [
    {
     "name": "stdout",
     "output_type": "stream",
     "text": [
      "Array rounded to 2 decimal places: [1.23 2.46 3.68 4.99 5.12]\n"
     ]
    }
   ],
   "source": [
    "# Create an array\n",
    "arr = np.array([1.234, 2.456, 3.678, 4.987, 5.123])\n",
    "\n",
    "# Round the array to 2 decimal places\n",
    "rounded_arr = np.round(arr, 2)\n",
    "\n",
    "# Display the result\n",
    "print(\"Array rounded to 2 decimal places:\", rounded_arr)"
   ]
  },
  {
   "cell_type": "markdown",
   "id": "1b29e085",
   "metadata": {},
   "source": [
    "39. Compute the absolute value of an array."
   ]
  },
  {
   "cell_type": "code",
   "execution_count": 216,
   "id": "66a81066",
   "metadata": {},
   "outputs": [
    {
     "name": "stdout",
     "output_type": "stream",
     "text": [
      "Absolute value of each element: [1 2 3 4 5]\n"
     ]
    }
   ],
   "source": [
    "# Create an array with both positive and negative values\n",
    "arr = np.array([-1, -2, 3, -4, 5])\n",
    "\n",
    "# Compute the absolute value of each element\n",
    "abs_arr = np.abs(arr)\n",
    "\n",
    "# Display the result\n",
    "print(\"Absolute value of each element:\", abs_arr)"
   ]
  },
  {
   "cell_type": "markdown",
   "id": "ce895568",
   "metadata": {},
   "source": [
    "40. Generate a NumPy array of 100 linearly spaced numbers between 0 and 10."
   ]
  },
  {
   "cell_type": "code",
   "execution_count": 217,
   "id": "f90bc3c0",
   "metadata": {},
   "outputs": [
    {
     "name": "stdout",
     "output_type": "stream",
     "text": [
      "100 linearly spaced numbers between 0 and 10: [ 0.          0.1010101   0.2020202   0.3030303   0.4040404   0.50505051\n",
      "  0.60606061  0.70707071  0.80808081  0.90909091  1.01010101  1.11111111\n",
      "  1.21212121  1.31313131  1.41414141  1.51515152  1.61616162  1.71717172\n",
      "  1.81818182  1.91919192  2.02020202  2.12121212  2.22222222  2.32323232\n",
      "  2.42424242  2.52525253  2.62626263  2.72727273  2.82828283  2.92929293\n",
      "  3.03030303  3.13131313  3.23232323  3.33333333  3.43434343  3.53535354\n",
      "  3.63636364  3.73737374  3.83838384  3.93939394  4.04040404  4.14141414\n",
      "  4.24242424  4.34343434  4.44444444  4.54545455  4.64646465  4.74747475\n",
      "  4.84848485  4.94949495  5.05050505  5.15151515  5.25252525  5.35353535\n",
      "  5.45454545  5.55555556  5.65656566  5.75757576  5.85858586  5.95959596\n",
      "  6.06060606  6.16161616  6.26262626  6.36363636  6.46464646  6.56565657\n",
      "  6.66666667  6.76767677  6.86868687  6.96969697  7.07070707  7.17171717\n",
      "  7.27272727  7.37373737  7.47474747  7.57575758  7.67676768  7.77777778\n",
      "  7.87878788  7.97979798  8.08080808  8.18181818  8.28282828  8.38383838\n",
      "  8.48484848  8.58585859  8.68686869  8.78787879  8.88888889  8.98989899\n",
      "  9.09090909  9.19191919  9.29292929  9.39393939  9.49494949  9.5959596\n",
      "  9.6969697   9.7979798   9.8989899  10.        ]\n"
     ]
    }
   ],
   "source": [
    "# Generate 100 linearly spaced numbers between 0 and 10\n",
    "arr = np.linspace(0, 10, 100)\n",
    "\n",
    "# Display the result\n",
    "print(\"100 linearly spaced numbers between 0 and 10:\", arr)"
   ]
  },
  {
   "cell_type": "markdown",
   "id": "546c1071",
   "metadata": {},
   "source": [
    "### Linear Algebra with NumPy"
   ]
  },
  {
   "cell_type": "markdown",
   "id": "0767ea9a",
   "metadata": {},
   "source": [
    "41. Create a 3×3 identity matrix."
   ]
  },
  {
   "cell_type": "code",
   "execution_count": 218,
   "id": "b87d5897",
   "metadata": {},
   "outputs": [
    {
     "name": "stdout",
     "output_type": "stream",
     "text": [
      "3x3 Identity Matrix:\n",
      "[[1. 0. 0.]\n",
      " [0. 1. 0.]\n",
      " [0. 0. 1.]]\n"
     ]
    }
   ],
   "source": [
    "# Create a 3x3 identity matrix\n",
    "identity_matrix = np.eye(3)\n",
    "\n",
    "# Display the result\n",
    "print(\"3x3 Identity Matrix:\")\n",
    "print(identity_matrix)"
   ]
  },
  {
   "cell_type": "markdown",
   "id": "0574053c",
   "metadata": {},
   "source": [
    "42. Compute the determinant of a square matrix."
   ]
  },
  {
   "cell_type": "code",
   "execution_count": 219,
   "id": "83f231d7",
   "metadata": {},
   "outputs": [
    {
     "name": "stdout",
     "output_type": "stream",
     "text": [
      "Determinant of the matrix: -2.0000000000000004\n"
     ]
    }
   ],
   "source": [
    "# Create a 2x2 square matrix\n",
    "matrix = np.array([[1, 2], [3, 4]])\n",
    "\n",
    "# Compute the determinant\n",
    "determinant = np.linalg.det(matrix)\n",
    "\n",
    "# Display the result\n",
    "print(\"Determinant of the matrix:\", determinant)"
   ]
  },
  {
   "cell_type": "markdown",
   "id": "3f61623c",
   "metadata": {},
   "source": [
    "43. Compute the inverse of a square matrix."
   ]
  },
  {
   "cell_type": "code",
   "execution_count": 220,
   "id": "7e811553",
   "metadata": {},
   "outputs": [
    {
     "name": "stdout",
     "output_type": "stream",
     "text": [
      "Inverse of the matrix:\n",
      "[[-2.   1. ]\n",
      " [ 1.5 -0.5]]\n"
     ]
    }
   ],
   "source": [
    "# Create a 2x2 square matrix\n",
    "matrix = np.array([[1, 2], [3, 4]])\n",
    "\n",
    "# Compute the inverse\n",
    "inverse_matrix = np.linalg.inv(matrix)\n",
    "\n",
    "# Display the result\n",
    "print(\"Inverse of the matrix:\")\n",
    "print(inverse_matrix)"
   ]
  },
  {
   "cell_type": "markdown",
   "id": "adbce0de",
   "metadata": {},
   "source": [
    "44. Compute the eigenvalues and eigenvectors of a matrix."
   ]
  },
  {
   "cell_type": "code",
   "execution_count": 221,
   "id": "d9c7cca5",
   "metadata": {},
   "outputs": [
    {
     "name": "stdout",
     "output_type": "stream",
     "text": [
      "Eigenvalues: [3. 2.]\n",
      "Eigenvectors:\n",
      "[[0.89442719 0.70710678]\n",
      " [0.4472136  0.70710678]]\n"
     ]
    }
   ],
   "source": [
    "# Create a 2x2 square matrix\n",
    "matrix = np.array([[4, -2], [1, 1]])\n",
    "\n",
    "# Compute the eigenvalues and eigenvectors\n",
    "eigenvalues, eigenvectors = np.linalg.eig(matrix)\n",
    "\n",
    "# Display the results\n",
    "print(\"Eigenvalues:\", eigenvalues)\n",
    "print(\"Eigenvectors:\")\n",
    "print(eigenvectors)"
   ]
  },
  {
   "cell_type": "markdown",
   "id": "cc46b68a",
   "metadata": {},
   "source": [
    "45. Compute the rank of a matrix."
   ]
  },
  {
   "cell_type": "code",
   "execution_count": 222,
   "id": "47632c70",
   "metadata": {},
   "outputs": [
    {
     "name": "stdout",
     "output_type": "stream",
     "text": [
      "Rank of the matrix: 2\n"
     ]
    }
   ],
   "source": [
    "# Create a 2x3 matrix\n",
    "matrix = np.array([[1, 2, 3], [4, 5, 6]])\n",
    "\n",
    "# Compute the rank of the matrix\n",
    "rank = np.linalg.matrix_rank(matrix)\n",
    "\n",
    "# Display the result\n",
    "print(\"Rank of the matrix:\", rank)"
   ]
  },
  {
   "cell_type": "markdown",
   "id": "8172cc51",
   "metadata": {},
   "source": [
    "46. Perform singular value decomposition (SVD) on a matrix."
   ]
  },
  {
   "cell_type": "code",
   "execution_count": 223,
   "id": "52cf8b03",
   "metadata": {},
   "outputs": [
    {
     "name": "stdout",
     "output_type": "stream",
     "text": [
      "U matrix:\n",
      " [[-0.3863177  -0.92236578]\n",
      " [-0.92236578  0.3863177 ]]\n",
      "Singular values: [9.508032   0.77286964]\n",
      "Vt matrix:\n",
      " [[-0.42866713 -0.56630692 -0.7039467 ]\n",
      " [ 0.80596391  0.11238241 -0.58119908]\n",
      " [ 0.40824829 -0.81649658  0.40824829]]\n"
     ]
    }
   ],
   "source": [
    "# Create a 2x3 matrix\n",
    "matrix = np.array([[1, 2, 3], [4, 5, 6]])\n",
    "\n",
    "# Perform Singular Value Decomposition (SVD)\n",
    "U, S, Vt = np.linalg.svd(matrix)\n",
    "\n",
    "# Display the results\n",
    "print(\"U matrix:\\n\", U)\n",
    "print(\"Singular values:\", S)\n",
    "print(\"Vt matrix:\\n\", Vt)"
   ]
  },
  {
   "cell_type": "markdown",
   "id": "483f464c",
   "metadata": {},
   "source": [
    "47. Solve a system of linear equations using NumPy."
   ]
  },
  {
   "cell_type": "code",
   "execution_count": 224,
   "id": "a339ecab",
   "metadata": {},
   "outputs": [
    {
     "name": "stdout",
     "output_type": "stream",
     "text": [
      "Solution (x, y): [1. 1.]\n"
     ]
    }
   ],
   "source": [
    "import numpy as np\n",
    "\n",
    "\n",
    "''' \n",
    "3x + 2y = 5\n",
    "4x - y = 3\n",
    "\n",
    "'''\n",
    "# Define the coefficient matrix A and the result vector B\n",
    "A = np.array([[3, 2], [4, -1]])\n",
    "B = np.array([5, 3])\n",
    "\n",
    "# Solve the system of linear equations\n",
    "X = np.linalg.solve(A, B)\n",
    "\n",
    "# Print the solution\n",
    "print(\"Solution (x, y):\", X)"
   ]
  },
  {
   "cell_type": "markdown",
   "id": "aa6e8216",
   "metadata": {},
   "source": [
    "48. Compute the Frobenius norm of a matrix."
   ]
  },
  {
   "cell_type": "code",
   "execution_count": 225,
   "id": "c3bc7efd",
   "metadata": {},
   "outputs": [
    {
     "name": "stdout",
     "output_type": "stream",
     "text": [
      "Frobenius norm of A: 5.477225575051661\n"
     ]
    }
   ],
   "source": [
    "import numpy as np\n",
    "\n",
    "# Define the matrix\n",
    "A = np.array([[1, 2], [3, 4]])\n",
    "\n",
    "# Compute the Frobenius norm\n",
    "frobenius_norm = np.linalg.norm(A, 'fro')\n",
    "\n",
    "# Print the Frobenius norm\n",
    "print(\"Frobenius norm of A:\", frobenius_norm)"
   ]
  },
  {
   "cell_type": "markdown",
   "id": "95a3f6d3",
   "metadata": {},
   "source": [
    "49. Compute the trace of a square matrix."
   ]
  },
  {
   "cell_type": "code",
   "execution_count": 226,
   "id": "aedc8b33",
   "metadata": {},
   "outputs": [
    {
     "name": "stdout",
     "output_type": "stream",
     "text": [
      "Trace of A: 15\n"
     ]
    }
   ],
   "source": [
    "import numpy as np\n",
    "\n",
    "# Define the square matrix\n",
    "A = np.array([[1, 2, 3], [4, 5, 6], [7, 8, 9]])\n",
    "\n",
    "# Compute the trace of the matrix\n",
    "trace_A = np.trace(A)\n",
    "\n",
    "# Print the trace\n",
    "print(\"Trace of A:\", trace_A)"
   ]
  },
  {
   "cell_type": "markdown",
   "id": "efdbbbd2",
   "metadata": {},
   "source": [
    "50. Compute the cross product of two vectors."
   ]
  },
  {
   "cell_type": "code",
   "execution_count": 227,
   "id": "aae73585",
   "metadata": {},
   "outputs": [
    {
     "name": "stdout",
     "output_type": "stream",
     "text": [
      "Cross product of a and b: [-3  6 -3]\n"
     ]
    }
   ],
   "source": [
    "import numpy as np\n",
    "\n",
    "# Define the two vectors\n",
    "a = np.array([1, 2, 3])\n",
    "b = np.array([4, 5, 6])\n",
    "\n",
    "# Compute the cross product\n",
    "cross_product = np.cross(a, b)\n",
    "\n",
    "# Print the cross product\n",
    "print(\"Cross product of a and b:\", cross_product)"
   ]
  },
  {
   "cell_type": "markdown",
   "id": "37fe20f1",
   "metadata": {},
   "source": [
    "### Random Number Generation"
   ]
  },
  {
   "cell_type": "markdown",
   "id": "475e69c9",
   "metadata": {},
   "source": [
    "51. Generate a random integer between 1 and 100."
   ]
  },
  {
   "cell_type": "code",
   "execution_count": 228,
   "id": "e116d473",
   "metadata": {},
   "outputs": [
    {
     "name": "stdout",
     "output_type": "stream",
     "text": [
      "Random integer between 1 and 100: 79\n"
     ]
    }
   ],
   "source": [
    "random_integer = np.random.randint(1, 101)  # Upper bound is exclusive\n",
    "print(\"Random integer between 1 and 100:\", random_integer)"
   ]
  },
  {
   "cell_type": "markdown",
   "id": "117c402a",
   "metadata": {},
   "source": [
    "52. Generate a 5×5 matrix of random integers between 1 and 50."
   ]
  },
  {
   "cell_type": "code",
   "execution_count": 229,
   "id": "d7b12872",
   "metadata": {},
   "outputs": [
    {
     "name": "stdout",
     "output_type": "stream",
     "text": [
      "5×5 matrix of random integers between 1 and 50:\n",
      " [[42 33 21 37 12]\n",
      " [22 16 20  8 31]\n",
      " [49 17 48  4 12]\n",
      " [24 12 36 20  9]\n",
      " [48 41 24 21 34]]\n"
     ]
    }
   ],
   "source": [
    "random_matrix = np.random.randint(1, 51, size=(5, 5))  # Upper bound is exclusive\n",
    "print(\"5×5 matrix of random integers between 1 and 50:\\n\", random_matrix)"
   ]
  },
  {
   "cell_type": "markdown",
   "id": "59710f13",
   "metadata": {},
   "source": [
    "53. Generate an array of 10 random numbers from a normal distribution."
   ]
  },
  {
   "cell_type": "code",
   "execution_count": 230,
   "id": "94b10349",
   "metadata": {},
   "outputs": [
    {
     "name": "stdout",
     "output_type": "stream",
     "text": [
      "Array of 10 random numbers from a normal distribution:\n",
      " [-0.47418567  0.16013214  0.12876442 -1.28238462 -0.08604172 -0.17321183\n",
      "  0.957851   -0.26904045 -0.71296275  0.11019376]\n"
     ]
    }
   ],
   "source": [
    "normal_array = np.random.normal(loc=0, scale=1, size=10)\n",
    "print(\"Array of 10 random numbers from a normal distribution:\\n\", normal_array)"
   ]
  },
  {
   "cell_type": "markdown",
   "id": "9f523800",
   "metadata": {},
   "source": [
    "54. Shuffle the elements of a NumPy array randomly."
   ]
  },
  {
   "cell_type": "code",
   "execution_count": 231,
   "id": "32a6a7d5",
   "metadata": {},
   "outputs": [
    {
     "name": "stdout",
     "output_type": "stream",
     "text": [
      "Shuffled array:\n",
      " [3 2 4 1 5 0 9 7 8 6]\n"
     ]
    }
   ],
   "source": [
    "arr = np.arange(10)\n",
    "np.random.shuffle(arr)\n",
    "print(\"Shuffled array:\\n\", arr)"
   ]
  },
  {
   "cell_type": "markdown",
   "id": "16f53787",
   "metadata": {},
   "source": [
    "55. Set a random seed for reproducibility."
   ]
  },
  {
   "cell_type": "code",
   "execution_count": 232,
   "id": "e85cd517",
   "metadata": {},
   "outputs": [
    {
     "name": "stdout",
     "output_type": "stream",
     "text": [
      "Reproducible random numbers:\n",
      " [52 93 15 72 61]\n"
     ]
    }
   ],
   "source": [
    "np.random.seed(42)  # Set the seed\n",
    "\n",
    "# Example: Generate 5 random integers between 1 and 100\n",
    "random_numbers = np.random.randint(1, 101, size=5)\n",
    "print(\"Reproducible random numbers:\\n\", random_numbers)"
   ]
  },
  {
   "cell_type": "markdown",
   "id": "5befdb74",
   "metadata": {},
   "source": [
    "56. Generate a 2×3 array of random floats between 0 and 1."
   ]
  },
  {
   "cell_type": "code",
   "execution_count": 233,
   "id": "f43e6929",
   "metadata": {},
   "outputs": [
    {
     "name": "stdout",
     "output_type": "stream",
     "text": [
      "2×3 array of random floats between 0 and 1:\n",
      " [[0.59685016 0.44583275 0.09997492]\n",
      " [0.45924889 0.33370861 0.14286682]]\n"
     ]
    }
   ],
   "source": [
    "random_floats = np.random.rand(2, 3)\n",
    "print(\"2×3 array of random floats between 0 and 1:\\n\", random_floats)"
   ]
  },
  {
   "cell_type": "markdown",
   "id": "4219c5dc",
   "metadata": {},
   "source": [
    "57. Sample 5 random elements from an array."
   ]
  },
  {
   "cell_type": "code",
   "execution_count": 234,
   "id": "c05bfbbc",
   "metadata": {},
   "outputs": [
    {
     "name": "stdout",
     "output_type": "stream",
     "text": [
      "Sampled random elements:\n",
      " [ 8 14 11  4 16]\n"
     ]
    }
   ],
   "source": [
    "arr = np.arange(1, 21)  # Create an array from 1 to 20\n",
    "random_sample = np.random.choice(arr, size=5, replace=False)  # Sample 5 elements without replacement\n",
    "print(\"Sampled random elements:\\n\", random_sample)"
   ]
  },
  {
   "cell_type": "markdown",
   "id": "ccdb7cb0",
   "metadata": {},
   "source": [
    "58. Generate a permutation of numbers from 1 to 10."
   ]
  },
  {
   "cell_type": "code",
   "execution_count": 235,
   "id": "25a2c45f",
   "metadata": {},
   "outputs": [
    {
     "name": "stdout",
     "output_type": "stream",
     "text": [
      "Permutation of numbers from 1 to 10:\n",
      " [ 2  9  8  6  5 10  1  4  7  3]\n"
     ]
    }
   ],
   "source": [
    "permutation = np.random.permutation(np.arange(1, 11))  # Generate permutation of numbers 1 to 10\n",
    "print(\"Permutation of numbers from 1 to 10:\\n\", permutation)"
   ]
  },
  {
   "cell_type": "markdown",
   "id": "ae41116e",
   "metadata": {},
   "source": [
    "59. Create a NumPy array with random values and replace all values below 0.5 with 0."
   ]
  },
  {
   "cell_type": "code",
   "execution_count": 236,
   "id": "792b646b",
   "metadata": {},
   "outputs": [
    {
     "name": "stdout",
     "output_type": "stream",
     "text": [
      "Array with values below 0.5 replaced by 0:\n",
      " [[0.         0.         0.94220176 0.56328822 0.        ]\n",
      " [0.         0.         0.         0.68326352 0.60999666]\n",
      " [0.83319491 0.         0.         0.         0.75536141]\n",
      " [0.         0.         0.56770033 0.         0.84228477]\n",
      " [0.         0.         0.92665887 0.727272   0.        ]]\n"
     ]
    }
   ],
   "source": [
    "random_array = np.random.rand(5, 5)  # Create a 5x5 array of random floats between 0 and 1\n",
    "random_array[random_array < 0.5] = 0  # Replace values below 0.5 with 0\n",
    "print(\"Array with values below 0.5 replaced by 0:\\n\", random_array)"
   ]
  },
  {
   "cell_type": "markdown",
   "id": "3ba24f28",
   "metadata": {},
   "source": [
    "60. Simulate rolling a die 100 times and find the frequency of each outcome."
   ]
  },
  {
   "cell_type": "code",
   "execution_count": 237,
   "id": "32702ed3",
   "metadata": {},
   "outputs": [
    {
     "name": "stdout",
     "output_type": "stream",
     "text": [
      "Frequency of each outcome:\n",
      " {np.int64(1): np.int64(21), np.int64(2): np.int64(11), np.int64(3): np.int64(17), np.int64(4): np.int64(19), np.int64(5): np.int64(18), np.int64(6): np.int64(14)}\n"
     ]
    }
   ],
   "source": [
    "rolls = np.random.randint(1, 7, size=100)  # Simulate 100 rolls of a die\n",
    "unique, counts = np.unique(rolls, return_counts=True)  # Find unique outcomes and their counts\n",
    "frequency = dict(zip(unique, counts))  # Zip the unique values with their counts\n",
    "print(\"Frequency of each outcome:\\n\", frequency)"
   ]
  },
  {
   "cell_type": "markdown",
   "id": "2516b115",
   "metadata": {},
   "source": [
    "### Boolean Indexing and Filtering"
   ]
  },
  {
   "cell_type": "markdown",
   "id": "aa6bd9d4",
   "metadata": {},
   "source": [
    "61. Create a Boolean mask for values greater than 50 in an array."
   ]
  },
  {
   "cell_type": "code",
   "execution_count": 238,
   "id": "33b9261d",
   "metadata": {},
   "outputs": [
    {
     "name": "stdout",
     "output_type": "stream",
     "text": [
      "Original Array: [10 55 23 89 45 67]\n",
      "Boolean Mask (arr > 50): [False  True False  True False  True]\n"
     ]
    }
   ],
   "source": [
    "# Sample array\n",
    "arr = np.array([10, 55, 23, 89, 45, 67])\n",
    "\n",
    "# Create Boolean mask for values > 50\n",
    "mask = arr > 50\n",
    "\n",
    "print(\"Original Array:\", arr)\n",
    "print(\"Boolean Mask (arr > 50):\", mask)"
   ]
  },
  {
   "cell_type": "markdown",
   "id": "24dbcad6",
   "metadata": {},
   "source": [
    "62. Extract elements from an array that satisfy a condition."
   ]
  },
  {
   "cell_type": "code",
   "execution_count": 239,
   "id": "c3e72565",
   "metadata": {},
   "outputs": [
    {
     "name": "stdout",
     "output_type": "stream",
     "text": [
      "Original Array: [15 22 38 49 50 63 75]\n",
      "Elements > 40: [49 50 63 75]\n"
     ]
    }
   ],
   "source": [
    "# Sample array\n",
    "arr = np.array([15, 22, 38, 49, 50, 63, 75])\n",
    "\n",
    "# Condition: Extract elements greater than 40\n",
    "filtered_elements = arr[arr > 40]\n",
    "\n",
    "print(\"Original Array:\", arr)\n",
    "print(\"Elements > 40:\", filtered_elements)"
   ]
  },
  {
   "cell_type": "markdown",
   "id": "bb0210c7",
   "metadata": {},
   "source": [
    "63. Replace values less than 10 in an array with their square."
   ]
  },
  {
   "cell_type": "code",
   "execution_count": 240,
   "id": "bbdfdb4b",
   "metadata": {},
   "outputs": [
    {
     "name": "stdout",
     "output_type": "stream",
     "text": [
      "Original array: [ 3 10  7 25 12  8]\n",
      "Modified array: [ 9 10 49 25 12 64]\n"
     ]
    }
   ],
   "source": [
    "# Sample array\n",
    "arr = np.array([3, 10, 7, 25, 12, 8])\n",
    "\n",
    "# Replace values less than 10 with their square\n",
    "modified_arr = np.where(arr < 10, arr ** 2, arr)\n",
    "\n",
    "print(\"Original array:\", arr)\n",
    "print(\"Modified array:\", modified_arr)"
   ]
  },
  {
   "cell_type": "markdown",
   "id": "51372bb0",
   "metadata": {},
   "source": [
    "64. Count the number of nonzero elements in an array."
   ]
  },
  {
   "cell_type": "code",
   "execution_count": 241,
   "id": "f698bf49",
   "metadata": {},
   "outputs": [
    {
     "name": "stdout",
     "output_type": "stream",
     "text": [
      "Array: [0 1 2 0 4 0 6]\n",
      "Number of nonzero elements: 4\n"
     ]
    }
   ],
   "source": [
    "# Sample array\n",
    "arr = np.array([0, 1, 2, 0, 4, 0, 6])\n",
    "\n",
    "# Count nonzero elements\n",
    "nonzero_count = np.count_nonzero(arr)\n",
    "\n",
    "print(\"Array:\", arr)\n",
    "print(\"Number of nonzero elements:\", nonzero_count)"
   ]
  },
  {
   "cell_type": "markdown",
   "id": "655e1cdc",
   "metadata": {},
   "source": [
    "65. Count the number of elements that satisfy a condition."
   ]
  },
  {
   "cell_type": "code",
   "execution_count": 242,
   "id": "1dbebc50",
   "metadata": {},
   "outputs": [
    {
     "name": "stdout",
     "output_type": "stream",
     "text": [
      "Array: [ 5 12  7 18  3 25  9]\n",
      "Number of elements greater than 10: 3\n"
     ]
    }
   ],
   "source": [
    "# Sample array\n",
    "arr = np.array([5, 12, 7, 18, 3, 25, 9])\n",
    "\n",
    "# Count elements greater than 10\n",
    "count = np.sum(arr > 10)\n",
    "\n",
    "print(\"Array:\", arr)\n",
    "print(\"Number of elements greater than 10:\", count)"
   ]
  },
  {
   "cell_type": "markdown",
   "id": "05564591",
   "metadata": {},
   "source": [
    "66. Check if any value in an array is greater than 100."
   ]
  },
  {
   "cell_type": "code",
   "execution_count": 243,
   "id": "01af7576",
   "metadata": {},
   "outputs": [
    {
     "name": "stdout",
     "output_type": "stream",
     "text": [
      "Any value greater than 100: False\n"
     ]
    }
   ],
   "source": [
    "# Sample array\n",
    "arr = np.array([10, 55, 73, 88, 99])\n",
    "\n",
    "# Check if any value is greater than 100\n",
    "any_greater_than_100 = np.any(arr > 100)\n",
    "\n",
    "print(\"Any value greater than 100:\", any_greater_than_100)"
   ]
  },
  {
   "cell_type": "markdown",
   "id": "ee6a27d4",
   "metadata": {},
   "source": [
    "67. Check if all values in an array are positive."
   ]
  },
  {
   "cell_type": "code",
   "execution_count": 244,
   "id": "eb3dfd04",
   "metadata": {},
   "outputs": [
    {
     "name": "stdout",
     "output_type": "stream",
     "text": [
      "All values are positive: True\n"
     ]
    }
   ],
   "source": [
    "# Sample array\n",
    "arr = np.array([3, 7, 1, 9, 4])\n",
    "\n",
    "# Check if all values are positive\n",
    "all_positive = np.all(arr > 0)\n",
    "\n",
    "print(\"All values are positive:\", all_positive)"
   ]
  },
  {
   "cell_type": "markdown",
   "id": "3ae6a1ec",
   "metadata": {},
   "source": [
    "68. Find the indices where an array has negative values."
   ]
  },
  {
   "cell_type": "code",
   "execution_count": 245,
   "id": "245e6591",
   "metadata": {},
   "outputs": [
    {
     "name": "stdout",
     "output_type": "stream",
     "text": [
      "Indices with negative values: [1 3 6]\n"
     ]
    }
   ],
   "source": [
    "# Sample array with some negative values\n",
    "arr = np.array([4, -2, 7, -9, 0, 3, -1])\n",
    "\n",
    "# Get indices where the values are negative\n",
    "negative_indices = np.where(arr < 0)\n",
    "\n",
    "print(\"Indices with negative values:\", negative_indices[0])"
   ]
  },
  {
   "cell_type": "markdown",
   "id": "6a5b4429",
   "metadata": {},
   "source": [
    "69. Convert a Boolean array into integers (0 and 1)."
   ]
  },
  {
   "cell_type": "code",
   "execution_count": 246,
   "id": "79ded572",
   "metadata": {},
   "outputs": [
    {
     "name": "stdout",
     "output_type": "stream",
     "text": [
      "Converted integer array: [1 0 1 0 1]\n"
     ]
    }
   ],
   "source": [
    "# Sample Boolean array\n",
    "bool_arr = np.array([True, False, True, False, True])\n",
    "\n",
    "# Convert to integers (0 and 1)\n",
    "int_arr = bool_arr.astype(int)\n",
    "\n",
    "print(\"Converted integer array:\", int_arr)"
   ]
  },
  {
   "cell_type": "markdown",
   "id": "cd323abc",
   "metadata": {},
   "source": [
    "70. Find the most frequent value in an array."
   ]
  },
  {
   "cell_type": "code",
   "execution_count": 247,
   "id": "a018f9b0",
   "metadata": {},
   "outputs": [
    {
     "name": "stdout",
     "output_type": "stream",
     "text": [
      "Most frequent value: 3\n"
     ]
    }
   ],
   "source": [
    "# Sample array\n",
    "arr = np.array([3, 1, 2, 3, 3, 4, 5, 2, 3])\n",
    "\n",
    "# Find the most frequent value\n",
    "most_frequent = np.bincount(arr).argmax()\n",
    "\n",
    "print(\"Most frequent value:\", most_frequent)"
   ]
  },
  {
   "cell_type": "markdown",
   "id": "5a0b8d09",
   "metadata": {},
   "source": [
    "### Advanced NumPy Operations"
   ]
  },
  {
   "cell_type": "markdown",
   "id": "1af45d7f",
   "metadata": {},
   "source": [
    "71. Stack two NumPy arrays vertically."
   ]
  },
  {
   "cell_type": "code",
   "execution_count": 248,
   "id": "db65099c",
   "metadata": {},
   "outputs": [
    {
     "name": "stdout",
     "output_type": "stream",
     "text": [
      "Vertically stacked array:\n",
      "[[1 2 3]\n",
      " [4 5 6]]\n"
     ]
    }
   ],
   "source": [
    "# Sample arrays\n",
    "arr1 = np.array([1, 2, 3])\n",
    "arr2 = np.array([4, 5, 6])\n",
    "\n",
    "# Stack the arrays vertically\n",
    "stacked_array = np.vstack((arr1, arr2))\n",
    "\n",
    "print(\"Vertically stacked array:\")\n",
    "print(stacked_array)"
   ]
  },
  {
   "cell_type": "markdown",
   "id": "c060a985",
   "metadata": {},
   "source": [
    "72. Stack two NumPy arrays horizontally."
   ]
  },
  {
   "cell_type": "code",
   "execution_count": 249,
   "id": "496c79de",
   "metadata": {},
   "outputs": [
    {
     "name": "stdout",
     "output_type": "stream",
     "text": [
      "Horizontally stacked array:\n",
      "[1 2 3 4 5 6]\n"
     ]
    }
   ],
   "source": [
    "# Sample arrays\n",
    "arr1 = np.array([1, 2, 3])\n",
    "arr2 = np.array([4, 5, 6])\n",
    "\n",
    "# Stack the arrays horizontally\n",
    "stacked_array = np.hstack((arr1, arr2))\n",
    "\n",
    "print(\"Horizontally stacked array:\")\n",
    "print(stacked_array)"
   ]
  },
  {
   "cell_type": "markdown",
   "id": "460aaa31",
   "metadata": {},
   "source": [
    "73. Split an array into 3 equal parts."
   ]
  },
  {
   "cell_type": "code",
   "execution_count": 250,
   "id": "c846b5f8",
   "metadata": {},
   "outputs": [
    {
     "name": "stdout",
     "output_type": "stream",
     "text": [
      "[array([0, 1, 2, 3]), array([4, 5, 6, 7]), array([ 8,  9, 10, 11])]\n",
      "Part 1: [0 1 2 3]\n",
      "Part 2: [4 5 6 7]\n",
      "Part 3: [ 8  9 10 11]\n"
     ]
    }
   ],
   "source": [
    "arr = np.arange(12)  # array from 0 to 11 (12 elements)\n",
    "split_arr = np.split(arr, 3)  # splits into 3 equal parts\n",
    "print(split_arr)\n",
    "for i, part in enumerate(split_arr, 1):\n",
    "    print(f\"Part {i}:\", part)"
   ]
  },
  {
   "cell_type": "markdown",
   "id": "1102a7ee",
   "metadata": {},
   "source": [
    "74. Repeat each element of an array 3 times."
   ]
  },
  {
   "cell_type": "code",
   "execution_count": 251,
   "id": "79dbbd15",
   "metadata": {},
   "outputs": [
    {
     "name": "stdout",
     "output_type": "stream",
     "text": [
      "[1 1 1 2 2 2 3 3 3]\n"
     ]
    }
   ],
   "source": [
    "arr = np.array([1, 2, 3])\n",
    "repeated_arr = np.repeat(arr, 3)\n",
    "print(repeated_arr)"
   ]
  },
  {
   "cell_type": "markdown",
   "id": "7c6b9416",
   "metadata": {},
   "source": [
    "75. Tile an array 2×3 times."
   ]
  },
  {
   "cell_type": "code",
   "execution_count": 252,
   "id": "fd176e58",
   "metadata": {},
   "outputs": [
    {
     "name": "stdout",
     "output_type": "stream",
     "text": [
      "[[1 2 1 2 1 2]\n",
      " [1 2 1 2 1 2]]\n"
     ]
    }
   ],
   "source": [
    "arr = np.array([1, 2])\n",
    "tiled_arr = np.tile(arr, (2, 3))\n",
    "print(tiled_arr)"
   ]
  },
  {
   "cell_type": "markdown",
   "id": "a722d6b2",
   "metadata": {},
   "source": [
    "76. Find unique elements in an array."
   ]
  },
  {
   "cell_type": "code",
   "execution_count": 253,
   "id": "33777a81",
   "metadata": {},
   "outputs": [
    {
     "name": "stdout",
     "output_type": "stream",
     "text": [
      "[1 2 3 4 5]\n"
     ]
    }
   ],
   "source": [
    "arr = np.array([1, 2, 2, 3, 4, 4, 4, 5])\n",
    "unique_elements = np.unique(arr)\n",
    "print(unique_elements)"
   ]
  },
  {
   "cell_type": "markdown",
   "id": "be3e3d24",
   "metadata": {},
   "source": [
    "77. Find the intersection of two arrays."
   ]
  },
  {
   "cell_type": "code",
   "execution_count": 254,
   "id": "0479b6f3",
   "metadata": {},
   "outputs": [
    {
     "name": "stdout",
     "output_type": "stream",
     "text": [
      "[4 5]\n"
     ]
    }
   ],
   "source": [
    "arr1 = np.array([1, 2, 3, 4, 5])\n",
    "arr2 = np.array([4, 5, 6, 7, 8])\n",
    "\n",
    "intersection = np.intersect1d(arr1, arr2)\n",
    "print(intersection)"
   ]
  },
  {
   "cell_type": "markdown",
   "id": "beb55534",
   "metadata": {},
   "source": [
    "78. Find the union of two arrays."
   ]
  },
  {
   "cell_type": "code",
   "execution_count": 255,
   "id": "ce3310b4",
   "metadata": {},
   "outputs": [
    {
     "name": "stdout",
     "output_type": "stream",
     "text": [
      "[1 2 3 4 5 6]\n"
     ]
    }
   ],
   "source": [
    "arr1 = np.array([1, 2, 3, 4])\n",
    "arr2 = np.array([3, 4, 5, 6])\n",
    "\n",
    "union = np.union1d(arr1, arr2)\n",
    "print(union)"
   ]
  },
  {
   "cell_type": "markdown",
   "id": "67b335f5",
   "metadata": {},
   "source": [
    "79. Find the difference between two arrays."
   ]
  },
  {
   "cell_type": "code",
   "execution_count": 256,
   "id": "c7849816",
   "metadata": {},
   "outputs": [
    {
     "name": "stdout",
     "output_type": "stream",
     "text": [
      "[1 2 5]\n"
     ]
    }
   ],
   "source": [
    "arr1 = np.array([1, 2, 3, 4, 5])\n",
    "arr2 = np.array([3, 4, 6])\n",
    "\n",
    "difference = np.setdiff1d(arr1, arr2)\n",
    "print(difference)"
   ]
  },
  {
   "cell_type": "markdown",
   "id": "734764a6",
   "metadata": {},
   "source": [
    "80. Find the indices where two arrays match."
   ]
  },
  {
   "cell_type": "code",
   "execution_count": 257,
   "id": "9e55d25f",
   "metadata": {},
   "outputs": [
    {
     "name": "stdout",
     "output_type": "stream",
     "text": [
      "[0 2 4]\n"
     ]
    }
   ],
   "source": [
    "arr1 = np.array([1, 2, 3, 4, 5])\n",
    "arr2 = np.array([1, 0, 3, 0, 5])\n",
    "\n",
    "matching_indices = np.where(arr1 == arr2)[0]\n",
    "print(matching_indices)"
   ]
  },
  {
   "cell_type": "markdown",
   "id": "3e567dbf",
   "metadata": {},
   "source": [
    "### Performance Optimization"
   ]
  },
  {
   "cell_type": "markdown",
   "id": "76bb0143",
   "metadata": {},
   "source": [
    "81. Measure the execution time of a NumPy operation."
   ]
  },
  {
   "cell_type": "code",
   "execution_count": 258,
   "id": "683b5abf",
   "metadata": {},
   "outputs": [
    {
     "name": "stdout",
     "output_type": "stream",
     "text": [
      "Execution time: 0.0016858577728271484 seconds\n"
     ]
    }
   ],
   "source": [
    "import time\n",
    "\n",
    "arr = np.random.rand(1000000)\n",
    "\n",
    "start_time = time.time()\n",
    "result = np.sqrt(arr)  # Example NumPy operation\n",
    "end_time = time.time()\n",
    "\n",
    "print(f\"Execution time: {end_time - start_time} seconds\")"
   ]
  },
  {
   "cell_type": "markdown",
   "id": "06256ce5",
   "metadata": {},
   "source": [
    "82. Convert a large list into a NumPy array and compare performance."
   ]
  },
  {
   "cell_type": "code",
   "execution_count": 259,
   "id": "3ea6ad60",
   "metadata": {},
   "outputs": [
    {
     "name": "stdout",
     "output_type": "stream",
     "text": [
      "Time to convert list to NumPy array: 0.08830428123474121 seconds\n",
      "Time to apply sqrt operation on NumPy array: 0.003200054168701172 seconds\n"
     ]
    }
   ],
   "source": [
    "# Create a large list\n",
    "large_list = list(range(1000000))\n",
    "\n",
    "# Measure time to convert the list to a NumPy array\n",
    "start_time = time.time()\n",
    "np_array_from_list = np.array(large_list)\n",
    "end_time = time.time()\n",
    "print(f\"Time to convert list to NumPy array: {end_time - start_time} seconds\")\n",
    "\n",
    "# Measure time to perform an operation on the NumPy array (e.g., sqrt)\n",
    "start_time = time.time()\n",
    "np_sqrt = np.sqrt(np_array_from_list)\n",
    "end_time = time.time()\n",
    "print(f\"Time to apply sqrt operation on NumPy array: {end_time - start_time} seconds\")"
   ]
  },
  {
   "cell_type": "markdown",
   "id": "8533d318",
   "metadata": {},
   "source": [
    "83. Use NumPy broadcasting to perform element-wise operations without loops."
   ]
  },
  {
   "cell_type": "code",
   "execution_count": 260,
   "id": "83f40c30",
   "metadata": {},
   "outputs": [
    {
     "name": "stdout",
     "output_type": "stream",
     "text": [
      "[[11 12 13]\n",
      " [14 15 16]]\n"
     ]
    }
   ],
   "source": [
    "# Element-wise addition of a scalar to a 2D array:\n",
    "\n",
    "\n",
    "# Create a 2D array\n",
    "arr = np.array([[1, 2, 3], [4, 5, 6]])\n",
    "\n",
    "# Add a scalar (broadcasted) to each element of the 2D array\n",
    "result = arr + 10\n",
    "print(result)\n",
    "\n"
   ]
  },
  {
   "cell_type": "markdown",
   "id": "211485cb",
   "metadata": {},
   "source": [
    "84. Compare the memory usage of a NumPy array vs. a Python list."
   ]
  },
  {
   "cell_type": "code",
   "execution_count": 261,
   "id": "c54524c3",
   "metadata": {},
   "outputs": [
    {
     "name": "stdout",
     "output_type": "stream",
     "text": [
      "Memory usage of Python list: 136 bytes\n",
      "Memory usage of NumPy array: 80 bytes\n"
     ]
    }
   ],
   "source": [
    "import sys\n",
    "\n",
    "# Create a Python list and a NumPy array\n",
    "python_list = [1, 2, 3, 4, 5, 6, 7, 8, 9, 10]\n",
    "numpy_array = np.array([1, 2, 3, 4, 5, 6, 7, 8, 9, 10])\n",
    "\n",
    "# Memory usage of the Python list\n",
    "python_list_size = sys.getsizeof(python_list)\n",
    "# Memory usage of the NumPy array\n",
    "numpy_array_size = numpy_array.nbytes\n",
    "\n",
    "# Display the memory usage\n",
    "print(f\"Memory usage of Python list: {python_list_size} bytes\")\n",
    "print(f\"Memory usage of NumPy array: {numpy_array_size} bytes\")"
   ]
  },
  {
   "cell_type": "markdown",
   "id": "1c376551",
   "metadata": {},
   "source": [
    "85. Perform element-wise multiplication using broadcasting instead of loops."
   ]
  },
  {
   "cell_type": "code",
   "execution_count": 262,
   "id": "ee518c2a",
   "metadata": {},
   "outputs": [
    {
     "name": "stdout",
     "output_type": "stream",
     "text": [
      "[[ 1  4  9]\n",
      " [ 4 10 18]]\n"
     ]
    }
   ],
   "source": [
    "# Create a 2D array and a 1D array\n",
    "arr_2d = np.array([[1, 2, 3], [4, 5, 6]])\n",
    "arr_1d = np.array([1, 2, 3])\n",
    "\n",
    "# Multiply the 2D array by the 1D array (broadcasted across each row)\n",
    "result = arr_2d * arr_1d\n",
    "print(result)\n"
   ]
  },
  {
   "cell_type": "markdown",
   "id": "bca59ab8",
   "metadata": {},
   "source": [
    "86. Use NumPy's vectorized operations to replace a for-loop sum."
   ]
  },
  {
   "cell_type": "code",
   "execution_count": 263,
   "id": "7e06ae3b",
   "metadata": {},
   "outputs": [
    {
     "name": "stdout",
     "output_type": "stream",
     "text": [
      "Sum using for-loop: 15\n",
      "Sum using NumPy vectorized operation: 15\n"
     ]
    }
   ],
   "source": [
    "# Create a NumPy array\n",
    "arr = np.array([1, 2, 3, 4, 5])\n",
    "\n",
    "# Sum using a for-loop (inefficient)\n",
    "sum_for_loop = 0\n",
    "for num in arr:\n",
    "    sum_for_loop += num\n",
    "\n",
    "# Sum using NumPy's vectorized sum (efficient)\n",
    "sum_vectorized = np.sum(arr)\n",
    "\n",
    "# Display the results\n",
    "print(f\"Sum using for-loop: {sum_for_loop}\")\n",
    "print(f\"Sum using NumPy vectorized operation: {sum_vectorized}\")"
   ]
  },
  {
   "cell_type": "markdown",
   "id": "6fb80023",
   "metadata": {},
   "source": [
    "87. Compute the moving average of an array using NumPy."
   ]
  },
  {
   "cell_type": "code",
   "execution_count": 264,
   "id": "64f3fa26",
   "metadata": {},
   "outputs": [
    {
     "name": "stdout",
     "output_type": "stream",
     "text": [
      "Original Array: [ 1  2  3  4  5  6  7  8  9 10]\n",
      "Moving Average (window size 3): [2. 3. 4. 5. 6. 7. 8. 9.]\n"
     ]
    }
   ],
   "source": [
    "# Function to compute moving average\n",
    "def moving_average(arr, window_size):\n",
    "    return np.convolve(arr, np.ones(window_size)/window_size, mode='valid')\n",
    "\n",
    "# Example array\n",
    "arr = np.array([1, 2, 3, 4, 5, 6, 7, 8, 9, 10])\n",
    "\n",
    "# Define the window size (e.g., 3 for a 3-point moving average)\n",
    "window_size = 3\n",
    "\n",
    "# Compute the moving average\n",
    "ma = moving_average(arr, window_size)\n",
    "\n",
    "# Display the result\n",
    "print(f\"Original Array: {arr}\")\n",
    "print(f\"Moving Average (window size {window_size}): {ma}\")"
   ]
  },
  {
   "cell_type": "markdown",
   "id": "8da71afd",
   "metadata": {},
   "source": [
    "88. Implement a sliding window function using NumPy."
   ]
  },
  {
   "cell_type": "code",
   "execution_count": 265,
   "id": "93d5457b",
   "metadata": {},
   "outputs": [
    {
     "name": "stdout",
     "output_type": "stream",
     "text": [
      "Original Array: [ 1  2  3  4  5  6  7  8  9 10]\n",
      "Sliding Windows (window size 3):\n",
      "[[ 1  2  3]\n",
      " [ 2  3  4]\n",
      " [ 3  4  5]\n",
      " [ 4  5  6]\n",
      " [ 5  6  7]\n",
      " [ 6  7  8]\n",
      " [ 7  8  9]\n",
      " [ 8  9 10]]\n"
     ]
    }
   ],
   "source": [
    "import numpy as np\n",
    "\n",
    "# Function to create sliding windows\n",
    "def sliding_window(arr, window_size):\n",
    "    # Create a view of the original array with the sliding window\n",
    "    shape = (arr.size - window_size + 1, window_size)\n",
    "    strides = (arr.strides[0], arr.strides[0])\n",
    "    \n",
    "    # Return a 2D array where each row is a window of the original array\n",
    "    return np.lib.stride_tricks.as_strided(arr, shape=shape, strides=strides)\n",
    "\n",
    "# Example array\n",
    "arr = np.array([1, 2, 3, 4, 5, 6, 7, 8, 9, 10])\n",
    "\n",
    "# Define the window size (e.g., 3)\n",
    "window_size = 3\n",
    "\n",
    "# Get the sliding windows\n",
    "windows = sliding_window(arr, window_size)\n",
    "\n",
    "# Display the result\n",
    "print(f\"Original Array: {arr}\")\n",
    "print(f\"Sliding Windows (window size {window_size}):\")\n",
    "print(windows)"
   ]
  },
  {
   "cell_type": "markdown",
   "id": "4a522b34",
   "metadata": {},
   "source": [
    "89. Find the nearest value to a given number in a NumPy array."
   ]
  },
  {
   "cell_type": "code",
   "execution_count": 266,
   "id": "d29c4659",
   "metadata": {},
   "outputs": [
    {
     "name": "stdout",
     "output_type": "stream",
     "text": [
      "Nearest value to 33 is 35\n"
     ]
    }
   ],
   "source": [
    "# Sample array\n",
    "arr = np.array([10, 22, 35, 40, 50, 60])\n",
    "\n",
    "# Given number\n",
    "target = 33\n",
    "\n",
    "# Find the nearest value to the target\n",
    "nearest_value = arr[np.abs(arr - target).argmin()]\n",
    "\n",
    "print(\"Nearest value to\", target, \"is\", nearest_value)"
   ]
  },
  {
   "cell_type": "markdown",
   "id": "6d373cfe",
   "metadata": {},
   "source": [
    "90. Convert a Python dictionary into a NumPy structured array."
   ]
  },
  {
   "cell_type": "code",
   "execution_count": 267,
   "id": "39cf3c49",
   "metadata": {},
   "outputs": [
    {
     "name": "stdout",
     "output_type": "stream",
     "text": [
      "Structured Array:\n",
      "[('Alice', 25, 88.5) ('Bob', 30, 92.3) ('Charlie', 35, 95. )]\n"
     ]
    }
   ],
   "source": [
    "# Sample dictionary\n",
    "data = {\n",
    "    'name': ['Alice', 'Bob', 'Charlie'],\n",
    "    'age': [25, 30, 35],\n",
    "    'score': [88.5, 92.3, 95.0]\n",
    "}\n",
    "\n",
    "# Convert the dictionary into a structured NumPy array\n",
    "dtype = [('name', 'U10'), ('age', 'i4'), ('score', 'f4')]  # Define data types\n",
    "structured_array = np.array(list(zip(data['name'], data['age'], data['score'])), dtype=dtype)\n",
    "\n",
    "print(\"Structured Array:\")\n",
    "print(structured_array)"
   ]
  },
  {
   "cell_type": "markdown",
   "id": "c1e45e45",
   "metadata": {},
   "source": [
    "### Applications and Case Studies"
   ]
  },
  {
   "cell_type": "markdown",
   "id": "eaddcc1e",
   "metadata": {},
   "source": [
    "91. Read a CSV file into a NumPy array."
   ]
  },
  {
   "cell_type": "code",
   "execution_count": 268,
   "id": "7a3f5393",
   "metadata": {},
   "outputs": [
    {
     "name": "stdout",
     "output_type": "stream",
     "text": [
      "[[1. 2. 3.]\n",
      " [4. 5. 6.]\n",
      " [7. 8. 9.]]\n"
     ]
    }
   ],
   "source": [
    "data = np.genfromtxt('data.csv', delimiter=',', skip_header=1)\n",
    "print( data)"
   ]
  },
  {
   "cell_type": "code",
   "execution_count": null,
   "id": "b0a91002",
   "metadata": {},
   "outputs": [],
   "source": [
    "\n",
    "data = np.loadtxt('data.csv', delimiter=',')"
   ]
  },
  {
   "cell_type": "markdown",
   "id": "f02fa0ae",
   "metadata": {},
   "source": [
    "92. Save a NumPy array to a CSV file."
   ]
  },
  {
   "cell_type": "code",
   "execution_count": 270,
   "id": "e1a8508d",
   "metadata": {},
   "outputs": [
    {
     "name": "stdout",
     "output_type": "stream",
     "text": [
      "Array saved to output.csv\n"
     ]
    }
   ],
   "source": [
    "arr = np.array([[1, 2, 3], [4, 5, 6], [7, 8, 9]])\n",
    "np.savetxt('output.csv', arr, delimiter=',', fmt='%d', header='Col1,Col2,Col3', comments='')\n",
    "print(\"Array saved to output.csv\")"
   ]
  },
  {
   "cell_type": "markdown",
   "id": "90fb7c87",
   "metadata": {},
   "source": [
    "93. Load a NumPy array from a text file."
   ]
  },
  {
   "cell_type": "code",
   "execution_count": 271,
   "id": "1c2a591b",
   "metadata": {},
   "outputs": [
    {
     "name": "stdout",
     "output_type": "stream",
     "text": [
      "Array saved to output.csv\n"
     ]
    }
   ],
   "source": [
    "arr = np.array([[1, 2, 3], [4, 5, 6], [7, 8, 9]])\n",
    "np.savetxt('output.csv', arr, delimiter=',', fmt='%d', header='Col1,Col2,Col3', comments='')\n",
    "print(\"Array saved to output.csv\")"
   ]
  },
  {
   "cell_type": "code",
   "execution_count": 272,
   "id": "38232bbe",
   "metadata": {},
   "outputs": [
    {
     "name": "stdout",
     "output_type": "stream",
     "text": [
      "Array loaded from file:\n",
      " [[1. 2. 3.]\n",
      " [4. 5. 6.]\n",
      " [7. 8. 9.]]\n"
     ]
    }
   ],
   "source": [
    "loaded_array = np.loadtxt('output.csv', delimiter=',', skiprows=1)\n",
    "print(\"Array loaded from file:\\n\", loaded_array)"
   ]
  },
  {
   "cell_type": "markdown",
   "id": "e7927acf",
   "metadata": {},
   "source": [
    "94. Normalize an image represented as a NumPy array."
   ]
  },
  {
   "cell_type": "code",
   "execution_count": 273,
   "id": "2523bbeb",
   "metadata": {},
   "outputs": [
    {
     "name": "stdout",
     "output_type": "stream",
     "text": [
      "Original Image:\n",
      " [[[132  28 171]\n",
      "  [246 194  91]\n",
      "  [  3 165 210]]\n",
      "\n",
      " [[ 22 225  71]\n",
      "  [ 59  77 187]\n",
      "  [246 229  22]]\n",
      "\n",
      " [[ 47 200 199]\n",
      "  [219 138 174]\n",
      "  [207  45 203]]]\n",
      "\n",
      "Normalized Image:\n",
      " [[[0.51764706 0.10980392 0.67058824]\n",
      "  [0.96470588 0.76078431 0.35686275]\n",
      "  [0.01176471 0.64705882 0.82352941]]\n",
      "\n",
      " [[0.08627451 0.88235294 0.27843137]\n",
      "  [0.23137255 0.30196078 0.73333333]\n",
      "  [0.96470588 0.89803922 0.08627451]]\n",
      "\n",
      " [[0.18431373 0.78431373 0.78039216]\n",
      "  [0.85882353 0.54117647 0.68235294]\n",
      "  [0.81176471 0.17647059 0.79607843]]]\n"
     ]
    }
   ],
   "source": [
    "# Simulated image as NumPy array with pixel values (0 to 255)\n",
    "image = np.random.randint(0, 256, size=(3, 3, 3), dtype=np.uint8)  # e.g., a 3×3 RGB image\n",
    "\n",
    "# Normalize the image to range [0, 1]\n",
    "normalized_image = image / 255.0\n",
    "\n",
    "print(\"Original Image:\\n\", image)\n",
    "print(\"\\nNormalized Image:\\n\", normalized_image)"
   ]
  },
  {
   "cell_type": "markdown",
   "id": "cf8db3e5",
   "metadata": {},
   "source": [
    "95. Convert a grayscale image to a binary image using NumPy."
   ]
  },
  {
   "cell_type": "code",
   "execution_count": 274,
   "id": "56bcbe90",
   "metadata": {},
   "outputs": [
    {
     "name": "stdout",
     "output_type": "stream",
     "text": [
      "Grayscale Image:\n",
      " [[239 217  35  10  72]\n",
      " [ 10 206  53 125 241]\n",
      " [160   5 125 230 147]\n",
      " [237  37   5 159  10]\n",
      " [182 218  89 238 135]]\n",
      "\n",
      "Binary Image:\n",
      " [[1 1 0 0 0]\n",
      " [0 1 0 0 1]\n",
      " [1 0 0 1 1]\n",
      " [1 0 0 1 0]\n",
      " [1 1 0 1 1]]\n"
     ]
    }
   ],
   "source": [
    "# Simulated 5x5 grayscale image with values between 0 and 255\n",
    "gray_image = np.random.randint(0, 256, size=(5, 5), dtype=np.uint8)\n",
    "\n",
    "# Define a threshold value\n",
    "threshold = 128\n",
    "\n",
    "# Convert to binary: 1 if pixel > threshold, else 0\n",
    "binary_image = (gray_image > threshold).astype(np.uint8)\n",
    "\n",
    "print(\"Grayscale Image:\\n\", gray_image)\n",
    "print(\"\\nBinary Image:\\n\", binary_image)"
   ]
  },
  {
   "cell_type": "markdown",
   "id": "8418eaf4",
   "metadata": {},
   "source": [
    "96. Apply a Gaussian blur filter to an image using NumPy."
   ]
  },
  {
   "cell_type": "code",
   "execution_count": 275,
   "id": "9dd84e15",
   "metadata": {},
   "outputs": [
    {
     "name": "stdout",
     "output_type": "stream",
     "text": [
      "Original Image:\n",
      " [[247. 197. 222. 130.  68.]\n",
      " [195. 205.  23. 165.   3.]\n",
      " [163. 223.  29. 209. 194.]\n",
      " [ 75. 121.  75.  88. 137.]\n",
      " [210. 167.  24.   0.   7.]]\n",
      "\n",
      "Blurred Image:\n",
      " [[225.25   201.0625 170.5625 125.375   73.5   ]\n",
      " [201.875  172.3125 130.8125 118.9375  92.0625]\n",
      " [160.     143.5    109.6875 126.625  140.9375]\n",
      " [137.5625 124.375   88.9375  90.5    113.125 ]\n",
      " [171.0625 131.      62.75    30.0625  35.125 ]]\n"
     ]
    }
   ],
   "source": [
    "import numpy as np\n",
    "from scipy.ndimage import convolve\n",
    "\n",
    "# Simulate a 5x5 grayscale image with values between 0 and 255\n",
    "image = np.random.randint(0, 256, size=(5, 5)).astype(np.float32)\n",
    "\n",
    "# Define a 3x3 Gaussian kernel (normalized)\n",
    "gaussian_kernel = (1 / 16) * np.array([\n",
    "    [1, 2, 1],\n",
    "    [2, 4, 2],\n",
    "    [1, 2, 1]\n",
    "])\n",
    "\n",
    "# Apply convolution (Gaussian blur)\n",
    "blurred_image = convolve(image, gaussian_kernel)\n",
    "\n",
    "print(\"Original Image:\\n\", image)\n",
    "print(\"\\nBlurred Image:\\n\", blurred_image)"
   ]
  },
  {
   "cell_type": "markdown",
   "id": "42fd9a1f",
   "metadata": {},
   "source": [
    "97. Compute the histogram of pixel intensities in an image."
   ]
  },
  {
   "cell_type": "code",
   "execution_count": 276,
   "id": "3147ab6c",
   "metadata": {},
   "outputs": [
    {
     "data": {
      "image/png": "[encoded data removed]",
      "text/plain": [
       "<Figure size 800x400 with 1 Axes>"
      ]
     },
     "metadata": {},
     "output_type": "display_data"
    }
   ],
   "source": [
    "import numpy as np\n",
    "import matplotlib.pyplot as plt\n",
    "\n",
    "# Simulate a 2D grayscale image (values from 0 to 255)\n",
    "image = np.random.randint(0, 256, size=(100, 100), dtype=np.uint8)\n",
    "\n",
    "# Compute the histogram using NumPy\n",
    "hist, bins = np.histogram(image, bins=256, range=(0, 255))\n",
    "\n",
    "# Display histogram (optional)\n",
    "plt.figure(figsize=(8, 4))\n",
    "plt.title(\"Histogram of Pixel Intensities\")\n",
    "plt.xlabel(\"Pixel Intensity\")\n",
    "plt.ylabel(\"Frequency\")\n",
    "plt.bar(bins[:-1], hist, width=1, edgecolor='black')\n",
    "plt.grid(True)\n",
    "plt.tight_layout()\n",
    "plt.show()"
   ]
  },
  {
   "cell_type": "markdown",
   "id": "862c0b5a",
   "metadata": {},
   "source": [
    "98. Perform principal component analysis (PCA) using NumPy."
   ]
  },
  {
   "cell_type": "code",
   "execution_count": 277,
   "id": "511e75e1",
   "metadata": {},
   "outputs": [
    {
     "name": "stdout",
     "output_type": "stream",
     "text": [
      "Reduced Data (1D PCA Projection):\n",
      "[[ 0.82797019]\n",
      " [-1.77758033]\n",
      " [ 0.99219749]\n",
      " [ 0.27421042]\n",
      " [ 1.67580142]\n",
      " [ 0.9129491 ]\n",
      " [-0.09910944]\n",
      " [-1.14457216]\n",
      " [-0.43804614]\n",
      " [-1.22382056]]\n"
     ]
    }
   ],
   "source": [
    "import numpy as np\n",
    "\n",
    "# Simulate a dataset with 2 features\n",
    "X = np.array([[2.5, 2.4],\n",
    "              [0.5, 0.7],\n",
    "              [2.2, 2.9],\n",
    "              [1.9, 2.2],\n",
    "              [3.1, 3.0],\n",
    "              [2.3, 2.7],\n",
    "              [2, 1.6],\n",
    "              [1, 1.1],\n",
    "              [1.5, 1.6],\n",
    "              [1.1, 0.9]])\n",
    "\n",
    "# Step 1: Standardize the data (mean = 0)\n",
    "X_meaned = X - np.mean(X, axis=0)\n",
    "\n",
    "# Step 2: Compute the covariance matrix\n",
    "cov_matrix = np.cov(X_meaned, rowvar=False)\n",
    "\n",
    "# Step 3: Compute eigenvalues and eigenvectors\n",
    "eigenvalues, eigenvectors = np.linalg.eigh(cov_matrix)\n",
    "\n",
    "# Step 4: Sort eigenvectors by descending eigenvalues\n",
    "sorted_index = np.argsort(eigenvalues)[::-1]\n",
    "eigenvectors = eigenvectors[:, sorted_index]\n",
    "eigenvalues = eigenvalues[sorted_index]\n",
    "\n",
    "# Step 5: Select number of principal components (e.g., 1 for reduction)\n",
    "n_components = 1\n",
    "eigenvectors_subset = eigenvectors[:, :n_components]\n",
    "\n",
    "# Step 6: Transform the data\n",
    "X_reduced = np.dot(X_meaned, eigenvectors_subset)\n",
    "\n",
    "print(\"Reduced Data (1D PCA Projection):\")\n",
    "print(X_reduced)"
   ]
  },
  {
   "cell_type": "markdown",
   "id": "5452bae2",
   "metadata": {},
   "source": [
    "99. Solve a real-world dataset problem using NumPy."
   ]
  },
  {
   "cell_type": "code",
   "execution_count": 278,
   "id": "711da445",
   "metadata": {},
   "outputs": [],
   "source": [
    "import numpy as np\n",
    "\n",
    "# Sample real-world dataset\n",
    "data = np.array([\n",
    "    [6, 148, 72, 1],\n",
    "    [1, 85, 66, 0],\n",
    "    [8, 183, 64, 1],\n",
    "    [1, 89, 66, 0],\n",
    "    [0, 137, 40, 1]\n",
    "])\n",
    "\n",
    "# Columns: [Pregnancies, Glucose, BloodPressure, Outcome]"
   ]
  },
  {
   "cell_type": "code",
   "execution_count": 279,
   "id": "fb71c629",
   "metadata": {},
   "outputs": [],
   "source": [
    "# 1. Get features and labels\n",
    "\n",
    "X = data[:, :-1]   # Features (first 3 columns)\n",
    "y = data[:, -1]    # Labels (last column - outcome)"
   ]
  },
  {
   "cell_type": "code",
   "execution_count": 280,
   "id": "520fee5f",
   "metadata": {},
   "outputs": [
    {
     "name": "stdout",
     "output_type": "stream",
     "text": [
      "Mean glucose level (diabetic): 156.0\n"
     ]
    }
   ],
   "source": [
    "# 2. Compute mean glucose of diabetic patients\n",
    "\n",
    "mean_glucose_diabetic = np.mean(data[y == 1][:, 1])\n",
    "print(\"Mean glucose level (diabetic):\", mean_glucose_diabetic)"
   ]
  },
  {
   "cell_type": "code",
   "execution_count": 281,
   "id": "08c6610d",
   "metadata": {},
   "outputs": [
    {
     "name": "stdout",
     "output_type": "stream",
     "text": [
      "Count of non-diabetics with BP > 65: 2\n"
     ]
    }
   ],
   "source": [
    "# 3. Count number of non-diabetic patients with high blood pressure (BP > 65)\n",
    "\n",
    "high_bp_non_diabetic = data[(y == 0) & (data[:, 2] > 65)]\n",
    "print(\"Count of non-diabetics with BP > 65:\", high_bp_non_diabetic.shape[0])"
   ]
  },
  {
   "cell_type": "code",
   "execution_count": 282,
   "id": "02f757f1",
   "metadata": {},
   "outputs": [
    {
     "name": "stdout",
     "output_type": "stream",
     "text": [
      "Normalized Features:\n",
      " [[ 0.87843813  0.528565    0.9345507 ]\n",
      " [-0.69020139 -1.17039394  0.39538684]\n",
      " [ 1.50589393  1.47243108  0.21566555]\n",
      " [-0.69020139 -1.06252353  0.39538684]\n",
      " [-1.00392929  0.23192138 -1.94098992]]\n"
     ]
    }
   ],
   "source": [
    "# 4. Normalize features\n",
    "\n",
    "X_normalized = (X - X.mean(axis=0)) / X.std(axis=0)\n",
    "print(\"Normalized Features:\\n\", X_normalized)"
   ]
  },
  {
   "cell_type": "code",
   "execution_count": 283,
   "id": "34a02876",
   "metadata": {},
   "outputs": [
    {
     "name": "stdout",
     "output_type": "stream",
     "text": [
      "Correlation between glucose and diabetes outcome: 0.9115847382066831\n"
     ]
    }
   ],
   "source": [
    "# 5. Find correlation between glucose and outcome\n",
    "\n",
    "glucose = data[:, 1]\n",
    "correlation = np.corrcoef(glucose, y)[0, 1]\n",
    "print(\"Correlation between glucose and diabetes outcome:\", correlation)"
   ]
  },
  {
   "cell_type": "markdown",
   "id": "63a5a75e",
   "metadata": {},
   "source": [
    "100. Create a NumPy-based implementation of k-means clustering."
   ]
  },
  {
   "cell_type": "markdown",
   "id": "0b8a902e",
   "metadata": {},
   "source": [
    " K-Means Algorithm Overview:\n",
    "\t1.\tInitialize k cluster centroids randomly.\n",
    "\t2.\tAssign each point to the nearest centroid.\n",
    "\t3.\tUpdate centroids to the mean of points in their cluster.\n",
    "\t4.\tRepeat steps 2–3 until convergence (no change in assignments or centroids)."
   ]
  },
  {
   "cell_type": "code",
   "execution_count": 284,
   "id": "d835d8ae",
   "metadata": {},
   "outputs": [
    {
     "data": {
      "image/png": "[encoded data removed]",
      "text/plain": [
       "<Figure size 640x480 with 1 Axes>"
      ]
     },
     "metadata": {},
     "output_type": "display_data"
    }
   ],
   "source": [
    "import numpy as np\n",
    "import matplotlib.pyplot as plt\n",
    "\n",
    "# ------------------------\n",
    "# Step 1: Generate sample data\n",
    "# ------------------------\n",
    "np.random.seed(42)\n",
    "X = np.vstack((\n",
    "    np.random.normal(loc=[2, 2], scale=0.5, size=(50, 2)),\n",
    "    np.random.normal(loc=[7, 7], scale=0.5, size=(50, 2)),\n",
    "    np.random.normal(loc=[2, 7], scale=0.5, size=(50, 2))\n",
    "))\n",
    "\n",
    "# ------------------------\n",
    "# Step 2: K-means function\n",
    "# ------------------------\n",
    "def kmeans(X, k=3, max_iters=100, tol=1e-4):\n",
    "    # Step 1: Initialize centroids randomly\n",
    "    n_samples, n_features = X.shape\n",
    "    rng = np.random.default_rng(seed=1)\n",
    "    centroids = X[rng.choice(n_samples, size=k, replace=False)]\n",
    "\n",
    "    for i in range(max_iters):\n",
    "        # Step 2: Assign clusters based on nearest centroid\n",
    "        distances = np.linalg.norm(X[:, np.newaxis] - centroids, axis=2)\n",
    "        labels = np.argmin(distances, axis=1)\n",
    "\n",
    "        # Step 3: Calculate new centroids\n",
    "        new_centroids = np.array([X[labels == j].mean(axis=0) for j in range(k)])\n",
    "\n",
    "        # Step 4: Check for convergence\n",
    "        if np.all(np.linalg.norm(centroids - new_centroids, axis=1) < tol):\n",
    "            break\n",
    "        centroids = new_centroids\n",
    "\n",
    "    return centroids, labels\n",
    "\n",
    "# ------------------------\n",
    "# Step 3: Run K-means\n",
    "# ------------------------\n",
    "final_centroids, final_labels = kmeans(X, k=3)\n",
    "\n",
    "# ------------------------\n",
    "# Step 4: Plot the result\n",
    "# ------------------------\n",
    "plt.scatter(X[:, 0], X[:, 1], c=final_labels, cmap='viridis', s=30, label='Data Points')\n",
    "plt.scatter(final_centroids[:, 0], final_centroids[:, 1], c='red', s=200, marker='X', label='Centroids')\n",
    "plt.title(\"K-Means Clustering with NumPy\")\n",
    "plt.xlabel(\"X1\"), plt.ylabel(\"X2\")\n",
    "plt.legend()\n",
    "plt.grid(True)\n",
    "plt.show()"
   ]
  }
 ],
 "metadata": {
  "kernelspec": {
   "display_name": "Python 3",
   "language": "python",
   "name": "python3"
  },
  "language_info": {
   "codemirror_mode": {
    "name": "ipython",
    "version": 3
   },
   "file_extension": ".py",
   "mimetype": "text/x-python",
   "name": "python",
   "nbconvert_exporter": "python",
   "pygments_lexer": "ipython3",
   "version": "3.13.1"
  }
 },
 "nbformat": 4,
 "nbformat_minor": 5
}
