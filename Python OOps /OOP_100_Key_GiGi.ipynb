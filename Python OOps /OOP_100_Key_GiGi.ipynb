{
 "cells": [
  {
   "cell_type": "markdown",
   "id": "fc2acd24",
   "metadata": {},
   "source": [
    "# 100 OOP Solutions | GiGi Molki\n"
   ]
  },
  {
   "cell_type": "markdown",
   "id": "494000f1",
   "metadata": {},
   "source": [
    "## Basics of OOP"
   ]
  },
  {
   "cell_type": "markdown",
   "id": "3a3fd2ce",
   "metadata": {},
   "source": [
    "**Q1.** Define a class `Person` with attributes `name` and `age`. Create an object and print the attributes."
   ]
  },
  {
   "cell_type": "code",
   "execution_count": 1057,
   "id": "21e56fa7",
   "metadata": {},
   "outputs": [
    {
     "name": "stdout",
     "output_type": "stream",
     "text": [
      "Majd\n",
      "19\n"
     ]
    }
   ],
   "source": [
    "# Creating a class\n",
    "class Person:\n",
    "    def __init__(self, name : str, age : str):\n",
    "        self.name = name\n",
    "        self.age = age\n",
    "\n",
    "# Creating an object for the class       \n",
    "P1 = Person(\"Majd\", 19)\n",
    "\n",
    "# Printing the attributes\n",
    "print(P1.name)\n",
    "print(P1.age)"
   ]
  },
  {
   "cell_type": "markdown",
   "id": "009cc82c",
   "metadata": {},
   "source": [
    "**Q2.** Create a `Car` class with `brand` and `model`, and a method to display them."
   ]
  },
  {
   "cell_type": "code",
   "execution_count": 1058,
   "id": "f61b0e6e",
   "metadata": {},
   "outputs": [
    {
     "name": "stdout",
     "output_type": "stream",
     "text": [
      "Brand: Mercedes, Model: 1234\n"
     ]
    }
   ],
   "source": [
    "# Define a Car class with brand and model attributes\n",
    "class Car:\n",
    "    def __init__(self, brand: str, model: str):\n",
    "        self.brand = brand\n",
    "        self.model = model\n",
    "\n",
    "    def display_info(self) -> None :\n",
    "        print(f\"Brand: {self.brand}, Model: {self.model}\")\n",
    "\n",
    "# Create an instance of the Car class\n",
    "car1 = Car(\"Mercedes\", \"1234\")\n",
    "\n",
    "# Display the car's information\n",
    "car1.display_info()"
   ]
  },
  {
   "cell_type": "code",
   "execution_count": 1059,
   "id": "e1823dfe",
   "metadata": {},
   "outputs": [
    {
     "name": "stdout",
     "output_type": "stream",
     "text": [
      "Brand: Mercedes, Model: 1234\n"
     ]
    }
   ],
   "source": [
    "# Using __str__() :\n",
    "\n",
    "\n",
    "class Car:\n",
    "    def __init__(self, brand: str, model: str):\n",
    "        self.brand = brand\n",
    "        self.model = model\n",
    "\n",
    "    def __str__(self) -> str:\n",
    "        return f\"Brand: {self.brand}, Model: {self.model}\"\n",
    "\n",
    "# Usage\n",
    "car1 = Car(\"Mercedes\", \"1234\")\n",
    "print(car1)  # Automatically calls __str__()"
   ]
  },
  {
   "cell_type": "markdown",
   "id": "e783ac89",
   "metadata": {},
   "source": [
    "**Q3.** Implement a class `Student` with a method `greet()` that prints `'Hello, Student!'`."
   ]
  },
  {
   "cell_type": "code",
   "execution_count": 1060,
   "id": "d6f31ade",
   "metadata": {},
   "outputs": [
    {
     "name": "stdout",
     "output_type": "stream",
     "text": [
      "Hello, Student!\n"
     ]
    }
   ],
   "source": [
    "# Define a Student class with a greeting method\n",
    "class Student:\n",
    "    def __init__(self):\n",
    "        # No attributes needed for this example\n",
    "        pass\n",
    "\n",
    "    def greet(self) -> None:\n",
    "        print(\"Hello, Student!\")\n",
    "\n",
    "# Create an instance of Student\n",
    "student1 = Student()\n",
    "\n",
    "# Call the greet method\n",
    "student1.greet()"
   ]
  },
  {
   "cell_type": "code",
   "execution_count": 1061,
   "id": "de60d451",
   "metadata": {},
   "outputs": [
    {
     "name": "stdout",
     "output_type": "stream",
     "text": [
      "Hello, Student!\n"
     ]
    }
   ],
   "source": [
    "# skipping Constructor \n",
    "\n",
    "class Student:\n",
    "    def greet(self) -> None:\n",
    "        print(\"Hello, Student!\")\n",
    "\n",
    "student1 = Student()\n",
    "student1.greet()"
   ]
  },
  {
   "cell_type": "markdown",
   "id": "08880bda",
   "metadata": {},
   "source": [
    "**Q4.** Create a class with a constructor (`__init__`) that initializes an attribute."
   ]
  },
  {
   "cell_type": "code",
   "execution_count": 1062,
   "id": "ce8da369",
   "metadata": {},
   "outputs": [
    {
     "name": "stdout",
     "output_type": "stream",
     "text": [
      "Thank you, GiGi!\n"
     ]
    }
   ],
   "source": [
    "# Define a simple class with an initializer that sets an attribute\n",
    "class MessageHolder:\n",
    "    def __init__(self, message: str):\n",
    "        self.message = message\n",
    "\n",
    "# Create an instance of the class with a sample message\n",
    "msg1 = MessageHolder(\"Thank you, GiGi!\")\n",
    "\n",
    "# Access and print the initialized attribute\n",
    "print(msg1.message)"
   ]
  },
  {
   "cell_type": "markdown",
   "id": "0a9516ca",
   "metadata": {},
   "source": [
    "**Q5.** Create multiple objects from the same class and compare them."
   ]
  },
  {
   "cell_type": "code",
   "execution_count": 1063,
   "id": "26e6d6db",
   "metadata": {},
   "outputs": [
    {
     "name": "stdout",
     "output_type": "stream",
     "text": [
      "True\n"
     ]
    }
   ],
   "source": [
    "# Define a class to represent a stationary item with quantity and price\n",
    "class Stationery:\n",
    "    def __init__(self, pieces: int, price: int):\n",
    "        self.pieces = pieces\n",
    "        self.price = price\n",
    "\n",
    "# Create multiple objects of the Stationery class\n",
    "pen = Stationery(pieces=100, price=10)\n",
    "pencil = Stationery(pieces=100, price=5)\n",
    "\n",
    "# Compare the prices of the two objects\n",
    "print(pen.price > pencil.price)  # Output: True"
   ]
  },
  {
   "cell_type": "markdown",
   "id": "4f3c77c4",
   "metadata": {},
   "source": [
    "**Q6.** Write a program to count the number of objects created from a class."
   ]
  },
  {
   "cell_type": "code",
   "execution_count": 1064,
   "id": "1d12b377",
   "metadata": {},
   "outputs": [
    {
     "name": "stdout",
     "output_type": "stream",
     "text": [
      "Total objects created: 3\n"
     ]
    }
   ],
   "source": [
    "# Define a class that tracks the number of objects created\n",
    "class ObjectCounter:\n",
    "    # Class variable to keep count of instances\n",
    "    count = 0\n",
    "\n",
    "    def __init__(self):\n",
    "        ObjectCounter.count += 1\n",
    "\n",
    "    @classmethod\n",
    "    def get_count(cls) -> int:\n",
    "        return cls.count\n",
    "\n",
    "# Create multiple objects\n",
    "obj1 = ObjectCounter()\n",
    "obj2 = ObjectCounter()\n",
    "obj3 = ObjectCounter()\n",
    "\n",
    "# Display the count of objects created\n",
    "print(\"Total objects created:\", ObjectCounter.get_count())"
   ]
  },
  {
   "cell_type": "markdown",
   "id": "6a8804a0",
   "metadata": {},
   "source": [
    "**Q7.** Create a `BankAccount` class with `deposit()` and `withdraw()` methods."
   ]
  },
  {
   "cell_type": "code",
   "execution_count": 1065,
   "id": "5e43fc72",
   "metadata": {},
   "outputs": [
    {
     "name": "stdout",
     "output_type": "stream",
     "text": [
      "Rs.10000 credited. Available balance: Rs.1010000\n",
      "Rs.25000 debited. Available balance: Rs.985000\n"
     ]
    }
   ],
   "source": [
    "# Define a BankAccount class to manage deposits and withdrawals\n",
    "class BankAccount:\n",
    "    def __init__(self, initial_balance: int = 0):\n",
    "        self.balance = initial_balance\n",
    "\n",
    "    def deposit(self, amount: int) -> None:\n",
    "        self.balance += amount\n",
    "        print(f\"Rs.{amount} credited. Available balance: Rs.{self.balance}\")\n",
    "\n",
    "    def withdraw(self, amount: int) -> None:\n",
    "        if amount > self.balance:\n",
    "            print(\"Insufficient balance!\")\n",
    "        else:\n",
    "            self.balance -= amount\n",
    "            print(f\"Rs.{amount} debited. Available balance: Rs.{self.balance}\")\n",
    "\n",
    "# Create an account and perform transactions\n",
    "acc1 = BankAccount(initial_balance=1_000_000)\n",
    "acc1.deposit(10_000)\n",
    "acc1.withdraw(25_000)\n"
   ]
  },
  {
   "cell_type": "markdown",
   "id": "a2baf8b5",
   "metadata": {},
   "source": [
    "**Q8.** Implement a `Rectangle` class with methods to calculate area and perimeter."
   ]
  },
  {
   "cell_type": "code",
   "execution_count": 1066,
   "id": "29d97a37",
   "metadata": {},
   "outputs": [
    {
     "name": "stdout",
     "output_type": "stream",
     "text": [
      "Area: 50\n",
      "Perimeter: 30\n"
     ]
    }
   ],
   "source": [
    "# Define a Rectangle class with area and perimeter calculation methods\n",
    "class Rectangle:\n",
    "    def __init__(self, length: float, width: float):\n",
    "        self.length = length\n",
    "        self.width = width\n",
    "\n",
    "    def area(self) -> float:\n",
    "        return self.length * self.width\n",
    "\n",
    "    def perimeter(self) -> float:\n",
    "        return 2 * (self.length + self.width)\n",
    "\n",
    "# Create an instance of Rectangle and calculate area and perimeter\n",
    "rect1 = Rectangle(length=10, width=5)\n",
    "\n",
    "print(f\"Area: {rect1.area()}\")           \n",
    "print(f\"Perimeter: {rect1.perimeter()}\") "
   ]
  },
  {
   "cell_type": "markdown",
   "id": "d2e728d6",
   "metadata": {},
   "source": [
    "**Q9.** Create a class with both instance variables and class variables."
   ]
  },
  {
   "cell_type": "code",
   "execution_count": 1067,
   "id": "56b514fe",
   "metadata": {},
   "outputs": [
    {
     "name": "stdout",
     "output_type": "stream",
     "text": [
      "Name: GiGi Molki\n",
      "Employee ID: 1001\n",
      "Company: TechVerse Inc.\n",
      "---\n",
      "Name: Majd Molki\n",
      "Employee ID: 1002\n",
      "Company: TechVerse Inc.\n"
     ]
    }
   ],
   "source": [
    "# Define a class demonstrating both instance and class variables\n",
    "class Employee:\n",
    "    # Class variable (shared among all instances)\n",
    "    company_name: str = \"TechVerse Inc.\"\n",
    "\n",
    "    def __init__(self, name: str, emp_id: int):\n",
    "        self.name = name         # instance variable\n",
    "        self.emp_id = emp_id     # instance variable\n",
    "\n",
    "    def display_info(self) -> None:\n",
    "        print(f\"Name: {self.name}\")\n",
    "        print(f\"Employee ID: {self.emp_id}\")\n",
    "        print(f\"Company: {Employee.company_name}\")\n",
    "\n",
    "# Create multiple Employee instances\n",
    "emp1 = Employee(\"GiGi Molki\", 1001)\n",
    "emp2 = Employee(\"Majd Molki\", 1002)\n",
    "\n",
    "# Access instance and class variables\n",
    "emp1.display_info()\n",
    "print(\"---\")\n",
    "emp2.display_info()"
   ]
  },
  {
   "cell_type": "markdown",
   "id": "8578b235",
   "metadata": {},
   "source": [
    "**Q10.** Write a program to check whether an object is an instance of a given class."
   ]
  },
  {
   "cell_type": "code",
   "execution_count": 1068,
   "id": "2639b03f",
   "metadata": {},
   "outputs": [
    {
     "name": "stdout",
     "output_type": "stream",
     "text": [
      "✅ book1 is an instance of the Book class.\n"
     ]
    }
   ],
   "source": [
    "# Define a sample class\n",
    "class Book:\n",
    "    def __init__(self, title: str, author: str):\n",
    "        self.title = title\n",
    "        self.author = author\n",
    "\n",
    "# Create an object of the Book class\n",
    "book1 = Book(\"1984\", \"George Orwell\")\n",
    "\n",
    "# Check if book1 is an instance of the Book class\n",
    "if isinstance(book1, Book):\n",
    "    print(\"✅ book1 is an instance of the Book class.\")\n",
    "else:\n",
    "    print(\"❌ book1 is NOT an instance of the Book class.\")"
   ]
  },
  {
   "cell_type": "markdown",
   "id": "aa7d8e16",
   "metadata": {},
   "source": [
    "## Encapsulation"
   ]
  },
  {
   "cell_type": "markdown",
   "id": "94a5ed41",
   "metadata": {},
   "source": [
    "**Q11.** Create a class `Employee` with a private attribute `salary` and a method to access it."
   ]
  },
  {
   "cell_type": "code",
   "execution_count": 1069,
   "id": "fc208707",
   "metadata": {},
   "outputs": [
    {
     "name": "stdout",
     "output_type": "stream",
     "text": [
      "Salary: ₹8500000.0\n",
      "Updated Salary: ₹9000000.0\n"
     ]
    }
   ],
   "source": [
    "# Define an Employee class with a private salary attribute\n",
    "class Employee:\n",
    "    def __init__(self, name: str, salary: float):\n",
    "        self.name = name\n",
    "        self.__salary = salary  # Private attribute using double underscore\n",
    "\n",
    "    def get_salary(self) -> float:\n",
    "        return self.__salary\n",
    "\n",
    "    def set_salary(self, new_salary: float) -> None:\n",
    "        if new_salary > 0:\n",
    "            self.__salary = new_salary\n",
    "        else:\n",
    "            print(\"Salary must be positive!\")\n",
    "\n",
    "# Create an Employee object\n",
    "emp1 = Employee(\"GiGi Molki\", 8500000.00)\n",
    "\n",
    "# Accessing salary using getter\n",
    "print(f\"Salary: ₹{emp1.get_salary()}\")\n",
    "\n",
    "# Attempting to access private attribute directly (will fail)\n",
    "# print(emp1.__salary)  # ❌ AttributeError\n",
    "\n",
    "# Updating salary using setter\n",
    "emp1.set_salary(9000000.00)\n",
    "print(f\"Updated Salary: ₹{emp1.get_salary()}\")"
   ]
  },
  {
   "cell_type": "markdown",
   "id": "5f8fc195",
   "metadata": {},
   "source": [
    "**Q12.** Implement getters and setters for a `Temperature` class."
   ]
  },
  {
   "cell_type": "code",
   "execution_count": 1070,
   "id": "c50f906c",
   "metadata": {},
   "outputs": [
    {
     "name": "stdout",
     "output_type": "stream",
     "text": [
      "Temperature in Celsius: 25°C\n",
      "Temperature in Fahrenheit: 77.0°F\n",
      "Updated Celsius: 100°C\n",
      "Updated Fahrenheit: 212.0°F\n",
      "❌ Temperature can't be below absolute zero (-273.15°C)\n"
     ]
    }
   ],
   "source": [
    "# Define a Temperature class with getters and setters\n",
    "class Temperature:\n",
    "    def __init__(self, celsius: float):\n",
    "        self.__celsius = celsius  # Private attribute\n",
    "\n",
    "    def get_celsius(self) -> float:\n",
    "        return self.__celsius\n",
    "\n",
    "    def set_celsius(self, new_temp: float) -> None:\n",
    "        if -273.15 <= new_temp:\n",
    "            self.__celsius = new_temp\n",
    "        else:\n",
    "            print(\"❌ Temperature can't be below absolute zero (-273.15°C)\")\n",
    "\n",
    "    def to_fahrenheit(self) -> float:\n",
    "        \"\"\"\n",
    "        Converts Celsius to Fahrenheit.\n",
    "        Formula: (C × 9/5) + 32\n",
    "        \"\"\"\n",
    "        return (self.__celsius * 9/5) + 32\n",
    "\n",
    "# Create a Temperature object\n",
    "temp1 = Temperature(25)\n",
    "\n",
    "# Access temperature using getter\n",
    "print(f\"Temperature in Celsius: {temp1.get_celsius()}°C\")\n",
    "print(f\"Temperature in Fahrenheit: {temp1.to_fahrenheit()}°F\")\n",
    "\n",
    "# Set a new temperature\n",
    "temp1.set_celsius(100)\n",
    "print(f\"Updated Celsius: {temp1.get_celsius()}°C\")\n",
    "print(f\"Updated Fahrenheit: {temp1.to_fahrenheit()}°F\")\n",
    "\n",
    "# Try to set an invalid temperature\n",
    "temp1.set_celsius(-300)  # ❌"
   ]
  },
  {
   "cell_type": "markdown",
   "id": "1b9724fd",
   "metadata": {},
   "source": [
    "**Q13.** Use the `@property` decorator to make an attribute read-only."
   ]
  },
  {
   "cell_type": "code",
   "execution_count": 1071,
   "id": "5ec94679",
   "metadata": {},
   "outputs": [
    {
     "name": "stdout",
     "output_type": "stream",
     "text": [
      "Radius: 10\n",
      "Area: 314.159\n",
      "❌ Error: property 'radius' of 'Circle' object has no setter\n"
     ]
    }
   ],
   "source": [
    "# Define a class with a read-only attribute using @property\n",
    "class Circle:\n",
    "    def __init__(self, radius: float):\n",
    "        self._radius = radius  # Protected by convention\n",
    "\n",
    "    @property\n",
    "    def radius(self) -> float:\n",
    "        \"\"\"\n",
    "        Read-only property to access the radius.\n",
    "        \"\"\"\n",
    "        return self._radius\n",
    "\n",
    "    @property\n",
    "    def area(self) -> float:\n",
    "        return 3.14159 * (self._radius ** 2)\n",
    "\n",
    "# Create an object\n",
    "circle1 = Circle(10)\n",
    "\n",
    "# Accessing radius and area\n",
    "print(f\"Radius: {circle1.radius}\")\n",
    "print(f\"Area: {circle1.area}\")\n",
    "\n",
    "# Trying to modify the read-only attribute\n",
    "try:\n",
    "    circle1.radius = 20 # ❌ This will raise an AttributeError\n",
    "except AttributeError as e:\n",
    "    print(\"❌ Error:\", e)\n",
    "    \n",
    "# if you want to change , the syntax will be \n",
    "circle1._radius = 100"
   ]
  },
  {
   "cell_type": "markdown",
   "id": "b1898f42",
   "metadata": {},
   "source": [
    "**Q14.** Modify a private attribute using a method."
   ]
  },
  {
   "cell_type": "code",
   "execution_count": 1072,
   "id": "81011ef3",
   "metadata": {},
   "outputs": [
    {
     "name": "stdout",
     "output_type": "stream",
     "text": [
      "Borrowed 'The Art of HFT'. Copies left: 1\n",
      "Borrowed 'The Art of HFT'. Copies left: 0\n",
      "No copies of 'The Art of HFT' left.\n"
     ]
    }
   ],
   "source": [
    "class Book:\n",
    "    def __init__(self, title: str, copies: int):\n",
    "        self.title = title\n",
    "        self.__copies = copies  # Private attribute\n",
    "\n",
    "    def borrow(self) -> None:\n",
    "        if self.__copies > 0:\n",
    "            self.__copies -= 1\n",
    "            print(f\"Borrowed '{self.title}'. Copies left: {self.__copies}\")\n",
    "        else:\n",
    "            print(f\"No copies of '{self.title}' left.\")\n",
    "\n",
    "# Usage\n",
    "book = Book(\"The Art of HFT\", 2)\n",
    "book.borrow()\n",
    "book.borrow()\n",
    "book.borrow()"
   ]
  },
  {
   "cell_type": "markdown",
   "id": "fd24fe9c",
   "metadata": {},
   "source": [
    "**Q15.** Create a `User` class with a password attribute that cannot be accessed directly."
   ]
  },
  {
   "cell_type": "code",
   "execution_count": 1073,
   "id": "b14f6cf9",
   "metadata": {},
   "outputs": [
    {
     "name": "stdout",
     "output_type": "stream",
     "text": [
      "True\n",
      "False\n"
     ]
    }
   ],
   "source": [
    "class User:\n",
    "    def __init__(self, username: str, password: str):\n",
    "        self.username = username\n",
    "        self.__password = password  # Private attribute\n",
    "\n",
    "    def check_password(self, entered_password: str) -> bool:\n",
    "        return self.__password == entered_password\n",
    "\n",
    "# Usage\n",
    "user1 = User(\"GiGiMolki\", \"Secure@123\")\n",
    "\n",
    "# Accessing directly ➜ Not allowed\n",
    "# print(user1.__password)  # ❌ AttributeError\n",
    "\n",
    "# Safe access via method\n",
    "print(user1.check_password(\"Secure@123\"))  # ✅ True\n",
    "print(user1.check_password(\"WrongPass\"))   # ❌ False"
   ]
  },
  {
   "cell_type": "markdown",
   "id": "d4d1cdf7",
   "metadata": {},
   "source": [
    "**Q16.** Implement a class with both public and private attributes."
   ]
  },
  {
   "cell_type": "code",
   "execution_count": 1074,
   "id": "bf4f0bbf",
   "metadata": {},
   "outputs": [
    {
     "name": "stdout",
     "output_type": "stream",
     "text": [
      "Dell\n",
      "Laptop: Dell, Price: Rs.75999\n"
     ]
    }
   ],
   "source": [
    "class Laptop:\n",
    "    def __init__(self, brand: str, price: float):\n",
    "        self.brand = brand            # Public attribute\n",
    "        self.__price = price          # Private attribute\n",
    "\n",
    "    def show_specs(self) -> None:\n",
    "        print(f\"Laptop: {self.brand}, Price: Rs.{self.__price}\")\n",
    "\n",
    "# Usage\n",
    "lap1 = Laptop(\"Dell\", 75999)\n",
    "\n",
    "print(lap1.brand)         # ✅ Public access\n",
    "# print(lap1.__price)     # ❌ Will raise AttributeError\n",
    "lap1.show_specs()         # ✅ Access private via method"
   ]
  },
  {
   "cell_type": "markdown",
   "id": "3ba29d2a",
   "metadata": {},
   "source": [
    "**Q17.** Demonstrate how to access a private variable using name mangling."
   ]
  },
  {
   "cell_type": "code",
   "execution_count": 1075,
   "id": "f1f0b5b8",
   "metadata": {},
   "outputs": [
    {
     "name": "stdout",
     "output_type": "stream",
     "text": [
      "Alpha@42\n"
     ]
    }
   ],
   "source": [
    "class Secret:\n",
    "    def __init__(self, code: str):\n",
    "        self.__code = code  # Private attribute\n",
    "\n",
    "# Create object\n",
    "vault = Secret(\"Alpha@42\")\n",
    "\n",
    "# ❌ Direct access fails\n",
    "# print(vault.__code)  # AttributeError\n",
    "\n",
    "# ✅ Access using name mangling (not recommended in practice)\n",
    "print(vault._Secret__code)  # Output: Alpha@42"
   ]
  },
  {
   "cell_type": "markdown",
   "id": "571e0bef",
   "metadata": {},
   "source": [
    "**Q18.** Create a method that prevents attribute modification after object creation."
   ]
  },
  {
   "cell_type": "code",
   "execution_count": 1076,
   "id": "9442194a",
   "metadata": {},
   "outputs": [
    {
     "name": "stdout",
     "output_type": "stream",
     "text": [
      "GiGi Molki\n",
      "IND12345678\n"
     ]
    }
   ],
   "source": [
    "class Citizen:\n",
    "    def __init__(self, name: str, national_id: str):\n",
    "        self.name = name\n",
    "        self.__national_id = national_id  # Private & immutable\n",
    "\n",
    "    @property\n",
    "    def national_id(self) -> str:\n",
    "        return self.__national_id  # Read-only\n",
    "\n",
    "# Usage\n",
    "person = Citizen(\"GiGi Molki\", \"IND12345678\")\n",
    "\n",
    "print(person.name)            # ✅ Public\n",
    "print(person.national_id)     # ✅ Read-only access\n",
    "\n",
    "# person.national_id = \"NEWID123\"  # ❌ Error: can't set attribute"
   ]
  },
  {
   "cell_type": "markdown",
   "id": "efbdfd5f",
   "metadata": {},
   "source": [
    "**Q19.** Implement a class where data members are modified only through a function."
   ]
  },
  {
   "cell_type": "code",
   "execution_count": 1077,
   "id": "42352490",
   "metadata": {},
   "outputs": [
    {
     "name": "stdout",
     "output_type": "stream",
     "text": [
      "Username: GiGiMolki, Age: 19\n",
      "Age updated to 20\n",
      "Username: GiGiMolki, Age: 20\n"
     ]
    }
   ],
   "source": [
    "class Profile:\n",
    "    def __init__(self, username: str, age: int):\n",
    "        self.username = username\n",
    "        self.__age = age  # Private attribute\n",
    "\n",
    "    def update_age(self, new_age: int) -> None:\n",
    "        if new_age >= 0:\n",
    "            self.__age = new_age\n",
    "            print(f\"Age updated to {self.__age}\")\n",
    "        else:\n",
    "            print(\"Invalid age.\")\n",
    "\n",
    "    def show(self) -> None:\n",
    "        print(f\"Username: {self.username}, Age: {self.__age}\")\n",
    "\n",
    "# Usage\n",
    "user = Profile(\"GiGiMolki\", 19)\n",
    "user.show()\n",
    "\n",
    "# user.__age = 25  # ❌ Not allowed\n",
    "user.update_age(20)  # ✅ Controlled access\n",
    "user.show()"
   ]
  },
  {
   "cell_type": "markdown",
   "id": "9b008f89",
   "metadata": {},
   "source": [
    "**Q20.** Write a program to enforce type safety on instance attributes."
   ]
  },
  {
   "cell_type": "code",
   "execution_count": 1078,
   "id": "03904c0d",
   "metadata": {},
   "outputs": [
    {
     "name": "stdout",
     "output_type": "stream",
     "text": [
      "Product: Keyboard, Price: ₹1999.00\n"
     ]
    }
   ],
   "source": [
    "class Product:\n",
    "    def __init__(self, name: str, price: float):\n",
    "        if not isinstance(name, str):\n",
    "            raise TypeError(\"Name must be a string.\")\n",
    "        if not isinstance(price, (int, float)):\n",
    "            raise TypeError(\"Price must be a number.\")\n",
    "        \n",
    "        self.name = name\n",
    "        self.price = float(price)\n",
    "\n",
    "    def show(self) -> None:\n",
    "        print(f\"Product: {self.name}, Price: ₹{self.price:.2f}\")\n",
    "\n",
    "# Usage\n",
    "item = Product(\"Keyboard\", 1999)\n",
    "item.show()\n",
    "#item = Product(123, \"expensive\")  # ❌ Will raise TypeError"
   ]
  },
  {
   "cell_type": "markdown",
   "id": "545b4277",
   "metadata": {},
   "source": [
    "## Inheritance"
   ]
  },
  {
   "cell_type": "markdown",
   "id": "ed355da1",
   "metadata": {},
   "source": [
    "**Q21.** Create a `Vehicle` class and inherit it in `Car` and `Bike` classes."
   ]
  },
  {
   "cell_type": "code",
   "execution_count": 1079,
   "id": "455a04c6",
   "metadata": {},
   "outputs": [
    {
     "name": "stdout",
     "output_type": "stream",
     "text": [
      "Tesla is starting...\n",
      "Tesla is driving on 4 wheels.\n",
      "Yamaha is starting...\n",
      "Yamaha is riding on 2 wheels.\n"
     ]
    }
   ],
   "source": [
    "class Vehicle:\n",
    "    def __init__(self, brand: str):\n",
    "        self.brand = brand\n",
    "\n",
    "    def start(self) -> None:\n",
    "        print(f\"{self.brand} is starting...\")\n",
    "\n",
    "class Car(Vehicle):\n",
    "    def drive(self) -> None:\n",
    "        print(f\"{self.brand} is driving on 4 wheels.\")\n",
    "\n",
    "class Bike(Vehicle):\n",
    "    def ride(self) -> None:\n",
    "        print(f\"{self.brand} is riding on 2 wheels.\")\n",
    "\n",
    "# Usage\n",
    "car1 = Car(\"Tesla\")\n",
    "bike1 = Bike(\"Yamaha\")\n",
    "\n",
    "car1.start()      # Inherited\n",
    "car1.drive()      # Car-specific method\n",
    "\n",
    "bike1.start()     # Inherited\n",
    "bike1.ride()      # Bike-specific method"
   ]
  },
  {
   "cell_type": "markdown",
   "id": "5c6b89ef",
   "metadata": {},
   "source": [
    "**Q22.** Demonstrate single inheritance with a real-life example."
   ]
  },
  {
   "cell_type": "code",
   "execution_count": 1080,
   "id": "ebc3811a",
   "metadata": {},
   "outputs": [
    {
     "name": "stdout",
     "output_type": "stream",
     "text": [
      "Welcome to BMS University!\n",
      "I am GiGi Molki, a student at BMS.\n"
     ]
    }
   ],
   "source": [
    "class University:\n",
    "    def __init__(self, university_name: str):\n",
    "        self.university_name = university_name\n",
    "\n",
    "    def announce(self) -> None:\n",
    "        print(f\"Welcome to {self.university_name} University!\")\n",
    "\n",
    "class Student(University):\n",
    "    def __init__(self, university_name: str, student_name: str):\n",
    "        super().__init__(university_name)  # Inherit from University\n",
    "        self.student_name = student_name\n",
    "\n",
    "    def introduce(self) -> None:\n",
    "        print(f\"I am {self.student_name}, a student at {self.university_name}.\")\n",
    "\n",
    "# Usage\n",
    "student1 = Student(\"BMS\", \"GiGi Molki\")\n",
    "student1.announce()     # From University\n",
    "student1.introduce()    # From Student"
   ]
  },
  {
   "cell_type": "markdown",
   "id": "74a32b15",
   "metadata": {},
   "source": [
    "**Q23.** Implement multi-level inheritance in Python."
   ]
  },
  {
   "cell_type": "code",
   "execution_count": 1081,
   "id": "2771adfd",
   "metadata": {},
   "outputs": [
    {
     "name": "stdout",
     "output_type": "stream",
     "text": [
      "Name: GiGi Molki\n",
      "Employee ID: EMP123\n",
      "Department: Trading AI\n"
     ]
    }
   ],
   "source": [
    "class Person:\n",
    "    def __init__(self, name: str):\n",
    "        self.name = name\n",
    "\n",
    "    def show_name(self) -> None:\n",
    "        print(f\"Name: {self.name}\")\n",
    "\n",
    "class Employee(Person):\n",
    "    def __init__(self, name: str, employee_id: str):\n",
    "        super().__init__(name)\n",
    "        self.employee_id = employee_id\n",
    "\n",
    "    def show_employee(self) -> None:\n",
    "        print(f\"Employee ID: {self.employee_id}\")\n",
    "\n",
    "class Manager(Employee):\n",
    "    def __init__(self, name: str, employee_id: str, department: str):\n",
    "        super().__init__(name, employee_id)\n",
    "        self.department = department\n",
    "\n",
    "    def show_manager(self) -> None:\n",
    "        print(f\"Department: {self.department}\")\n",
    "\n",
    "# Usage\n",
    "m1 = Manager(\"GiGi Molki\", \"EMP123\", \"Trading AI\")\n",
    "m1.show_name()       # From Person\n",
    "m1.show_employee()   # From Employee\n",
    "m1.show_manager()    # From Manager"
   ]
  },
  {
   "cell_type": "markdown",
   "id": "ab9b8e8a",
   "metadata": {},
   "source": [
    "**Q24.** Show an example of hierarchical inheritance."
   ]
  },
  {
   "cell_type": "code",
   "execution_count": 1082,
   "id": "8a3c1735",
   "metadata": {},
   "outputs": [
    {
     "name": "stdout",
     "output_type": "stream",
     "text": [
      "Dell device is now ON.\n",
      "Dell Laptop: 16GB RAM, i7 CPU.\n",
      "Samsung device is now ON.\n",
      "Samsung Smartphone: 8GB RAM, Snapdragon processor.\n"
     ]
    }
   ],
   "source": [
    "class Device:\n",
    "    def __init__(self, brand: str):\n",
    "        self.brand = brand\n",
    "\n",
    "    def power_on(self) -> None:\n",
    "        print(f\"{self.brand} device is now ON.\")\n",
    "\n",
    "class Laptop(Device):\n",
    "    def specs(self) -> None:\n",
    "        print(f\"{self.brand} Laptop: 16GB RAM, i7 CPU.\")\n",
    "\n",
    "class Smartphone(Device):\n",
    "    def specs(self) -> None:\n",
    "        print(f\"{self.brand} Smartphone: 8GB RAM, Snapdragon processor.\")\n",
    "\n",
    "# Usage\n",
    "l1 = Laptop(\"Dell\")\n",
    "s1 = Smartphone(\"Samsung\")\n",
    "\n",
    "l1.power_on()     # Inherited from Device\n",
    "l1.specs()        # Laptop-specific\n",
    "\n",
    "s1.power_on()     # Inherited from Device\n",
    "s1.specs()        # Smartphone-specific"
   ]
  },
  {
   "cell_type": "markdown",
   "id": "e34cb230",
   "metadata": {},
   "source": [
    "**Q25.** Implement multiple inheritance and resolve conflicts using `super()`."
   ]
  },
  {
   "cell_type": "code",
   "execution_count": 1083,
   "id": "f82337bd",
   "metadata": {},
   "outputs": [
    {
     "name": "stdout",
     "output_type": "stream",
     "text": [
      "As an influencer, let me introduce myself:\n",
      "I am GiGi Molki, a keynote speaker.\n"
     ]
    }
   ],
   "source": [
    "class Writer:\n",
    "    def __init__(self, name: str):\n",
    "        self.name = name\n",
    "\n",
    "    def introduce(self) -> None:\n",
    "        print(f\"I am {self.name}, a professional writer.\")\n",
    "\n",
    "class Speaker:\n",
    "    def __init__(self, name: str):\n",
    "        self.name = name\n",
    "\n",
    "    def introduce(self) -> None:\n",
    "        print(f\"I am {self.name}, a keynote speaker.\")\n",
    "\n",
    "class Influencer(Speaker,Writer):\n",
    "    def __init__(self, name: str):\n",
    "        super().__init__(name)  # Follows MRO — Speaker is called first\n",
    "\n",
    "    def introduce(self) -> None:\n",
    "        print(f\"As an influencer, let me introduce myself:\")\n",
    "        super().introduce()  # Resolves to Speaker's version due to MRO\n",
    "\n",
    "# Usage\n",
    "gi = Influencer(\"GiGi Molki\")\n",
    "gi.introduce()"
   ]
  },
  {
   "cell_type": "markdown",
   "id": "0a57f358",
   "metadata": {},
   "source": [
    "**Q26.** Create a base class with a method and override it in the subclass."
   ]
  },
  {
   "cell_type": "code",
   "execution_count": 1084,
   "id": "df061ee5",
   "metadata": {},
   "outputs": [
    {
     "name": "stdout",
     "output_type": "stream",
     "text": [
      "The animal makes a sound.\n",
      "The dog barks.\n"
     ]
    }
   ],
   "source": [
    "class Animal:\n",
    "    def speak(self) -> None:\n",
    "        print(\"The animal makes a sound.\")\n",
    "\n",
    "class Dog(Animal):\n",
    "    def speak(self) -> None:  # Overriding the base method\n",
    "        print(\"The dog barks.\")\n",
    "\n",
    "# Usage\n",
    "generic_animal = Animal()\n",
    "buddy = Dog()\n",
    "\n",
    "generic_animal.speak()  \n",
    "buddy.speak()           "
   ]
  },
  {
   "cell_type": "markdown",
   "id": "ac91d58d",
   "metadata": {},
   "source": [
    "**Q27.** Demonstrate the use of `super()` in inheritance."
   ]
  },
  {
   "cell_type": "code",
   "execution_count": 1085,
   "id": "8d5a1a55",
   "metadata": {},
   "outputs": [
    {
     "name": "stdout",
     "output_type": "stream",
     "text": [
      "Employee Name: GiGi Molki\n",
      "Employee ID: MGR101\n",
      "Team Size: 7\n"
     ]
    }
   ],
   "source": [
    "class Employee:\n",
    "    def __init__(self, name: str, emp_id: str):\n",
    "        self.name = name\n",
    "        self.emp_id = emp_id\n",
    "\n",
    "    def display(self) -> None:\n",
    "        print(f\"Employee Name: {self.name}\")\n",
    "        print(f\"Employee ID: {self.emp_id}\")\n",
    "\n",
    "class Manager(Employee):\n",
    "    def __init__(self, name: str, emp_id: str, team_size: int):\n",
    "        super().__init__(name, emp_id)  # Call parent constructor\n",
    "        self.team_size = team_size\n",
    "\n",
    "    def display(self) -> None:\n",
    "        super().display()  # Call parent method\n",
    "        print(f\"Team Size: {self.team_size}\")\n",
    "\n",
    "# Usage\n",
    "m1 = Manager(\"GiGi Molki\", \"MGR101\", 7)\n",
    "m1.display()"
   ]
  },
  {
   "cell_type": "markdown",
   "id": "b9457211",
   "metadata": {},
   "source": [
    "**Q28.** Implement a constructor in a base class and call it from a subclass."
   ]
  },
  {
   "cell_type": "code",
   "execution_count": 1086,
   "id": "e38f8d09",
   "metadata": {},
   "outputs": [
    {
     "name": "stdout",
     "output_type": "stream",
     "text": [
      "Name: GiGi Molki\n",
      "Age: 20\n",
      "Student ID: ST12345\n"
     ]
    }
   ],
   "source": [
    "class Person:\n",
    "    def __init__(self, name: str, age: int):\n",
    "        self.name = name\n",
    "        self.age = age\n",
    "        print(f\"Name: {self.name}\")\n",
    "        print(f\"Age: {self.age}\")\n",
    "\n",
    "class Student(Person):\n",
    "    def __init__(self, name: str, age: int, student_id: str):\n",
    "        super().__init__(name, age)  # Inherit attributes from Person\n",
    "        self.student_id = student_id\n",
    "        print(f\"Student ID: {self.student_id}\")\n",
    "\n",
    "# Usage\n",
    "s1 = Student(\"GiGi Molki\", 20, \"ST12345\")"
   ]
  },
  {
   "cell_type": "markdown",
   "id": "628c7682",
   "metadata": {},
   "source": [
    "**Q29.** Show method resolution order (MRO) in multiple inheritance."
   ]
  },
  {
   "cell_type": "code",
   "execution_count": 1087,
   "id": "5b86864d",
   "metadata": {},
   "outputs": [
    {
     "name": "stdout",
     "output_type": "stream",
     "text": [
      "Called from class B\n",
      "(<class '__main__.D'>, <class '__main__.B'>, <class '__main__.C'>, <class '__main__.A'>, <class 'object'>)\n"
     ]
    }
   ],
   "source": [
    "class A:\n",
    "    def show(self):\n",
    "        print(\"Called from class A\")\n",
    "\n",
    "class B(A):\n",
    "    def show(self):\n",
    "        print(\"Called from class B\")\n",
    "\n",
    "class C(A):\n",
    "    def show(self):\n",
    "        print(\"Called from class C\")\n",
    "\n",
    "class D(B, C):  # Inheriting from B and C (which both inherit A)\n",
    "    pass\n",
    "\n",
    "# Usage\n",
    "obj = D()\n",
    "obj.show()  # Will follow MRO to decide which `show()` to use\n",
    "\n",
    "# Print the Method Resolution Order\n",
    "print(D.__mro__)"
   ]
  },
  {
   "cell_type": "markdown",
   "id": "338381d9",
   "metadata": {},
   "source": [
    "**Q30.** Implement a parent class method that must be overridden in the child class."
   ]
  },
  {
   "cell_type": "code",
   "execution_count": 1088,
   "id": "48976079",
   "metadata": {},
   "outputs": [
    {
     "name": "stdout",
     "output_type": "stream",
     "text": [
      "Area of circle: 153.9384\n"
     ]
    }
   ],
   "source": [
    "from abc import ABC, abstractmethod\n",
    "\n",
    "class Shape(ABC):\n",
    "    @abstractmethod\n",
    "    def area(self) -> float:\n",
    "        \"\"\"Subclasses must implement this method.\"\"\"\n",
    "        pass\n",
    "\n",
    "class Circle(Shape):\n",
    "    def __init__(self, radius: float):\n",
    "        self.radius = radius\n",
    "\n",
    "    def area(self) -> float:\n",
    "        return 3.1416 * self.radius ** 2\n",
    "\n",
    "# ✅ Usage\n",
    "c = Circle(7)\n",
    "print(f\"Area of circle: {c.area()}\")\n",
    "\n",
    "# ❌ Trying to instantiate Shape directly would raise an error:\n",
    "# s = Shape()  → TypeError: Can't instantiate abstract class Shape"
   ]
  },
  {
   "cell_type": "code",
   "execution_count": 1089,
   "id": "01b7362d",
   "metadata": {},
   "outputs": [],
   "source": [
    "from abc import ABC, abstractmethod\n",
    "\n",
    "class Shape(ABC):\n",
    "    @abstractmethod\n",
    "    def area(self) -> float:\n",
    "        pass\n",
    "\n",
    "class Triangle(Shape):\n",
    "    pass  # 🚫 No 'area' method provided!\n",
    "\n",
    "# Attempt to create a Triangle object\n",
    "# t = Triangle()  # 💥 This will raise an error!"
   ]
  },
  {
   "cell_type": "markdown",
   "id": "ba0b9888",
   "metadata": {},
   "source": [
    "## Polymorphism"
   ]
  },
  {
   "cell_type": "markdown",
   "id": "21bd5784",
   "metadata": {},
   "source": [
    "**Q31.** Create two classes with the same method name and use polymorphism."
   ]
  },
  {
   "cell_type": "code",
   "execution_count": 1090,
   "id": "68497a13",
   "metadata": {},
   "outputs": [
    {
     "name": "stdout",
     "output_type": "stream",
     "text": [
      "🐶 Woof! Woof!\n",
      "🐱 Meow!\n"
     ]
    }
   ],
   "source": [
    "class Dog:\n",
    "    def speak(self) -> None:\n",
    "        print(\"🐶 Woof! Woof!\")\n",
    "\n",
    "class Cat:\n",
    "    def speak(self) -> None:\n",
    "        print(\"🐱 Meow!\")\n",
    "\n",
    "# Polymorphic function\n",
    "def make_animal_speak(animal) -> None:\n",
    "    animal.speak()  # Doesn't care what the class is, as long as it has 'speak'\n",
    "\n",
    "# Usage\n",
    "dog = Dog()\n",
    "cat = Cat()\n",
    "\n",
    "make_animal_speak(dog)\n",
    "make_animal_speak(cat)"
   ]
  },
  {
   "cell_type": "markdown",
   "id": "c8c8688b",
   "metadata": {},
   "source": [
    "**Q32.** Implement method overloading using default arguments."
   ]
  },
  {
   "cell_type": "code",
   "execution_count": 1091,
   "id": "72a6d748",
   "metadata": {},
   "outputs": [
    {
     "name": "stdout",
     "output_type": "stream",
     "text": [
      "1\n",
      "3\n",
      "6\n"
     ]
    }
   ],
   "source": [
    "class MathOperations:\n",
    "    def add(self, a: int, b: int = 0, c: int | None = None) -> int:\n",
    "        \"\"\"\n",
    "        Adds 2 or 3 integers based on how many arguments are passed.\n",
    "        \"\"\"\n",
    "        if c is not None:\n",
    "            return a + b + c\n",
    "        return a + b\n",
    "\n",
    "# Usage\n",
    "math = MathOperations()\n",
    "print(math.add(1)) \n",
    "print(math.add(1, 2))\n",
    "print(math.add(1, 2, 3))"
   ]
  },
  {
   "cell_type": "markdown",
   "id": "e166c1d1",
   "metadata": {},
   "source": [
    "**Q33.** Create a class and overload the `+` operator for custom behavior."
   ]
  },
  {
   "cell_type": "code",
   "execution_count": 1092,
   "id": "ff11b35d",
   "metadata": {},
   "outputs": [],
   "source": [
    "class Box:\n",
    "    def __init__(self, value):\n",
    "        self.value = value\n",
    "\n",
    "box1 = Box(10)\n",
    "box2 = Box(20)\n",
    "\n",
    "# print(box1 + box2)  # ❌ Error: unsupported operand type(s)"
   ]
  },
  {
   "cell_type": "code",
   "execution_count": 1093,
   "id": "28216605",
   "metadata": {},
   "outputs": [
    {
     "name": "stdout",
     "output_type": "stream",
     "text": [
      "Box(30)\n"
     ]
    }
   ],
   "source": [
    "class Box:\n",
    "    def __init__(self, value):\n",
    "        self.value = value\n",
    "\n",
    "    def __add__(self, other):\n",
    "        return Box(self.value + other.value)\n",
    "\n",
    "    def __str__(self):\n",
    "        return f\"Box({self.value})\"\n",
    "\n",
    "box1 = Box(10)\n",
    "box2 = Box(20)\n",
    "result = box1 + box2  # ✅ Automatically uses __add__()\n",
    "print(result)         # ➤ Box(30)"
   ]
  },
  {
   "cell_type": "markdown",
   "id": "da824aa3",
   "metadata": {},
   "source": [
    "**Q34.** Demonstrate method overriding using inheritance."
   ]
  },
  {
   "cell_type": "code",
   "execution_count": 1094,
   "id": "2a7ca5a3",
   "metadata": {},
   "outputs": [
    {
     "name": "stdout",
     "output_type": "stream",
     "text": [
      "The animal makes a sound.\n",
      "The dog barks.\n"
     ]
    }
   ],
   "source": [
    "class Animal:\n",
    "    def speak(self) -> None:\n",
    "        print(\"The animal makes a sound.\")\n",
    "\n",
    "class Dog(Animal):\n",
    "    def speak(self) -> None:\n",
    "        print(\"The dog barks.\")\n",
    "\n",
    "# Usage\n",
    "generic_animal = Animal()\n",
    "pet_dog = Dog()\n",
    "\n",
    "generic_animal.speak()  # ➤ The animal makes a sound.\n",
    "pet_dog.speak()         # ➤ The dog barks."
   ]
  },
  {
   "cell_type": "markdown",
   "id": "92b0066b",
   "metadata": {},
   "source": [
    "**Q35.** Implement polymorphism using abstract classes."
   ]
  },
  {
   "cell_type": "code",
   "execution_count": 1095,
   "id": "d32fe851",
   "metadata": {},
   "outputs": [
    {
     "name": "stdout",
     "output_type": "stream",
     "text": [
      "Area: 153.93791\n",
      "Area: 50\n"
     ]
    }
   ],
   "source": [
    "from abc import ABC, abstractmethod\n",
    "\n",
    "# Abstract base class\n",
    "class Shape(ABC):\n",
    "    @abstractmethod\n",
    "    def area(self) -> float:\n",
    "        pass\n",
    "\n",
    "# Derived class 1\n",
    "class Circle(Shape):\n",
    "    def __init__(self, radius: float):\n",
    "        self.radius = radius\n",
    "\n",
    "    def area(self) -> float:\n",
    "        return 3.14159 * self.radius ** 2\n",
    "\n",
    "# Derived class 2\n",
    "class Rectangle(Shape):\n",
    "    def __init__(self, length: float, width: float):\n",
    "        self.length = length\n",
    "        self.width = width\n",
    "\n",
    "    def area(self) -> float:\n",
    "        return self.length * self.width\n",
    "\n",
    "# Usage (polymorphism in action)\n",
    "shapes = [Circle(7), Rectangle(10, 5)]\n",
    "\n",
    "for shape in shapes:\n",
    "    print(f\"Area: {shape.area()}\")  # Same method, different behavior"
   ]
  },
  {
   "cell_type": "markdown",
   "id": "67a8e3a3",
   "metadata": {},
   "source": [
    "**Q36.** Overload the `*` operator for a class to repeat a string."
   ]
  },
  {
   "cell_type": "code",
   "execution_count": 1096,
   "id": "c7d9fb2b",
   "metadata": {},
   "outputs": [
    {
     "name": "stdout",
     "output_type": "stream",
     "text": [
      "GiGi GiGi GiGi \n"
     ]
    }
   ],
   "source": [
    "class Repeater:\n",
    "    def __init__(self, text: str):\n",
    "        self.text = text\n",
    "\n",
    "    def __mul__(self, times: int) -> str:\n",
    "        if not isinstance(times, int):\n",
    "            raise TypeError(\"Multiplier must be an integer\")\n",
    "        return self.text * times\n",
    "    \n",
    "        \n",
    "    def __rmul__(self, times: int) -> str:\n",
    "        return self.__mul__(times)\n",
    "\n",
    "# Usage\n",
    "r = Repeater(\"GiGi \")\n",
    "print(3 * r)  # ➤ GiGi GiGi GiGi "
   ]
  },
  {
   "cell_type": "markdown",
   "id": "7e153cb0",
   "metadata": {},
   "source": [
    "**Q37.** Implement polymorphism with a function that can take different objects."
   ]
  },
  {
   "cell_type": "code",
   "execution_count": 1097,
   "id": "7ac54297",
   "metadata": {},
   "outputs": [
    {
     "name": "stdout",
     "output_type": "stream",
     "text": [
      "Woof!\n",
      "Meow!\n",
      "Hello!\n"
     ]
    }
   ],
   "source": [
    "class Dog:\n",
    "    def speak(self) -> str:\n",
    "        return \"Woof!\"\n",
    "\n",
    "class Cat:\n",
    "    def speak(self) -> str:\n",
    "        return \"Meow!\"\n",
    "\n",
    "class Human:\n",
    "    def speak(self) -> str:\n",
    "        return \"Hello!\"\n",
    "\n",
    "# Polymorphic function\n",
    "def animal_sound(entity) -> None:\n",
    "    print(entity.speak())\n",
    "\n",
    "# Usage\n",
    "animals = [Dog(), Cat(), Human()]\n",
    "\n",
    "for animal in animals:\n",
    "    animal_sound(animal)"
   ]
  },
  {
   "cell_type": "markdown",
   "id": "6b52d67d",
   "metadata": {},
   "source": [
    "**Q38.** Demonstrate `isinstance()` and `issubclass()` for polymorphism."
   ]
  },
  {
   "cell_type": "code",
   "execution_count": 1098,
   "id": "05b403f2",
   "metadata": {},
   "outputs": [
    {
     "name": "stdout",
     "output_type": "stream",
     "text": [
      "Woof!\n",
      "Meow!\n",
      "True\n",
      "True\n",
      "False\n"
     ]
    }
   ],
   "source": [
    "class Animal:\n",
    "    def speak(self):\n",
    "        print(\"Animal sound\")\n",
    "\n",
    "class Dog(Animal):\n",
    "    def speak(self):\n",
    "        print(\"Woof!\")\n",
    "\n",
    "class Cat(Animal):\n",
    "    def speak(self):\n",
    "        print(\"Meow!\")\n",
    "\n",
    "def make_sound(creature: Animal):\n",
    "    # Demonstrate isinstance: is 'creature' an instance of Animal or its subclasses?\n",
    "    if isinstance(creature, Animal):\n",
    "        creature.speak()\n",
    "    else:\n",
    "        print(\"Not an animal.\")\n",
    "\n",
    "# Creating objects\n",
    "dog = Dog()\n",
    "cat = Cat()\n",
    "\n",
    "# Polymorphic function call\n",
    "make_sound(dog)  # Woof!\n",
    "make_sound(cat)  # Meow!\n",
    "\n",
    "# Demonstrate issubclass\n",
    "print(issubclass(Dog, Animal))\n",
    "print(issubclass(Cat, Animal))\n",
    "print(issubclass(Animal, Dog)) "
   ]
  },
  {
   "cell_type": "markdown",
   "id": "1c87768a",
   "metadata": {},
   "source": [
    "**Q39.** Create a `Shape` class and implement `area()` method in different subclasses."
   ]
  },
  {
   "cell_type": "code",
   "execution_count": 1099,
   "id": "9ec00f44",
   "metadata": {},
   "outputs": [
    {
     "name": "stdout",
     "output_type": "stream",
     "text": [
      "Circle area: 78.54\n",
      "Rectangle area: 24.00\n",
      "Square area: 9.00\n"
     ]
    }
   ],
   "source": [
    "from abc import ABC, abstractmethod\n",
    "\n",
    "class Shape(ABC):\n",
    "    @abstractmethod\n",
    "    def area(self) -> float:\n",
    "        pass\n",
    "\n",
    "class Circle(Shape):\n",
    "    def __init__(self, radius: float):\n",
    "        self.radius = radius\n",
    "\n",
    "    def area(self) -> float:\n",
    "        return 3.14159 * self.radius ** 2\n",
    "\n",
    "class Rectangle(Shape):\n",
    "    def __init__(self, width: float, height: float):\n",
    "        self.width = width\n",
    "        self.height = height\n",
    "\n",
    "    def area(self) -> float:\n",
    "        return self.width * self.height\n",
    "\n",
    "class Square(Rectangle):\n",
    "    def __init__(self, side: float):\n",
    "        super().__init__(side, side)\n",
    "\n",
    "# Usage\n",
    "shapes = [Circle(5), Rectangle(4, 6), Square(3)]\n",
    "\n",
    "for shape in shapes:\n",
    "    print(f\"{shape.__class__.__name__} area: {shape.area():.2f}\")"
   ]
  },
  {
   "cell_type": "markdown",
   "id": "33e6908b",
   "metadata": {},
   "source": [
    "**Q40.** Use duck typing to call the same method on different objects."
   ]
  },
  {
   "cell_type": "code",
   "execution_count": 1100,
   "id": "d9aa0637",
   "metadata": {},
   "outputs": [
    {
     "name": "stdout",
     "output_type": "stream",
     "text": [
      "Quack! Quack!\n",
      "I can imitate a duck!\n"
     ]
    }
   ],
   "source": [
    "class Duck:\n",
    "    def quack(self):\n",
    "        print(\"Quack! Quack!\")\n",
    "\n",
    "class Person:\n",
    "    def quack(self):\n",
    "        print(\"I can imitate a duck!\")\n",
    "\n",
    "def make_it_quack(thing):\n",
    "    # No type check, just trusting it has a `quack()` method\n",
    "    thing.quack()\n",
    "\n",
    "# Usage\n",
    "Majd = Duck()\n",
    "GiGi = Person()\n",
    "\n",
    "make_it_quack(Majd)  # ✅ Works\n",
    "make_it_quack(GiGi)    # ✅ Also works — duck typing!"
   ]
  },
  {
   "cell_type": "markdown",
   "id": "9eab1bfb",
   "metadata": {},
   "source": [
    "## Abstraction"
   ]
  },
  {
   "cell_type": "markdown",
   "id": "26b0f04b",
   "metadata": {},
   "source": [
    "**Q41.** Create an abstract class `Animal` with an abstract method `make_sound()`."
   ]
  },
  {
   "cell_type": "code",
   "execution_count": 1101,
   "id": "7cadcd4f",
   "metadata": {},
   "outputs": [
    {
     "name": "stdout",
     "output_type": "stream",
     "text": [
      "Woof! Woof!\n",
      "Meow!\n"
     ]
    }
   ],
   "source": [
    "from abc import ABC, abstractmethod\n",
    "\n",
    "class Animal(ABC):\n",
    "    @abstractmethod\n",
    "    def make_sound(self) -> None:\n",
    "        pass\n",
    "\n",
    "class Dog(Animal):\n",
    "    def make_sound(self) -> None:\n",
    "        print(\"Woof! Woof!\")\n",
    "\n",
    "class Cat(Animal):\n",
    "    def make_sound(self) -> None:\n",
    "        print(\"Meow!\")\n",
    "\n",
    "# Usage\n",
    "animals = [Dog(), Cat()]\n",
    "for animal in animals:\n",
    "    animal.make_sound()"
   ]
  },
  {
   "cell_type": "markdown",
   "id": "2bdd8fec",
   "metadata": {},
   "source": [
    "**Q42.** Implement an abstract class and define its abstract method in a subclass."
   ]
  },
  {
   "cell_type": "code",
   "execution_count": 1102,
   "id": "b3a03318",
   "metadata": {},
   "outputs": [
    {
     "name": "stdout",
     "output_type": "stream",
     "text": [
      "Area of the circle: 153.94\n"
     ]
    }
   ],
   "source": [
    "from abc import ABC, abstractmethod\n",
    "import math\n",
    "\n",
    "class Shape(ABC):\n",
    "    @abstractmethod\n",
    "    def area(self) -> float:\n",
    "        pass\n",
    "\n",
    "class Circle(Shape):\n",
    "    def __init__(self, radius: float):\n",
    "        self.radius = radius\n",
    "\n",
    "    def area(self) -> float:\n",
    "        return math.pi * self.radius ** 2\n",
    "\n",
    "# Usage\n",
    "c1 = Circle(7)\n",
    "print(f\"Area of the circle: {c1.area():.2f}\")"
   ]
  },
  {
   "cell_type": "markdown",
   "id": "1b72d2de",
   "metadata": {},
   "source": [
    "**Q43.** Use the `ABC` module to enforce method implementation."
   ]
  },
  {
   "cell_type": "code",
   "execution_count": 1103,
   "id": "66cbcc7e",
   "metadata": {},
   "outputs": [
    {
     "name": "stdout",
     "output_type": "stream",
     "text": [
      "Processing credit card payment of ₹499.99\n"
     ]
    }
   ],
   "source": [
    "from abc import ABC, abstractmethod\n",
    "\n",
    "class PaymentGateway(ABC):\n",
    "    @abstractmethod\n",
    "    def process_payment(self, amount: float) -> None:\n",
    "        pass\n",
    "\n",
    "class CreditCardPayment(PaymentGateway):\n",
    "    def process_payment(self, amount: float) -> None:\n",
    "        print(f\"Processing credit card payment of ₹{amount:.2f}\")\n",
    "\n",
    "# Valid usage\n",
    "payment = CreditCardPayment()\n",
    "payment.process_payment(499.99)\n",
    "\n",
    "# ❌ Invalid: Can't instantiate abstract class without implementing abstract method\n",
    "# class InvalidPayment(PaymentGateway):\n",
    "#     pass\n",
    "# ip = InvalidPayment()  # This will raise TypeError!"
   ]
  },
  {
   "cell_type": "markdown",
   "id": "efc5b985",
   "metadata": {},
   "source": [
    "**Q44.** Write a program where a subclass must implement multiple abstract methods."
   ]
  },
  {
   "cell_type": "code",
   "execution_count": 1104,
   "id": "5b221f8d",
   "metadata": {},
   "outputs": [
    {
     "name": "stdout",
     "output_type": "stream",
     "text": [
      "SmartSpeaker is now ON.\n",
      "Connected to WiFi network: Molki_Network\n",
      "SmartSpeaker is shutting down.\n"
     ]
    }
   ],
   "source": [
    "from abc import ABC, abstractmethod\n",
    "\n",
    "# Abstract base class\n",
    "class SmartDevice(ABC):\n",
    "    \n",
    "    @abstractmethod\n",
    "    def power_on(self) -> None:\n",
    "        pass\n",
    "\n",
    "    @abstractmethod\n",
    "    def power_off(self) -> None:\n",
    "        pass\n",
    "\n",
    "    @abstractmethod\n",
    "    def connect_to_wifi(self, network: str) -> None:\n",
    "        pass\n",
    "\n",
    "\n",
    "# Subclass implementing all abstract methods\n",
    "class SmartSpeaker(SmartDevice):\n",
    "    \n",
    "    def power_on(self) -> None:\n",
    "        print(\"SmartSpeaker is now ON.\")\n",
    "    \n",
    "    def power_off(self) -> None:\n",
    "        print(\"SmartSpeaker is shutting down.\")\n",
    "    \n",
    "    def connect_to_wifi(self, network: str) -> None:\n",
    "        print(f\"Connected to WiFi network: {network}\")\n",
    "\n",
    "\n",
    "# Usage\n",
    "echo = SmartSpeaker()\n",
    "echo.power_on()\n",
    "echo.connect_to_wifi(\"Molki_Network\")\n",
    "echo.power_off()"
   ]
  },
  {
   "cell_type": "markdown",
   "id": "eb4a75e8",
   "metadata": {},
   "source": [
    "**Q45.** Demonstrate abstraction using a real-life example (e.g., `Bank`)."
   ]
  },
  {
   "cell_type": "code",
   "execution_count": 1105,
   "id": "99930b8f",
   "metadata": {},
   "outputs": [
    {
     "name": "stdout",
     "output_type": "stream",
     "text": [
      "Welcome GiGi Molki! Your HDFC account has been opened with ₹10000.\n",
      "HDFC is processing a loan of ₹500000.\n",
      "Hello Molki GiGi! ICICI account opened with ₹25000.\n",
      "ICICI has approved your loan of ₹300000.\n"
     ]
    }
   ],
   "source": [
    "from abc import ABC, abstractmethod\n",
    "\n",
    "# Abstract base class\n",
    "class Bank(ABC):\n",
    "    \n",
    "    @abstractmethod\n",
    "    def open_account(self, name: str, deposit: float) -> None:\n",
    "        pass\n",
    "\n",
    "    @abstractmethod\n",
    "    def provide_loan(self, amount: float) -> None:\n",
    "        pass\n",
    "\n",
    "\n",
    "# Concrete subclass 1\n",
    "class HDFCBank(Bank):\n",
    "    def open_account(self, name: str, deposit: float) -> None:\n",
    "        print(f\"Welcome {name}! Your HDFC account has been opened with ₹{deposit}.\")\n",
    "\n",
    "    def provide_loan(self, amount: float) -> None:\n",
    "        print(f\"HDFC is processing a loan of ₹{amount}.\")\n",
    "\n",
    "\n",
    "# Concrete subclass 2\n",
    "class ICICIBank(Bank):\n",
    "    def open_account(self, name: str, deposit: float) -> None:\n",
    "        print(f\"Hello {name}! ICICI account opened with ₹{deposit}.\")\n",
    "\n",
    "    def provide_loan(self, amount: float) -> None:\n",
    "        print(f\"ICICI has approved your loan of ₹{amount}.\")\n",
    "\n",
    "\n",
    "# Usage\n",
    "bank1 = HDFCBank()\n",
    "bank2 = ICICIBank()\n",
    "\n",
    "bank1.open_account(\"GiGi Molki\", 10000)\n",
    "bank1.provide_loan(500000)\n",
    "\n",
    "bank2.open_account(\"Molki GiGi\", 25000)\n",
    "bank2.provide_loan(300000)"
   ]
  },
  {
   "cell_type": "markdown",
   "id": "2df72903",
   "metadata": {},
   "source": [
    "**Q46.** Create an interface using an abstract base class in Python."
   ]
  },
  {
   "cell_type": "code",
   "execution_count": 1106,
   "id": "58f2864e",
   "metadata": {},
   "outputs": [
    {
     "name": "stdout",
     "output_type": "stream",
     "text": [
      "Invoice Amount: ₹999.99\n",
      "Report Title: Quarterly Earnings\n"
     ]
    }
   ],
   "source": [
    "from abc import ABC, abstractmethod\n",
    "\n",
    "# Interface using Abstract Base Class\n",
    "class Printable(ABC):\n",
    "\n",
    "    @abstractmethod\n",
    "    def print_data(self) -> None:\n",
    "        pass\n",
    "\n",
    "\n",
    "class Invoice(Printable):\n",
    "    def __init__(self, amount: float):\n",
    "        self.amount = amount\n",
    "\n",
    "    def print_data(self) -> None:\n",
    "        print(f\"Invoice Amount: ₹{self.amount}\")\n",
    "\n",
    "\n",
    "class Report(Printable):\n",
    "    def __init__(self, title: str):\n",
    "        self.title = title\n",
    "\n",
    "    def print_data(self) -> None:\n",
    "        print(f\"Report Title: {self.title}\")\n",
    "\n",
    "\n",
    "# Usage\n",
    "docs = [Invoice(999.99),Report(\"Quarterly Earnings\")]\n",
    "for doc in docs:\n",
    "    doc.print_data()"
   ]
  },
  {
   "cell_type": "markdown",
   "id": "6afe2def",
   "metadata": {},
   "source": [
    "abstract_methods = {\"power_on\", \"operate\"}\n",
    "\n",
    "Computer implements → {\"power_on\"}\n",
    "Laptop implements   → {\"operate\"}\n",
    "\n",
    "Total union in hierarchy = {\"power_on\", \"operate\"} ✅ All covered!"
   ]
  },
  {
   "cell_type": "markdown",
   "id": "38650939",
   "metadata": {},
   "source": [
    "**Q47.** Implement a program where abstract methods are partially implemented in a subclass."
   ]
  },
  {
   "cell_type": "code",
   "execution_count": 1107,
   "id": "fe3bd13f",
   "metadata": {},
   "outputs": [
    {
     "name": "stdout",
     "output_type": "stream",
     "text": [
      "Computer is booting up...\n",
      "Laptop is running software applications.\n"
     ]
    }
   ],
   "source": [
    "from abc import ABC, abstractmethod\n",
    "\n",
    "# Abstract Base Class\n",
    "class Device(ABC):\n",
    "    \n",
    "    @abstractmethod\n",
    "    def power_on(self) -> None:\n",
    "        pass\n",
    "\n",
    "    @abstractmethod\n",
    "    def operate(self) -> None:\n",
    "        pass\n",
    "\n",
    "\n",
    "# Intermediate subclass - only implements one abstract method\n",
    "class Computer(Device):\n",
    "    \n",
    "    def power_on(self) -> None:\n",
    "        print(\"Computer is booting up...\")\n",
    "\n",
    "    # 'operate()' still not implemented – remains abstract\n",
    "\n",
    "\n",
    "# Final subclass - fully implements everything\n",
    "class Laptop(Computer):\n",
    "    \n",
    "    def operate(self) -> None:\n",
    "        print(\"Laptop is running software applications.\")\n",
    "\n",
    "\n",
    "# Usage\n",
    "my_laptop = Laptop()\n",
    "my_laptop.power_on()\n",
    "my_laptop.operate()"
   ]
  },
  {
   "cell_type": "markdown",
   "id": "c97eb9de",
   "metadata": {},
   "source": [
    "**Q48.** Use abstraction to enforce structure in a class hierarchy."
   ]
  },
  {
   "cell_type": "code",
   "execution_count": 1108,
   "id": "af84a595",
   "metadata": {},
   "outputs": [
    {
     "name": "stdout",
     "output_type": "stream",
     "text": [
      "Generated Report: Sales data for Q1\n",
      "Generated Report: Inventory data as of today\n"
     ]
    }
   ],
   "source": [
    "from abc import ABC, abstractmethod\n",
    "\n",
    "class ReportGenerator(ABC):\n",
    "    \"\"\"Abstract base class enforcing a reporting structure.\"\"\"\n",
    "\n",
    "    @abstractmethod\n",
    "    def collect_data(self) -> None:\n",
    "        \"\"\"Collect data from the source.\"\"\"\n",
    "        pass\n",
    "\n",
    "    @abstractmethod\n",
    "    def generate_report(self) -> str:\n",
    "        \"\"\"Generate a report from collected data.\"\"\"\n",
    "        pass\n",
    "\n",
    "class SalesReport(ReportGenerator):\n",
    "    def collect_data(self) -> None:\n",
    "        self.data = \"Sales data for Q1\"\n",
    "\n",
    "    def generate_report(self) -> str:\n",
    "        return f\"Generated Report: {self.data}\"\n",
    "\n",
    "class InventoryReport(ReportGenerator):\n",
    "    def collect_data(self) -> None:\n",
    "        self.data = \"Inventory data as of today\"\n",
    "\n",
    "    def generate_report(self) -> str:\n",
    "        return f\"Generated Report: {self.data}\"\n",
    "\n",
    "# Usage\n",
    "sales = SalesReport()\n",
    "sales.collect_data()\n",
    "print(sales.generate_report())  # ✅ Follows the structure\n",
    "\n",
    "inventory = InventoryReport()\n",
    "inventory.collect_data()\n",
    "print(inventory.generate_report())  # ✅ Also follows the structure"
   ]
  },
  {
   "cell_type": "markdown",
   "id": "acfc65f2",
   "metadata": {},
   "source": [
    "**Q49.** Write a program to enforce abstraction on multiple levels of inheritance."
   ]
  },
  {
   "cell_type": "code",
   "execution_count": 1109,
   "id": "cd2423f6",
   "metadata": {},
   "outputs": [
    {
     "name": "stdout",
     "output_type": "stream",
     "text": [
      "Laptop is starting...\n",
      "Laptop is running the OS and applications.\n"
     ]
    }
   ],
   "source": [
    "from abc import ABC, abstractmethod\n",
    "\n",
    "# Level 1: Base Abstract Class\n",
    "class Machine(ABC):\n",
    "    @abstractmethod\n",
    "    def start(self) -> None:\n",
    "        pass\n",
    "\n",
    "# Level 2: Intermediate Abstract Subclass\n",
    "class Computer(Machine):\n",
    "    @abstractmethod\n",
    "    def operate(self) -> None:\n",
    "        pass\n",
    "\n",
    "# Level 3: Concrete Subclass implementing all abstract methods\n",
    "class Laptop(Computer):\n",
    "    def start(self) -> None:\n",
    "        print(\"Laptop is starting...\")\n",
    "\n",
    "    def operate(self) -> None:\n",
    "        print(\"Laptop is running the OS and applications.\")\n",
    "\n",
    "# Usage\n",
    "device = Laptop()\n",
    "device.start()\n",
    "device.operate()"
   ]
  },
  {
   "cell_type": "markdown",
   "id": "1c9016b3",
   "metadata": {},
   "source": [
    "**Q50.** Demonstrate an abstract method returning an object of another class."
   ]
  },
  {
   "cell_type": "code",
   "execution_count": 1110,
   "id": "0cfc3b18",
   "metadata": {},
   "outputs": [
    {
     "name": "stdout",
     "output_type": "stream",
     "text": [
      "Report: PDF Report Generated Successfully.\n"
     ]
    }
   ],
   "source": [
    "from abc import ABC, abstractmethod\n",
    "\n",
    "# Class to be returned\n",
    "class Report:\n",
    "    def __init__(self, content: str):\n",
    "        self.content = content\n",
    "\n",
    "    def display(self) -> None:\n",
    "        print(f\"Report: {self.content}\")\n",
    "\n",
    "# Abstract base class\n",
    "class ReportGenerator(ABC):\n",
    "    @abstractmethod\n",
    "    def generate(self) -> Report:\n",
    "        \"\"\"Should return a Report object\"\"\"\n",
    "        pass\n",
    "\n",
    "# Concrete class\n",
    "class PDFReportGenerator(ReportGenerator):\n",
    "    def generate(self) -> Report:\n",
    "        return Report(\"PDF Report Generated Successfully.\")\n",
    "\n",
    "# Usage\n",
    "generator = PDFReportGenerator()\n",
    "report = generator.generate()\n",
    "report.display()"
   ]
  },
  {
   "cell_type": "markdown",
   "id": "ebedc25a",
   "metadata": {},
   "source": [
    "## Special (Magic) Methods"
   ]
  },
  {
   "cell_type": "markdown",
   "id": "11ea3474",
   "metadata": {},
   "source": [
    "**Q51.** Implement `__str__()` and `__repr__()` for a class."
   ]
  },
  {
   "cell_type": "code",
   "execution_count": 1111,
   "id": "03a40271",
   "metadata": {},
   "outputs": [
    {
     "name": "stdout",
     "output_type": "stream",
     "text": [
      "'1984' by George Orwell\n",
      "Book(title='1984', author='George Orwell')\n"
     ]
    }
   ],
   "source": [
    "class Book:\n",
    "    def __init__(self, title: str, author: str):\n",
    "        self.title = title\n",
    "        self.author = author\n",
    "\n",
    "    def __str__(self) -> str:\n",
    "        \"\"\"\n",
    "        Called by print() or str().\n",
    "        Intended for end-user readability.\n",
    "        \"\"\"\n",
    "        return f\"'{self.title}' by {self.author}\"\n",
    "\n",
    "    def __repr__(self) -> str:\n",
    "        \"\"\"\n",
    "        Called by repr() or when inspecting the object in the console.\n",
    "        Intended for developers and debugging.\n",
    "        \"\"\"\n",
    "        return f\"Book(title='{self.title}', author='{self.author}')\"\n",
    "\n",
    "# Usage\n",
    "novel = Book(\"1984\", \"George Orwell\")\n",
    "\n",
    "print(novel)        # ✅ Uses __str__: readable\n",
    "print(repr(novel))  # ✅ Uses __repr__: debug-friendly"
   ]
  },
  {
   "cell_type": "code",
   "execution_count": 1112,
   "id": "ceaf95f2",
   "metadata": {},
   "outputs": [
    {
     "name": "stdout",
     "output_type": "stream",
     "text": [
      "List of books: [Book(title='1984', author='George Orwell'), Book(title='Sapiens', author='Yuval Noah Harari')]\n",
      "Dictionary of books: {'classic': Book(title='1984', author='George Orwell'), 'modern': Book(title='Sapiens', author='Yuval Noah Harari')}\n"
     ]
    }
   ],
   "source": [
    "class Book:\n",
    "    def __init__(self, title: str, author: str):\n",
    "        self.title = title\n",
    "        self.author = author\n",
    "\n",
    "    def __str__(self) -> str:\n",
    "        return f\"'{self.title}' by {self.author}\"\n",
    "\n",
    "    def __repr__(self) -> str:\n",
    "        return f\"Book(title='{self.title}', author='{self.author}')\"\n",
    "\n",
    "# Create book objects\n",
    "b1 = Book(\"1984\", \"George Orwell\")\n",
    "b2 = Book(\"Sapiens\", \"Yuval Noah Harari\")\n",
    "\n",
    "# In a list\n",
    "book_list = [b1, b2]\n",
    "print(\"List of books:\", book_list)\n",
    "\n",
    "# In a dictionary\n",
    "book_dict = {\"classic\": b1, \"modern\": b2}\n",
    "print(\"Dictionary of books:\", book_dict)"
   ]
  },
  {
   "cell_type": "markdown",
   "id": "44651f71",
   "metadata": {},
   "source": [
    "**Q52.** Overload the `__len__()` method for a custom class."
   ]
  },
  {
   "cell_type": "code",
   "execution_count": 1113,
   "id": "0e1ae076",
   "metadata": {},
   "outputs": [
    {
     "name": "stdout",
     "output_type": "stream",
     "text": [
      "Total songs: 3\n"
     ]
    }
   ],
   "source": [
    "class Playlist:\n",
    "    def __init__(self, songs: list[str]):\n",
    "        self.songs = songs\n",
    "\n",
    "    def __len__(self) -> int:\n",
    "        # Returns the number of songs in the playlist\n",
    "        return len(self.songs)\n",
    "\n",
    "    def __repr__(self) -> str:\n",
    "        return f\"Playlist(songs={self.songs})\"\n",
    "\n",
    "# Example usage\n",
    "my_playlist = Playlist([\"Lose Yourself\", \"Bohemian Rhapsody\", \"Blinding Lights\"])\n",
    "print(f\"Total songs: {len(my_playlist)}\")"
   ]
  },
  {
   "cell_type": "code",
   "execution_count": 1114,
   "id": "faa1fbe9",
   "metadata": {},
   "outputs": [
    {
     "name": "stdout",
     "output_type": "stream",
     "text": [
      "Playlist is not empty!\n"
     ]
    }
   ],
   "source": [
    "class Playlist:\n",
    "    def __init__(self, songs: list[str]):\n",
    "        self.songs = songs\n",
    "\n",
    "    def __len__(self) -> int:\n",
    "        return len(self.songs)  # Return the number of songs in the playlist\n",
    "\n",
    "    def __repr__(self) -> str:\n",
    "        return f\"Playlist(songs={self.songs})\"\n",
    "\n",
    "# Example usage\n",
    "my_playlist = Playlist([\"Lose Yourself\", \"Bohemian Rhapsody\", \"Blinding Lights\"])\n",
    "# Check if the playlist has songs\n",
    "if my_playlist:\n",
    "    print(\"Playlist is not empty!\")  # This will print because len(my_playlist) > 0\n",
    "else:\n",
    "    print(\"Playlist is empty.\")"
   ]
  },
  {
   "cell_type": "markdown",
   "id": "785f0934",
   "metadata": {},
   "source": [
    "**Q53.** Create a class that supports indexing using `__getitem__()`."
   ]
  },
  {
   "cell_type": "code",
   "execution_count": 1115,
   "id": "e7d33dfd",
   "metadata": {},
   "outputs": [
    {
     "name": "stdout",
     "output_type": "stream",
     "text": [
      "Lose Yourself\n",
      "Bohemian Rhapsody\n",
      "Blinding Lights\n"
     ]
    }
   ],
   "source": [
    "class Playlist:\n",
    "    def __init__(self, songs: list):\n",
    "        self.songs = songs\n",
    "\n",
    "    def __getitem__(self, index: int):\n",
    "        # Return the song at the specified index\n",
    "        return self.songs[index]\n",
    "\n",
    "# Example usage\n",
    "my_playlist = Playlist([\"Lose Yourself\", \"Bohemian Rhapsody\", \"Blinding Lights\"])\n",
    "\n",
    "print(my_playlist[0])  # Output: Lose Yourself\n",
    "print(my_playlist[1])  # Output: Bohemian Rhapsody\n",
    "print(my_playlist[2])  # Output: Blinding Lights"
   ]
  },
  {
   "cell_type": "markdown",
   "id": "1fa9da79",
   "metadata": {},
   "source": [
    "**Q54.** Implement `__setitem__()` to modify elements in a custom collection class."
   ]
  },
  {
   "cell_type": "code",
   "execution_count": 1116,
   "id": "625e595c",
   "metadata": {},
   "outputs": [
    {
     "name": "stdout",
     "output_type": "stream",
     "text": [
      "Stairway to Heaven\n",
      "['Lose Yourself', 'Stairway to Heaven', 'Blinding Lights']\n"
     ]
    }
   ],
   "source": [
    "class Playlist:\n",
    "    def __init__(self, songs: list):\n",
    "        self.songs = songs\n",
    "\n",
    "    def __getitem__(self, index: int):\n",
    "        return self.songs[index]\n",
    "\n",
    "    def __setitem__(self, index: int, value: str):\n",
    "        # Modify the song at the specified index\n",
    "        self.songs[index] = value\n",
    "\n",
    "# Example usage\n",
    "my_playlist = Playlist([\"Lose Yourself\", \"Bohemian Rhapsody\", \"Blinding Lights\"])\n",
    "\n",
    "# Modify an element at a specific index\n",
    "my_playlist[1] = \"Stairway to Heaven\"  # Changes 'Bohemian Rhapsody' to 'Stairway to Heaven'\n",
    "\n",
    "# Print the modified playlist\n",
    "print(my_playlist[1])  # Output: Stairway to Heaven\n",
    "print(my_playlist.songs)  # Output: ['Lose Yourself', 'Stairway to Heaven', 'Blinding Lights']"
   ]
  },
  {
   "cell_type": "markdown",
   "id": "b17fb207",
   "metadata": {},
   "source": [
    "**Q55.** Demonstrate `__call__()` by making an object callable."
   ]
  },
  {
   "cell_type": "code",
   "execution_count": 1117,
   "id": "fbfd57f7",
   "metadata": {},
   "outputs": [
    {
     "name": "stdout",
     "output_type": "stream",
     "text": [
      "Hello, GiGi!\n"
     ]
    }
   ],
   "source": [
    "class Greeter:\n",
    "    def __init__(self, name: str):\n",
    "        self.name = name\n",
    "\n",
    "    def __call__(self):\n",
    "        print(f\"Hello, {self.name}!\")\n",
    "\n",
    "# Example usage\n",
    "greet = Greeter(\"GiGi\")\n",
    "greet()  # Output: Hello, GiGi!"
   ]
  },
  {
   "cell_type": "markdown",
   "id": "d0b10e8a",
   "metadata": {},
   "source": [
    "**Q56.** Overload comparison operators (`==, >, <, >=, <=, !=`)."
   ]
  },
  {
   "cell_type": "code",
   "execution_count": 1118,
   "id": "05d103ca",
   "metadata": {},
   "outputs": [
    {
     "name": "stdout",
     "output_type": "stream",
     "text": [
      "True\n",
      "True\n",
      "True\n",
      "True\n",
      "True\n",
      "True\n"
     ]
    }
   ],
   "source": [
    "class Box:\n",
    "    def __init__(self, length: int, width: int):\n",
    "        self.length = length\n",
    "        self.width = width\n",
    "\n",
    "    def __eq__(self, other):\n",
    "        return self.length == other.length and self.width == other.width\n",
    "\n",
    "    def __ne__(self, other):\n",
    "        return not self.__eq__(other)\n",
    "\n",
    "    def __lt__(self, other):\n",
    "        return self.area() < other.area()\n",
    "\n",
    "    def __le__(self, other):\n",
    "        return self.area() <= other.area()\n",
    "\n",
    "    def __gt__(self, other):\n",
    "        return self.area() > other.area()\n",
    "\n",
    "    def __ge__(self, other):\n",
    "        return self.area() >= other.area()\n",
    "\n",
    "    def area(self):\n",
    "        return self.length * self.width\n",
    "\n",
    "# Example usage\n",
    "box1 = Box(5, 3)\n",
    "box2 = Box(5, 3)\n",
    "box3 = Box(6, 4)\n",
    "\n",
    "# Comparison operations\n",
    "print(box1 == box2)  # True\n",
    "print(box1 != box3)  # True\n",
    "print(box1 < box3)   # True\n",
    "print(box1 <= box2)  # True\n",
    "print(box3 > box2)   # True\n",
    "print(box3 >= box1)  # True"
   ]
  },
  {
   "cell_type": "markdown",
   "id": "dca91355",
   "metadata": {},
   "source": [
    "**Q57.** Implement `__iter__()` and `__next__()` for an iterable class."
   ]
  },
  {
   "cell_type": "code",
   "execution_count": 1119,
   "id": "297ff296",
   "metadata": {},
   "outputs": [
    {
     "name": "stdout",
     "output_type": "stream",
     "text": [
      "n\n",
      "o\n",
      "h\n",
      "t\n",
      "y\n",
      "P\n"
     ]
    }
   ],
   "source": [
    "class Reverse:\n",
    "    def __init__(self, data: str):\n",
    "        self.data = data\n",
    "        self.index = len(data)   # Start from the last index\n",
    "\n",
    "    def __iter__(self):\n",
    "        return self  # The object itself is the iterator\n",
    "\n",
    "    def __next__(self):\n",
    "        if self.index == 0:\n",
    "            raise StopIteration  # No more elements to iterate\n",
    "        self.index = self.index -1\n",
    "        return self.data[self.index]\n",
    "\n",
    "# Example usage\n",
    "rev = Reverse(\"Python\")\n",
    "\n",
    "for char in rev:\n",
    "    print(char)"
   ]
  },
  {
   "cell_type": "markdown",
   "id": "0e51a6fc",
   "metadata": {},
   "source": [
    "**Q58.** Overload `__del__()` to handle object deletion."
   ]
  },
  {
   "cell_type": "code",
   "execution_count": 1120,
   "id": "d07dff69",
   "metadata": {},
   "outputs": [
    {
     "name": "stdout",
     "output_type": "stream",
     "text": [
      "Object Object1 is created.\n",
      "Object Object2 is created.\n",
      "Object Object1 is deleted.\n",
      "Object Object2 is deleted.\n"
     ]
    }
   ],
   "source": [
    "class MyClass:\n",
    "    def __init__(self, name: str):\n",
    "        self.name = name\n",
    "        print(f\"Object {self.name} is created.\")\n",
    "\n",
    "    def __del__(self):\n",
    "        print(f\"Object {self.name} is deleted.\")\n",
    "    \n",
    "# Example usage\n",
    "obj1 = MyClass(\"Object1\")\n",
    "obj2 = MyClass(\"Object2\")\n",
    "\n",
    "# Deleting the objects explicitly\n",
    "del obj1\n",
    "del obj2"
   ]
  },
  {
   "cell_type": "markdown",
   "id": "0adbd122",
   "metadata": {},
   "source": [
    "**Q59.** Implement a custom context manager using `__enter__()` and `__exit__()`."
   ]
  },
  {
   "cell_type": "code",
   "execution_count": 1121,
   "id": "77bf1c21",
   "metadata": {},
   "outputs": [
    {
     "name": "stdout",
     "output_type": "stream",
     "text": [
      "Opening file...\n",
      "Closing file...\n"
     ]
    }
   ],
   "source": [
    "class FileManager:\n",
    "    def __init__(self, filename, mode):\n",
    "        self.filename = filename      # File name to be opened\n",
    "        self.mode = mode              # Mode: 'r', 'w', 'a', etc.\n",
    "        self.file = None              # Will hold the file object\n",
    "\n",
    "    def __enter__(self):\n",
    "        print(\"Opening file...\")\n",
    "        self.file = open(self.filename, self.mode)  # Open the file\n",
    "        return self.file                             # Return the file object to use in 'with'\n",
    "\n",
    "    def __exit__(self, exc_type, exc_val, exc_tb):\n",
    "        print(\"Closing file...\")\n",
    "        if self.file:\n",
    "            self.file.close()  # Make sure the file is closed, even if error occurs\n",
    "            \n",
    "            \n",
    "            \n",
    "with FileManager(\"example.txt\", \"w\") as f:\n",
    "    f.write(\"Hello, GiGi Molki!\")  # Your signature charm!\n"
   ]
  },
  {
   "cell_type": "markdown",
   "id": "44076deb",
   "metadata": {},
   "source": [
    "**Q60.** Overload the `__add__()` operator for a numeric class."
   ]
  },
  {
   "cell_type": "code",
   "execution_count": 1122,
   "id": "3fb32b42",
   "metadata": {},
   "outputs": [
    {
     "name": "stdout",
     "output_type": "stream",
     "text": [
      "Number(30)\n"
     ]
    }
   ],
   "source": [
    "class Number:\n",
    "    def __init__(self, value):\n",
    "        self.value = value\n",
    "\n",
    "    def __add__(self, other):\n",
    "        if isinstance(other, Number):\n",
    "            return Number(self.value + other.value)\n",
    "        return NotImplemented\n",
    "\n",
    "    def __repr__(self):\n",
    "        return f\"Number({self.value})\"\n",
    "    \n",
    "    \n",
    "    \n",
    "a = Number(10)\n",
    "b = Number(20)\n",
    "result = a + b\n",
    "\n",
    "print(result) "
   ]
  },
  {
   "cell_type": "markdown",
   "id": "c5801467",
   "metadata": {},
   "source": [
    "## Class Relationships"
   ]
  },
  {
   "cell_type": "markdown",
   "id": "77fd66d5",
   "metadata": {},
   "source": [
    "**Q61.** Implement association between two classes (`Student` and `Course`)."
   ]
  },
  {
   "cell_type": "code",
   "execution_count": null,
   "id": "b2721c42",
   "metadata": {},
   "outputs": [],
   "source": []
  },
  {
   "cell_type": "markdown",
   "id": "d912c311",
   "metadata": {},
   "source": [
    "**Q62.** Demonstrate aggregation with a `Library` and `Book` class."
   ]
  },
  {
   "cell_type": "code",
   "execution_count": null,
   "id": "38290902",
   "metadata": {},
   "outputs": [],
   "source": []
  },
  {
   "cell_type": "markdown",
   "id": "23a9d042",
   "metadata": {},
   "source": [
    "**Q63.** Implement composition in a `Car` and `Engine` class."
   ]
  },
  {
   "cell_type": "code",
   "execution_count": null,
   "id": "7be5a405",
   "metadata": {},
   "outputs": [],
   "source": []
  },
  {
   "cell_type": "markdown",
   "id": "af3a6b31",
   "metadata": {},
   "source": [
    "**Q64.** Show how to use one object inside another class."
   ]
  },
  {
   "cell_type": "code",
   "execution_count": null,
   "id": "c1d680d9",
   "metadata": {},
   "outputs": [],
   "source": []
  },
  {
   "cell_type": "markdown",
   "id": "b5a5fb66",
   "metadata": {},
   "source": [
    "**Q65.** Demonstrate loose coupling between two classes."
   ]
  },
  {
   "cell_type": "code",
   "execution_count": null,
   "id": "46238ee0",
   "metadata": {},
   "outputs": [],
   "source": []
  },
  {
   "cell_type": "markdown",
   "id": "212a40d5",
   "metadata": {},
   "source": [
    "**Q66.** Implement a relationship where one object affects another."
   ]
  },
  {
   "cell_type": "code",
   "execution_count": null,
   "id": "a79eceb9",
   "metadata": {},
   "outputs": [],
   "source": []
  },
  {
   "cell_type": "markdown",
   "id": "27c108b0",
   "metadata": {},
   "source": [
    "**Q67.** Use class relationships to model a real-world scenario."
   ]
  },
  {
   "cell_type": "code",
   "execution_count": null,
   "id": "058c14c0",
   "metadata": {},
   "outputs": [],
   "source": []
  },
  {
   "cell_type": "markdown",
   "id": "6cf2f257",
   "metadata": {},
   "source": [
    "**Q68.** Demonstrate the difference between association and composition."
   ]
  },
  {
   "cell_type": "code",
   "execution_count": null,
   "id": "ebdce5d0",
   "metadata": {},
   "outputs": [],
   "source": []
  },
  {
   "cell_type": "markdown",
   "id": "78c0a41e",
   "metadata": {},
   "source": [
    "**Q69.** Implement a class where one class creates and uses another class object."
   ]
  },
  {
   "cell_type": "code",
   "execution_count": null,
   "id": "d0d9d457",
   "metadata": {},
   "outputs": [],
   "source": []
  },
  {
   "cell_type": "markdown",
   "id": "128725a2",
   "metadata": {},
   "source": [
    "**Q70.** Write a program where multiple objects interact using class relationships."
   ]
  },
  {
   "cell_type": "code",
   "execution_count": null,
   "id": "fb1755f2",
   "metadata": {},
   "outputs": [],
   "source": []
  },
  {
   "cell_type": "markdown",
   "id": "c2642045",
   "metadata": {},
   "source": [
    "## Metaclasses & Advanced OOP"
   ]
  },
  {
   "cell_type": "markdown",
   "id": "de3594b1",
   "metadata": {},
   "source": [
    "**Q71.** Create a custom metaclass in Python."
   ]
  },
  {
   "cell_type": "code",
   "execution_count": null,
   "id": "f34c03f2",
   "metadata": {},
   "outputs": [],
   "source": []
  },
  {
   "cell_type": "markdown",
   "id": "c81a2e97",
   "metadata": {},
   "source": [
    "**Q72.** Modify class attributes dynamically using a metaclass."
   ]
  },
  {
   "cell_type": "code",
   "execution_count": null,
   "id": "04a04c7a",
   "metadata": {},
   "outputs": [],
   "source": []
  },
  {
   "cell_type": "markdown",
   "id": "db965653",
   "metadata": {},
   "source": [
    "**Q73.** Use `type()` to create a class dynamically."
   ]
  },
  {
   "cell_type": "code",
   "execution_count": null,
   "id": "c13fa851",
   "metadata": {},
   "outputs": [],
   "source": []
  },
  {
   "cell_type": "markdown",
   "id": "24fd85d1",
   "metadata": {},
   "source": [
    "**Q74.** Implement a singleton pattern using metaclasses."
   ]
  },
  {
   "cell_type": "code",
   "execution_count": null,
   "id": "a0c56bd1",
   "metadata": {},
   "outputs": [],
   "source": []
  },
  {
   "cell_type": "markdown",
   "id": "e24408d2",
   "metadata": {},
   "source": [
    "**Q75.** Modify the behavior of a class using metaclasses."
   ]
  },
  {
   "cell_type": "code",
   "execution_count": null,
   "id": "575ac9d9",
   "metadata": {},
   "outputs": [],
   "source": []
  },
  {
   "cell_type": "markdown",
   "id": "fc93da5b",
   "metadata": {},
   "source": [
    "**Q76.** Create a class whose attributes cannot be modified after initialization."
   ]
  },
  {
   "cell_type": "code",
   "execution_count": null,
   "id": "1784c390",
   "metadata": {},
   "outputs": [],
   "source": []
  },
  {
   "cell_type": "markdown",
   "id": "51946b20",
   "metadata": {},
   "source": [
    "**Q77.** Use metaclasses to enforce naming conventions."
   ]
  },
  {
   "cell_type": "code",
   "execution_count": null,
   "id": "98b25780",
   "metadata": {},
   "outputs": [],
   "source": []
  },
  {
   "cell_type": "markdown",
   "id": "3c0602e7",
   "metadata": {},
   "source": [
    "**Q78.** Implement a program where metaclasses restrict method names."
   ]
  },
  {
   "cell_type": "code",
   "execution_count": null,
   "id": "64abcba3",
   "metadata": {},
   "outputs": [],
   "source": []
  },
  {
   "cell_type": "markdown",
   "id": "ab194c09",
   "metadata": {},
   "source": [
    "**Q79.** Demonstrate how metaclasses work behind the scenes."
   ]
  },
  {
   "cell_type": "code",
   "execution_count": null,
   "id": "fb8414cb",
   "metadata": {},
   "outputs": [],
   "source": []
  },
  {
   "cell_type": "markdown",
   "id": "369741c2",
   "metadata": {},
   "source": [
    "**Q80.** Create a metaclass that validates class attributes."
   ]
  },
  {
   "cell_type": "code",
   "execution_count": null,
   "id": "cfee74b5",
   "metadata": {},
   "outputs": [],
   "source": []
  },
  {
   "cell_type": "markdown",
   "id": "c1081c77",
   "metadata": {},
   "source": [
    "## Design Patterns in Python"
   ]
  },
  {
   "cell_type": "markdown",
   "id": "a932501e",
   "metadata": {},
   "source": [
    "**Q81.** Implement a Singleton design pattern in Python."
   ]
  },
  {
   "cell_type": "code",
   "execution_count": null,
   "id": "f7090ae6",
   "metadata": {},
   "outputs": [],
   "source": []
  },
  {
   "cell_type": "markdown",
   "id": "e92e428a",
   "metadata": {},
   "source": [
    "**Q82.** Create a Factory Method pattern."
   ]
  },
  {
   "cell_type": "code",
   "execution_count": null,
   "id": "043f984d",
   "metadata": {},
   "outputs": [],
   "source": []
  },
  {
   "cell_type": "markdown",
   "id": "375520da",
   "metadata": {},
   "source": [
    "**Q83.** Implement the Observer pattern with OOP."
   ]
  },
  {
   "cell_type": "code",
   "execution_count": null,
   "id": "9165a4ae",
   "metadata": {},
   "outputs": [],
   "source": []
  },
  {
   "cell_type": "markdown",
   "id": "72b2d781",
   "metadata": {},
   "source": [
    "**Q84.** Write a program using the Strategy pattern."
   ]
  },
  {
   "cell_type": "code",
   "execution_count": null,
   "id": "22327797",
   "metadata": {},
   "outputs": [],
   "source": []
  },
  {
   "cell_type": "markdown",
   "id": "158e3078",
   "metadata": {},
   "source": [
    "**Q85.** Demonstrate the Adapter pattern in Python."
   ]
  },
  {
   "cell_type": "code",
   "execution_count": null,
   "id": "b57cf464",
   "metadata": {},
   "outputs": [],
   "source": []
  },
  {
   "cell_type": "markdown",
   "id": "4b763cc1",
   "metadata": {},
   "source": [
    "**Q86.** Implement the Decorator pattern using Python classes."
   ]
  },
  {
   "cell_type": "code",
   "execution_count": null,
   "id": "b7be6229",
   "metadata": {},
   "outputs": [],
   "source": []
  },
  {
   "cell_type": "markdown",
   "id": "75ff295d",
   "metadata": {},
   "source": [
    "**Q87.** Create a Proxy pattern implementation."
   ]
  },
  {
   "cell_type": "code",
   "execution_count": null,
   "id": "21f3afd8",
   "metadata": {},
   "outputs": [],
   "source": []
  },
  {
   "cell_type": "markdown",
   "id": "ec8e47a2",
   "metadata": {},
   "source": [
    "**Q88.** Use the Command pattern for executing commands."
   ]
  },
  {
   "cell_type": "code",
   "execution_count": null,
   "id": "9d7e5f82",
   "metadata": {},
   "outputs": [],
   "source": []
  },
  {
   "cell_type": "markdown",
   "id": "85d1fb2e",
   "metadata": {},
   "source": [
    "**Q89.** Implement the Facade pattern for simplifying complex operations."
   ]
  },
  {
   "cell_type": "code",
   "execution_count": null,
   "id": "407b0ea1",
   "metadata": {},
   "outputs": [],
   "source": []
  },
  {
   "cell_type": "markdown",
   "id": "393a6b18",
   "metadata": {},
   "source": [
    "**Q90.** Write a program using the Builder pattern."
   ]
  },
  {
   "cell_type": "code",
   "execution_count": null,
   "id": "d0aae4d6",
   "metadata": {},
   "outputs": [],
   "source": []
  },
  {
   "cell_type": "markdown",
   "id": "d34c50b8",
   "metadata": {},
   "source": [
    "## OOP Best Practices & Real-World Applications"
   ]
  },
  {
   "cell_type": "markdown",
   "id": "226577ca",
   "metadata": {},
   "source": [
    "**Q91.** Enforce encapsulation and avoid direct attribute access."
   ]
  },
  {
   "cell_type": "code",
   "execution_count": null,
   "id": "92687b30",
   "metadata": {},
   "outputs": [],
   "source": []
  },
  {
   "cell_type": "markdown",
   "id": "1e4d2585",
   "metadata": {},
   "source": [
    "**Q92.** Implement an event-driven system using OOP."
   ]
  },
  {
   "cell_type": "code",
   "execution_count": null,
   "id": "c9d9fae7",
   "metadata": {},
   "outputs": [],
   "source": []
  },
  {
   "cell_type": "markdown",
   "id": "62f04e6b",
   "metadata": {},
   "source": [
    "**Q93.** Write a Python script for managing a simple ATM system using OOP."
   ]
  },
  {
   "cell_type": "code",
   "execution_count": null,
   "id": "dfe0be90",
   "metadata": {},
   "outputs": [],
   "source": []
  },
  {
   "cell_type": "markdown",
   "id": "44a28957",
   "metadata": {},
   "source": [
    "**Q94.** Model a real-world scenario using multiple OOP concepts."
   ]
  },
  {
   "cell_type": "code",
   "execution_count": null,
   "id": "48cf20b5",
   "metadata": {},
   "outputs": [],
   "source": []
  },
  {
   "cell_type": "markdown",
   "id": "afca1bda",
   "metadata": {},
   "source": [
    "**Q95.** Design a logging system using OOP principles."
   ]
  },
  {
   "cell_type": "code",
   "execution_count": null,
   "id": "00b8b639",
   "metadata": {},
   "outputs": [],
   "source": []
  },
  {
   "cell_type": "markdown",
   "id": "56881ad4",
   "metadata": {},
   "source": [
    "**Q96.** Implement user authentication using OOP."
   ]
  },
  {
   "cell_type": "code",
   "execution_count": null,
   "id": "ef0db9fe",
   "metadata": {},
   "outputs": [],
   "source": []
  },
  {
   "cell_type": "markdown",
   "id": "acfacea6",
   "metadata": {},
   "source": [
    "**Q97.** Create a chatbot structure using OOP."
   ]
  },
  {
   "cell_type": "code",
   "execution_count": null,
   "id": "23571af1",
   "metadata": {},
   "outputs": [],
   "source": []
  },
  {
   "cell_type": "markdown",
   "id": "2abad7e6",
   "metadata": {},
   "source": [
    "**Q98.** Build an inventory management system with OOP."
   ]
  },
  {
   "cell_type": "code",
   "execution_count": null,
   "id": "eb3934d6",
   "metadata": {},
   "outputs": [],
   "source": []
  },
  {
   "cell_type": "markdown",
   "id": "ca763344",
   "metadata": {},
   "source": [
    "**Q99.** Develop a basic game using OOP principles."
   ]
  },
  {
   "cell_type": "code",
   "execution_count": null,
   "id": "082e9257",
   "metadata": {},
   "outputs": [],
   "source": []
  },
  {
   "cell_type": "markdown",
   "id": "bd4711a8",
   "metadata": {},
   "source": [
    "**Q100.** Implement OOP for a simple stock trading bot."
   ]
  },
  {
   "cell_type": "code",
   "execution_count": null,
   "id": "36c0caac",
   "metadata": {},
   "outputs": [],
   "source": []
  }
 ],
 "metadata": {
  "kernelspec": {
   "display_name": "Python 3",
   "language": "python",
   "name": "python3"
  },
  "language_info": {
   "codemirror_mode": {
    "name": "ipython",
    "version": 3
   },
   "file_extension": ".py",
   "mimetype": "text/x-python",
   "name": "python",
   "nbconvert_exporter": "python",
   "pygments_lexer": "ipython3",
   "version": "3.13.1"
  }
 },
 "nbformat": 4,
 "nbformat_minor": 5
}
