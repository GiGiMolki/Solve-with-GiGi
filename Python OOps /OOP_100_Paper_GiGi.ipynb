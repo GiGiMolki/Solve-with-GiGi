{
 "cells": [
  {
   "cell_type": "markdown",
   "id": "fc2acd24",
   "metadata": {},
   "source": [
    "# 100 OOP Questions | GiGi Molki\n"
   ]
  },
  {
   "cell_type": "markdown",
   "id": "494000f1",
   "metadata": {},
   "source": [
    "## Basics of OOP"
   ]
  },
  {
   "cell_type": "markdown",
   "id": "3a3fd2ce",
   "metadata": {},
   "source": [
    "**Q1.** Define a class `Person` with attributes `name` and `age`. Create an object and print the attributes."
   ]
  },
  {
   "cell_type": "code",
   "execution_count": null,
   "id": "21e56fa7",
   "metadata": {},
   "outputs": [],
   "source": [
    "\n",
    "    "
   ]
  },
  {
   "cell_type": "markdown",
   "id": "009cc82c",
   "metadata": {},
   "source": [
    "**Q2.** Create a `Car` class with `brand` and `model`, and a method to display them."
   ]
  },
  {
   "cell_type": "code",
   "execution_count": null,
   "id": "f61b0e6e",
   "metadata": {},
   "outputs": [],
   "source": []
  },
  {
   "cell_type": "markdown",
   "id": "e783ac89",
   "metadata": {},
   "source": [
    "**Q3.** Implement a class `Student` with a method `greet()` that prints `'Hello, Student!'`."
   ]
  },
  {
   "cell_type": "code",
   "execution_count": null,
   "id": "d6f31ade",
   "metadata": {},
   "outputs": [],
   "source": []
  },
  {
   "cell_type": "markdown",
   "id": "08880bda",
   "metadata": {},
   "source": [
    "**Q4.** Create a class with a constructor (`__init__`) that initializes an attribute."
   ]
  },
  {
   "cell_type": "code",
   "execution_count": null,
   "id": "ce8da369",
   "metadata": {},
   "outputs": [],
   "source": []
  },
  {
   "cell_type": "markdown",
   "id": "0a9516ca",
   "metadata": {},
   "source": [
    "**Q5.** Create multiple objects from the same class and compare them."
   ]
  },
  {
   "cell_type": "code",
   "execution_count": null,
   "id": "26e6d6db",
   "metadata": {},
   "outputs": [],
   "source": []
  },
  {
   "cell_type": "markdown",
   "id": "4f3c77c4",
   "metadata": {},
   "source": [
    "**Q6.** Write a program to count the number of objects created from a class."
   ]
  },
  {
   "cell_type": "code",
   "execution_count": null,
   "id": "1d12b377",
   "metadata": {},
   "outputs": [],
   "source": []
  },
  {
   "cell_type": "markdown",
   "id": "6a8804a0",
   "metadata": {},
   "source": [
    "**Q7.** Create a `BankAccount` class with `deposit()` and `withdraw()` methods."
   ]
  },
  {
   "cell_type": "code",
   "execution_count": null,
   "id": "5e43fc72",
   "metadata": {},
   "outputs": [],
   "source": []
  },
  {
   "cell_type": "markdown",
   "id": "a2baf8b5",
   "metadata": {},
   "source": [
    "**Q8.** Implement a `Rectangle` class with methods to calculate area and perimeter."
   ]
  },
  {
   "cell_type": "code",
   "execution_count": null,
   "id": "29d97a37",
   "metadata": {},
   "outputs": [],
   "source": []
  },
  {
   "cell_type": "markdown",
   "id": "d2e728d6",
   "metadata": {},
   "source": [
    "**Q9.** Create a class with both instance variables and class variables."
   ]
  },
  {
   "cell_type": "code",
   "execution_count": null,
   "id": "56b514fe",
   "metadata": {},
   "outputs": [],
   "source": []
  },
  {
   "cell_type": "markdown",
   "id": "8578b235",
   "metadata": {},
   "source": [
    "**Q10.** Write a program to check whether an object is an instance of a given class."
   ]
  },
  {
   "cell_type": "code",
   "execution_count": null,
   "id": "2639b03f",
   "metadata": {},
   "outputs": [],
   "source": []
  },
  {
   "cell_type": "markdown",
   "id": "aa7d8e16",
   "metadata": {},
   "source": [
    "## Encapsulation"
   ]
  },
  {
   "cell_type": "markdown",
   "id": "94a5ed41",
   "metadata": {},
   "source": [
    "**Q11.** Create a class `Employee` with a private attribute `salary` and a method to access it."
   ]
  },
  {
   "cell_type": "code",
   "execution_count": null,
   "id": "fc208707",
   "metadata": {},
   "outputs": [],
   "source": []
  },
  {
   "cell_type": "markdown",
   "id": "5f8fc195",
   "metadata": {},
   "source": [
    "**Q12.** Implement getters and setters for a `Temperature` class."
   ]
  },
  {
   "cell_type": "code",
   "execution_count": null,
   "id": "c50f906c",
   "metadata": {},
   "outputs": [],
   "source": []
  },
  {
   "cell_type": "markdown",
   "id": "1b9724fd",
   "metadata": {},
   "source": [
    "**Q13.** Use the `@property` decorator to make an attribute read-only."
   ]
  },
  {
   "cell_type": "code",
   "execution_count": null,
   "id": "5ec94679",
   "metadata": {},
   "outputs": [],
   "source": []
  },
  {
   "cell_type": "markdown",
   "id": "b1898f42",
   "metadata": {},
   "source": [
    "**Q14.** Modify a private attribute using a method."
   ]
  },
  {
   "cell_type": "code",
   "execution_count": null,
   "id": "81011ef3",
   "metadata": {},
   "outputs": [],
   "source": []
  },
  {
   "cell_type": "markdown",
   "id": "fd24fe9c",
   "metadata": {},
   "source": [
    "**Q15.** Create a `User` class with a password attribute that cannot be accessed directly."
   ]
  },
  {
   "cell_type": "code",
   "execution_count": null,
   "id": "b14f6cf9",
   "metadata": {},
   "outputs": [],
   "source": []
  },
  {
   "cell_type": "markdown",
   "id": "d4d1cdf7",
   "metadata": {},
   "source": [
    "**Q16.** Implement a class with both public and private attributes."
   ]
  },
  {
   "cell_type": "code",
   "execution_count": null,
   "id": "bf4f0bbf",
   "metadata": {},
   "outputs": [],
   "source": []
  },
  {
   "cell_type": "markdown",
   "id": "3ba29d2a",
   "metadata": {},
   "source": [
    "**Q17.** Demonstrate how to access a private variable using name mangling."
   ]
  },
  {
   "cell_type": "code",
   "execution_count": null,
   "id": "f1f0b5b8",
   "metadata": {},
   "outputs": [],
   "source": []
  },
  {
   "cell_type": "markdown",
   "id": "571e0bef",
   "metadata": {},
   "source": [
    "**Q18.** Create a method that prevents attribute modification after object creation."
   ]
  },
  {
   "cell_type": "code",
   "execution_count": null,
   "id": "9442194a",
   "metadata": {},
   "outputs": [],
   "source": []
  },
  {
   "cell_type": "markdown",
   "id": "efbdfd5f",
   "metadata": {},
   "source": [
    "**Q19.** Implement a class where data members are modified only through a function."
   ]
  },
  {
   "cell_type": "code",
   "execution_count": null,
   "id": "42352490",
   "metadata": {},
   "outputs": [],
   "source": []
  },
  {
   "cell_type": "markdown",
   "id": "9b008f89",
   "metadata": {},
   "source": [
    "**Q20.** Write a program to enforce type safety on instance attributes."
   ]
  },
  {
   "cell_type": "code",
   "execution_count": null,
   "id": "03904c0d",
   "metadata": {},
   "outputs": [],
   "source": []
  },
  {
   "cell_type": "markdown",
   "id": "545b4277",
   "metadata": {},
   "source": [
    "## Inheritance"
   ]
  },
  {
   "cell_type": "markdown",
   "id": "ed355da1",
   "metadata": {},
   "source": [
    "**Q21.** Create a `Vehicle` class and inherit it in `Car` and `Bike` classes."
   ]
  },
  {
   "cell_type": "code",
   "execution_count": null,
   "id": "455a04c6",
   "metadata": {},
   "outputs": [],
   "source": []
  },
  {
   "cell_type": "markdown",
   "id": "5c6b89ef",
   "metadata": {},
   "source": [
    "**Q22.** Demonstrate single inheritance with a real-life example."
   ]
  },
  {
   "cell_type": "code",
   "execution_count": null,
   "id": "ebc3811a",
   "metadata": {},
   "outputs": [],
   "source": []
  },
  {
   "cell_type": "markdown",
   "id": "74a32b15",
   "metadata": {},
   "source": [
    "**Q23.** Implement multi-level inheritance in Python."
   ]
  },
  {
   "cell_type": "code",
   "execution_count": null,
   "id": "2771adfd",
   "metadata": {},
   "outputs": [],
   "source": []
  },
  {
   "cell_type": "markdown",
   "id": "ab9b8e8a",
   "metadata": {},
   "source": [
    "**Q24.** Show an example of hierarchical inheritance."
   ]
  },
  {
   "cell_type": "code",
   "execution_count": null,
   "id": "8a3c1735",
   "metadata": {},
   "outputs": [],
   "source": []
  },
  {
   "cell_type": "markdown",
   "id": "e34cb230",
   "metadata": {},
   "source": [
    "**Q25.** Implement multiple inheritance and resolve conflicts using `super()`."
   ]
  },
  {
   "cell_type": "code",
   "execution_count": null,
   "id": "f82337bd",
   "metadata": {},
   "outputs": [],
   "source": []
  },
  {
   "cell_type": "markdown",
   "id": "0a57f358",
   "metadata": {},
   "source": [
    "**Q26.** Create a base class with a method and override it in the subclass."
   ]
  },
  {
   "cell_type": "code",
   "execution_count": null,
   "id": "df061ee5",
   "metadata": {},
   "outputs": [],
   "source": []
  },
  {
   "cell_type": "markdown",
   "id": "ac91d58d",
   "metadata": {},
   "source": [
    "**Q27.** Demonstrate the use of `super()` in inheritance."
   ]
  },
  {
   "cell_type": "code",
   "execution_count": null,
   "id": "8d5a1a55",
   "metadata": {},
   "outputs": [],
   "source": []
  },
  {
   "cell_type": "markdown",
   "id": "b9457211",
   "metadata": {},
   "source": [
    "**Q28.** Implement a constructor in a base class and call it from a subclass."
   ]
  },
  {
   "cell_type": "code",
   "execution_count": null,
   "id": "e38f8d09",
   "metadata": {},
   "outputs": [],
   "source": []
  },
  {
   "cell_type": "markdown",
   "id": "628c7682",
   "metadata": {},
   "source": [
    "**Q29.** Show method resolution order (MRO) in multiple inheritance."
   ]
  },
  {
   "cell_type": "code",
   "execution_count": null,
   "id": "5b86864d",
   "metadata": {},
   "outputs": [],
   "source": []
  },
  {
   "cell_type": "markdown",
   "id": "338381d9",
   "metadata": {},
   "source": [
    "**Q30.** Implement a parent class method that must be overridden in the child class."
   ]
  },
  {
   "cell_type": "code",
   "execution_count": null,
   "id": "48976079",
   "metadata": {},
   "outputs": [],
   "source": []
  },
  {
   "cell_type": "markdown",
   "id": "ba0b9888",
   "metadata": {},
   "source": [
    "## Polymorphism"
   ]
  },
  {
   "cell_type": "markdown",
   "id": "21bd5784",
   "metadata": {},
   "source": [
    "**Q31.** Create two classes with the same method name and use polymorphism."
   ]
  },
  {
   "cell_type": "code",
   "execution_count": null,
   "id": "68497a13",
   "metadata": {},
   "outputs": [],
   "source": []
  },
  {
   "cell_type": "markdown",
   "id": "c8c8688b",
   "metadata": {},
   "source": [
    "**Q32.** Implement method overloading using default arguments."
   ]
  },
  {
   "cell_type": "code",
   "execution_count": null,
   "id": "72a6d748",
   "metadata": {},
   "outputs": [],
   "source": []
  },
  {
   "cell_type": "markdown",
   "id": "e166c1d1",
   "metadata": {},
   "source": [
    "**Q33.** Create a class and overload the `+` operator for custom behavior."
   ]
  },
  {
   "cell_type": "code",
   "execution_count": null,
   "id": "ff11b35d",
   "metadata": {},
   "outputs": [],
   "source": []
  },
  {
   "cell_type": "markdown",
   "id": "da824aa3",
   "metadata": {},
   "source": [
    "**Q34.** Demonstrate method overriding using inheritance."
   ]
  },
  {
   "cell_type": "code",
   "execution_count": null,
   "id": "2a7ca5a3",
   "metadata": {},
   "outputs": [],
   "source": []
  },
  {
   "cell_type": "markdown",
   "id": "92b0066b",
   "metadata": {},
   "source": [
    "**Q35.** Implement polymorphism using abstract classes."
   ]
  },
  {
   "cell_type": "code",
   "execution_count": null,
   "id": "d32fe851",
   "metadata": {},
   "outputs": [],
   "source": []
  },
  {
   "cell_type": "markdown",
   "id": "67a8e3a3",
   "metadata": {},
   "source": [
    "**Q36.** Overload the `*` operator for a class to repeat a string."
   ]
  },
  {
   "cell_type": "code",
   "execution_count": null,
   "id": "c7d9fb2b",
   "metadata": {},
   "outputs": [],
   "source": []
  },
  {
   "cell_type": "markdown",
   "id": "7e153cb0",
   "metadata": {},
   "source": [
    "**Q37.** Implement polymorphism with a function that can take different objects."
   ]
  },
  {
   "cell_type": "code",
   "execution_count": null,
   "id": "7ac54297",
   "metadata": {},
   "outputs": [],
   "source": []
  },
  {
   "cell_type": "markdown",
   "id": "6b52d67d",
   "metadata": {},
   "source": [
    "**Q38.** Demonstrate `isinstance()` and `issubclass()` for polymorphism."
   ]
  },
  {
   "cell_type": "code",
   "execution_count": null,
   "id": "05b403f2",
   "metadata": {},
   "outputs": [],
   "source": []
  },
  {
   "cell_type": "markdown",
   "id": "1c87768a",
   "metadata": {},
   "source": [
    "**Q39.** Create a `Shape` class and implement `area()` method in different subclasses."
   ]
  },
  {
   "cell_type": "code",
   "execution_count": null,
   "id": "9ec00f44",
   "metadata": {},
   "outputs": [],
   "source": []
  },
  {
   "cell_type": "markdown",
   "id": "33e6908b",
   "metadata": {},
   "source": [
    "**Q40.** Use duck typing to call the same method on different objects."
   ]
  },
  {
   "cell_type": "code",
   "execution_count": null,
   "id": "95818659",
   "metadata": {},
   "outputs": [],
   "source": []
  },
  {
   "cell_type": "markdown",
   "id": "9eab1bfb",
   "metadata": {},
   "source": [
    "## Abstraction"
   ]
  },
  {
   "cell_type": "markdown",
   "id": "26b0f04b",
   "metadata": {},
   "source": [
    "**Q41.** Create an abstract class `Animal` with an abstract method `make_sound()`."
   ]
  },
  {
   "cell_type": "code",
   "execution_count": null,
   "id": "7cadcd4f",
   "metadata": {},
   "outputs": [],
   "source": []
  },
  {
   "cell_type": "markdown",
   "id": "2bdd8fec",
   "metadata": {},
   "source": [
    "**Q42.** Implement an abstract class and define its abstract method in a subclass."
   ]
  },
  {
   "cell_type": "code",
   "execution_count": null,
   "id": "b3a03318",
   "metadata": {},
   "outputs": [],
   "source": []
  },
  {
   "cell_type": "markdown",
   "id": "1b72d2de",
   "metadata": {},
   "source": [
    "**Q43.** Use the `ABC` module to enforce method implementation."
   ]
  },
  {
   "cell_type": "code",
   "execution_count": null,
   "id": "66cbcc7e",
   "metadata": {},
   "outputs": [],
   "source": []
  },
  {
   "cell_type": "markdown",
   "id": "efc5b985",
   "metadata": {},
   "source": [
    "**Q44.** Write a program where a subclass must implement multiple abstract methods."
   ]
  },
  {
   "cell_type": "code",
   "execution_count": null,
   "id": "5b221f8d",
   "metadata": {},
   "outputs": [],
   "source": []
  },
  {
   "cell_type": "markdown",
   "id": "eb4a75e8",
   "metadata": {},
   "source": [
    "**Q45.** Demonstrate abstraction using a real-life example (e.g., `Bank`)."
   ]
  },
  {
   "cell_type": "code",
   "execution_count": null,
   "id": "99930b8f",
   "metadata": {},
   "outputs": [],
   "source": []
  },
  {
   "cell_type": "markdown",
   "id": "2df72903",
   "metadata": {},
   "source": [
    "**Q46.** Create an interface using an abstract base class in Python."
   ]
  },
  {
   "cell_type": "code",
   "execution_count": null,
   "id": "58f2864e",
   "metadata": {},
   "outputs": [],
   "source": []
  },
  {
   "cell_type": "markdown",
   "id": "38650939",
   "metadata": {},
   "source": [
    "**Q47.** Implement a program where abstract methods are partially implemented in a subclass."
   ]
  },
  {
   "cell_type": "code",
   "execution_count": null,
   "id": "fe3bd13f",
   "metadata": {},
   "outputs": [],
   "source": []
  },
  {
   "cell_type": "markdown",
   "id": "c97eb9de",
   "metadata": {},
   "source": [
    "**Q48.** Use abstraction to enforce structure in a class hierarchy."
   ]
  },
  {
   "cell_type": "code",
   "execution_count": null,
   "id": "af84a595",
   "metadata": {},
   "outputs": [],
   "source": []
  },
  {
   "cell_type": "markdown",
   "id": "acfc65f2",
   "metadata": {},
   "source": [
    "**Q49.** Write a program to enforce abstraction on multiple levels of inheritance."
   ]
  },
  {
   "cell_type": "code",
   "execution_count": null,
   "id": "cd2423f6",
   "metadata": {},
   "outputs": [],
   "source": []
  },
  {
   "cell_type": "markdown",
   "id": "1c9016b3",
   "metadata": {},
   "source": [
    "**Q50.** Demonstrate an abstract method returning an object of another class."
   ]
  },
  {
   "cell_type": "code",
   "execution_count": null,
   "id": "0cfc3b18",
   "metadata": {},
   "outputs": [],
   "source": []
  },
  {
   "cell_type": "markdown",
   "id": "ebedc25a",
   "metadata": {},
   "source": [
    "## Special (Magic) Methods"
   ]
  },
  {
   "cell_type": "markdown",
   "id": "11ea3474",
   "metadata": {},
   "source": [
    "**Q51.** Implement `__str__()` and `__repr__()` for a class."
   ]
  },
  {
   "cell_type": "code",
   "execution_count": null,
   "id": "03a40271",
   "metadata": {},
   "outputs": [],
   "source": []
  },
  {
   "cell_type": "markdown",
   "id": "44651f71",
   "metadata": {},
   "source": [
    "**Q52.** Overload the `__len__()` method for a custom class."
   ]
  },
  {
   "cell_type": "code",
   "execution_count": null,
   "id": "0e1ae076",
   "metadata": {},
   "outputs": [],
   "source": []
  },
  {
   "cell_type": "markdown",
   "id": "785f0934",
   "metadata": {},
   "source": [
    "**Q53.** Create a class that supports indexing using `__getitem__()`."
   ]
  },
  {
   "cell_type": "code",
   "execution_count": null,
   "id": "e7d33dfd",
   "metadata": {},
   "outputs": [],
   "source": []
  },
  {
   "cell_type": "markdown",
   "id": "1fa9da79",
   "metadata": {},
   "source": [
    "**Q54.** Implement `__setitem__()` to modify elements in a custom collection class."
   ]
  },
  {
   "cell_type": "code",
   "execution_count": null,
   "id": "625e595c",
   "metadata": {},
   "outputs": [],
   "source": []
  },
  {
   "cell_type": "markdown",
   "id": "b17fb207",
   "metadata": {},
   "source": [
    "**Q55.** Demonstrate `__call__()` by making an object callable."
   ]
  },
  {
   "cell_type": "code",
   "execution_count": null,
   "id": "fbfd57f7",
   "metadata": {},
   "outputs": [],
   "source": []
  },
  {
   "cell_type": "markdown",
   "id": "d0b10e8a",
   "metadata": {},
   "source": [
    "**Q56.** Overload comparison operators (`==, >, <, >=, <=, !=`)."
   ]
  },
  {
   "cell_type": "code",
   "execution_count": null,
   "id": "05d103ca",
   "metadata": {},
   "outputs": [],
   "source": []
  },
  {
   "cell_type": "markdown",
   "id": "dca91355",
   "metadata": {},
   "source": [
    "**Q57.** Implement `__iter__()` and `__next__()` for an iterable class."
   ]
  },
  {
   "cell_type": "code",
   "execution_count": null,
   "id": "297ff296",
   "metadata": {},
   "outputs": [],
   "source": []
  },
  {
   "cell_type": "markdown",
   "id": "0e51a6fc",
   "metadata": {},
   "source": [
    "**Q58.** Overload `__del__()` to handle object deletion."
   ]
  },
  {
   "cell_type": "code",
   "execution_count": null,
   "id": "d07dff69",
   "metadata": {},
   "outputs": [],
   "source": []
  },
  {
   "cell_type": "markdown",
   "id": "0adbd122",
   "metadata": {},
   "source": [
    "**Q59.** Implement a custom context manager using `__enter__()` and `__exit__()`."
   ]
  },
  {
   "cell_type": "code",
   "execution_count": null,
   "id": "77bf1c21",
   "metadata": {},
   "outputs": [],
   "source": []
  },
  {
   "cell_type": "markdown",
   "id": "44076deb",
   "metadata": {},
   "source": [
    "**Q60.** Overload the `__add__()` operator for a numeric class."
   ]
  },
  {
   "cell_type": "code",
   "execution_count": null,
   "id": "3fb32b42",
   "metadata": {},
   "outputs": [],
   "source": []
  },
  {
   "cell_type": "markdown",
   "id": "c5801467",
   "metadata": {},
   "source": [
    "## Class Relationships"
   ]
  },
  {
   "cell_type": "markdown",
   "id": "77fd66d5",
   "metadata": {},
   "source": [
    "**Q61.** Implement association between two classes (`Student` and `Course`)."
   ]
  },
  {
   "cell_type": "code",
   "execution_count": null,
   "id": "b2721c42",
   "metadata": {},
   "outputs": [],
   "source": []
  },
  {
   "cell_type": "markdown",
   "id": "d912c311",
   "metadata": {},
   "source": [
    "**Q62.** Demonstrate aggregation with a `Library` and `Book` class."
   ]
  },
  {
   "cell_type": "code",
   "execution_count": null,
   "id": "38290902",
   "metadata": {},
   "outputs": [],
   "source": []
  },
  {
   "cell_type": "markdown",
   "id": "23a9d042",
   "metadata": {},
   "source": [
    "**Q63.** Implement composition in a `Car` and `Engine` class."
   ]
  },
  {
   "cell_type": "code",
   "execution_count": null,
   "id": "7be5a405",
   "metadata": {},
   "outputs": [],
   "source": []
  },
  {
   "cell_type": "markdown",
   "id": "af3a6b31",
   "metadata": {},
   "source": [
    "**Q64.** Show how to use one object inside another class."
   ]
  },
  {
   "cell_type": "code",
   "execution_count": null,
   "id": "c1d680d9",
   "metadata": {},
   "outputs": [],
   "source": []
  },
  {
   "cell_type": "markdown",
   "id": "b5a5fb66",
   "metadata": {},
   "source": [
    "**Q65.** Demonstrate loose coupling between two classes."
   ]
  },
  {
   "cell_type": "code",
   "execution_count": null,
   "id": "46238ee0",
   "metadata": {},
   "outputs": [],
   "source": []
  },
  {
   "cell_type": "markdown",
   "id": "212a40d5",
   "metadata": {},
   "source": [
    "**Q66.** Implement a relationship where one object affects another."
   ]
  },
  {
   "cell_type": "code",
   "execution_count": null,
   "id": "a79eceb9",
   "metadata": {},
   "outputs": [],
   "source": []
  },
  {
   "cell_type": "markdown",
   "id": "27c108b0",
   "metadata": {},
   "source": [
    "**Q67.** Use class relationships to model a real-world scenario."
   ]
  },
  {
   "cell_type": "code",
   "execution_count": null,
   "id": "058c14c0",
   "metadata": {},
   "outputs": [],
   "source": []
  },
  {
   "cell_type": "markdown",
   "id": "6cf2f257",
   "metadata": {},
   "source": [
    "**Q68.** Demonstrate the difference between association and composition."
   ]
  },
  {
   "cell_type": "code",
   "execution_count": null,
   "id": "ebdce5d0",
   "metadata": {},
   "outputs": [],
   "source": []
  },
  {
   "cell_type": "markdown",
   "id": "78c0a41e",
   "metadata": {},
   "source": [
    "**Q69.** Implement a class where one class creates and uses another class object."
   ]
  },
  {
   "cell_type": "code",
   "execution_count": null,
   "id": "d0d9d457",
   "metadata": {},
   "outputs": [],
   "source": []
  },
  {
   "cell_type": "markdown",
   "id": "128725a2",
   "metadata": {},
   "source": [
    "**Q70.** Write a program where multiple objects interact using class relationships."
   ]
  },
  {
   "cell_type": "code",
   "execution_count": null,
   "id": "fb1755f2",
   "metadata": {},
   "outputs": [],
   "source": []
  },
  {
   "cell_type": "markdown",
   "id": "c2642045",
   "metadata": {},
   "source": [
    "## Metaclasses & Advanced OOP"
   ]
  },
  {
   "cell_type": "markdown",
   "id": "de3594b1",
   "metadata": {},
   "source": [
    "**Q71.** Create a custom metaclass in Python."
   ]
  },
  {
   "cell_type": "code",
   "execution_count": null,
   "id": "f34c03f2",
   "metadata": {},
   "outputs": [],
   "source": []
  },
  {
   "cell_type": "markdown",
   "id": "c81a2e97",
   "metadata": {},
   "source": [
    "**Q72.** Modify class attributes dynamically using a metaclass."
   ]
  },
  {
   "cell_type": "code",
   "execution_count": null,
   "id": "04a04c7a",
   "metadata": {},
   "outputs": [],
   "source": []
  },
  {
   "cell_type": "markdown",
   "id": "db965653",
   "metadata": {},
   "source": [
    "**Q73.** Use `type()` to create a class dynamically."
   ]
  },
  {
   "cell_type": "code",
   "execution_count": null,
   "id": "c13fa851",
   "metadata": {},
   "outputs": [],
   "source": []
  },
  {
   "cell_type": "markdown",
   "id": "24fd85d1",
   "metadata": {},
   "source": [
    "**Q74.** Implement a singleton pattern using metaclasses."
   ]
  },
  {
   "cell_type": "code",
   "execution_count": null,
   "id": "a0c56bd1",
   "metadata": {},
   "outputs": [],
   "source": []
  },
  {
   "cell_type": "markdown",
   "id": "e24408d2",
   "metadata": {},
   "source": [
    "**Q75.** Modify the behavior of a class using metaclasses."
   ]
  },
  {
   "cell_type": "code",
   "execution_count": null,
   "id": "575ac9d9",
   "metadata": {},
   "outputs": [],
   "source": []
  },
  {
   "cell_type": "markdown",
   "id": "fc93da5b",
   "metadata": {},
   "source": [
    "**Q76.** Create a class whose attributes cannot be modified after initialization."
   ]
  },
  {
   "cell_type": "code",
   "execution_count": null,
   "id": "1784c390",
   "metadata": {},
   "outputs": [],
   "source": []
  },
  {
   "cell_type": "markdown",
   "id": "51946b20",
   "metadata": {},
   "source": [
    "**Q77.** Use metaclasses to enforce naming conventions."
   ]
  },
  {
   "cell_type": "code",
   "execution_count": null,
   "id": "98b25780",
   "metadata": {},
   "outputs": [],
   "source": []
  },
  {
   "cell_type": "markdown",
   "id": "3c0602e7",
   "metadata": {},
   "source": [
    "**Q78.** Implement a program where metaclasses restrict method names."
   ]
  },
  {
   "cell_type": "code",
   "execution_count": null,
   "id": "64abcba3",
   "metadata": {},
   "outputs": [],
   "source": []
  },
  {
   "cell_type": "markdown",
   "id": "ab194c09",
   "metadata": {},
   "source": [
    "**Q79.** Demonstrate how metaclasses work behind the scenes."
   ]
  },
  {
   "cell_type": "code",
   "execution_count": null,
   "id": "fb8414cb",
   "metadata": {},
   "outputs": [],
   "source": []
  },
  {
   "cell_type": "markdown",
   "id": "369741c2",
   "metadata": {},
   "source": [
    "**Q80.** Create a metaclass that validates class attributes."
   ]
  },
  {
   "cell_type": "code",
   "execution_count": null,
   "id": "cfee74b5",
   "metadata": {},
   "outputs": [],
   "source": []
  },
  {
   "cell_type": "markdown",
   "id": "c1081c77",
   "metadata": {},
   "source": [
    "## Design Patterns in Python"
   ]
  },
  {
   "cell_type": "markdown",
   "id": "a932501e",
   "metadata": {},
   "source": [
    "**Q81.** Implement a Singleton design pattern in Python."
   ]
  },
  {
   "cell_type": "code",
   "execution_count": null,
   "id": "f7090ae6",
   "metadata": {},
   "outputs": [],
   "source": []
  },
  {
   "cell_type": "markdown",
   "id": "e92e428a",
   "metadata": {},
   "source": [
    "**Q82.** Create a Factory Method pattern."
   ]
  },
  {
   "cell_type": "code",
   "execution_count": null,
   "id": "043f984d",
   "metadata": {},
   "outputs": [],
   "source": []
  },
  {
   "cell_type": "markdown",
   "id": "375520da",
   "metadata": {},
   "source": [
    "**Q83.** Implement the Observer pattern with OOP."
   ]
  },
  {
   "cell_type": "code",
   "execution_count": null,
   "id": "9165a4ae",
   "metadata": {},
   "outputs": [],
   "source": []
  },
  {
   "cell_type": "markdown",
   "id": "72b2d781",
   "metadata": {},
   "source": [
    "**Q84.** Write a program using the Strategy pattern."
   ]
  },
  {
   "cell_type": "code",
   "execution_count": null,
   "id": "22327797",
   "metadata": {},
   "outputs": [],
   "source": []
  },
  {
   "cell_type": "markdown",
   "id": "158e3078",
   "metadata": {},
   "source": [
    "**Q85.** Demonstrate the Adapter pattern in Python."
   ]
  },
  {
   "cell_type": "code",
   "execution_count": null,
   "id": "b57cf464",
   "metadata": {},
   "outputs": [],
   "source": []
  },
  {
   "cell_type": "markdown",
   "id": "4b763cc1",
   "metadata": {},
   "source": [
    "**Q86.** Implement the Decorator pattern using Python classes."
   ]
  },
  {
   "cell_type": "code",
   "execution_count": null,
   "id": "b7be6229",
   "metadata": {},
   "outputs": [],
   "source": []
  },
  {
   "cell_type": "markdown",
   "id": "75ff295d",
   "metadata": {},
   "source": [
    "**Q87.** Create a Proxy pattern implementation."
   ]
  },
  {
   "cell_type": "code",
   "execution_count": null,
   "id": "21f3afd8",
   "metadata": {},
   "outputs": [],
   "source": []
  },
  {
   "cell_type": "markdown",
   "id": "ec8e47a2",
   "metadata": {},
   "source": [
    "**Q88.** Use the Command pattern for executing commands."
   ]
  },
  {
   "cell_type": "code",
   "execution_count": null,
   "id": "9d7e5f82",
   "metadata": {},
   "outputs": [],
   "source": []
  },
  {
   "cell_type": "markdown",
   "id": "85d1fb2e",
   "metadata": {},
   "source": [
    "**Q89.** Implement the Facade pattern for simplifying complex operations."
   ]
  },
  {
   "cell_type": "code",
   "execution_count": null,
   "id": "407b0ea1",
   "metadata": {},
   "outputs": [],
   "source": []
  },
  {
   "cell_type": "markdown",
   "id": "393a6b18",
   "metadata": {},
   "source": [
    "**Q90.** Write a program using the Builder pattern."
   ]
  },
  {
   "cell_type": "code",
   "execution_count": null,
   "id": "d0aae4d6",
   "metadata": {},
   "outputs": [],
   "source": []
  },
  {
   "cell_type": "markdown",
   "id": "d34c50b8",
   "metadata": {},
   "source": [
    "## OOP Best Practices & Real-World Applications"
   ]
  },
  {
   "cell_type": "markdown",
   "id": "226577ca",
   "metadata": {},
   "source": [
    "**Q91.** Enforce encapsulation and avoid direct attribute access."
   ]
  },
  {
   "cell_type": "code",
   "execution_count": null,
   "id": "92687b30",
   "metadata": {},
   "outputs": [],
   "source": []
  },
  {
   "cell_type": "markdown",
   "id": "1e4d2585",
   "metadata": {},
   "source": [
    "**Q92.** Implement an event-driven system using OOP."
   ]
  },
  {
   "cell_type": "code",
   "execution_count": null,
   "id": "c9d9fae7",
   "metadata": {},
   "outputs": [],
   "source": []
  },
  {
   "cell_type": "markdown",
   "id": "62f04e6b",
   "metadata": {},
   "source": [
    "**Q93.** Write a Python script for managing a simple ATM system using OOP."
   ]
  },
  {
   "cell_type": "code",
   "execution_count": null,
   "id": "dfe0be90",
   "metadata": {},
   "outputs": [],
   "source": []
  },
  {
   "cell_type": "markdown",
   "id": "44a28957",
   "metadata": {},
   "source": [
    "**Q94.** Model a real-world scenario using multiple OOP concepts."
   ]
  },
  {
   "cell_type": "code",
   "execution_count": null,
   "id": "48cf20b5",
   "metadata": {},
   "outputs": [],
   "source": []
  },
  {
   "cell_type": "markdown",
   "id": "afca1bda",
   "metadata": {},
   "source": [
    "**Q95.** Design a logging system using OOP principles."
   ]
  },
  {
   "cell_type": "code",
   "execution_count": null,
   "id": "00b8b639",
   "metadata": {},
   "outputs": [],
   "source": []
  },
  {
   "cell_type": "markdown",
   "id": "56881ad4",
   "metadata": {},
   "source": [
    "**Q96.** Implement user authentication using OOP."
   ]
  },
  {
   "cell_type": "code",
   "execution_count": null,
   "id": "ef0db9fe",
   "metadata": {},
   "outputs": [],
   "source": []
  },
  {
   "cell_type": "markdown",
   "id": "acfacea6",
   "metadata": {},
   "source": [
    "**Q97.** Create a chatbot structure using OOP."
   ]
  },
  {
   "cell_type": "code",
   "execution_count": null,
   "id": "23571af1",
   "metadata": {},
   "outputs": [],
   "source": []
  },
  {
   "cell_type": "markdown",
   "id": "2abad7e6",
   "metadata": {},
   "source": [
    "**Q98.** Build an inventory management system with OOP."
   ]
  },
  {
   "cell_type": "code",
   "execution_count": null,
   "id": "eb3934d6",
   "metadata": {},
   "outputs": [],
   "source": []
  },
  {
   "cell_type": "markdown",
   "id": "ca763344",
   "metadata": {},
   "source": [
    "**Q99.** Develop a basic game using OOP principles."
   ]
  },
  {
   "cell_type": "code",
   "execution_count": null,
   "id": "082e9257",
   "metadata": {},
   "outputs": [],
   "source": []
  },
  {
   "cell_type": "markdown",
   "id": "bd4711a8",
   "metadata": {},
   "source": [
    "**Q100.** Implement OOP for a simple stock trading bot."
   ]
  },
  {
   "cell_type": "code",
   "execution_count": null,
   "id": "36c0caac",
   "metadata": {},
   "outputs": [],
   "source": []
  }
 ],
 "metadata": {
  "kernelspec": {
   "display_name": "Python 3",
   "language": "python",
   "name": "python3"
  },
  "language_info": {
   "codemirror_mode": {
    "name": "ipython",
    "version": 3
   },
   "file_extension": ".py",
   "mimetype": "text/x-python",
   "name": "python",
   "nbconvert_exporter": "python",
   "pygments_lexer": "ipython3",
   "version": "3.13.1"
  }
 },
 "nbformat": 4,
 "nbformat_minor": 5
}
