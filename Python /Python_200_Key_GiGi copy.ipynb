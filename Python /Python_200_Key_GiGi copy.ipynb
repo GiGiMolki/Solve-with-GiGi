{
 "cells": [
  {
   "cell_type": "markdown",
   "id": "35a0b819",
   "metadata": {},
   "source": [
    "## Python Basics"
   ]
  },
  {
   "cell_type": "markdown",
   "id": "f47422af",
   "metadata": {},
   "source": [
    "### 1. Print 'Hello, World!'"
   ]
  },
  {
   "cell_type": "code",
   "execution_count": 2,
   "id": "67862dbd",
   "metadata": {},
   "outputs": [
    {
     "name": "stdout",
     "output_type": "stream",
     "text": [
      "Hello, World!\n"
     ]
    }
   ],
   "source": [
    "# This program prints the classic first program output\n",
    "print(\"Hello, World!\")"
   ]
  },
  {
   "cell_type": "markdown",
   "id": "364e1e66",
   "metadata": {},
   "source": [
    "### 2. Take user input and print it"
   ]
  },
  {
   "cell_type": "code",
   "execution_count": null,
   "id": "8a13113e",
   "metadata": {},
   "outputs": [],
   "source": []
  },
  {
   "cell_type": "markdown",
   "id": "54faf0fe",
   "metadata": {},
   "source": [
    "### 3. Convert string to integer and float"
   ]
  },
  {
   "cell_type": "code",
   "execution_count": 3,
   "id": "cdb54701",
   "metadata": {},
   "outputs": [
    {
     "name": "stdout",
     "output_type": "stream",
     "text": [
      "You entered: 1\n"
     ]
    }
   ],
   "source": [
    "# This program takes user input and prints it back\n",
    "user_input = input(\"Enter something: \")  # input() always returns a string\n",
    "print(\"You entered:\", user_input)"
   ]
  },
  {
   "cell_type": "markdown",
   "id": "e0355073",
   "metadata": {},
   "source": [
    "### 4. Swap two variables"
   ]
  },
  {
   "cell_type": "code",
   "execution_count": 4,
   "id": "62401ad8",
   "metadata": {},
   "outputs": [
    {
     "name": "stdout",
     "output_type": "stream",
     "text": [
      "Before swapping: a = 5 b = 10\n",
      "After swapping: a = 10 b = 5\n"
     ]
    }
   ],
   "source": [
    "a = 5\n",
    "b = 10\n",
    "\n",
    "print(\"Before swapping: a =\", a, \"b =\", b)\n",
    "\n",
    "temp = a\n",
    "a = b\n",
    "b = temp\n",
    "\n",
    "print(\"After swapping: a =\", a, \"b =\", b)"
   ]
  },
  {
   "cell_type": "markdown",
   "id": "5f78bd10",
   "metadata": {},
   "source": [
    "### 5. Find the type of a variable"
   ]
  },
  {
   "cell_type": "code",
   "execution_count": 5,
   "id": "4046208a",
   "metadata": {},
   "outputs": [
    {
     "name": "stdout",
     "output_type": "stream",
     "text": [
      "The type of x is: <class 'int'>\n"
     ]
    }
   ],
   "source": [
    "# This program finds the data type of a given variable\n",
    "x = 42\n",
    "print(\"The type of x is:\", type(x))"
   ]
  },
  {
   "cell_type": "markdown",
   "id": "1af4d7d2",
   "metadata": {},
   "source": [
    "### 6. Round a float to 2 decimal places"
   ]
  },
  {
   "cell_type": "code",
   "execution_count": 6,
   "id": "b6d637d6",
   "metadata": {},
   "outputs": [
    {
     "name": "stdout",
     "output_type": "stream",
     "text": [
      "Rounded to 2 decimal places: 3.14\n"
     ]
    }
   ],
   "source": [
    "# This program rounds a float to 2 decimal places\n",
    "num = 3.14159\n",
    "rounded = round(num, 2)\n",
    "print(\"Rounded to 2 decimal places:\", rounded)"
   ]
  },
  {
   "cell_type": "markdown",
   "id": "1967f5df",
   "metadata": {},
   "source": [
    "### 7. Convert Celsius to Fahrenheit"
   ]
  },
  {
   "cell_type": "code",
   "execution_count": 7,
   "id": "6ccc4d7d",
   "metadata": {},
   "outputs": [
    {
     "name": "stdout",
     "output_type": "stream",
     "text": [
      "25°C is equal to 77.0°F\n"
     ]
    }
   ],
   "source": [
    "# This program converts Celsius to Fahrenheit\n",
    "celsius = 25  # Example Celsius temperature\n",
    "fahrenheit = (celsius * 9/5) + 32\n",
    "print(f\"{celsius}°C is equal to {fahrenheit}°F\")"
   ]
  },
  {
   "cell_type": "markdown",
   "id": "a54b762c",
   "metadata": {},
   "source": [
    "### 8. Take three inputs and print their average"
   ]
  },
  {
   "cell_type": "code",
   "execution_count": 8,
   "id": "772236de",
   "metadata": {},
   "outputs": [
    {
     "name": "stdout",
     "output_type": "stream",
     "text": [
      "The average of 1.0, 2.0, and 3.0 is: 2.0\n"
     ]
    }
   ],
   "source": [
    "# This program takes three inputs and prints their average\n",
    "num1 = float(input(\"Enter the first number: \"))\n",
    "num2 = float(input(\"Enter the second number: \"))\n",
    "num3 = float(input(\"Enter the third number: \"))\n",
    "\n",
    "# Calculate average\n",
    "average = (num1 + num2 + num3) / 3\n",
    "\n",
    "# Print the result\n",
    "print(f\"The average of {num1}, {num2}, and {num3} is: {average}\")"
   ]
  },
  {
   "cell_type": "markdown",
   "id": "81fc5df0",
   "metadata": {},
   "source": [
    "### 9. Create a multiline string and print it"
   ]
  },
  {
   "cell_type": "code",
   "execution_count": 9,
   "id": "cf778caf",
   "metadata": {},
   "outputs": [
    {
     "name": "stdout",
     "output_type": "stream",
     "text": [
      "This is a multiline string.\n",
      "It can span multiple lines.\n",
      "You can even include special characters like \"quotes\".\n"
     ]
    }
   ],
   "source": [
    "# This program creates a multiline string and prints it\n",
    "multiline_string = \"\"\"This is a multiline string.\n",
    "It can span multiple lines.\n",
    "You can even include special characters like \"quotes\".\"\"\"\n",
    "print(multiline_string)"
   ]
  },
  {
   "cell_type": "markdown",
   "id": "510e8b79",
   "metadata": {},
   "source": [
    "### 10. Use formatted strings to display name and age"
   ]
  },
  {
   "cell_type": "code",
   "execution_count": 10,
   "id": "9f659ffe",
   "metadata": {},
   "outputs": [
    {
     "name": "stdout",
     "output_type": "stream",
     "text": [
      "Name: GiGi Molki, Age: 20\n"
     ]
    }
   ],
   "source": [
    "# This program uses formatted strings (f-strings) to display name and age\n",
    "name = \"GiGi Molki\"\n",
    "age = 20  # Example age\n",
    "\n",
    "# Using f-string for formatting\n",
    "print(f\"Name: {name}, Age: {age}\")"
   ]
  },
  {
   "cell_type": "markdown",
   "id": "8e93ff14",
   "metadata": {},
   "source": [
    "## Control Flow"
   ]
  },
  {
   "cell_type": "markdown",
   "id": "8b7f947d",
   "metadata": {},
   "source": [
    "### 11. Check if a number is even or odd"
   ]
  },
  {
   "cell_type": "code",
   "execution_count": 11,
   "id": "b9021eac",
   "metadata": {},
   "outputs": [
    {
     "name": "stdout",
     "output_type": "stream",
     "text": [
      "2 is even.\n"
     ]
    }
   ],
   "source": [
    "# This program checks if a number is even or odd\n",
    "num = int(input(\"Enter a number: \"))\n",
    "\n",
    "# Check if the number is even or odd using the modulus operator\n",
    "if num % 2 == 0:\n",
    "    print(f\"{num} is even.\")\n",
    "else:\n",
    "    print(f\"{num} is odd.\")"
   ]
  },
  {
   "cell_type": "markdown",
   "id": "355c6714",
   "metadata": {},
   "source": [
    "### 12. Find the largest of three numbers"
   ]
  },
  {
   "cell_type": "code",
   "execution_count": 12,
   "id": "faa2720d",
   "metadata": {},
   "outputs": [
    {
     "name": "stdout",
     "output_type": "stream",
     "text": [
      "The largest number is: 3.0\n"
     ]
    }
   ],
   "source": [
    "# This program finds the largest of three numbers\n",
    "num1 = float(input(\"Enter the first number: \"))\n",
    "num2 = float(input(\"Enter the second number: \"))\n",
    "num3 = float(input(\"Enter the third number: \"))\n",
    "\n",
    "# Using if-else statements to find the largest number\n",
    "if num1 >= num2 and num1 >= num3:\n",
    "    largest = num1\n",
    "elif num2 >= num1 and num2 >= num3:\n",
    "    largest = num2\n",
    "else:\n",
    "    largest = num3\n",
    "\n",
    "print(f\"The largest number is: {largest}\")"
   ]
  },
  {
   "cell_type": "markdown",
   "id": "bb196991",
   "metadata": {},
   "source": [
    "### 13. Grade calculator (A/B/C/F)"
   ]
  },
  {
   "cell_type": "code",
   "execution_count": 13,
   "id": "1408ccc9",
   "metadata": {},
   "outputs": [
    {
     "name": "stdout",
     "output_type": "stream",
     "text": [
      "The grade is: A\n"
     ]
    }
   ],
   "source": [
    "# This program calculates the grade based on the score\n",
    "score = float(input(\"Enter the score (0-100): \"))\n",
    "\n",
    "# Grade calculation using if-elif-else\n",
    "if score >= 90:\n",
    "    grade = 'A'\n",
    "elif score >= 80:\n",
    "    grade = 'B'\n",
    "elif score >= 70:\n",
    "    grade = 'C'\n",
    "else:\n",
    "    grade = 'F'\n",
    "\n",
    "print(f\"The grade is: {grade}\")"
   ]
  },
  {
   "cell_type": "markdown",
   "id": "b0b08752",
   "metadata": {},
   "source": [
    "### 14. Check if a number is positive, negative, or zero"
   ]
  },
  {
   "cell_type": "code",
   "execution_count": 14,
   "id": "e0aeb621",
   "metadata": {},
   "outputs": [
    {
     "name": "stdout",
     "output_type": "stream",
     "text": [
      "0.0 is zero.\n"
     ]
    }
   ],
   "source": [
    "# This program checks if a number is positive, negative, or zero\n",
    "num = float(input(\"Enter a number: \"))\n",
    "\n",
    "# Check if the number is positive, negative, or zero\n",
    "if num > 0:\n",
    "    print(f\"{num} is positive.\")\n",
    "elif num < 0:\n",
    "    print(f\"{num} is negative.\")\n",
    "else:\n",
    "    print(f\"{num} is zero.\")"
   ]
  },
  {
   "cell_type": "markdown",
   "id": "7498bfa2",
   "metadata": {},
   "source": [
    "### 15. Leap year checker"
   ]
  },
  {
   "cell_type": "code",
   "execution_count": 15,
   "id": "b8620fc4",
   "metadata": {},
   "outputs": [
    {
     "name": "stdout",
     "output_type": "stream",
     "text": [
      "2024 is a leap year.\n"
     ]
    }
   ],
   "source": [
    "# This program checks if a year is a leap year\n",
    "year = int(input(\"Enter a year: \"))\n",
    "\n",
    "# Leap year check\n",
    "if (year % 4 == 0 and year % 100 != 0) or (year % 400 == 0):\n",
    "    print(f\"{year} is a leap year.\")\n",
    "else:\n",
    "    print(f\"{year} is not a leap year.\")"
   ]
  },
  {
   "cell_type": "markdown",
   "id": "57ccb6cf",
   "metadata": {},
   "source": [
    "### 16. Traffic light logic using if-elif-else"
   ]
  },
  {
   "cell_type": "code",
   "execution_count": null,
   "id": "528b51b2",
   "metadata": {},
   "outputs": [],
   "source": [
    "# This program simulates traffic light logic\n",
    "light_color = input(\"Enter the traffic light color (red, yellow, green): \").lower()\n",
    "\n",
    "# Traffic light logic using if-elif-else\n",
    "if light_color == \"red\":\n",
    "    print(\"Stop!\")\n",
    "elif light_color == \"yellow\":\n",
    "    print(\"Prepare to stop!\")\n",
    "elif light_color == \"green\":\n",
    "    print(\"Go!\")\n",
    "else:\n",
    "    print(\"Invalid color. Please enter red, yellow, or green.\")"
   ]
  },
  {
   "cell_type": "markdown",
   "id": "dc2c09ca",
   "metadata": {},
   "source": [
    "### 17. Check if character is vowel or consonant"
   ]
  },
  {
   "cell_type": "code",
   "execution_count": null,
   "id": "0a780478",
   "metadata": {},
   "outputs": [],
   "source": [
    "# This program checks if a character is a vowel or consonant\n",
    "char = input(\"Enter a character: \").lower()\n",
    "\n",
    "# Check if the character is a vowel or consonant\n",
    "if char in \"aeiou\":\n",
    "    print(f\"{char} is a vowel.\")\n",
    "elif char.isalpha():  # Check if it is a letter and not a symbol or number\n",
    "    print(f\"{char} is a consonant.\")\n",
    "else:\n",
    "    print(\"Please enter a valid alphabetic character.\")"
   ]
  },
  {
   "cell_type": "markdown",
   "id": "8112144b",
   "metadata": {},
   "source": [
    "### 18. Find if number is in a specific range"
   ]
  },
  {
   "cell_type": "code",
   "execution_count": null,
   "id": "597ac1db",
   "metadata": {},
   "outputs": [],
   "source": [
    "# This program checks if a number is in a specific range\n",
    "num = float(input(\"Enter a number: \"))\n",
    "\n",
    "# Define the range (example: 10 to 20)\n",
    "lower_bound = 10\n",
    "upper_bound = 20\n",
    "\n",
    "# Check if the number is within the range\n",
    "if lower_bound <= num <= upper_bound:\n",
    "    print(f\"{num} is in the range between {lower_bound} and {upper_bound}.\")\n",
    "else:\n",
    "    print(f\"{num} is not in the range between {lower_bound} and {upper_bound}.\")"
   ]
  },
  {
   "cell_type": "markdown",
   "id": "4f0c5cfd",
   "metadata": {},
   "source": [
    "### 19. Password checker with multiple conditions"
   ]
  },
  {
   "cell_type": "code",
   "execution_count": null,
   "id": "910bdef6",
   "metadata": {},
   "outputs": [],
   "source": [
    "# This program checks if a password meets multiple conditions\n",
    "password = input(\"Enter your password: \")\n",
    "\n",
    "# Password conditions\n",
    "min_length = 8\n",
    "has_upper = any(char.isupper() for char in password)\n",
    "has_lower = any(char.islower() for char in password)\n",
    "has_digit = any(char.isdigit() for char in password)\n",
    "has_special = any(char in \"!@#$%^&*()-=_+\" for char in password)\n",
    "\n",
    "# Check if all conditions are met\n",
    "if len(password) >= min_length and has_upper and has_lower and has_digit and has_special:\n",
    "    print(\"Password is strong.\")\n",
    "else:\n",
    "    print(\"Password is weak. It must meet the following conditions:\")\n",
    "    if len(password) < min_length:\n",
    "        print(f\"- At least {min_length} characters long.\")\n",
    "    if not has_upper:\n",
    "        print(\"- At least one uppercase letter.\")\n",
    "    if not has_lower:\n",
    "        print(\"- At least one lowercase letter.\")\n",
    "    if not has_digit:\n",
    "        print(\"- At least one digit.\")\n",
    "    if not has_special:\n",
    "        print(\"- At least one special character (!@#$%^&*()-=_+).\")"
   ]
  },
  {
   "cell_type": "markdown",
   "id": "2557e032",
   "metadata": {},
   "source": [
    "### 20. Build a simple calculator with if statements"
   ]
  },
  {
   "cell_type": "code",
   "execution_count": null,
   "id": "586f5ae4",
   "metadata": {},
   "outputs": [],
   "source": [
    "# This program implements a simple calculator\n",
    "print(\"Select operation:\")\n",
    "print(\"1. Add\")\n",
    "print(\"2. Subtract\")\n",
    "print(\"3. Multiply\")\n",
    "print(\"4. Divide\")\n",
    "\n",
    "# Taking input from the user\n",
    "operation = input(\"Enter operation (1/2/3/4): \")\n",
    "\n",
    "num1 = float(input(\"Enter first number: \"))\n",
    "num2 = float(input(\"Enter second number: \"))\n",
    "\n",
    "# Perform the operation based on user's choice\n",
    "if operation == '1':\n",
    "    result = num1 + num2\n",
    "    print(f\"The result of {num1} + {num2} is {result}\")\n",
    "elif operation == '2':\n",
    "    result = num1 - num2\n",
    "    print(f\"The result of {num1} - {num2} is {result}\")\n",
    "elif operation == '3':\n",
    "    result = num1 * num2\n",
    "    print(f\"The result of {num1} * {num2} is {result}\")\n",
    "elif operation == '4':\n",
    "    if num2 == 0:\n",
    "        print(\"Error! Division by zero.\")\n",
    "    else:\n",
    "        result = num1 / num2\n",
    "        print(f\"The result of {num1} / {num2} is {result}\")\n",
    "else:\n",
    "    print(\"Invalid input! Please choose a valid operation.\")"
   ]
  },
  {
   "cell_type": "markdown",
   "id": "71f8604e",
   "metadata": {},
   "source": [
    "## Loops and Iteration"
   ]
  },
  {
   "cell_type": "markdown",
   "id": "231ccc54",
   "metadata": {},
   "source": [
    "### 21. Print numbers from 1 to 100"
   ]
  },
  {
   "cell_type": "code",
   "execution_count": null,
   "id": "731a007c",
   "metadata": {},
   "outputs": [],
   "source": [
    "# This program prints numbers from 1 to 100\n",
    "for i in range(1, 101):\n",
    "    print(i)"
   ]
  },
  {
   "cell_type": "markdown",
   "id": "a02a0874",
   "metadata": {},
   "source": [
    "### 22. Print even numbers from 1 to N"
   ]
  },
  {
   "cell_type": "code",
   "execution_count": null,
   "id": "1e070a73",
   "metadata": {},
   "outputs": [],
   "source": [
    "# This program prints even numbers from 1 to N\n",
    "N = int(input(\"Enter the value of N: \"))\n",
    "for i in range(2, N + 1, 2):\n",
    "    print(i)"
   ]
  },
  {
   "cell_type": "markdown",
   "id": "ed262d61",
   "metadata": {},
   "source": [
    "### 23. Sum of numbers from 1 to N"
   ]
  },
  {
   "cell_type": "code",
   "execution_count": null,
   "id": "c82e827b",
   "metadata": {},
   "outputs": [],
   "source": [
    "# This program calculates the sum of numbers from 1 to N\n",
    "N = int(input(\"Enter the value of N: \"))\n",
    "total = 0\n",
    "for i in range(1, N + 1):\n",
    "    total += i\n",
    "print(f\"Sum from 1 to {N} is {total}\")"
   ]
  },
  {
   "cell_type": "markdown",
   "id": "87a9997c",
   "metadata": {},
   "source": [
    "### 24. Print multiplication table of a number"
   ]
  },
  {
   "cell_type": "code",
   "execution_count": null,
   "id": "392d9af7",
   "metadata": {},
   "outputs": [],
   "source": [
    "# This program prints the multiplication table of a number\n",
    "num = int(input(\"Enter a number: \"))\n",
    "for i in range(1, 11):\n",
    "    print(f\"{num} x {i} = {num * i}\")"
   ]
  },
  {
   "cell_type": "markdown",
   "id": "2777d8bc",
   "metadata": {},
   "source": [
    "### 25. Find factorial using loop"
   ]
  },
  {
   "cell_type": "code",
   "execution_count": null,
   "id": "704e4945",
   "metadata": {},
   "outputs": [],
   "source": [
    "# This program finds the factorial of a number using a loop\n",
    "num = int(input(\"Enter a number: \"))\n",
    "factorial = 1\n",
    "\n",
    "for i in range(1, num + 1):\n",
    "    factorial *= i\n",
    "\n",
    "print(f\"Factorial of {num} is {factorial}\")"
   ]
  },
  {
   "cell_type": "markdown",
   "id": "62b86eae",
   "metadata": {},
   "source": [
    "### 26. Print reverse of a number"
   ]
  },
  {
   "cell_type": "code",
   "execution_count": null,
   "id": "320e6104",
   "metadata": {},
   "outputs": [],
   "source": [
    "# This program prints the reverse of a number\n",
    "num = int(input(\"Enter a number: \"))\n",
    "reverse = 0\n",
    "\n",
    "while num > 0:\n",
    "    digit = num % 10\n",
    "    reverse = reverse * 10 + digit\n",
    "    num //= 10\n",
    "\n",
    "print(f\"Reversed number is {reverse}\")"
   ]
  },
  {
   "cell_type": "markdown",
   "id": "8d56a9b4",
   "metadata": {},
   "source": [
    "### 27. Count digits in a number"
   ]
  },
  {
   "cell_type": "code",
   "execution_count": null,
   "id": "f68a9bd8",
   "metadata": {},
   "outputs": [],
   "source": [
    "# This program counts the number of digits in a number\n",
    "num = int(input(\"Enter a number: \"))\n",
    "count = 0\n",
    "\n",
    "if num == 0:\n",
    "    count = 1\n",
    "else:\n",
    "    while num != 0:\n",
    "        num //= 10\n",
    "        count += 1\n",
    "\n",
    "print(f\"Number of digits is {count}\")"
   ]
  },
  {
   "cell_type": "markdown",
   "id": "45575c8d",
   "metadata": {},
   "source": [
    "### 28. Sum of digits of a number"
   ]
  },
  {
   "cell_type": "code",
   "execution_count": null,
   "id": "3222241b",
   "metadata": {},
   "outputs": [],
   "source": [
    "# This program calculates the sum of digits of a number\n",
    "num = int(input(\"Enter a number: \"))\n",
    "total = 0\n",
    "\n",
    "while num > 0:\n",
    "    digit = num % 10\n",
    "    total += digit\n",
    "    num //= 10\n",
    "\n",
    "print(f\"Sum of digits is {total}\")"
   ]
  },
  {
   "cell_type": "markdown",
   "id": "2cd574eb",
   "metadata": {},
   "source": [
    "### 29. Break on specific input in loop"
   ]
  },
  {
   "cell_type": "code",
   "execution_count": null,
   "id": "ad03b83f",
   "metadata": {},
   "outputs": [],
   "source": [
    "# This program breaks the loop when a specific input is entered\n",
    "while True:\n",
    "    user_input = input(\"Enter something (type 'exit' to stop): \")\n",
    "    if user_input == 'exit':\n",
    "        break\n",
    "    print(f\"You entered: {user_input}\")"
   ]
  },
  {
   "cell_type": "markdown",
   "id": "bdd6a863",
   "metadata": {},
   "source": [
    "### 30. Nested loop: pattern printing"
   ]
  },
  {
   "cell_type": "code",
   "execution_count": null,
   "id": "2ac84a70",
   "metadata": {},
   "outputs": [],
   "source": [
    "# This program prints a pattern using nested loops\n",
    "rows = int(input(\"Enter the number of rows: \"))\n",
    "\n",
    "for i in range(1, rows + 1):\n",
    "    for j in range(1, i + 1):\n",
    "        print(\"*\", end=\"\")\n",
    "    print()  # Move to the next line after each row"
   ]
  },
  {
   "cell_type": "markdown",
   "id": "304ec06f",
   "metadata": {},
   "source": [
    "## Functions"
   ]
  },
  {
   "cell_type": "markdown",
   "id": "201ae0ec",
   "metadata": {},
   "source": [
    "### 31. Write a function to add two numbers"
   ]
  },
  {
   "cell_type": "code",
   "execution_count": null,
   "id": "97890d91",
   "metadata": {},
   "outputs": [],
   "source": [
    "# This function adds two numbers\n",
    "def add_numbers(a, b):\n",
    "    return a + b\n",
    "\n",
    "# Taking input from the user\n",
    "num1 = float(input(\"Enter first number: \"))\n",
    "num2 = float(input(\"Enter second number: \"))\n",
    "\n",
    "# Calling the function and printing the result\n",
    "result = add_numbers(num1, num2)\n",
    "print(f\"The sum of {num1} and {num2} is {result}\")"
   ]
  },
  {
   "cell_type": "markdown",
   "id": "26f653d7",
   "metadata": {},
   "source": [
    "### 32. Function to return factorial"
   ]
  },
  {
   "cell_type": "code",
   "execution_count": null,
   "id": "d37f880b",
   "metadata": {},
   "outputs": [],
   "source": [
    "# This function returns the factorial of a number\n",
    "def factorial(num):\n",
    "    result = 1\n",
    "    for i in range(1, num + 1):\n",
    "        result *= i\n",
    "    return result\n",
    "\n",
    "# Taking input from the user\n",
    "num = int(input(\"Enter a number: \"))\n",
    "\n",
    "# Calling the function and printing the result\n",
    "result = factorial(num)\n",
    "print(f\"Factorial of {num} is {result}\")"
   ]
  },
  {
   "cell_type": "markdown",
   "id": "26cd5325",
   "metadata": {},
   "source": [
    "### 33. Function to check prime number"
   ]
  },
  {
   "cell_type": "code",
   "execution_count": null,
   "id": "01de12d1",
   "metadata": {},
   "outputs": [],
   "source": [
    "# This function checks if a number is prime\n",
    "def is_prime(num):\n",
    "    if num <= 1:\n",
    "        return False\n",
    "    for i in range(2, int(num ** 0.5) + 1):\n",
    "        if num % i == 0:\n",
    "            return False\n",
    "    return True\n",
    "\n",
    "# Taking input from the user\n",
    "num = int(input(\"Enter a number: \"))\n",
    "\n",
    "# Calling the function and printing the result\n",
    "if is_prime(num):\n",
    "    print(f\"{num} is a prime number.\")\n",
    "else:\n",
    "    print(f\"{num} is not a prime number.\")"
   ]
  },
  {
   "cell_type": "markdown",
   "id": "67deaf84",
   "metadata": {},
   "source": [
    "### 34. Function with default argument"
   ]
  },
  {
   "cell_type": "code",
   "execution_count": null,
   "id": "7e058fb1",
   "metadata": {},
   "outputs": [],
   "source": [
    "# This function has a default argument for greeting\n",
    "def greet(name=\"Guest\"):\n",
    "    print(f\"Hello, {name}!\")\n",
    "\n",
    "# Calling the function with and without an argument\n",
    "greet(\"Alice\")  # Custom name\n",
    "greet()  # Default name"
   ]
  },
  {
   "cell_type": "markdown",
   "id": "12f3a025",
   "metadata": {},
   "source": [
    "### 35. Use *args to sum any number of inputs"
   ]
  },
  {
   "cell_type": "code",
   "execution_count": null,
   "id": "e46401d6",
   "metadata": {},
   "outputs": [],
   "source": []
  },
  {
   "cell_type": "markdown",
   "id": "53b48b9e",
   "metadata": {},
   "source": [
    "### 36. Use **kwargs to format a greeting"
   ]
  },
  {
   "cell_type": "code",
   "execution_count": null,
   "id": "27811b85",
   "metadata": {},
   "outputs": [],
   "source": [
    "# This function uses *args to sum any number of inputs\n",
    "def sum_numbers(*args):\n",
    "    return sum(args)\n",
    "\n",
    "# Calling the function with multiple inputs\n",
    "result = sum_numbers(1, 2, 3, 4, 5)\n",
    "print(f\"The sum is {result}\")"
   ]
  },
  {
   "cell_type": "markdown",
   "id": "7e9bacdb",
   "metadata": {},
   "source": [
    "### 37. Write a recursive Fibonacci function"
   ]
  },
  {
   "cell_type": "code",
   "execution_count": null,
   "id": "ebada05d",
   "metadata": {},
   "outputs": [],
   "source": [
    "# This function calculates the Fibonacci number using recursion\n",
    "def fibonacci(n):\n",
    "    if n <= 1:\n",
    "        return n\n",
    "    else:\n",
    "        return fibonacci(n - 1) + fibonacci(n - 2)\n",
    "\n",
    "# Taking input from the user\n",
    "n = int(input(\"Enter a number: \"))\n",
    "\n",
    "# Calling the function and printing the result\n",
    "result = fibonacci(n)\n",
    "print(f\"The {n}th Fibonacci number is {result}\")"
   ]
  },
  {
   "cell_type": "markdown",
   "id": "f711710f",
   "metadata": {},
   "source": [
    "### 38. Convert map() logic to function"
   ]
  },
  {
   "cell_type": "code",
   "execution_count": null,
   "id": "05ca6f84",
   "metadata": {},
   "outputs": [],
   "source": [
    "# This function applies a given function to a list of numbers (equivalent to map())\n",
    "def apply_function(func, data):\n",
    "    return [func(item) for item in data]\n",
    "\n",
    "# Sample function to be applied\n",
    "def square(x):\n",
    "    return x * x\n",
    "\n",
    "# Example data\n",
    "numbers = [1, 2, 3, 4, 5]\n",
    "\n",
    "# Calling the function and printing the result\n",
    "result = apply_function(square, numbers)\n",
    "print(f\"Squared numbers: {result}\")"
   ]
  },
  {
   "cell_type": "markdown",
   "id": "a6c7d4d9",
   "metadata": {},
   "source": [
    "### 39. Return multiple values from a function"
   ]
  },
  {
   "cell_type": "code",
   "execution_count": null,
   "id": "189454f5",
   "metadata": {},
   "outputs": [],
   "source": [
    "# This function returns multiple values\n",
    "def calculate(a, b):\n",
    "    sum_result = a + b\n",
    "    difference = a - b\n",
    "    product = a * b\n",
    "    return sum_result, difference, product\n",
    "\n",
    "# Taking input from the user\n",
    "num1 = float(input(\"Enter first number: \"))\n",
    "num2 = float(input(\"Enter second number: \"))\n",
    "\n",
    "# Calling the function and unpacking the returned values\n",
    "sum_result, difference, product = calculate(num1, num2)\n",
    "\n",
    "# Printing the results\n",
    "print(f\"Sum: {sum_result}, Difference: {difference}, Product: {product}\")"
   ]
  },
  {
   "cell_type": "markdown",
   "id": "520d8002",
   "metadata": {},
   "source": [
    "### 40. Write a function with inner/nested functions"
   ]
  },
  {
   "cell_type": "code",
   "execution_count": null,
   "id": "680f05bb",
   "metadata": {},
   "outputs": [],
   "source": [
    "# This function contains an inner/nested function\n",
    "def outer_function(a, b):\n",
    "    # Inner function that adds two numbers\n",
    "    def inner_function(x, y):\n",
    "        return x + y\n",
    "    \n",
    "    # Calling the inner function from the outer function\n",
    "    result = inner_function(a, b)\n",
    "    return result\n",
    "\n",
    "# Taking input from the user\n",
    "num1 = float(input(\"Enter first number: \"))\n",
    "num2 = float(input(\"Enter second number: \"))\n",
    "\n",
    "# Calling the outer function\n",
    "result = outer_function(num1, num2)\n",
    "\n",
    "# Printing the result\n",
    "print(f\"The sum of {num1} and {num2} is {result}\")"
   ]
  },
  {
   "cell_type": "markdown",
   "id": "4f39af15",
   "metadata": {},
   "source": [
    "## Data Structures - Lists, Tuples, Dicts, Sets"
   ]
  },
  {
   "cell_type": "markdown",
   "id": "8a9d07bd",
   "metadata": {},
   "source": [
    "### 41. Reverse a list without using reverse()"
   ]
  },
  {
   "cell_type": "code",
   "execution_count": null,
   "id": "6bca45d8",
   "metadata": {},
   "outputs": [],
   "source": [
    "# This program reverses a list without using reverse()\n",
    "def reverse_list(lst):\n",
    "    reversed_lst = []\n",
    "    for item in lst:\n",
    "        reversed_lst.insert(0, item)  # Insert each item at the beginning\n",
    "    return reversed_lst\n",
    "\n",
    "# Example list\n",
    "my_list = [1, 2, 3, 4, 5]\n",
    "\n",
    "# Calling the function and printing the result\n",
    "result = reverse_list(my_list)\n",
    "print(f\"Reversed list: {result}\")"
   ]
  },
  {
   "cell_type": "markdown",
   "id": "832f8daa",
   "metadata": {},
   "source": [
    "### 42. Find duplicates in a list"
   ]
  },
  {
   "cell_type": "code",
   "execution_count": null,
   "id": "aa145396",
   "metadata": {},
   "outputs": [],
   "source": [
    "# This program finds duplicates in a list\n",
    "def find_duplicates(lst):\n",
    "    duplicates = []\n",
    "    seen = set()\n",
    "    \n",
    "    for item in lst:\n",
    "        if item in seen:\n",
    "            duplicates.append(item)\n",
    "        else:\n",
    "            seen.add(item)\n",
    "    \n",
    "    return duplicates\n",
    "\n",
    "# Example list\n",
    "my_list = [1, 2, 3, 4, 5, 3, 2, 6, 7, 5]\n",
    "\n",
    "# Calling the function and printing the result\n",
    "result = find_duplicates(my_list)\n",
    "print(f\"Duplicates: {result}\")"
   ]
  },
  {
   "cell_type": "markdown",
   "id": "f15b09c9",
   "metadata": {},
   "source": [
    "### 43. Convert list to set and back"
   ]
  },
  {
   "cell_type": "code",
   "execution_count": null,
   "id": "50ee48d3",
   "metadata": {},
   "outputs": [],
   "source": [
    "# This program converts a list to a set and then back to a list\n",
    "def convert_list_to_set_and_back(lst):\n",
    "    # Convert list to set (removes duplicates)\n",
    "    unique_set = set(lst)\n",
    "    \n",
    "    # Convert set back to list\n",
    "    new_list = list(unique_set)\n",
    "    \n",
    "    return new_list\n",
    "\n",
    "# Example list\n",
    "my_list = [1, 2, 3, 4, 5, 5, 6, 7, 7]\n",
    "\n",
    "# Calling the function and printing the result\n",
    "result = convert_list_to_set_and_back(my_list)\n",
    "print(f\"List after converting to set and back: {result}\")"
   ]
  },
  {
   "cell_type": "markdown",
   "id": "a7c9ad1a",
   "metadata": {},
   "source": [
    "### 44. Sort a list of tuples by 2nd value"
   ]
  },
  {
   "cell_type": "code",
   "execution_count": null,
   "id": "804ce3dd",
   "metadata": {},
   "outputs": [],
   "source": [
    "# This program sorts a list of tuples by the second value of each tuple\n",
    "def sort_by_second_value(lst):\n",
    "    return sorted(lst, key=lambda x: x[1])\n",
    "\n",
    "# Example list of tuples\n",
    "my_list = [(1, 5), (3, 2), (7, 4), (2, 1)]\n",
    "\n",
    "# Calling the function and printing the result\n",
    "result = sort_by_second_value(my_list)\n",
    "print(f\"Sorted list by second value: {result}\")"
   ]
  },
  {
   "cell_type": "markdown",
   "id": "debddfb4",
   "metadata": {},
   "source": [
    "### 45. Merge two dictionaries"
   ]
  },
  {
   "cell_type": "code",
   "execution_count": null,
   "id": "bc403142",
   "metadata": {},
   "outputs": [],
   "source": [
    "# This program merges two dictionaries\n",
    "def merge_dictionaries(dict1, dict2):\n",
    "    return {**dict1, **dict2}\n",
    "\n",
    "# Example dictionaries\n",
    "dict1 = {'a': 1, 'b': 2}\n",
    "dict2 = {'c': 3, 'd': 4}\n",
    "\n",
    "# Calling the function and printing the result\n",
    "result = merge_dictionaries(dict1, dict2)\n",
    "print(f\"Merged dictionary: {result}\")"
   ]
  },
  {
   "cell_type": "markdown",
   "id": "82be1253",
   "metadata": {},
   "source": [
    "### 46. Access deeply nested dictionary"
   ]
  },
  {
   "cell_type": "code",
   "execution_count": null,
   "id": "56370fa7",
   "metadata": {},
   "outputs": [],
   "source": [
    "# This program accesses a deeply nested dictionary\n",
    "def access_nested_dict(data, keys):\n",
    "    for key in keys:\n",
    "        data = data.get(key, {})\n",
    "    return data\n",
    "\n",
    "# Example deeply nested dictionary\n",
    "nested_dict = {\n",
    "    'a': {\n",
    "        'b': {\n",
    "            'c': 5\n",
    "        }\n",
    "    }\n",
    "}\n",
    "\n",
    "# Accessing the value at the deepest level\n",
    "keys = ['a', 'b', 'c']\n",
    "result = access_nested_dict(nested_dict, keys)\n",
    "print(f\"Accessed value: {result}\")"
   ]
  },
  {
   "cell_type": "markdown",
   "id": "08b510cd",
   "metadata": {},
   "source": [
    "### 47. Frequency count using dictionary"
   ]
  },
  {
   "cell_type": "code",
   "execution_count": null,
   "id": "411e6589",
   "metadata": {},
   "outputs": [],
   "source": [
    "# This program counts the frequency of elements in a list using a dictionary\n",
    "def frequency_count(lst):\n",
    "    freq = {}\n",
    "    for item in lst:\n",
    "        if item in freq:\n",
    "            freq[item] += 1\n",
    "        else:\n",
    "            freq[item] = 1\n",
    "    return freq\n",
    "\n",
    "# Example list\n",
    "my_list = ['apple', 'banana', 'apple', 'orange', 'banana', 'apple']\n",
    "\n",
    "# Calling the function and printing the result\n",
    "result = frequency_count(my_list)\n",
    "print(f\"Frequency count: {result}\")"
   ]
  },
  {
   "cell_type": "markdown",
   "id": "f1fc7956",
   "metadata": {},
   "source": [
    "### 48. Remove duplicates from list using set"
   ]
  },
  {
   "cell_type": "code",
   "execution_count": null,
   "id": "b160ffe6",
   "metadata": {},
   "outputs": [],
   "source": [
    "# This program removes duplicates from a list using a set\n",
    "def remove_duplicates(lst):\n",
    "    return list(set(lst))\n",
    "\n",
    "# Example list\n",
    "my_list = [1, 2, 3, 4, 5, 3, 2, 6, 7]\n",
    "\n",
    "# Calling the function and printing the result\n",
    "result = remove_duplicates(my_list)\n",
    "print(f\"List without duplicates: {result}\")"
   ]
  },
  {
   "cell_type": "markdown",
   "id": "1b5820a8",
   "metadata": {},
   "source": [
    "### 49. Find intersection of two sets"
   ]
  },
  {
   "cell_type": "code",
   "execution_count": null,
   "id": "78e917e5",
   "metadata": {},
   "outputs": [],
   "source": [
    "# This program finds the intersection of two sets\n",
    "def intersection_of_sets(set1, set2):\n",
    "    return set1 & set2\n",
    "\n",
    "# Example sets\n",
    "set1 = {1, 2, 3, 4, 5}\n",
    "set2 = {4, 5, 6, 7, 8}\n",
    "\n",
    "# Calling the function and printing the result\n",
    "result = intersection_of_sets(set1, set2)\n",
    "print(f\"Intersection of sets: {result}\")"
   ]
  },
  {
   "cell_type": "markdown",
   "id": "caa007e3",
   "metadata": {},
   "source": [
    "### 50. Use zip() to combine two lists into dictionary"
   ]
  },
  {
   "cell_type": "code",
   "execution_count": null,
   "id": "bbe91b41",
   "metadata": {},
   "outputs": [],
   "source": [
    "# This program uses zip() to combine two lists into a dictionary\n",
    "def combine_lists_to_dict(keys, values):\n",
    "    return dict(zip(keys, values))\n",
    "\n",
    "# Example lists\n",
    "keys = ['a', 'b', 'c']\n",
    "values = [1, 2, 3]\n",
    "\n",
    "# Calling the function and printing the result\n",
    "result = combine_lists_to_dict(keys, values)\n",
    "print(f\"Combined dictionary: {result}\")"
   ]
  },
  {
   "cell_type": "markdown",
   "id": "c15c523e",
   "metadata": {},
   "source": [
    "## Comprehensions"
   ]
  },
  {
   "cell_type": "markdown",
   "id": "ec837da1",
   "metadata": {},
   "source": [
    "### 51. Create list of squares using list comprehension"
   ]
  },
  {
   "cell_type": "code",
   "execution_count": null,
   "id": "7d54e726",
   "metadata": {},
   "outputs": [],
   "source": [
    "# This program creates a list of squares using list comprehension\n",
    "def list_of_squares(n):\n",
    "    return [x**2 for x in range(1, n + 1)]\n",
    "\n",
    "# Example: Creating list of squares from 1 to 5\n",
    "n = 5\n",
    "result = list_of_squares(n)\n",
    "print(f\"List of squares: {result}\")"
   ]
  },
  {
   "cell_type": "markdown",
   "id": "25ee3654",
   "metadata": {},
   "source": [
    "### 52. Create list of even numbers from 1 to 50"
   ]
  },
  {
   "cell_type": "code",
   "execution_count": null,
   "id": "f131a992",
   "metadata": {},
   "outputs": [],
   "source": [
    "# This program creates a list of even numbers from 1 to 50 using list comprehension\n",
    "even_numbers = [x for x in range(1, 51) if x % 2 == 0]\n",
    "\n",
    "# Printing the list of even numbers\n",
    "print(f\"List of even numbers from 1 to 50: {even_numbers}\")"
   ]
  },
  {
   "cell_type": "markdown",
   "id": "7e9be0f7",
   "metadata": {},
   "source": [
    "### 53. Extract only vowels from string"
   ]
  },
  {
   "cell_type": "code",
   "execution_count": null,
   "id": "7bcbfa24",
   "metadata": {},
   "outputs": [],
   "source": [
    "# This program extracts only vowels from a string\n",
    "def extract_vowels(s):\n",
    "    vowels = \"aeiouAEIOU\"\n",
    "    return [char for char in s if char in vowels]\n",
    "\n",
    "# Example string\n",
    "input_string = \"Hello, World!\"\n",
    "\n",
    "# Calling the function and printing the result\n",
    "result = extract_vowels(input_string)\n",
    "print(f\"Vowels extracted: {result}\")"
   ]
  },
  {
   "cell_type": "markdown",
   "id": "b5fd4c47",
   "metadata": {},
   "source": [
    "### 54. Convert list of strings to uppercase"
   ]
  },
  {
   "cell_type": "code",
   "execution_count": null,
   "id": "6db527a6",
   "metadata": {},
   "outputs": [],
   "source": [
    "# This program converts a list of strings to uppercase\n",
    "def convert_to_uppercase(lst):\n",
    "    return [string.upper() for string in lst]\n",
    "\n",
    "# Example list of strings\n",
    "string_list = [\"hello\", \"world\", \"python\"]\n",
    "\n",
    "# Calling the function and printing the result\n",
    "result = convert_to_uppercase(string_list)\n",
    "print(f\"Uppercase strings: {result}\")"
   ]
  },
  {
   "cell_type": "markdown",
   "id": "1c6763e4",
   "metadata": {},
   "source": [
    "### 55. Create dictionary from two lists using dict comprehension"
   ]
  },
  {
   "cell_type": "code",
   "execution_count": null,
   "id": "61fd0dc6",
   "metadata": {},
   "outputs": [],
   "source": [
    "# This program creates a dictionary from two lists using dictionary comprehension\n",
    "def create_dict(keys, values):\n",
    "    return {keys[i]: values[i] for i in range(len(keys))}\n",
    "\n",
    "# Example lists\n",
    "keys = ['a', 'b', 'c']\n",
    "values = [1, 2, 3]\n",
    "\n",
    "# Calling the function and printing the result\n",
    "result = create_dict(keys, values)\n",
    "print(f\"Created dictionary: {result}\")"
   ]
  },
  {
   "cell_type": "markdown",
   "id": "cf6a5d14",
   "metadata": {},
   "source": [
    "### 56. Flatten a nested list"
   ]
  },
  {
   "cell_type": "code",
   "execution_count": null,
   "id": "60e4f9d3",
   "metadata": {},
   "outputs": [],
   "source": [
    "# This program flattens a nested list\n",
    "def flatten_list(nested_list):\n",
    "    flat_list = []\n",
    "    for item in nested_list:\n",
    "        if isinstance(item, list):\n",
    "            flat_list.extend(flatten_list(item))  # Recursively flatten sublists\n",
    "        else:\n",
    "            flat_list.append(item)\n",
    "    return flat_list\n",
    "\n",
    "# Example nested list\n",
    "nested_list = [1, [2, 3], [4, [5, 6]], 7]\n",
    "\n",
    "# Calling the function and printing the result\n",
    "result = flatten_list(nested_list)\n",
    "print(f\"Flattened list: {result}\")"
   ]
  },
  {
   "cell_type": "markdown",
   "id": "a5100600",
   "metadata": {},
   "source": [
    "### 57. Remove stop words from a list of words"
   ]
  },
  {
   "cell_type": "code",
   "execution_count": null,
   "id": "f6857a10",
   "metadata": {},
   "outputs": [],
   "source": [
    "# This program removes stop words from a list of words\n",
    "def remove_stop_words(word_list, stop_words):\n",
    "    return [word for word in word_list if word not in stop_words]\n",
    "\n",
    "# Example list of words and stop words\n",
    "words = [\"the\", \"quick\", \"brown\", \"fox\", \"jumps\", \"over\", \"the\", \"lazy\", \"dog\"]\n",
    "stop_words = [\"the\", \"over\", \"a\", \"an\"]\n",
    "\n",
    "# Calling the function and printing the result\n",
    "result = remove_stop_words(words, stop_words)\n",
    "print(f\"Words after removing stop words: {result}\")"
   ]
  },
  {
   "cell_type": "markdown",
   "id": "5ee71b4b",
   "metadata": {},
   "source": [
    "### 58. Create list of (number, square) tuples"
   ]
  },
  {
   "cell_type": "code",
   "execution_count": null,
   "id": "47691eef",
   "metadata": {},
   "outputs": [],
   "source": [
    "# This program creates a list of (number, square) tuples using list comprehension\n",
    "def number_square_tuples(n):\n",
    "    return [(x, x**2) for x in range(1, n + 1)]\n",
    "\n",
    "# Example: Creating list of (number, square) tuples from 1 to 5\n",
    "n = 5\n",
    "result = number_square_tuples(n)\n",
    "print(f\"List of (number, square) tuples: {result}\")"
   ]
  },
  {
   "cell_type": "markdown",
   "id": "1fe981a6",
   "metadata": {},
   "source": [
    "### 59. Get unique characters from string"
   ]
  },
  {
   "cell_type": "code",
   "execution_count": null,
   "id": "c1284600",
   "metadata": {},
   "outputs": [],
   "source": [
    "# This program gets unique characters from a string\n",
    "def unique_characters(s):\n",
    "    return ''.join(sorted(set(s)))\n",
    "\n",
    "# Example string\n",
    "input_string = \"programming\"\n",
    "\n",
    "# Calling the function and printing the result\n",
    "result = unique_characters(input_string)\n",
    "print(f\"Unique characters: {result}\")"
   ]
  },
  {
   "cell_type": "markdown",
   "id": "c7d53a9d",
   "metadata": {},
   "source": [
    "### 60. Create matrix using nested list comprehension"
   ]
  },
  {
   "cell_type": "code",
   "execution_count": null,
   "id": "67663bb4",
   "metadata": {},
   "outputs": [],
   "source": [
    "# This program creates a matrix using nested list comprehension\n",
    "def create_matrix(rows, cols):\n",
    "    return [[(i + 1) * (j + 1) for j in range(cols)] for i in range(rows)]\n",
    "\n",
    "# Example: Creating a 3x3 matrix\n",
    "rows, cols = 3, 3\n",
    "result = create_matrix(rows, cols)\n",
    "print(f\"Matrix: {result}\")"
   ]
  },
  {
   "cell_type": "markdown",
   "id": "92b50701",
   "metadata": {},
   "source": [
    "## String Handling"
   ]
  },
  {
   "cell_type": "markdown",
   "id": "ad01ba2a",
   "metadata": {},
   "source": [
    "### 61. Count vowels in a string"
   ]
  },
  {
   "cell_type": "code",
   "execution_count": null,
   "id": "b1c31ebb",
   "metadata": {},
   "outputs": [],
   "source": [
    "# This program counts the number of vowels in a string\n",
    "def count_vowels(s):\n",
    "    vowels = \"aeiouAEIOU\"\n",
    "    return sum(1 for char in s if char in vowels)\n",
    "\n",
    "# Example string\n",
    "input_string = \"Hello, World!\"\n",
    "\n",
    "# Calling the function and printing the result\n",
    "result = count_vowels(input_string)\n",
    "print(f\"Number of vowels: {result}\")"
   ]
  },
  {
   "cell_type": "markdown",
   "id": "b49ff418",
   "metadata": {},
   "source": [
    "### 62. Reverse a string"
   ]
  },
  {
   "cell_type": "code",
   "execution_count": null,
   "id": "dcb1127d",
   "metadata": {},
   "outputs": [],
   "source": [
    "# This program reverses a string\n",
    "def reverse_string(s):\n",
    "    return s[::-1]\n",
    "\n",
    "# Example string\n",
    "input_string = \"Hello, World!\"\n",
    "\n",
    "# Calling the function and printing the result\n",
    "result = reverse_string(input_string)\n",
    "print(f\"Reversed string: {result}\")"
   ]
  },
  {
   "cell_type": "markdown",
   "id": "ea630ce9",
   "metadata": {},
   "source": [
    "### 63. Check if string is palindrome"
   ]
  },
  {
   "cell_type": "code",
   "execution_count": null,
   "id": "d9d8ce89",
   "metadata": {},
   "outputs": [],
   "source": [
    "# This program checks if a string is a palindrome\n",
    "def is_palindrome(s):\n",
    "    return s == s[::-1]\n",
    "\n",
    "# Example string\n",
    "input_string = \"madam\"\n",
    "\n",
    "# Calling the function and printing the result\n",
    "if is_palindrome(input_string):\n",
    "    print(f\"{input_string} is a palindrome.\")\n",
    "else:\n",
    "    print(f\"{input_string} is not a palindrome.\")"
   ]
  },
  {
   "cell_type": "markdown",
   "id": "1f955bdd",
   "metadata": {},
   "source": [
    "### 64. Count word frequency in a sentence"
   ]
  },
  {
   "cell_type": "code",
   "execution_count": null,
   "id": "3ffbcda6",
   "metadata": {},
   "outputs": [],
   "source": [
    "# This program counts the frequency of each word in a sentence\n",
    "def word_frequency(sentence):\n",
    "    words = sentence.split()\n",
    "    freq = {}\n",
    "    for word in words:\n",
    "        freq[word] = freq.get(word, 0) + 1\n",
    "    return freq\n",
    "\n",
    "# Example sentence\n",
    "sentence = \"hello world hello everyone\"\n",
    "\n",
    "# Calling the function and printing the result\n",
    "result = word_frequency(sentence)\n",
    "print(f\"Word frequency: {result}\")"
   ]
  },
  {
   "cell_type": "markdown",
   "id": "fbc071a2",
   "metadata": {},
   "source": [
    "### 65. Find longest word in sentence"
   ]
  },
  {
   "cell_type": "code",
   "execution_count": null,
   "id": "412bc65d",
   "metadata": {},
   "outputs": [],
   "source": [
    "# This program finds the longest word in a sentence\n",
    "def longest_word(sentence):\n",
    "    words = sentence.split()\n",
    "    return max(words, key=len)\n",
    "\n",
    "# Example sentence\n",
    "sentence = \"The quick brown fox jumped over the lazy dog\"\n",
    "\n",
    "# Calling the function and printing the result\n",
    "result = longest_word(sentence)\n",
    "print(f\"The longest word is: {result}\")"
   ]
  },
  {
   "cell_type": "markdown",
   "id": "329031b6",
   "metadata": {},
   "source": [
    "### 66. Replace multiple spaces with one"
   ]
  },
  {
   "cell_type": "code",
   "execution_count": null,
   "id": "130f9047",
   "metadata": {},
   "outputs": [],
   "source": [
    "# This program replaces multiple spaces with a single space\n",
    "def replace_multiple_spaces(sentence):\n",
    "    return ' '.join(sentence.split())\n",
    "\n",
    "# Example sentence with multiple spaces\n",
    "sentence = \"This   is  a  sentence   with   multiple spaces.\"\n",
    "\n",
    "# Calling the function and printing the result\n",
    "result = replace_multiple_spaces(sentence)\n",
    "print(f\"Sentence after replacing multiple spaces: {result}\")"
   ]
  },
  {
   "cell_type": "markdown",
   "id": "0a60673f",
   "metadata": {},
   "source": [
    "### 67. Split and re-join string with '-'"
   ]
  },
  {
   "cell_type": "code",
   "execution_count": null,
   "id": "27133d7b",
   "metadata": {},
   "outputs": [],
   "source": [
    "# This program splits a string by spaces and then joins it with '-'\n",
    "def split_and_join(sentence):\n",
    "    words = sentence.split()\n",
    "    return '-'.join(words)\n",
    "\n",
    "# Example sentence\n",
    "sentence = \"This is a sentence\"\n",
    "\n",
    "# Calling the function and printing the result\n",
    "result = split_and_join(sentence)\n",
    "print(f\"Sentence after split and join: {result}\")"
   ]
  },
  {
   "cell_type": "markdown",
   "id": "ae81f899",
   "metadata": {},
   "source": [
    "### 68. Remove punctuations from string"
   ]
  },
  {
   "cell_type": "code",
   "execution_count": null,
   "id": "4e3fa594",
   "metadata": {},
   "outputs": [],
   "source": [
    "# This program removes punctuations from a string\n",
    "import string\n",
    "\n",
    "def remove_punctuations(s):\n",
    "    return s.translate(str.maketrans('', '', string.punctuation))\n",
    "\n",
    "# Example string\n",
    "input_string = \"Hello, world! How's it going?\"\n",
    "\n",
    "# Calling the function and printing the result\n",
    "result = remove_punctuations(input_string)\n",
    "print(f\"String without punctuations: {result}\")"
   ]
  },
  {
   "cell_type": "markdown",
   "id": "760f518b",
   "metadata": {},
   "source": [
    "### 69. Extract domain from email"
   ]
  },
  {
   "cell_type": "code",
   "execution_count": null,
   "id": "db196773",
   "metadata": {},
   "outputs": [],
   "source": [
    "# This program extracts the domain from an email address\n",
    "def extract_domain(email):\n",
    "    return email.split('@')[-1]\n",
    "\n",
    "# Example email\n",
    "email = \"user@example.com\"\n",
    "\n",
    "# Calling the function and printing the result\n",
    "result = extract_domain(email)\n",
    "print(f\"Domain extracted from email: {result}\")"
   ]
  },
  {
   "cell_type": "markdown",
   "id": "a63a053b",
   "metadata": {},
   "source": [
    "### 70. Format string using .format() and f-strings"
   ]
  },
  {
   "cell_type": "code",
   "execution_count": null,
   "id": "20dcdf14",
   "metadata": {},
   "outputs": [],
   "source": [
    "# This program demonstrates string formatting using both .format() and f-strings\n",
    "\n",
    "# Using .format()\n",
    "name = \"John\"\n",
    "age = 30\n",
    "formatted_string_format = \"My name is {} and I am {} years old.\".format(name, age)\n",
    "\n",
    "# Using f-strings\n",
    "formatted_string_f = f\"My name is {name} and I am {age} years old.\"\n",
    "\n",
    "# Printing both formatted strings\n",
    "print(f\"Using .format(): {formatted_string_format}\")\n",
    "print(f\"Using f-string: {formatted_string_f}\")"
   ]
  },
  {
   "cell_type": "markdown",
   "id": "d25541db",
   "metadata": {},
   "source": [
    "## File Handling"
   ]
  },
  {
   "cell_type": "markdown",
   "id": "ba4bfe41",
   "metadata": {},
   "source": [
    "### 71. Read a text file and print content"
   ]
  },
  {
   "cell_type": "code",
   "execution_count": null,
   "id": "f88ed2bd",
   "metadata": {},
   "outputs": [],
   "source": [
    "# This program reads a text file and prints its content\n",
    "def read_file(file_path):\n",
    "    with open(file_path, 'r') as file:\n",
    "        content = file.read()\n",
    "    return content\n",
    "\n",
    "# Example: Assuming the file 'example.txt' exists in the same directory\n",
    "file_path = \"example.txt\"\n",
    "\n",
    "# Calling the function and printing the result\n",
    "content = read_file(file_path)\n",
    "print(f\"File content:\\n{content}\")"
   ]
  },
  {
   "cell_type": "markdown",
   "id": "ddfb433e",
   "metadata": {},
   "source": [
    "### 72. Count number of lines in a file"
   ]
  },
  {
   "cell_type": "code",
   "execution_count": null,
   "id": "d0de225d",
   "metadata": {},
   "outputs": [],
   "source": [
    "# This program counts the number of lines in a text file\n",
    "def count_lines_in_file(file_path):\n",
    "    with open(file_path, 'r') as file:\n",
    "        lines = file.readlines()\n",
    "    return len(lines)\n",
    "\n",
    "# Example: Assuming the file 'example.txt' exists in the same directory\n",
    "file_path = \"example.txt\"\n",
    "\n",
    "# Calling the function and printing the result\n",
    "line_count = count_lines_in_file(file_path)\n",
    "print(f\"Number of lines in the file: {line_count}\")"
   ]
  },
  {
   "cell_type": "markdown",
   "id": "1cb20a87",
   "metadata": {},
   "source": [
    "### 73. Count word frequency in file"
   ]
  },
  {
   "cell_type": "code",
   "execution_count": null,
   "id": "44e2bac9",
   "metadata": {},
   "outputs": [],
   "source": [
    "# This program counts the frequency of each word in a text file\n",
    "def word_frequency_in_file(file_path):\n",
    "    with open(file_path, 'r') as file:\n",
    "        text = file.read()\n",
    "    \n",
    "    # Split the text into words and count frequencies\n",
    "    words = text.split()\n",
    "    word_count = {}\n",
    "    \n",
    "    for word in words:\n",
    "        word = word.lower().strip(\".,!?\\\"'\")  # Normalize the word\n",
    "        word_count[word] = word_count.get(word, 0) + 1\n",
    "    \n",
    "    return word_count\n",
    "\n",
    "# Example: Assuming the file 'example.txt' exists in the same directory\n",
    "file_path = \"example.txt\"\n",
    "\n",
    "# Calling the function and printing the result\n",
    "word_count = word_frequency_in_file(file_path)\n",
    "print(f\"Word frequency in the file:\\n{word_count}\")"
   ]
  },
  {
   "cell_type": "markdown",
   "id": "b9313d40",
   "metadata": {},
   "source": [
    "### 74. Write user input to a new file"
   ]
  },
  {
   "cell_type": "code",
   "execution_count": null,
   "id": "e1618710",
   "metadata": {},
   "outputs": [],
   "source": [
    "# This program writes user input to a new text file\n",
    "def write_user_input_to_file(file_path):\n",
    "    user_input = input(\"Enter some text: \")\n",
    "    \n",
    "    with open(file_path, 'w') as file:\n",
    "        file.write(user_input)\n",
    "    \n",
    "    print(f\"Your input has been written to {file_path}\")\n",
    "\n",
    "# Example: Writing user input to 'output.txt'\n",
    "file_path = \"output.txt\"\n",
    "\n",
    "# Calling the function\n",
    "write_user_input_to_file(file_path)"
   ]
  },
  {
   "cell_type": "markdown",
   "id": "3415060f",
   "metadata": {},
   "source": [
    "### 75. Append data to file"
   ]
  },
  {
   "cell_type": "code",
   "execution_count": null,
   "id": "747b9fef",
   "metadata": {},
   "outputs": [],
   "source": [
    "# This program appends data to an existing text file\n",
    "def append_data_to_file(file_path, data):\n",
    "    with open(file_path, 'a') as file:\n",
    "        file.write(data + '\\n')  # Appends data with a newline\n",
    "    \n",
    "    print(f\"Data has been appended to {file_path}\")\n",
    "\n",
    "# Example: Appending data to 'output.txt'\n",
    "file_path = \"output.txt\"\n",
    "data = \"This is the new line of text.\"\n",
    "\n",
    "# Calling the function\n",
    "append_data_to_file(file_path, data)"
   ]
  },
  {
   "cell_type": "markdown",
   "id": "ebf33355",
   "metadata": {},
   "source": [
    "### 76. Copy content from one file to another"
   ]
  },
  {
   "cell_type": "code",
   "execution_count": null,
   "id": "fafff3c3",
   "metadata": {},
   "outputs": [],
   "source": [
    "# This program copies content from one file to another\n",
    "def copy_file_content(source_file, destination_file):\n",
    "    with open(source_file, 'r') as src_file:\n",
    "        content = src_file.read()\n",
    "    \n",
    "    with open(destination_file, 'w') as dest_file:\n",
    "        dest_file.write(content)\n",
    "    \n",
    "    print(f\"Content has been copied from {source_file} to {destination_file}\")\n",
    "\n",
    "# Example: Copy content from 'source.txt' to 'destination.txt'\n",
    "source_file = \"source.txt\"\n",
    "destination_file = \"destination.txt\"\n",
    "\n",
    "# Calling the function\n",
    "copy_file_content(source_file, destination_file)"
   ]
  },
  {
   "cell_type": "markdown",
   "id": "8ce33afa",
   "metadata": {},
   "source": [
    "### 77. Read and reverse file content"
   ]
  },
  {
   "cell_type": "code",
   "execution_count": null,
   "id": "c2648195",
   "metadata": {},
   "outputs": [],
   "source": [
    "# This program reads and reverses the content of a file\n",
    "def reverse_file_content(file_path):\n",
    "    with open(file_path, 'r') as file:\n",
    "        content = file.read()\n",
    "    \n",
    "    reversed_content = content[::-1]\n",
    "    \n",
    "    return reversed_content\n",
    "\n",
    "# Example: Reading and reversing content from 'example.txt'\n",
    "file_path = \"example.txt\"\n",
    "\n",
    "# Calling the function and printing the result\n",
    "reversed_content = reverse_file_content(file_path)\n",
    "print(f\"Reversed file content:\\n{reversed_content}\")"
   ]
  },
  {
   "cell_type": "markdown",
   "id": "eb53cbd5",
   "metadata": {},
   "source": [
    "### 78. Remove blank lines from file"
   ]
  },
  {
   "cell_type": "code",
   "execution_count": null,
   "id": "1a0f2620",
   "metadata": {},
   "outputs": [],
   "source": [
    "# This program removes blank lines from a file\n",
    "def remove_blank_lines(file_path, output_file_path):\n",
    "    with open(file_path, 'r') as file:\n",
    "        lines = file.readlines()\n",
    "    \n",
    "    # Filter out blank lines\n",
    "    non_blank_lines = [line for line in lines if line.strip() != '']\n",
    "    \n",
    "    # Write the non-blank lines to the output file\n",
    "    with open(output_file_path, 'w') as output_file:\n",
    "        output_file.writelines(non_blank_lines)\n",
    "    \n",
    "    print(f\"Blank lines have been removed and the result is saved in {output_file_path}\")\n",
    "\n",
    "# Example: Removing blank lines from 'example.txt' and saving to 'output.txt'\n",
    "file_path = \"example.txt\"\n",
    "output_file_path = \"output.txt\"\n",
    "\n",
    "# Calling the function\n",
    "remove_blank_lines(file_path, output_file_path)"
   ]
  },
  {
   "cell_type": "markdown",
   "id": "b032945d",
   "metadata": {},
   "source": [
    "### 79. Read CSV and display row count"
   ]
  },
  {
   "cell_type": "code",
   "execution_count": null,
   "id": "4e83fdb7",
   "metadata": {},
   "outputs": [],
   "source": [
    "import csv\n",
    "\n",
    "# This program reads a CSV file and displays the row count\n",
    "def read_csv_and_row_count(file_path):\n",
    "    with open(file_path, 'r') as file:\n",
    "        reader = csv.reader(file)\n",
    "        rows = list(reader)  # Convert the CSV reader to a list of rows\n",
    "    return len(rows)\n",
    "\n",
    "# Example: Reading 'data.csv' and displaying row count\n",
    "file_path = \"data.csv\"\n",
    "\n",
    "# Calling the function and printing the result\n",
    "row_count = read_csv_and_row_count(file_path)\n",
    "print(f\"Number of rows in the CSV file: {row_count}\")"
   ]
  },
  {
   "cell_type": "markdown",
   "id": "329ce26e",
   "metadata": {},
   "source": [
    "### 80. List all files in a directory using os"
   ]
  },
  {
   "cell_type": "code",
   "execution_count": null,
   "id": "7b785b02",
   "metadata": {},
   "outputs": [],
   "source": [
    "import os\n",
    "\n",
    "# This program lists all files in a specified directory\n",
    "def list_files_in_directory(directory_path):\n",
    "    try:\n",
    "        files = os.listdir(directory_path)\n",
    "        # Filter out only files (exclude directories)\n",
    "        file_list = [f for f in files if os.path.isfile(os.path.join(directory_path, f))]\n",
    "        return file_list\n",
    "    except FileNotFoundError:\n",
    "        return f\"Directory '{directory_path}' not found.\"\n",
    "\n",
    "# Example: Listing files in the current directory\n",
    "directory_path = \".\"\n",
    "\n",
    "# Calling the function and printing the result\n",
    "files = list_files_in_directory(directory_path)\n",
    "print(f\"Files in '{directory_path}':\\n{files}\")"
   ]
  },
  {
   "cell_type": "markdown",
   "id": "81e71ccf",
   "metadata": {},
   "source": [
    "## Modules and Packages"
   ]
  },
  {
   "cell_type": "markdown",
   "id": "285b0ca1",
   "metadata": {},
   "source": [
    "### 81. Import math and calculate log, sin"
   ]
  },
  {
   "cell_type": "code",
   "execution_count": null,
   "id": "55a96ee7",
   "metadata": {},
   "outputs": [],
   "source": [
    "import math\n",
    "\n",
    "# This program calculates logarithm and sine using math module\n",
    "number_for_log = 10\n",
    "angle_in_degrees = 30\n",
    "\n",
    "# Convert angle to radians for sin calculation\n",
    "angle_in_radians = math.radians(angle_in_degrees)\n",
    "\n",
    "# Calculate log base e (natural log) and sin\n",
    "log_result = math.log(number_for_log)\n",
    "sin_result = math.sin(angle_in_radians)\n",
    "\n",
    "# Display results\n",
    "print(f\"Natural log of {number_for_log} is {log_result}\")\n",
    "print(f\"Sine of {angle_in_degrees} degrees is {sin_result}\")"
   ]
  },
  {
   "cell_type": "markdown",
   "id": "aaac6b52",
   "metadata": {},
   "source": [
    "### 82. Generate random password"
   ]
  },
  {
   "cell_type": "code",
   "execution_count": null,
   "id": "715e253f",
   "metadata": {},
   "outputs": [],
   "source": [
    "import random\n",
    "import string\n",
    "\n",
    "# This program generates a random password\n",
    "def generate_password(length=12):\n",
    "    characters = string.ascii_letters + string.digits + string.punctuation\n",
    "    password = ''.join(random.choice(characters) for _ in range(length))\n",
    "    return password\n",
    "\n",
    "# Generate and print a random password\n",
    "password = generate_password()\n",
    "print(f\"Generated password: {password}\")"
   ]
  },
  {
   "cell_type": "markdown",
   "id": "6c5a810b",
   "metadata": {},
   "source": [
    "### 83. Get today's date using datetime"
   ]
  },
  {
   "cell_type": "code",
   "execution_count": null,
   "id": "8eba94de",
   "metadata": {},
   "outputs": [],
   "source": [
    "from datetime import date\n",
    "\n",
    "# This program gets today's date using the datetime module\n",
    "today = date.today()\n",
    "\n",
    "# Print the current date\n",
    "print(f\"Today's date is: {today}\")"
   ]
  },
  {
   "cell_type": "markdown",
   "id": "cab3c01c",
   "metadata": {},
   "source": [
    "### 84. Use calendar to print month"
   ]
  },
  {
   "cell_type": "code",
   "execution_count": null,
   "id": "f8b32d89",
   "metadata": {},
   "outputs": [],
   "source": [
    "import calendar\n",
    "\n",
    "# This program prints the calendar of a specific month and year\n",
    "year = 2025\n",
    "month = 5\n",
    "\n",
    "# Print the calendar for the given month and year\n",
    "print(calendar.month(year, month))"
   ]
  },
  {
   "cell_type": "markdown",
   "id": "282ef605",
   "metadata": {},
   "source": [
    "### 85. Use os to list files in directory"
   ]
  },
  {
   "cell_type": "code",
   "execution_count": null,
   "id": "28e5aa4b",
   "metadata": {},
   "outputs": [],
   "source": [
    "import os\n",
    "\n",
    "# This program lists all files and directories in the specified path\n",
    "def list_directory_contents(path=\".\"):\n",
    "    try:\n",
    "        contents = os.listdir(path)\n",
    "        return contents\n",
    "    except FileNotFoundError:\n",
    "        return f\"Directory '{path}' not found.\"\n",
    "\n",
    "# Example: List contents of the current directory\n",
    "directory_path = \".\"\n",
    "\n",
    "# Calling the function and printing the result\n",
    "contents = list_directory_contents(directory_path)\n",
    "print(f\"Contents of '{directory_path}':\\n{contents}\")"
   ]
  },
  {
   "cell_type": "markdown",
   "id": "32983afb",
   "metadata": {},
   "source": [
    "### 86. Create your own custom module"
   ]
  },
  {
   "cell_type": "code",
   "execution_count": null,
   "id": "ccd8902a",
   "metadata": {},
   "outputs": [],
   "source": [
    "# Step 1: Create a Python file named mymodule.py with a custom function\n",
    "\n",
    "# ---- mymodule.py ----\n",
    "def greet(name):\n",
    "    return f\"Hello, {name}!\"\n",
    "\n",
    "# ----------------------\n",
    "\n",
    "# Step 2: Use the custom module in another Python script\n",
    "\n",
    "# ---- main.py ----\n",
    "import mymodule\n",
    "\n",
    "# Using the custom function from the module\n",
    "message = mymodule.greet(\"GiGi\")\n",
    "print(message)\n",
    "# ------------------"
   ]
  },
  {
   "cell_type": "markdown",
   "id": "a8bb9b72",
   "metadata": {},
   "source": [
    "### 87. Use time.sleep() to pause"
   ]
  },
  {
   "cell_type": "code",
   "execution_count": null,
   "id": "6c81a878",
   "metadata": {},
   "outputs": [],
   "source": [
    "import time\n",
    "\n",
    "# This program pauses execution using time.sleep()\n",
    "\n",
    "print(\"Starting process...\")\n",
    "time.sleep(3)  # Pauses for 3 seconds\n",
    "print(\"Resumed after 3 seconds.\")"
   ]
  },
  {
   "cell_type": "markdown",
   "id": "0046ccfc",
   "metadata": {},
   "source": [
    "### 88. Install and use requests (just import if no internet)"
   ]
  },
  {
   "cell_type": "code",
   "execution_count": null,
   "id": "efc48b11",
   "metadata": {},
   "outputs": [],
   "source": [
    "# This program imports the requests module and (if connected) fetches a webpage\n",
    "\n",
    "import requests\n",
    "\n",
    "print(\"requests module imported successfully.\")"
   ]
  },
  {
   "cell_type": "markdown",
   "id": "3903ed84",
   "metadata": {},
   "source": [
    "### 89. Use platform to get system info"
   ]
  },
  {
   "cell_type": "code",
   "execution_count": null,
   "id": "c52c3035",
   "metadata": {},
   "outputs": [
    {
     "name": "stdout",
     "output_type": "stream",
     "text": [
      "System: Darwin\n",
      "Release: 24.4.0\n",
      "Version: Darwin Kernel Version 24.4.0: Fri Apr 11 18:32:43 PDT 2025; root:xnu-11417.101.15~117/RELEASE_ARM64_T8103\n",
      "Architecture: 64bit\n",
      "Processor: arm\n",
      "Machine: arm64\n"
     ]
    }
   ],
   "source": [
    "import platform\n",
    "\n",
    "# This program retrieves system information using the platform module\n",
    "system = platform.system()\n",
    "release = platform.release()\n",
    "version = platform.version()\n",
    "architecture = platform.architecture()[0]\n",
    "processor = platform.processor()\n",
    "machine = platform.machine()\n",
    "\n",
    "# Display the collected system info\n",
    "print(f\"System: {system}\")\n",
    "print(f\"Release: {release}\")\n",
    "print(f\"Version: {version}\")\n",
    "print(f\"Architecture: {architecture}\")\n",
    "print(f\"Processor: {processor}\")\n",
    "print(f\"Machine: {machine}\")"
   ]
  },
  {
   "cell_type": "markdown",
   "id": "d18d926a",
   "metadata": {},
   "source": [
    "### 90. Create a basic __init__.py file"
   ]
  },
  {
   "cell_type": "code",
   "execution_count": null,
   "id": "9d7cc3b4",
   "metadata": {},
   "outputs": [],
   "source": [
    "# __init__.py\n",
    "\n",
    "# Initialization code for the package\n",
    "print(\"Initializing the package...\")\n",
    "\n",
    "# Optionally, you can import modules from within the package\n",
    "from .module1 import function1\n",
    "from .module2 import function2\n",
    "\n",
    "''' \n",
    "my_package/\n",
    "    __init__.py\n",
    "    module1.py\n",
    "    module2.py\n",
    "'''"
   ]
  },
  {
   "cell_type": "markdown",
   "id": "b6a49a55",
   "metadata": {},
   "source": [
    "## Error Handling"
   ]
  },
  {
   "cell_type": "markdown",
   "id": "3343e256",
   "metadata": {},
   "source": [
    "### 91. Divide two numbers with try-except"
   ]
  },
  {
   "cell_type": "code",
   "execution_count": null,
   "id": "5e0cb519",
   "metadata": {},
   "outputs": [],
   "source": [
    "# This program divides two numbers with error handling using try-except\n",
    "def divide_numbers(num1, num2):\n",
    "    try:\n",
    "        result = num1 / num2\n",
    "    except ZeroDivisionError:\n",
    "        return \"Error: Division by zero is not allowed.\"\n",
    "    except Exception as e:\n",
    "        return f\"Error: {e}\"\n",
    "    else:\n",
    "        return result\n",
    "\n",
    "# Example usage\n",
    "num1 = 10\n",
    "num2 = 0\n",
    "\n",
    "# Calling the function and printing the result\n",
    "result = divide_numbers(num1, num2)\n",
    "print(f\"Result: {result}\")"
   ]
  },
  {
   "cell_type": "markdown",
   "id": "4c05c061",
   "metadata": {},
   "source": [
    "### 92. Handle file not found error"
   ]
  },
  {
   "cell_type": "code",
   "execution_count": null,
   "id": "edc14e64",
   "metadata": {},
   "outputs": [],
   "source": [
    "# This program handles FileNotFoundError when trying to open a file\n",
    "def read_file(file_path):\n",
    "    try:\n",
    "        with open(file_path, 'r') as file:\n",
    "            content = file.read()\n",
    "        return content\n",
    "    except FileNotFoundError:\n",
    "        return f\"Error: The file '{file_path}' was not found.\"\n",
    "    except Exception as e:\n",
    "        return f\"An unexpected error occurred: {e}\"\n",
    "\n",
    "# Example usage\n",
    "file_path = \"nonexistent_file.txt\"\n",
    "\n",
    "# Calling the function and printing the result\n",
    "file_content = read_file(file_path)\n",
    "print(file_content)"
   ]
  },
  {
   "cell_type": "markdown",
   "id": "5603322a",
   "metadata": {},
   "source": [
    "### 93. Handle multiple exceptions"
   ]
  },
  {
   "cell_type": "code",
   "execution_count": null,
   "id": "ece6a9c2",
   "metadata": {},
   "outputs": [],
   "source": [
    "# This program handles multiple exceptions\n",
    "def handle_multiple_exceptions(num1, num2, file_path):\n",
    "    try:\n",
    "        # Dividing the numbers\n",
    "        result = num1 / num2\n",
    "        \n",
    "        # Trying to read a file\n",
    "        with open(file_path, 'r') as file:\n",
    "            content = file.read()\n",
    "        \n",
    "        return result, content\n",
    "    \n",
    "    except ZeroDivisionError:\n",
    "        return \"Error: Division by zero is not allowed.\"\n",
    "    except FileNotFoundError:\n",
    "        return f\"Error: The file '{file_path}' was not found.\"\n",
    "    except Exception as e:\n",
    "        return f\"An unexpected error occurred: {e}\"\n",
    "\n",
    "# Example usage\n",
    "num1 = 10\n",
    "num2 = 0  # This will trigger ZeroDivisionError\n",
    "file_path = \"nonexistent_file.txt\"  # This will trigger FileNotFoundError\n",
    "\n",
    "# Calling the function and printing the result\n",
    "result = handle_multiple_exceptions(num1, num2, file_path)\n",
    "print(result)"
   ]
  },
  {
   "cell_type": "markdown",
   "id": "9afc3198",
   "metadata": {},
   "source": [
    "### 94. Use finally with file closing"
   ]
  },
  {
   "cell_type": "code",
   "execution_count": null,
   "id": "408932e1",
   "metadata": {},
   "outputs": [],
   "source": [
    "# This program demonstrates the use of finally to ensure file closing\n",
    "def read_file(file_path):\n",
    "    try:\n",
    "        file = open(file_path, 'r')\n",
    "        content = file.read()\n",
    "        return content\n",
    "    except FileNotFoundError:\n",
    "        return f\"Error: The file '{file_path}' was not found.\"\n",
    "    finally:\n",
    "        # Ensure the file is closed after the operation\n",
    "        if 'file' in locals():\n",
    "            file.close()\n",
    "            print(\"File has been closed.\")\n",
    "\n",
    "# Example usage\n",
    "file_path = \"example.txt\"\n",
    "\n",
    "# Calling the function and printing the result\n",
    "file_content = read_file(file_path)\n",
    "print(file_content)"
   ]
  },
  {
   "cell_type": "markdown",
   "id": "7fd04011",
   "metadata": {},
   "source": [
    "### 95. Raise a custom exception for age check"
   ]
  },
  {
   "cell_type": "code",
   "execution_count": null,
   "id": "dc8b5b6b",
   "metadata": {},
   "outputs": [],
   "source": [
    "# This program raises a custom exception for age validation\n",
    "\n",
    "# Define a custom exception\n",
    "class AgeError(Exception):\n",
    "    def __init__(self, message):\n",
    "        self.message = message\n",
    "        super().__init__(self.message)\n",
    "\n",
    "# Function to check age\n",
    "def check_age(age):\n",
    "    try:\n",
    "        if age < 18:\n",
    "            raise AgeError(\"Age must be 18 or older.\")\n",
    "        else:\n",
    "            print(\"Age is valid.\")\n",
    "    except AgeError as e:\n",
    "        print(f\"Error: {e}\")\n",
    "\n",
    "# Example usage\n",
    "age = 16  # You can change this to test different ages\n",
    "\n",
    "# Calling the function\n",
    "check_age(age)"
   ]
  },
  {
   "cell_type": "markdown",
   "id": "219d414f",
   "metadata": {},
   "source": [
    "### 96. Catch ValueError in user input"
   ]
  },
  {
   "cell_type": "code",
   "execution_count": null,
   "id": "4777eaba",
   "metadata": {},
   "outputs": [],
   "source": [
    "# This program catches ValueError in user input\n",
    "\n",
    "def get_user_input():\n",
    "    try:\n",
    "        user_input = int(input(\"Please enter a number: \"))\n",
    "        print(f\"You entered: {user_input}\")\n",
    "    except ValueError:\n",
    "        print(\"Error: That's not a valid number! Please enter an integer.\")\n",
    "\n",
    "# Example usage\n",
    "get_user_input()"
   ]
  },
  {
   "cell_type": "markdown",
   "id": "fa808a83",
   "metadata": {},
   "source": [
    "### 97. Create function with internal try-except"
   ]
  },
  {
   "cell_type": "code",
   "execution_count": null,
   "id": "58ce0d59",
   "metadata": {},
   "outputs": [],
   "source": [
    "# This program defines a function with an internal try-except block\n",
    "\n",
    "def divide_numbers(num1, num2):\n",
    "    try:\n",
    "        result = num1 / num2\n",
    "    except ZeroDivisionError:\n",
    "        return \"Error: Cannot divide by zero.\"\n",
    "    except Exception as e:\n",
    "        return f\"An unexpected error occurred: {e}\"\n",
    "    else:\n",
    "        return f\"The result is: {result}\"\n",
    "\n",
    "# Example usage\n",
    "num1 = 10\n",
    "num2 = 0  # This will trigger ZeroDivisionError\n",
    "\n",
    "# Calling the function and printing the result\n",
    "result = divide_numbers(num1, num2)\n",
    "print(result)"
   ]
  },
  {
   "cell_type": "markdown",
   "id": "2a16ea50",
   "metadata": {},
   "source": [
    "### 98. Use assert statement"
   ]
  },
  {
   "cell_type": "code",
   "execution_count": null,
   "id": "332961e2",
   "metadata": {},
   "outputs": [],
   "source": [
    "# This program uses the assert statement to check a condition\n",
    "\n",
    "def check_positive_number(number):\n",
    "    # Assert statement checks if the number is positive\n",
    "    assert number > 0, \"Error: The number must be positive!\"\n",
    "    print(f\"The number {number} is positive.\")\n",
    "\n",
    "# Example usage\n",
    "number = 5  # Change this to test different values\n",
    "\n",
    "# Calling the function\n",
    "check_positive_number(number)"
   ]
  },
  {
   "cell_type": "markdown",
   "id": "f8083e79",
   "metadata": {},
   "source": [
    "### 99. Catch and log an error"
   ]
  },
  {
   "cell_type": "code",
   "execution_count": null,
   "id": "4dd0617d",
   "metadata": {},
   "outputs": [],
   "source": [
    "import logging\n",
    "\n",
    "# Set up logging configuration\n",
    "logging.basicConfig(filename='error_log.txt', level=logging.ERROR)\n",
    "\n",
    "def divide_numbers(num1, num2):\n",
    "    try:\n",
    "        result = num1 / num2\n",
    "    except ZeroDivisionError as e:\n",
    "        # Log the error to a file\n",
    "        logging.error(f\"Error: {e} - Tried to divide {num1} by {num2}\")\n",
    "        return \"Error: Cannot divide by zero.\"\n",
    "    except Exception as e:\n",
    "        # Log any other errors\n",
    "        logging.error(f\"An unexpected error occurred: {e}\")\n",
    "        return f\"An unexpected error occurred: {e}\"\n",
    "    else:\n",
    "        return f\"The result is: {result}\"\n",
    "\n",
    "# Example usage\n",
    "num1 = 10\n",
    "num2 = 0  # This will trigger ZeroDivisionError\n",
    "\n",
    "# Calling the function\n",
    "result = divide_numbers(num1, num2)\n",
    "print(result)"
   ]
  },
  {
   "cell_type": "markdown",
   "id": "27353298",
   "metadata": {},
   "source": [
    "### 100. Retry loop until valid input"
   ]
  },
  {
   "cell_type": "code",
   "execution_count": null,
   "id": "8c598383",
   "metadata": {},
   "outputs": [],
   "source": [
    "# This program prompts the user for a valid number input using a retry loop\n",
    "\n",
    "def get_valid_input():\n",
    "    while True:\n",
    "        try:\n",
    "            user_input = int(input(\"Please enter a valid number: \"))\n",
    "            return user_input\n",
    "        except ValueError:\n",
    "            print(\"Error: That's not a valid number! Please enter an integer.\")\n",
    "        # The loop continues until the user provides a valid number\n",
    "\n",
    "# Example usage\n",
    "valid_number = get_valid_input()\n",
    "print(f\"You entered: {valid_number}\")"
   ]
  },
  {
   "cell_type": "markdown",
   "id": "3cdba135",
   "metadata": {},
   "source": [
    "## Iterators and Generators"
   ]
  },
  {
   "cell_type": "markdown",
   "id": "891aeada",
   "metadata": {},
   "source": [
    "### 101. Create your own iterator class"
   ]
  },
  {
   "cell_type": "code",
   "execution_count": null,
   "id": "b41a4e64",
   "metadata": {},
   "outputs": [],
   "source": []
  },
  {
   "cell_type": "markdown",
   "id": "e0f85cc7",
   "metadata": {},
   "source": [
    "### 102. Loop through an iterable using next()"
   ]
  },
  {
   "cell_type": "code",
   "execution_count": null,
   "id": "8cdc537b",
   "metadata": {},
   "outputs": [],
   "source": []
  },
  {
   "cell_type": "markdown",
   "id": "e42e7271",
   "metadata": {},
   "source": [
    "### 103. Convert a list to iterator"
   ]
  },
  {
   "cell_type": "code",
   "execution_count": null,
   "id": "cf78b0e0",
   "metadata": {},
   "outputs": [],
   "source": []
  },
  {
   "cell_type": "markdown",
   "id": "1fba5cc7",
   "metadata": {},
   "source": [
    "### 104. Create a generator function for Fibonacci"
   ]
  },
  {
   "cell_type": "code",
   "execution_count": null,
   "id": "2f08e0aa",
   "metadata": {},
   "outputs": [],
   "source": []
  },
  {
   "cell_type": "markdown",
   "id": "7c2704fa",
   "metadata": {},
   "source": [
    "### 105. Generator to yield even numbers"
   ]
  },
  {
   "cell_type": "code",
   "execution_count": null,
   "id": "dc404952",
   "metadata": {},
   "outputs": [],
   "source": []
  },
  {
   "cell_type": "markdown",
   "id": "525204fe",
   "metadata": {},
   "source": [
    "### 106. Generator expression to get squares"
   ]
  },
  {
   "cell_type": "code",
   "execution_count": null,
   "id": "314f5e9f",
   "metadata": {},
   "outputs": [],
   "source": []
  },
  {
   "cell_type": "markdown",
   "id": "44aa614e",
   "metadata": {},
   "source": [
    "### 107. Use itertools.cycle()"
   ]
  },
  {
   "cell_type": "code",
   "execution_count": null,
   "id": "90f5aad8",
   "metadata": {},
   "outputs": [],
   "source": []
  },
  {
   "cell_type": "markdown",
   "id": "6957a144",
   "metadata": {},
   "source": [
    "### 108. Infinite number generator"
   ]
  },
  {
   "cell_type": "code",
   "execution_count": null,
   "id": "73a7148b",
   "metadata": {},
   "outputs": [],
   "source": []
  },
  {
   "cell_type": "markdown",
   "id": "1fef4090",
   "metadata": {},
   "source": [
    "### 109. Generator with send() and yield"
   ]
  },
  {
   "cell_type": "code",
   "execution_count": null,
   "id": "7f7fbdf1",
   "metadata": {},
   "outputs": [],
   "source": []
  },
  {
   "cell_type": "markdown",
   "id": "f9c620e8",
   "metadata": {},
   "source": [
    "### 110. Write a generator to read file line by line"
   ]
  },
  {
   "cell_type": "code",
   "execution_count": null,
   "id": "7122df86",
   "metadata": {},
   "outputs": [],
   "source": []
  },
  {
   "cell_type": "markdown",
   "id": "e5ffe029",
   "metadata": {},
   "source": [
    "## Decorators"
   ]
  },
  {
   "cell_type": "markdown",
   "id": "5eebaba6",
   "metadata": {},
   "source": [
    "### 111. Write a basic decorator to print execution time"
   ]
  },
  {
   "cell_type": "code",
   "execution_count": null,
   "id": "f895aac6",
   "metadata": {},
   "outputs": [],
   "source": []
  },
  {
   "cell_type": "markdown",
   "id": "f6cc4919",
   "metadata": {},
   "source": [
    "### 112. Decorator to log function calls"
   ]
  },
  {
   "cell_type": "code",
   "execution_count": null,
   "id": "735bfbe0",
   "metadata": {},
   "outputs": [],
   "source": []
  },
  {
   "cell_type": "markdown",
   "id": "fd8fac19",
   "metadata": {},
   "source": [
    "### 113. Decorator for authentication check"
   ]
  },
  {
   "cell_type": "code",
   "execution_count": null,
   "id": "2152a686",
   "metadata": {},
   "outputs": [],
   "source": []
  },
  {
   "cell_type": "markdown",
   "id": "b558c89b",
   "metadata": {},
   "source": [
    "### 114. Decorator to modify function return"
   ]
  },
  {
   "cell_type": "code",
   "execution_count": null,
   "id": "56da6518",
   "metadata": {},
   "outputs": [],
   "source": []
  },
  {
   "cell_type": "markdown",
   "id": "5aacdbab",
   "metadata": {},
   "source": [
    "### 115. Chain two decorators"
   ]
  },
  {
   "cell_type": "code",
   "execution_count": null,
   "id": "250433a2",
   "metadata": {},
   "outputs": [],
   "source": []
  },
  {
   "cell_type": "markdown",
   "id": "87a0946e",
   "metadata": {},
   "source": [
    "### 116. Decorator to count how many times function is called"
   ]
  },
  {
   "cell_type": "code",
   "execution_count": null,
   "id": "49592385",
   "metadata": {},
   "outputs": [],
   "source": []
  },
  {
   "cell_type": "markdown",
   "id": "81c7b2ac",
   "metadata": {},
   "source": [
    "### 117. Decorator with arguments"
   ]
  },
  {
   "cell_type": "code",
   "execution_count": null,
   "id": "9f6546f3",
   "metadata": {},
   "outputs": [],
   "source": []
  },
  {
   "cell_type": "markdown",
   "id": "640edcd3",
   "metadata": {},
   "source": [
    "### 118. Reuse @wraps from functools"
   ]
  },
  {
   "cell_type": "code",
   "execution_count": null,
   "id": "29ed3fd5",
   "metadata": {},
   "outputs": [],
   "source": []
  },
  {
   "cell_type": "markdown",
   "id": "96200781",
   "metadata": {},
   "source": [
    "### 119. Memoization decorator"
   ]
  },
  {
   "cell_type": "code",
   "execution_count": null,
   "id": "4ef3e802",
   "metadata": {},
   "outputs": [],
   "source": []
  },
  {
   "cell_type": "markdown",
   "id": "a7822fc3",
   "metadata": {},
   "source": [
    "### 120. Debug decorator (print args and return)"
   ]
  },
  {
   "cell_type": "code",
   "execution_count": null,
   "id": "f7cc6595",
   "metadata": {},
   "outputs": [],
   "source": []
  },
  {
   "cell_type": "markdown",
   "id": "e3a51a27",
   "metadata": {},
   "source": [
    "## Context Managers"
   ]
  },
  {
   "cell_type": "markdown",
   "id": "254f5d24",
   "metadata": {},
   "source": [
    "### 121. Use with open() for reading file"
   ]
  },
  {
   "cell_type": "code",
   "execution_count": null,
   "id": "a148f85a",
   "metadata": {},
   "outputs": [],
   "source": []
  },
  {
   "cell_type": "markdown",
   "id": "04afd556",
   "metadata": {},
   "source": [
    "### 122. Create custom context manager with class"
   ]
  },
  {
   "cell_type": "code",
   "execution_count": null,
   "id": "3a0ec881",
   "metadata": {},
   "outputs": [],
   "source": []
  },
  {
   "cell_type": "markdown",
   "id": "460bf7eb",
   "metadata": {},
   "source": [
    "### 123. Use contextlib to create context manager"
   ]
  },
  {
   "cell_type": "code",
   "execution_count": null,
   "id": "5ddc907d",
   "metadata": {},
   "outputs": [],
   "source": []
  },
  {
   "cell_type": "markdown",
   "id": "e3370a3d",
   "metadata": {},
   "source": [
    "### 124. Context manager for timer"
   ]
  },
  {
   "cell_type": "code",
   "execution_count": null,
   "id": "afaf3736",
   "metadata": {},
   "outputs": [],
   "source": []
  },
  {
   "cell_type": "markdown",
   "id": "df908ca9",
   "metadata": {},
   "source": [
    "### 125. Safe database connection mock"
   ]
  },
  {
   "cell_type": "code",
   "execution_count": null,
   "id": "d3a6b4fb",
   "metadata": {},
   "outputs": [],
   "source": []
  },
  {
   "cell_type": "markdown",
   "id": "36d9e489",
   "metadata": {},
   "source": [
    "### 126. File lock context manager"
   ]
  },
  {
   "cell_type": "code",
   "execution_count": null,
   "id": "8a5b7007",
   "metadata": {},
   "outputs": [],
   "source": []
  },
  {
   "cell_type": "markdown",
   "id": "a31f535e",
   "metadata": {},
   "source": [
    "### 127. Suppress exception using contextlib"
   ]
  },
  {
   "cell_type": "code",
   "execution_count": null,
   "id": "2f5d5f09",
   "metadata": {},
   "outputs": [],
   "source": []
  },
  {
   "cell_type": "markdown",
   "id": "888f7e2d",
   "metadata": {},
   "source": [
    "### 128. Logging context"
   ]
  },
  {
   "cell_type": "code",
   "execution_count": null,
   "id": "f01b1a5f",
   "metadata": {},
   "outputs": [],
   "source": []
  },
  {
   "cell_type": "markdown",
   "id": "0fde2330",
   "metadata": {},
   "source": [
    "### 129. Context manager to temporarily change working dir"
   ]
  },
  {
   "cell_type": "code",
   "execution_count": null,
   "id": "02194e11",
   "metadata": {},
   "outputs": [],
   "source": []
  },
  {
   "cell_type": "markdown",
   "id": "3e4dc47e",
   "metadata": {},
   "source": [
    "### 130. Implement retry logic context"
   ]
  },
  {
   "cell_type": "code",
   "execution_count": null,
   "id": "29824925",
   "metadata": {},
   "outputs": [],
   "source": []
  },
  {
   "cell_type": "markdown",
   "id": "be4834b0",
   "metadata": {},
   "source": [
    "## Regular Expressions"
   ]
  },
  {
   "cell_type": "markdown",
   "id": "360bb6dd",
   "metadata": {},
   "source": [
    "### 131. Validate email address"
   ]
  },
  {
   "cell_type": "code",
   "execution_count": null,
   "id": "65090445",
   "metadata": {},
   "outputs": [],
   "source": []
  },
  {
   "cell_type": "markdown",
   "id": "570fc2c0",
   "metadata": {},
   "source": [
    "### 132. Extract all numbers from text"
   ]
  },
  {
   "cell_type": "code",
   "execution_count": null,
   "id": "51d78ff2",
   "metadata": {},
   "outputs": [],
   "source": []
  },
  {
   "cell_type": "markdown",
   "id": "20b8ffb5",
   "metadata": {},
   "source": [
    "### 133. Replace all whitespaces with '-'"
   ]
  },
  {
   "cell_type": "code",
   "execution_count": null,
   "id": "3b7f02bf",
   "metadata": {},
   "outputs": [],
   "source": []
  },
  {
   "cell_type": "markdown",
   "id": "3f26721e",
   "metadata": {},
   "source": [
    "### 134. Check for valid mobile number"
   ]
  },
  {
   "cell_type": "code",
   "execution_count": null,
   "id": "470c6d8f",
   "metadata": {},
   "outputs": [],
   "source": []
  },
  {
   "cell_type": "markdown",
   "id": "d59d1a25",
   "metadata": {},
   "source": [
    "### 135. Count word frequency with regex"
   ]
  },
  {
   "cell_type": "code",
   "execution_count": null,
   "id": "1f51bd97",
   "metadata": {},
   "outputs": [],
   "source": []
  },
  {
   "cell_type": "markdown",
   "id": "182a961c",
   "metadata": {},
   "source": [
    "### 136. Extract hashtags from tweet"
   ]
  },
  {
   "cell_type": "code",
   "execution_count": null,
   "id": "52a9161d",
   "metadata": {},
   "outputs": [],
   "source": []
  },
  {
   "cell_type": "markdown",
   "id": "a82153d0",
   "metadata": {},
   "source": [
    "### 137. Validate strong password"
   ]
  },
  {
   "cell_type": "code",
   "execution_count": null,
   "id": "23496f6e",
   "metadata": {},
   "outputs": [],
   "source": []
  },
  {
   "cell_type": "markdown",
   "id": "1e6f0786",
   "metadata": {},
   "source": [
    "### 138. Find duplicate words in a string"
   ]
  },
  {
   "cell_type": "code",
   "execution_count": null,
   "id": "11593fd2",
   "metadata": {},
   "outputs": [],
   "source": []
  },
  {
   "cell_type": "markdown",
   "id": "16a5d2cc",
   "metadata": {},
   "source": [
    "### 139. Split text on punctuation"
   ]
  },
  {
   "cell_type": "code",
   "execution_count": null,
   "id": "8eac0e77",
   "metadata": {},
   "outputs": [],
   "source": []
  },
  {
   "cell_type": "markdown",
   "id": "5ff8acaa",
   "metadata": {},
   "source": [
    "### 140. Match a date format (dd-mm-yyyy)"
   ]
  },
  {
   "cell_type": "code",
   "execution_count": null,
   "id": "cd280c13",
   "metadata": {},
   "outputs": [],
   "source": []
  },
  {
   "cell_type": "markdown",
   "id": "4af862ea",
   "metadata": {},
   "source": [
    "## Date and Time"
   ]
  },
  {
   "cell_type": "markdown",
   "id": "f9cd6598",
   "metadata": {},
   "source": [
    "### 141. Get current date and time"
   ]
  },
  {
   "cell_type": "code",
   "execution_count": null,
   "id": "b99d4b5f",
   "metadata": {},
   "outputs": [],
   "source": []
  },
  {
   "cell_type": "markdown",
   "id": "79ea5ecb",
   "metadata": {},
   "source": [
    "### 142. Convert string to datetime"
   ]
  },
  {
   "cell_type": "code",
   "execution_count": null,
   "id": "ed54acc3",
   "metadata": {},
   "outputs": [],
   "source": []
  },
  {
   "cell_type": "markdown",
   "id": "def65e84",
   "metadata": {},
   "source": [
    "### 143. Find difference between two dates"
   ]
  },
  {
   "cell_type": "code",
   "execution_count": null,
   "id": "da89d762",
   "metadata": {},
   "outputs": [],
   "source": []
  },
  {
   "cell_type": "markdown",
   "id": "287d9c1e",
   "metadata": {},
   "source": [
    "### 144. Countdown timer using sleep()"
   ]
  },
  {
   "cell_type": "code",
   "execution_count": null,
   "id": "3c57d119",
   "metadata": {},
   "outputs": [],
   "source": []
  },
  {
   "cell_type": "markdown",
   "id": "06c01018",
   "metadata": {},
   "source": [
    "### 145. Add 5 days to current date"
   ]
  },
  {
   "cell_type": "code",
   "execution_count": null,
   "id": "2486c36c",
   "metadata": {},
   "outputs": [],
   "source": []
  },
  {
   "cell_type": "markdown",
   "id": "d5271ff5",
   "metadata": {},
   "source": [
    "### 146. Print time in 12hr format"
   ]
  },
  {
   "cell_type": "code",
   "execution_count": null,
   "id": "d72d0f82",
   "metadata": {},
   "outputs": [],
   "source": []
  },
  {
   "cell_type": "markdown",
   "id": "75cf8752",
   "metadata": {},
   "source": [
    "### 147. Parse date with different format"
   ]
  },
  {
   "cell_type": "code",
   "execution_count": null,
   "id": "37876de0",
   "metadata": {},
   "outputs": [],
   "source": []
  },
  {
   "cell_type": "markdown",
   "id": "0cc2964e",
   "metadata": {},
   "source": [
    "### 148. Measure code execution time"
   ]
  },
  {
   "cell_type": "code",
   "execution_count": null,
   "id": "ee6a784b",
   "metadata": {},
   "outputs": [],
   "source": []
  },
  {
   "cell_type": "markdown",
   "id": "582b1287",
   "metadata": {},
   "source": [
    "### 149. Schedule future event logic"
   ]
  },
  {
   "cell_type": "code",
   "execution_count": null,
   "id": "d7808c98",
   "metadata": {},
   "outputs": [],
   "source": []
  },
  {
   "cell_type": "markdown",
   "id": "dc9a8f5e",
   "metadata": {},
   "source": [
    "### 150. List all dates of current month"
   ]
  },
  {
   "cell_type": "code",
   "execution_count": null,
   "id": "f498718a",
   "metadata": {},
   "outputs": [],
   "source": []
  },
  {
   "cell_type": "markdown",
   "id": "97478ac0",
   "metadata": {},
   "source": [
    "## Math and Statistics"
   ]
  },
  {
   "cell_type": "markdown",
   "id": "430bb73f",
   "metadata": {},
   "source": [
    "### 151. Find factorial using math"
   ]
  },
  {
   "cell_type": "code",
   "execution_count": null,
   "id": "4379bd5a",
   "metadata": {},
   "outputs": [],
   "source": []
  },
  {
   "cell_type": "markdown",
   "id": "c8cd6793",
   "metadata": {},
   "source": [
    "### 152. Generate random numbers"
   ]
  },
  {
   "cell_type": "code",
   "execution_count": null,
   "id": "455bae41",
   "metadata": {},
   "outputs": [],
   "source": []
  },
  {
   "cell_type": "markdown",
   "id": "aeb79b5d",
   "metadata": {},
   "source": [
    "### 153. Convert binary to decimal"
   ]
  },
  {
   "cell_type": "code",
   "execution_count": null,
   "id": "79ce52ba",
   "metadata": {},
   "outputs": [],
   "source": []
  },
  {
   "cell_type": "markdown",
   "id": "fc755a84",
   "metadata": {},
   "source": [
    "### 154. Check for Armstrong number"
   ]
  },
  {
   "cell_type": "code",
   "execution_count": null,
   "id": "8d89d0f5",
   "metadata": {},
   "outputs": [],
   "source": []
  },
  {
   "cell_type": "markdown",
   "id": "9a508b68",
   "metadata": {},
   "source": [
    "### 155. Calculate mean, median, mode"
   ]
  },
  {
   "cell_type": "code",
   "execution_count": null,
   "id": "b47e7576",
   "metadata": {},
   "outputs": [],
   "source": []
  },
  {
   "cell_type": "markdown",
   "id": "b76e7b3e",
   "metadata": {},
   "source": [
    "### 156. Calculate GCD and LCM"
   ]
  },
  {
   "cell_type": "code",
   "execution_count": null,
   "id": "8b9048ef",
   "metadata": {},
   "outputs": [],
   "source": []
  },
  {
   "cell_type": "markdown",
   "id": "c26929bb",
   "metadata": {},
   "source": [
    "### 157. Use cmath for complex roots"
   ]
  },
  {
   "cell_type": "code",
   "execution_count": null,
   "id": "4563c94e",
   "metadata": {},
   "outputs": [],
   "source": []
  },
  {
   "cell_type": "markdown",
   "id": "7263fc2f",
   "metadata": {},
   "source": [
    "### 158. Simulate a dice throw"
   ]
  },
  {
   "cell_type": "code",
   "execution_count": null,
   "id": "a4fb14c8",
   "metadata": {},
   "outputs": [],
   "source": []
  },
  {
   "cell_type": "markdown",
   "id": "c665ab7a",
   "metadata": {},
   "source": [
    "### 159. Use statistics.variance()"
   ]
  },
  {
   "cell_type": "code",
   "execution_count": null,
   "id": "8a2cb4f0",
   "metadata": {},
   "outputs": [],
   "source": []
  },
  {
   "cell_type": "markdown",
   "id": "dd1b0602",
   "metadata": {},
   "source": [
    "### 160. Convert between number bases"
   ]
  },
  {
   "cell_type": "code",
   "execution_count": null,
   "id": "da7d7717",
   "metadata": {},
   "outputs": [],
   "source": []
  },
  {
   "cell_type": "markdown",
   "id": "373ec5d2",
   "metadata": {},
   "source": [
    "## Functional Programming Tools"
   ]
  },
  {
   "cell_type": "markdown",
   "id": "1e13fc9e",
   "metadata": {},
   "source": [
    "### 161. Use map() to square numbers"
   ]
  },
  {
   "cell_type": "code",
   "execution_count": null,
   "id": "12ae1cee",
   "metadata": {},
   "outputs": [],
   "source": []
  },
  {
   "cell_type": "markdown",
   "id": "99e65623",
   "metadata": {},
   "source": [
    "### 162. Use filter() to get odd numbers"
   ]
  },
  {
   "cell_type": "code",
   "execution_count": null,
   "id": "5f1e95f8",
   "metadata": {},
   "outputs": [],
   "source": []
  },
  {
   "cell_type": "markdown",
   "id": "3c65fc16",
   "metadata": {},
   "source": [
    "### 163. Use reduce() to compute factorial"
   ]
  },
  {
   "cell_type": "code",
   "execution_count": null,
   "id": "eee6b3e0",
   "metadata": {},
   "outputs": [],
   "source": []
  },
  {
   "cell_type": "markdown",
   "id": "538c957d",
   "metadata": {},
   "source": [
    "### 164. Use zip() to merge lists"
   ]
  },
  {
   "cell_type": "code",
   "execution_count": null,
   "id": "09f59d48",
   "metadata": {},
   "outputs": [],
   "source": []
  },
  {
   "cell_type": "markdown",
   "id": "460629d1",
   "metadata": {},
   "source": [
    "### 165. Use enumerate() to get index"
   ]
  },
  {
   "cell_type": "code",
   "execution_count": null,
   "id": "4615a725",
   "metadata": {},
   "outputs": [],
   "source": []
  },
  {
   "cell_type": "markdown",
   "id": "f7b72490",
   "metadata": {},
   "source": [
    "### 166. Use sorted() with lambda key"
   ]
  },
  {
   "cell_type": "code",
   "execution_count": null,
   "id": "8ebf2bff",
   "metadata": {},
   "outputs": [],
   "source": []
  },
  {
   "cell_type": "markdown",
   "id": "86544665",
   "metadata": {},
   "source": [
    "### 167. Use all() to validate list"
   ]
  },
  {
   "cell_type": "code",
   "execution_count": null,
   "id": "08eaa6f1",
   "metadata": {},
   "outputs": [],
   "source": []
  },
  {
   "cell_type": "markdown",
   "id": "bd7d8d29",
   "metadata": {},
   "source": [
    "### 168. Use any() to check presence"
   ]
  },
  {
   "cell_type": "code",
   "execution_count": null,
   "id": "cf490a0f",
   "metadata": {},
   "outputs": [],
   "source": []
  },
  {
   "cell_type": "markdown",
   "id": "10ce5554",
   "metadata": {},
   "source": [
    "### 169. Chain map, filter and reduce"
   ]
  },
  {
   "cell_type": "code",
   "execution_count": null,
   "id": "35e14292",
   "metadata": {},
   "outputs": [],
   "source": []
  },
  {
   "cell_type": "markdown",
   "id": "24868d20",
   "metadata": {},
   "source": [
    "### 170. Compare two lists element-wise"
   ]
  },
  {
   "cell_type": "code",
   "execution_count": null,
   "id": "43ecbe48",
   "metadata": {},
   "outputs": [],
   "source": []
  },
  {
   "cell_type": "markdown",
   "id": "242d0d95",
   "metadata": {},
   "source": [
    "## Command-line Arguments"
   ]
  },
  {
   "cell_type": "markdown",
   "id": "617453c9",
   "metadata": {},
   "source": [
    "### 171. Access command-line args using sys.argv"
   ]
  },
  {
   "cell_type": "code",
   "execution_count": null,
   "id": "90885af6",
   "metadata": {},
   "outputs": [],
   "source": []
  },
  {
   "cell_type": "markdown",
   "id": "1d8d1653",
   "metadata": {},
   "source": [
    "### 172. Create script to add numbers from args"
   ]
  },
  {
   "cell_type": "code",
   "execution_count": null,
   "id": "48c38a9e",
   "metadata": {},
   "outputs": [],
   "source": []
  },
  {
   "cell_type": "markdown",
   "id": "1c31f0f2",
   "metadata": {},
   "source": [
    "### 173. Use argparse to take user input"
   ]
  },
  {
   "cell_type": "code",
   "execution_count": null,
   "id": "6c5b7ca2",
   "metadata": {},
   "outputs": [],
   "source": []
  },
  {
   "cell_type": "markdown",
   "id": "2a166310",
   "metadata": {},
   "source": [
    "### 174. Add optional flags using argparse"
   ]
  },
  {
   "cell_type": "code",
   "execution_count": null,
   "id": "e6d5f863",
   "metadata": {},
   "outputs": [],
   "source": []
  },
  {
   "cell_type": "markdown",
   "id": "d237ce8f",
   "metadata": {},
   "source": [
    "### 175. Require --help and usage text"
   ]
  },
  {
   "cell_type": "code",
   "execution_count": null,
   "id": "ba247e8e",
   "metadata": {},
   "outputs": [],
   "source": []
  },
  {
   "cell_type": "markdown",
   "id": "dc060c89",
   "metadata": {},
   "source": [
    "### 176. Add positional arguments"
   ]
  },
  {
   "cell_type": "code",
   "execution_count": null,
   "id": "19761f61",
   "metadata": {},
   "outputs": [],
   "source": []
  },
  {
   "cell_type": "markdown",
   "id": "a677f9de",
   "metadata": {},
   "source": [
    "### 177. Use default values"
   ]
  },
  {
   "cell_type": "code",
   "execution_count": null,
   "id": "c4205ccf",
   "metadata": {},
   "outputs": [],
   "source": []
  },
  {
   "cell_type": "markdown",
   "id": "0e0b7f81",
   "metadata": {},
   "source": [
    "### 178. Combine flags and options"
   ]
  },
  {
   "cell_type": "code",
   "execution_count": null,
   "id": "311d34ed",
   "metadata": {},
   "outputs": [],
   "source": []
  },
  {
   "cell_type": "markdown",
   "id": "aed96e4d",
   "metadata": {},
   "source": [
    "### 179. Create CLI for a mini calculator"
   ]
  },
  {
   "cell_type": "code",
   "execution_count": null,
   "id": "36ac0f34",
   "metadata": {},
   "outputs": [],
   "source": []
  },
  {
   "cell_type": "markdown",
   "id": "b1026c1a",
   "metadata": {},
   "source": [
    "### 180. Validate inputs with argparse"
   ]
  },
  {
   "cell_type": "code",
   "execution_count": null,
   "id": "bcc51fd8",
   "metadata": {},
   "outputs": [],
   "source": []
  },
  {
   "cell_type": "markdown",
   "id": "ddecaee6",
   "metadata": {},
   "source": [
    "## JSON & CSV"
   ]
  },
  {
   "cell_type": "markdown",
   "id": "3edc1455",
   "metadata": {},
   "source": [
    "### 181. Convert dict to JSON string"
   ]
  },
  {
   "cell_type": "code",
   "execution_count": null,
   "id": "8ab13734",
   "metadata": {},
   "outputs": [],
   "source": []
  },
  {
   "cell_type": "markdown",
   "id": "fc632b50",
   "metadata": {},
   "source": [
    "### 182. Read JSON file"
   ]
  },
  {
   "cell_type": "code",
   "execution_count": null,
   "id": "99410567",
   "metadata": {},
   "outputs": [],
   "source": []
  },
  {
   "cell_type": "markdown",
   "id": "12e43883",
   "metadata": {},
   "source": [
    "### 183. Write JSON file"
   ]
  },
  {
   "cell_type": "code",
   "execution_count": null,
   "id": "891eeda7",
   "metadata": {},
   "outputs": [],
   "source": []
  },
  {
   "cell_type": "markdown",
   "id": "2562f107",
   "metadata": {},
   "source": [
    "### 184. Parse nested JSON"
   ]
  },
  {
   "cell_type": "code",
   "execution_count": null,
   "id": "8872e8da",
   "metadata": {},
   "outputs": [],
   "source": []
  },
  {
   "cell_type": "markdown",
   "id": "eb2bc7ca",
   "metadata": {},
   "source": [
    "### 185. Load CSV file and print first 5 rows"
   ]
  },
  {
   "cell_type": "code",
   "execution_count": null,
   "id": "a9c66065",
   "metadata": {},
   "outputs": [],
   "source": []
  },
  {
   "cell_type": "markdown",
   "id": "73bc36c5",
   "metadata": {},
   "source": [
    "### 186. Count rows in CSV"
   ]
  },
  {
   "cell_type": "code",
   "execution_count": null,
   "id": "7856a692",
   "metadata": {},
   "outputs": [],
   "source": []
  },
  {
   "cell_type": "markdown",
   "id": "702434ad",
   "metadata": {},
   "source": [
    "### 187. Convert CSV to list of dicts"
   ]
  },
  {
   "cell_type": "code",
   "execution_count": null,
   "id": "798a1e94",
   "metadata": {},
   "outputs": [],
   "source": []
  },
  {
   "cell_type": "markdown",
   "id": "e88fcf69",
   "metadata": {},
   "source": [
    "### 188. Write to CSV"
   ]
  },
  {
   "cell_type": "code",
   "execution_count": null,
   "id": "81a21c7b",
   "metadata": {},
   "outputs": [],
   "source": []
  },
  {
   "cell_type": "markdown",
   "id": "b6a1d850",
   "metadata": {},
   "source": [
    "### 189. Remove empty rows from CSV"
   ]
  },
  {
   "cell_type": "code",
   "execution_count": null,
   "id": "6c266a25",
   "metadata": {},
   "outputs": [],
   "source": []
  },
  {
   "cell_type": "markdown",
   "id": "bd6915b7",
   "metadata": {},
   "source": [
    "### 190. Merge multiple CSVs"
   ]
  },
  {
   "cell_type": "code",
   "execution_count": null,
   "id": "8f1ed076",
   "metadata": {},
   "outputs": [],
   "source": []
  },
  {
   "cell_type": "markdown",
   "id": "7463d079",
   "metadata": {},
   "source": [
    "## Performance and Memory"
   ]
  },
  {
   "cell_type": "markdown",
   "id": "6052378e",
   "metadata": {},
   "source": [
    "### 191. Use timeit to compare two functions"
   ]
  },
  {
   "cell_type": "code",
   "execution_count": null,
   "id": "ecc8ae52",
   "metadata": {},
   "outputs": [],
   "source": []
  },
  {
   "cell_type": "markdown",
   "id": "49ec0465",
   "metadata": {},
   "source": [
    "### 192. Profile a function with cProfile"
   ]
  },
  {
   "cell_type": "code",
   "execution_count": null,
   "id": "a21d819d",
   "metadata": {},
   "outputs": [],
   "source": []
  },
  {
   "cell_type": "markdown",
   "id": "5f8aca6f",
   "metadata": {},
   "source": [
    "### 193. Measure memory usage with sys.getsizeof()"
   ]
  },
  {
   "cell_type": "code",
   "execution_count": null,
   "id": "f4e53fa2",
   "metadata": {},
   "outputs": [],
   "source": []
  },
  {
   "cell_type": "markdown",
   "id": "13940797",
   "metadata": {},
   "source": [
    "### 194. Optimize a recursive function"
   ]
  },
  {
   "cell_type": "code",
   "execution_count": null,
   "id": "6e935674",
   "metadata": {},
   "outputs": [],
   "source": []
  },
  {
   "cell_type": "markdown",
   "id": "8188f908",
   "metadata": {},
   "source": [
    "### 195. Compare list vs generator memory"
   ]
  },
  {
   "cell_type": "code",
   "execution_count": null,
   "id": "060bdfbe",
   "metadata": {},
   "outputs": [],
   "source": []
  },
  {
   "cell_type": "markdown",
   "id": "a188e5d6",
   "metadata": {},
   "source": [
    "### 196. Use lru_cache for memoization"
   ]
  },
  {
   "cell_type": "code",
   "execution_count": null,
   "id": "15971599",
   "metadata": {},
   "outputs": [],
   "source": []
  },
  {
   "cell_type": "markdown",
   "id": "70466af7",
   "metadata": {},
   "source": [
    "### 197. Create lazy loader using generator"
   ]
  },
  {
   "cell_type": "code",
   "execution_count": null,
   "id": "daf8c4ba",
   "metadata": {},
   "outputs": [],
   "source": []
  },
  {
   "cell_type": "markdown",
   "id": "3d75e4c9",
   "metadata": {},
   "source": [
    "### 198. Check Python version and build"
   ]
  },
  {
   "cell_type": "code",
   "execution_count": null,
   "id": "997e8d2b",
   "metadata": {},
   "outputs": [],
   "source": []
  },
  {
   "cell_type": "markdown",
   "id": "e3beb1bf",
   "metadata": {},
   "source": [
    "### 199. Find bottleneck using profiler"
   ]
  },
  {
   "cell_type": "code",
   "execution_count": null,
   "id": "61e9c287",
   "metadata": {},
   "outputs": [],
   "source": []
  },
  {
   "cell_type": "markdown",
   "id": "640311b3",
   "metadata": {},
   "source": [
    "### 200. Create memory-efficient large data pipeline"
   ]
  },
  {
   "cell_type": "code",
   "execution_count": null,
   "id": "bfc768c6",
   "metadata": {},
   "outputs": [],
   "source": []
  }
 ],
 "metadata": {
  "kernelspec": {
   "display_name": "Python 3",
   "language": "python",
   "name": "python3"
  },
  "language_info": {
   "codemirror_mode": {
    "name": "ipython",
    "version": 3
   },
   "file_extension": ".py",
   "mimetype": "text/x-python",
   "name": "python",
   "nbconvert_exporter": "python",
   "pygments_lexer": "ipython3",
   "version": "3.9.6"
  }
 },
 "nbformat": 4,
 "nbformat_minor": 5
}
