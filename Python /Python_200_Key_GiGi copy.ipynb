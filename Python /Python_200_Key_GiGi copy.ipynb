{
 "cells": [
  {
   "cell_type": "markdown",
   "id": "35a0b819",
   "metadata": {},
   "source": [
    "## Python Basics"
   ]
  },
  {
   "cell_type": "markdown",
   "id": "f47422af",
   "metadata": {},
   "source": [
    "### 1. Print 'Hello, World!'"
   ]
  },
  {
   "cell_type": "code",
   "execution_count": null,
   "id": "67862dbd",
   "metadata": {},
   "outputs": [],
   "source": []
  },
  {
   "cell_type": "markdown",
   "id": "364e1e66",
   "metadata": {},
   "source": [
    "### 2. Take user input and print it"
   ]
  },
  {
   "cell_type": "code",
   "execution_count": null,
   "id": "8a13113e",
   "metadata": {},
   "outputs": [],
   "source": []
  },
  {
   "cell_type": "markdown",
   "id": "54faf0fe",
   "metadata": {},
   "source": [
    "### 3. Convert string to integer and float"
   ]
  },
  {
   "cell_type": "code",
   "execution_count": null,
   "id": "cdb54701",
   "metadata": {},
   "outputs": [],
   "source": []
  },
  {
   "cell_type": "markdown",
   "id": "e0355073",
   "metadata": {},
   "source": [
    "### 4. Swap two variables"
   ]
  },
  {
   "cell_type": "code",
   "execution_count": null,
   "id": "6a134fb7",
   "metadata": {},
   "outputs": [],
   "source": []
  },
  {
   "cell_type": "markdown",
   "id": "5f78bd10",
   "metadata": {},
   "source": [
    "### 5. Find the type of a variable"
   ]
  },
  {
   "cell_type": "code",
   "execution_count": null,
   "id": "4046208a",
   "metadata": {},
   "outputs": [],
   "source": []
  },
  {
   "cell_type": "markdown",
   "id": "1af4d7d2",
   "metadata": {},
   "source": [
    "### 6. Round a float to 2 decimal places"
   ]
  },
  {
   "cell_type": "code",
   "execution_count": null,
   "id": "b6d637d6",
   "metadata": {},
   "outputs": [],
   "source": []
  },
  {
   "cell_type": "markdown",
   "id": "1967f5df",
   "metadata": {},
   "source": [
    "### 7. Convert Celsius to Fahrenheit"
   ]
  },
  {
   "cell_type": "code",
   "execution_count": null,
   "id": "6ccc4d7d",
   "metadata": {},
   "outputs": [],
   "source": []
  },
  {
   "cell_type": "markdown",
   "id": "a54b762c",
   "metadata": {},
   "source": [
    "### 8. Take three inputs and print their average"
   ]
  },
  {
   "cell_type": "code",
   "execution_count": null,
   "id": "772236de",
   "metadata": {},
   "outputs": [],
   "source": []
  },
  {
   "cell_type": "markdown",
   "id": "81fc5df0",
   "metadata": {},
   "source": [
    "### 9. Create a multiline string and print it"
   ]
  },
  {
   "cell_type": "code",
   "execution_count": null,
   "id": "cf778caf",
   "metadata": {},
   "outputs": [],
   "source": []
  },
  {
   "cell_type": "markdown",
   "id": "510e8b79",
   "metadata": {},
   "source": [
    "### 10. Use formatted strings to display name and age"
   ]
  },
  {
   "cell_type": "code",
   "execution_count": null,
   "id": "9f659ffe",
   "metadata": {},
   "outputs": [],
   "source": []
  },
  {
   "cell_type": "markdown",
   "id": "8e93ff14",
   "metadata": {},
   "source": [
    "## Control Flow"
   ]
  },
  {
   "cell_type": "markdown",
   "id": "8b7f947d",
   "metadata": {},
   "source": [
    "### 11. Check if a number is even or odd"
   ]
  },
  {
   "cell_type": "code",
   "execution_count": null,
   "id": "b9021eac",
   "metadata": {},
   "outputs": [],
   "source": []
  },
  {
   "cell_type": "markdown",
   "id": "355c6714",
   "metadata": {},
   "source": [
    "### 12. Find the largest of three numbers"
   ]
  },
  {
   "cell_type": "code",
   "execution_count": null,
   "id": "faa2720d",
   "metadata": {},
   "outputs": [],
   "source": []
  },
  {
   "cell_type": "markdown",
   "id": "bb196991",
   "metadata": {},
   "source": [
    "### 13. Grade calculator (A/B/C/F)"
   ]
  },
  {
   "cell_type": "code",
   "execution_count": null,
   "id": "1408ccc9",
   "metadata": {},
   "outputs": [],
   "source": []
  },
  {
   "cell_type": "markdown",
   "id": "b0b08752",
   "metadata": {},
   "source": [
    "### 14. Check if a number is positive, negative, or zero"
   ]
  },
  {
   "cell_type": "code",
   "execution_count": null,
   "id": "e0aeb621",
   "metadata": {},
   "outputs": [],
   "source": []
  },
  {
   "cell_type": "markdown",
   "id": "7498bfa2",
   "metadata": {},
   "source": [
    "### 15. Leap year checker"
   ]
  },
  {
   "cell_type": "code",
   "execution_count": null,
   "id": "b8620fc4",
   "metadata": {},
   "outputs": [],
   "source": []
  },
  {
   "cell_type": "markdown",
   "id": "57ccb6cf",
   "metadata": {},
   "source": [
    "### 16. Traffic light logic using if-elif-else"
   ]
  },
  {
   "cell_type": "code",
   "execution_count": null,
   "id": "528b51b2",
   "metadata": {},
   "outputs": [],
   "source": []
  },
  {
   "cell_type": "markdown",
   "id": "dc2c09ca",
   "metadata": {},
   "source": [
    "### 17. Check if character is vowel or consonant"
   ]
  },
  {
   "cell_type": "code",
   "execution_count": null,
   "id": "0a780478",
   "metadata": {},
   "outputs": [],
   "source": []
  },
  {
   "cell_type": "markdown",
   "id": "8112144b",
   "metadata": {},
   "source": [
    "### 18. Find if number is in a specific range"
   ]
  },
  {
   "cell_type": "code",
   "execution_count": null,
   "id": "597ac1db",
   "metadata": {},
   "outputs": [],
   "source": []
  },
  {
   "cell_type": "markdown",
   "id": "4f0c5cfd",
   "metadata": {},
   "source": [
    "### 19. Password checker with multiple conditions"
   ]
  },
  {
   "cell_type": "code",
   "execution_count": null,
   "id": "910bdef6",
   "metadata": {},
   "outputs": [],
   "source": []
  },
  {
   "cell_type": "markdown",
   "id": "2557e032",
   "metadata": {},
   "source": [
    "### 20. Build a simple calculator with if statements"
   ]
  },
  {
   "cell_type": "code",
   "execution_count": null,
   "id": "586f5ae4",
   "metadata": {},
   "outputs": [],
   "source": []
  },
  {
   "cell_type": "markdown",
   "id": "71f8604e",
   "metadata": {},
   "source": [
    "## Loops and Iteration"
   ]
  },
  {
   "cell_type": "markdown",
   "id": "231ccc54",
   "metadata": {},
   "source": [
    "### 21. Print numbers from 1 to 100"
   ]
  },
  {
   "cell_type": "code",
   "execution_count": null,
   "id": "731a007c",
   "metadata": {},
   "outputs": [],
   "source": []
  },
  {
   "cell_type": "markdown",
   "id": "a02a0874",
   "metadata": {},
   "source": [
    "### 22. Print even numbers from 1 to N"
   ]
  },
  {
   "cell_type": "code",
   "execution_count": null,
   "id": "1e070a73",
   "metadata": {},
   "outputs": [],
   "source": []
  },
  {
   "cell_type": "markdown",
   "id": "ed262d61",
   "metadata": {},
   "source": [
    "### 23. Sum of numbers from 1 to N"
   ]
  },
  {
   "cell_type": "code",
   "execution_count": null,
   "id": "c82e827b",
   "metadata": {},
   "outputs": [],
   "source": []
  },
  {
   "cell_type": "markdown",
   "id": "87a9997c",
   "metadata": {},
   "source": [
    "### 24. Print multiplication table of a number"
   ]
  },
  {
   "cell_type": "code",
   "execution_count": null,
   "id": "392d9af7",
   "metadata": {},
   "outputs": [],
   "source": []
  },
  {
   "cell_type": "markdown",
   "id": "2777d8bc",
   "metadata": {},
   "source": [
    "### 25. Find factorial using loop"
   ]
  },
  {
   "cell_type": "code",
   "execution_count": null,
   "id": "704e4945",
   "metadata": {},
   "outputs": [],
   "source": []
  },
  {
   "cell_type": "markdown",
   "id": "62b86eae",
   "metadata": {},
   "source": [
    "### 26. Print reverse of a number"
   ]
  },
  {
   "cell_type": "code",
   "execution_count": null,
   "id": "320e6104",
   "metadata": {},
   "outputs": [],
   "source": []
  },
  {
   "cell_type": "markdown",
   "id": "8d56a9b4",
   "metadata": {},
   "source": [
    "### 27. Count digits in a number"
   ]
  },
  {
   "cell_type": "code",
   "execution_count": null,
   "id": "f68a9bd8",
   "metadata": {},
   "outputs": [],
   "source": []
  },
  {
   "cell_type": "markdown",
   "id": "45575c8d",
   "metadata": {},
   "source": [
    "### 28. Sum of digits of a number"
   ]
  },
  {
   "cell_type": "code",
   "execution_count": null,
   "id": "3222241b",
   "metadata": {},
   "outputs": [],
   "source": []
  },
  {
   "cell_type": "markdown",
   "id": "2cd574eb",
   "metadata": {},
   "source": [
    "### 29. Break on specific input in loop"
   ]
  },
  {
   "cell_type": "code",
   "execution_count": null,
   "id": "ad03b83f",
   "metadata": {},
   "outputs": [],
   "source": []
  },
  {
   "cell_type": "markdown",
   "id": "bdd6a863",
   "metadata": {},
   "source": [
    "### 30. Nested loop: pattern printing"
   ]
  },
  {
   "cell_type": "code",
   "execution_count": null,
   "id": "2ac84a70",
   "metadata": {},
   "outputs": [],
   "source": []
  },
  {
   "cell_type": "markdown",
   "id": "304ec06f",
   "metadata": {},
   "source": [
    "## Functions"
   ]
  },
  {
   "cell_type": "markdown",
   "id": "201ae0ec",
   "metadata": {},
   "source": [
    "### 31. Write a function to add two numbers"
   ]
  },
  {
   "cell_type": "code",
   "execution_count": null,
   "id": "97890d91",
   "metadata": {},
   "outputs": [],
   "source": []
  },
  {
   "cell_type": "markdown",
   "id": "26f653d7",
   "metadata": {},
   "source": [
    "### 32. Function to return factorial"
   ]
  },
  {
   "cell_type": "code",
   "execution_count": null,
   "id": "d37f880b",
   "metadata": {},
   "outputs": [],
   "source": []
  },
  {
   "cell_type": "markdown",
   "id": "26cd5325",
   "metadata": {},
   "source": [
    "### 33. Function to check prime number"
   ]
  },
  {
   "cell_type": "code",
   "execution_count": null,
   "id": "01de12d1",
   "metadata": {},
   "outputs": [],
   "source": []
  },
  {
   "cell_type": "markdown",
   "id": "67deaf84",
   "metadata": {},
   "source": [
    "### 34. Function with default argument"
   ]
  },
  {
   "cell_type": "code",
   "execution_count": null,
   "id": "7e058fb1",
   "metadata": {},
   "outputs": [],
   "source": []
  },
  {
   "cell_type": "markdown",
   "id": "12f3a025",
   "metadata": {},
   "source": [
    "### 35. Use *args to sum any number of inputs"
   ]
  },
  {
   "cell_type": "code",
   "execution_count": null,
   "id": "e46401d6",
   "metadata": {},
   "outputs": [],
   "source": []
  },
  {
   "cell_type": "markdown",
   "id": "53b48b9e",
   "metadata": {},
   "source": [
    "### 36. Use **kwargs to format a greeting"
   ]
  },
  {
   "cell_type": "code",
   "execution_count": null,
   "id": "27811b85",
   "metadata": {},
   "outputs": [],
   "source": []
  },
  {
   "cell_type": "markdown",
   "id": "7e9bacdb",
   "metadata": {},
   "source": [
    "### 37. Write a recursive Fibonacci function"
   ]
  },
  {
   "cell_type": "code",
   "execution_count": null,
   "id": "ebada05d",
   "metadata": {},
   "outputs": [],
   "source": []
  },
  {
   "cell_type": "markdown",
   "id": "f711710f",
   "metadata": {},
   "source": [
    "### 38. Convert map() logic to function"
   ]
  },
  {
   "cell_type": "code",
   "execution_count": null,
   "id": "05ca6f84",
   "metadata": {},
   "outputs": [],
   "source": []
  },
  {
   "cell_type": "markdown",
   "id": "a6c7d4d9",
   "metadata": {},
   "source": [
    "### 39. Return multiple values from a function"
   ]
  },
  {
   "cell_type": "code",
   "execution_count": null,
   "id": "189454f5",
   "metadata": {},
   "outputs": [],
   "source": []
  },
  {
   "cell_type": "markdown",
   "id": "520d8002",
   "metadata": {},
   "source": [
    "### 40. Write a function with inner/nested functions"
   ]
  },
  {
   "cell_type": "code",
   "execution_count": null,
   "id": "680f05bb",
   "metadata": {},
   "outputs": [],
   "source": []
  },
  {
   "cell_type": "markdown",
   "id": "4f39af15",
   "metadata": {},
   "source": [
    "## Data Structures - Lists, Tuples, Dicts, Sets"
   ]
  },
  {
   "cell_type": "markdown",
   "id": "8a9d07bd",
   "metadata": {},
   "source": [
    "### 41. Reverse a list without using reverse()"
   ]
  },
  {
   "cell_type": "code",
   "execution_count": null,
   "id": "6bca45d8",
   "metadata": {},
   "outputs": [],
   "source": []
  },
  {
   "cell_type": "markdown",
   "id": "832f8daa",
   "metadata": {},
   "source": [
    "### 42. Find duplicates in a list"
   ]
  },
  {
   "cell_type": "code",
   "execution_count": null,
   "id": "aa145396",
   "metadata": {},
   "outputs": [],
   "source": []
  },
  {
   "cell_type": "markdown",
   "id": "f15b09c9",
   "metadata": {},
   "source": [
    "### 43. Convert list to set and back"
   ]
  },
  {
   "cell_type": "code",
   "execution_count": null,
   "id": "50ee48d3",
   "metadata": {},
   "outputs": [],
   "source": []
  },
  {
   "cell_type": "markdown",
   "id": "a7c9ad1a",
   "metadata": {},
   "source": [
    "### 44. Sort a list of tuples by 2nd value"
   ]
  },
  {
   "cell_type": "code",
   "execution_count": null,
   "id": "804ce3dd",
   "metadata": {},
   "outputs": [],
   "source": []
  },
  {
   "cell_type": "markdown",
   "id": "debddfb4",
   "metadata": {},
   "source": [
    "### 45. Merge two dictionaries"
   ]
  },
  {
   "cell_type": "code",
   "execution_count": null,
   "id": "bc403142",
   "metadata": {},
   "outputs": [],
   "source": []
  },
  {
   "cell_type": "markdown",
   "id": "82be1253",
   "metadata": {},
   "source": [
    "### 46. Access deeply nested dictionary"
   ]
  },
  {
   "cell_type": "code",
   "execution_count": null,
   "id": "56370fa7",
   "metadata": {},
   "outputs": [],
   "source": []
  },
  {
   "cell_type": "markdown",
   "id": "08b510cd",
   "metadata": {},
   "source": [
    "### 47. Frequency count using dictionary"
   ]
  },
  {
   "cell_type": "code",
   "execution_count": null,
   "id": "411e6589",
   "metadata": {},
   "outputs": [],
   "source": []
  },
  {
   "cell_type": "markdown",
   "id": "f1fc7956",
   "metadata": {},
   "source": [
    "### 48. Remove duplicates from list using set"
   ]
  },
  {
   "cell_type": "code",
   "execution_count": null,
   "id": "b160ffe6",
   "metadata": {},
   "outputs": [],
   "source": []
  },
  {
   "cell_type": "markdown",
   "id": "1b5820a8",
   "metadata": {},
   "source": [
    "### 49. Find intersection of two sets"
   ]
  },
  {
   "cell_type": "code",
   "execution_count": null,
   "id": "78e917e5",
   "metadata": {},
   "outputs": [],
   "source": []
  },
  {
   "cell_type": "markdown",
   "id": "caa007e3",
   "metadata": {},
   "source": [
    "### 50. Use zip() to combine two lists into dictionary"
   ]
  },
  {
   "cell_type": "code",
   "execution_count": null,
   "id": "bbe91b41",
   "metadata": {},
   "outputs": [],
   "source": []
  },
  {
   "cell_type": "markdown",
   "id": "c15c523e",
   "metadata": {},
   "source": [
    "## Comprehensions"
   ]
  },
  {
   "cell_type": "markdown",
   "id": "ec837da1",
   "metadata": {},
   "source": [
    "### 51. Create list of squares using list comprehension"
   ]
  },
  {
   "cell_type": "code",
   "execution_count": null,
   "id": "7d54e726",
   "metadata": {},
   "outputs": [],
   "source": []
  },
  {
   "cell_type": "markdown",
   "id": "25ee3654",
   "metadata": {},
   "source": [
    "### 52. Create list of even numbers from 1 to 50"
   ]
  },
  {
   "cell_type": "code",
   "execution_count": null,
   "id": "f131a992",
   "metadata": {},
   "outputs": [],
   "source": []
  },
  {
   "cell_type": "markdown",
   "id": "7e9be0f7",
   "metadata": {},
   "source": [
    "### 53. Extract only vowels from string"
   ]
  },
  {
   "cell_type": "code",
   "execution_count": null,
   "id": "7bcbfa24",
   "metadata": {},
   "outputs": [],
   "source": []
  },
  {
   "cell_type": "markdown",
   "id": "b5fd4c47",
   "metadata": {},
   "source": [
    "### 54. Convert list of strings to uppercase"
   ]
  },
  {
   "cell_type": "code",
   "execution_count": null,
   "id": "6db527a6",
   "metadata": {},
   "outputs": [],
   "source": []
  },
  {
   "cell_type": "markdown",
   "id": "1c6763e4",
   "metadata": {},
   "source": [
    "### 55. Create dictionary from two lists using dict comprehension"
   ]
  },
  {
   "cell_type": "code",
   "execution_count": null,
   "id": "61fd0dc6",
   "metadata": {},
   "outputs": [],
   "source": []
  },
  {
   "cell_type": "markdown",
   "id": "cf6a5d14",
   "metadata": {},
   "source": [
    "### 56. Flatten a nested list"
   ]
  },
  {
   "cell_type": "code",
   "execution_count": null,
   "id": "60e4f9d3",
   "metadata": {},
   "outputs": [],
   "source": []
  },
  {
   "cell_type": "markdown",
   "id": "a5100600",
   "metadata": {},
   "source": [
    "### 57. Remove stop words from a list of words"
   ]
  },
  {
   "cell_type": "code",
   "execution_count": null,
   "id": "f6857a10",
   "metadata": {},
   "outputs": [],
   "source": []
  },
  {
   "cell_type": "markdown",
   "id": "5ee71b4b",
   "metadata": {},
   "source": [
    "### 58. Create list of (number, square) tuples"
   ]
  },
  {
   "cell_type": "code",
   "execution_count": null,
   "id": "47691eef",
   "metadata": {},
   "outputs": [],
   "source": []
  },
  {
   "cell_type": "markdown",
   "id": "1fe981a6",
   "metadata": {},
   "source": [
    "### 59. Get unique characters from string"
   ]
  },
  {
   "cell_type": "code",
   "execution_count": null,
   "id": "c1284600",
   "metadata": {},
   "outputs": [],
   "source": []
  },
  {
   "cell_type": "markdown",
   "id": "c7d53a9d",
   "metadata": {},
   "source": [
    "### 60. Create matrix using nested list comprehension"
   ]
  },
  {
   "cell_type": "code",
   "execution_count": null,
   "id": "67663bb4",
   "metadata": {},
   "outputs": [],
   "source": []
  },
  {
   "cell_type": "markdown",
   "id": "92b50701",
   "metadata": {},
   "source": [
    "## String Handling"
   ]
  },
  {
   "cell_type": "markdown",
   "id": "ad01ba2a",
   "metadata": {},
   "source": [
    "### 61. Count vowels in a string"
   ]
  },
  {
   "cell_type": "code",
   "execution_count": null,
   "id": "b1c31ebb",
   "metadata": {},
   "outputs": [],
   "source": []
  },
  {
   "cell_type": "markdown",
   "id": "b49ff418",
   "metadata": {},
   "source": [
    "### 62. Reverse a string"
   ]
  },
  {
   "cell_type": "code",
   "execution_count": null,
   "id": "dcb1127d",
   "metadata": {},
   "outputs": [],
   "source": []
  },
  {
   "cell_type": "markdown",
   "id": "ea630ce9",
   "metadata": {},
   "source": [
    "### 63. Check if string is palindrome"
   ]
  },
  {
   "cell_type": "code",
   "execution_count": null,
   "id": "d9d8ce89",
   "metadata": {},
   "outputs": [],
   "source": []
  },
  {
   "cell_type": "markdown",
   "id": "1f955bdd",
   "metadata": {},
   "source": [
    "### 64. Count word frequency in a sentence"
   ]
  },
  {
   "cell_type": "code",
   "execution_count": null,
   "id": "3ffbcda6",
   "metadata": {},
   "outputs": [],
   "source": []
  },
  {
   "cell_type": "markdown",
   "id": "fbc071a2",
   "metadata": {},
   "source": [
    "### 65. Find longest word in sentence"
   ]
  },
  {
   "cell_type": "code",
   "execution_count": null,
   "id": "412bc65d",
   "metadata": {},
   "outputs": [],
   "source": []
  },
  {
   "cell_type": "markdown",
   "id": "329031b6",
   "metadata": {},
   "source": [
    "### 66. Replace multiple spaces with one"
   ]
  },
  {
   "cell_type": "code",
   "execution_count": null,
   "id": "130f9047",
   "metadata": {},
   "outputs": [],
   "source": []
  },
  {
   "cell_type": "markdown",
   "id": "0a60673f",
   "metadata": {},
   "source": [
    "### 67. Split and re-join string with '-'"
   ]
  },
  {
   "cell_type": "code",
   "execution_count": null,
   "id": "27133d7b",
   "metadata": {},
   "outputs": [],
   "source": []
  },
  {
   "cell_type": "markdown",
   "id": "ae81f899",
   "metadata": {},
   "source": [
    "### 68. Remove punctuations from string"
   ]
  },
  {
   "cell_type": "code",
   "execution_count": null,
   "id": "4e3fa594",
   "metadata": {},
   "outputs": [],
   "source": []
  },
  {
   "cell_type": "markdown",
   "id": "760f518b",
   "metadata": {},
   "source": [
    "### 69. Extract domain from email"
   ]
  },
  {
   "cell_type": "code",
   "execution_count": null,
   "id": "db196773",
   "metadata": {},
   "outputs": [],
   "source": []
  },
  {
   "cell_type": "markdown",
   "id": "a63a053b",
   "metadata": {},
   "source": [
    "### 70. Format string using .format() and f-strings"
   ]
  },
  {
   "cell_type": "code",
   "execution_count": null,
   "id": "20dcdf14",
   "metadata": {},
   "outputs": [],
   "source": []
  },
  {
   "cell_type": "markdown",
   "id": "d25541db",
   "metadata": {},
   "source": [
    "## File Handling"
   ]
  },
  {
   "cell_type": "markdown",
   "id": "ba4bfe41",
   "metadata": {},
   "source": [
    "### 71. Read a text file and print content"
   ]
  },
  {
   "cell_type": "code",
   "execution_count": null,
   "id": "f88ed2bd",
   "metadata": {},
   "outputs": [],
   "source": []
  },
  {
   "cell_type": "markdown",
   "id": "ddfb433e",
   "metadata": {},
   "source": [
    "### 72. Count number of lines in a file"
   ]
  },
  {
   "cell_type": "code",
   "execution_count": null,
   "id": "d0de225d",
   "metadata": {},
   "outputs": [],
   "source": []
  },
  {
   "cell_type": "markdown",
   "id": "1cb20a87",
   "metadata": {},
   "source": [
    "### 73. Count word frequency in file"
   ]
  },
  {
   "cell_type": "code",
   "execution_count": null,
   "id": "44e2bac9",
   "metadata": {},
   "outputs": [],
   "source": []
  },
  {
   "cell_type": "markdown",
   "id": "b9313d40",
   "metadata": {},
   "source": [
    "### 74. Write user input to a new file"
   ]
  },
  {
   "cell_type": "code",
   "execution_count": null,
   "id": "e1618710",
   "metadata": {},
   "outputs": [],
   "source": []
  },
  {
   "cell_type": "markdown",
   "id": "3415060f",
   "metadata": {},
   "source": [
    "### 75. Append data to file"
   ]
  },
  {
   "cell_type": "code",
   "execution_count": null,
   "id": "747b9fef",
   "metadata": {},
   "outputs": [],
   "source": []
  },
  {
   "cell_type": "markdown",
   "id": "ebf33355",
   "metadata": {},
   "source": [
    "### 76. Copy content from one file to another"
   ]
  },
  {
   "cell_type": "code",
   "execution_count": null,
   "id": "fafff3c3",
   "metadata": {},
   "outputs": [],
   "source": []
  },
  {
   "cell_type": "markdown",
   "id": "8ce33afa",
   "metadata": {},
   "source": [
    "### 77. Read and reverse file content"
   ]
  },
  {
   "cell_type": "code",
   "execution_count": null,
   "id": "c2648195",
   "metadata": {},
   "outputs": [],
   "source": []
  },
  {
   "cell_type": "markdown",
   "id": "eb53cbd5",
   "metadata": {},
   "source": [
    "### 78. Remove blank lines from file"
   ]
  },
  {
   "cell_type": "code",
   "execution_count": null,
   "id": "1a0f2620",
   "metadata": {},
   "outputs": [],
   "source": []
  },
  {
   "cell_type": "markdown",
   "id": "b032945d",
   "metadata": {},
   "source": [
    "### 79. Read CSV and display row count"
   ]
  },
  {
   "cell_type": "code",
   "execution_count": null,
   "id": "4e83fdb7",
   "metadata": {},
   "outputs": [],
   "source": []
  },
  {
   "cell_type": "markdown",
   "id": "329ce26e",
   "metadata": {},
   "source": [
    "### 80. List all files in a directory using os"
   ]
  },
  {
   "cell_type": "code",
   "execution_count": null,
   "id": "7b785b02",
   "metadata": {},
   "outputs": [],
   "source": []
  },
  {
   "cell_type": "markdown",
   "id": "81e71ccf",
   "metadata": {},
   "source": [
    "## Modules and Packages"
   ]
  },
  {
   "cell_type": "markdown",
   "id": "285b0ca1",
   "metadata": {},
   "source": [
    "### 81. Import math and calculate log, sin"
   ]
  },
  {
   "cell_type": "code",
   "execution_count": null,
   "id": "55a96ee7",
   "metadata": {},
   "outputs": [],
   "source": []
  },
  {
   "cell_type": "markdown",
   "id": "aaac6b52",
   "metadata": {},
   "source": [
    "### 82. Generate random password"
   ]
  },
  {
   "cell_type": "code",
   "execution_count": null,
   "id": "715e253f",
   "metadata": {},
   "outputs": [],
   "source": []
  },
  {
   "cell_type": "markdown",
   "id": "6c5a810b",
   "metadata": {},
   "source": [
    "### 83. Get today's date using datetime"
   ]
  },
  {
   "cell_type": "code",
   "execution_count": null,
   "id": "8eba94de",
   "metadata": {},
   "outputs": [],
   "source": []
  },
  {
   "cell_type": "markdown",
   "id": "cab3c01c",
   "metadata": {},
   "source": [
    "### 84. Use calendar to print month"
   ]
  },
  {
   "cell_type": "code",
   "execution_count": null,
   "id": "f8b32d89",
   "metadata": {},
   "outputs": [],
   "source": []
  },
  {
   "cell_type": "markdown",
   "id": "282ef605",
   "metadata": {},
   "source": [
    "### 85. Use os to list files in directory"
   ]
  },
  {
   "cell_type": "code",
   "execution_count": null,
   "id": "28e5aa4b",
   "metadata": {},
   "outputs": [],
   "source": []
  },
  {
   "cell_type": "markdown",
   "id": "32983afb",
   "metadata": {},
   "source": [
    "### 86. Create your own custom module"
   ]
  },
  {
   "cell_type": "code",
   "execution_count": null,
   "id": "ccd8902a",
   "metadata": {},
   "outputs": [],
   "source": []
  },
  {
   "cell_type": "markdown",
   "id": "a8bb9b72",
   "metadata": {},
   "source": [
    "### 87. Use time.sleep() to pause"
   ]
  },
  {
   "cell_type": "code",
   "execution_count": null,
   "id": "6c81a878",
   "metadata": {},
   "outputs": [],
   "source": []
  },
  {
   "cell_type": "markdown",
   "id": "0046ccfc",
   "metadata": {},
   "source": [
    "### 88. Install and use requests (just import if no internet)"
   ]
  },
  {
   "cell_type": "code",
   "execution_count": null,
   "id": "efc48b11",
   "metadata": {},
   "outputs": [],
   "source": []
  },
  {
   "cell_type": "markdown",
   "id": "3903ed84",
   "metadata": {},
   "source": [
    "### 89. Use platform to get system info"
   ]
  },
  {
   "cell_type": "code",
   "execution_count": null,
   "id": "c52c3035",
   "metadata": {},
   "outputs": [],
   "source": []
  },
  {
   "cell_type": "markdown",
   "id": "d18d926a",
   "metadata": {},
   "source": [
    "### 90. Create a basic __init__.py file"
   ]
  },
  {
   "cell_type": "code",
   "execution_count": null,
   "id": "9d7cc3b4",
   "metadata": {},
   "outputs": [],
   "source": []
  },
  {
   "cell_type": "markdown",
   "id": "b6a49a55",
   "metadata": {},
   "source": [
    "## Error Handling"
   ]
  },
  {
   "cell_type": "markdown",
   "id": "3343e256",
   "metadata": {},
   "source": [
    "### 91. Divide two numbers with try-except"
   ]
  },
  {
   "cell_type": "code",
   "execution_count": null,
   "id": "5e0cb519",
   "metadata": {},
   "outputs": [],
   "source": []
  },
  {
   "cell_type": "markdown",
   "id": "4c05c061",
   "metadata": {},
   "source": [
    "### 92. Handle file not found error"
   ]
  },
  {
   "cell_type": "code",
   "execution_count": null,
   "id": "edc14e64",
   "metadata": {},
   "outputs": [],
   "source": []
  },
  {
   "cell_type": "markdown",
   "id": "5603322a",
   "metadata": {},
   "source": [
    "### 93. Handle multiple exceptions"
   ]
  },
  {
   "cell_type": "code",
   "execution_count": null,
   "id": "ece6a9c2",
   "metadata": {},
   "outputs": [],
   "source": []
  },
  {
   "cell_type": "markdown",
   "id": "9afc3198",
   "metadata": {},
   "source": [
    "### 94. Use finally with file closing"
   ]
  },
  {
   "cell_type": "code",
   "execution_count": null,
   "id": "408932e1",
   "metadata": {},
   "outputs": [],
   "source": []
  },
  {
   "cell_type": "markdown",
   "id": "7fd04011",
   "metadata": {},
   "source": [
    "### 95. Raise a custom exception for age check"
   ]
  },
  {
   "cell_type": "code",
   "execution_count": null,
   "id": "dc8b5b6b",
   "metadata": {},
   "outputs": [],
   "source": []
  },
  {
   "cell_type": "markdown",
   "id": "219d414f",
   "metadata": {},
   "source": [
    "### 96. Catch ValueError in user input"
   ]
  },
  {
   "cell_type": "code",
   "execution_count": null,
   "id": "4777eaba",
   "metadata": {},
   "outputs": [],
   "source": []
  },
  {
   "cell_type": "markdown",
   "id": "fa808a83",
   "metadata": {},
   "source": [
    "### 97. Create function with internal try-except"
   ]
  },
  {
   "cell_type": "code",
   "execution_count": null,
   "id": "58ce0d59",
   "metadata": {},
   "outputs": [],
   "source": []
  },
  {
   "cell_type": "markdown",
   "id": "2a16ea50",
   "metadata": {},
   "source": [
    "### 98. Use assert statement"
   ]
  },
  {
   "cell_type": "code",
   "execution_count": null,
   "id": "332961e2",
   "metadata": {},
   "outputs": [],
   "source": []
  },
  {
   "cell_type": "markdown",
   "id": "f8083e79",
   "metadata": {},
   "source": [
    "### 99. Catch and log an error"
   ]
  },
  {
   "cell_type": "code",
   "execution_count": null,
   "id": "4dd0617d",
   "metadata": {},
   "outputs": [],
   "source": []
  },
  {
   "cell_type": "markdown",
   "id": "27353298",
   "metadata": {},
   "source": [
    "### 100. Retry loop until valid input"
   ]
  },
  {
   "cell_type": "code",
   "execution_count": null,
   "id": "8c598383",
   "metadata": {},
   "outputs": [],
   "source": []
  },
  {
   "cell_type": "markdown",
   "id": "3cdba135",
   "metadata": {},
   "source": [
    "## Iterators and Generators"
   ]
  },
  {
   "cell_type": "markdown",
   "id": "891aeada",
   "metadata": {},
   "source": [
    "### 101. Create your own iterator class"
   ]
  },
  {
   "cell_type": "code",
   "execution_count": null,
   "id": "b41a4e64",
   "metadata": {},
   "outputs": [],
   "source": []
  },
  {
   "cell_type": "markdown",
   "id": "e0f85cc7",
   "metadata": {},
   "source": [
    "### 102. Loop through an iterable using next()"
   ]
  },
  {
   "cell_type": "code",
   "execution_count": null,
   "id": "8cdc537b",
   "metadata": {},
   "outputs": [],
   "source": []
  },
  {
   "cell_type": "markdown",
   "id": "e42e7271",
   "metadata": {},
   "source": [
    "### 103. Convert a list to iterator"
   ]
  },
  {
   "cell_type": "code",
   "execution_count": null,
   "id": "cf78b0e0",
   "metadata": {},
   "outputs": [],
   "source": []
  },
  {
   "cell_type": "markdown",
   "id": "1fba5cc7",
   "metadata": {},
   "source": [
    "### 104. Create a generator function for Fibonacci"
   ]
  },
  {
   "cell_type": "code",
   "execution_count": null,
   "id": "2f08e0aa",
   "metadata": {},
   "outputs": [],
   "source": []
  },
  {
   "cell_type": "markdown",
   "id": "7c2704fa",
   "metadata": {},
   "source": [
    "### 105. Generator to yield even numbers"
   ]
  },
  {
   "cell_type": "code",
   "execution_count": null,
   "id": "dc404952",
   "metadata": {},
   "outputs": [],
   "source": []
  },
  {
   "cell_type": "markdown",
   "id": "525204fe",
   "metadata": {},
   "source": [
    "### 106. Generator expression to get squares"
   ]
  },
  {
   "cell_type": "code",
   "execution_count": null,
   "id": "314f5e9f",
   "metadata": {},
   "outputs": [],
   "source": []
  },
  {
   "cell_type": "markdown",
   "id": "44aa614e",
   "metadata": {},
   "source": [
    "### 107. Use itertools.cycle()"
   ]
  },
  {
   "cell_type": "code",
   "execution_count": null,
   "id": "90f5aad8",
   "metadata": {},
   "outputs": [],
   "source": []
  },
  {
   "cell_type": "markdown",
   "id": "6957a144",
   "metadata": {},
   "source": [
    "### 108. Infinite number generator"
   ]
  },
  {
   "cell_type": "code",
   "execution_count": null,
   "id": "73a7148b",
   "metadata": {},
   "outputs": [],
   "source": []
  },
  {
   "cell_type": "markdown",
   "id": "1fef4090",
   "metadata": {},
   "source": [
    "### 109. Generator with send() and yield"
   ]
  },
  {
   "cell_type": "code",
   "execution_count": null,
   "id": "7f7fbdf1",
   "metadata": {},
   "outputs": [],
   "source": []
  },
  {
   "cell_type": "markdown",
   "id": "f9c620e8",
   "metadata": {},
   "source": [
    "### 110. Write a generator to read file line by line"
   ]
  },
  {
   "cell_type": "code",
   "execution_count": null,
   "id": "7122df86",
   "metadata": {},
   "outputs": [],
   "source": []
  },
  {
   "cell_type": "markdown",
   "id": "e5ffe029",
   "metadata": {},
   "source": [
    "## Decorators"
   ]
  },
  {
   "cell_type": "markdown",
   "id": "5eebaba6",
   "metadata": {},
   "source": [
    "### 111. Write a basic decorator to print execution time"
   ]
  },
  {
   "cell_type": "code",
   "execution_count": null,
   "id": "f895aac6",
   "metadata": {},
   "outputs": [],
   "source": []
  },
  {
   "cell_type": "markdown",
   "id": "f6cc4919",
   "metadata": {},
   "source": [
    "### 112. Decorator to log function calls"
   ]
  },
  {
   "cell_type": "code",
   "execution_count": null,
   "id": "735bfbe0",
   "metadata": {},
   "outputs": [],
   "source": []
  },
  {
   "cell_type": "markdown",
   "id": "fd8fac19",
   "metadata": {},
   "source": [
    "### 113. Decorator for authentication check"
   ]
  },
  {
   "cell_type": "code",
   "execution_count": null,
   "id": "2152a686",
   "metadata": {},
   "outputs": [],
   "source": []
  },
  {
   "cell_type": "markdown",
   "id": "b558c89b",
   "metadata": {},
   "source": [
    "### 114. Decorator to modify function return"
   ]
  },
  {
   "cell_type": "code",
   "execution_count": null,
   "id": "56da6518",
   "metadata": {},
   "outputs": [],
   "source": []
  },
  {
   "cell_type": "markdown",
   "id": "5aacdbab",
   "metadata": {},
   "source": [
    "### 115. Chain two decorators"
   ]
  },
  {
   "cell_type": "code",
   "execution_count": null,
   "id": "250433a2",
   "metadata": {},
   "outputs": [],
   "source": []
  },
  {
   "cell_type": "markdown",
   "id": "87a0946e",
   "metadata": {},
   "source": [
    "### 116. Decorator to count how many times function is called"
   ]
  },
  {
   "cell_type": "code",
   "execution_count": null,
   "id": "49592385",
   "metadata": {},
   "outputs": [],
   "source": []
  },
  {
   "cell_type": "markdown",
   "id": "81c7b2ac",
   "metadata": {},
   "source": [
    "### 117. Decorator with arguments"
   ]
  },
  {
   "cell_type": "code",
   "execution_count": null,
   "id": "9f6546f3",
   "metadata": {},
   "outputs": [],
   "source": []
  },
  {
   "cell_type": "markdown",
   "id": "640edcd3",
   "metadata": {},
   "source": [
    "### 118. Reuse @wraps from functools"
   ]
  },
  {
   "cell_type": "code",
   "execution_count": null,
   "id": "29ed3fd5",
   "metadata": {},
   "outputs": [],
   "source": []
  },
  {
   "cell_type": "markdown",
   "id": "96200781",
   "metadata": {},
   "source": [
    "### 119. Memoization decorator"
   ]
  },
  {
   "cell_type": "code",
   "execution_count": null,
   "id": "4ef3e802",
   "metadata": {},
   "outputs": [],
   "source": []
  },
  {
   "cell_type": "markdown",
   "id": "a7822fc3",
   "metadata": {},
   "source": [
    "### 120. Debug decorator (print args and return)"
   ]
  },
  {
   "cell_type": "code",
   "execution_count": null,
   "id": "f7cc6595",
   "metadata": {},
   "outputs": [],
   "source": []
  },
  {
   "cell_type": "markdown",
   "id": "e3a51a27",
   "metadata": {},
   "source": [
    "## Context Managers"
   ]
  },
  {
   "cell_type": "markdown",
   "id": "254f5d24",
   "metadata": {},
   "source": [
    "### 121. Use with open() for reading file"
   ]
  },
  {
   "cell_type": "code",
   "execution_count": null,
   "id": "a148f85a",
   "metadata": {},
   "outputs": [],
   "source": []
  },
  {
   "cell_type": "markdown",
   "id": "04afd556",
   "metadata": {},
   "source": [
    "### 122. Create custom context manager with class"
   ]
  },
  {
   "cell_type": "code",
   "execution_count": null,
   "id": "3a0ec881",
   "metadata": {},
   "outputs": [],
   "source": []
  },
  {
   "cell_type": "markdown",
   "id": "460bf7eb",
   "metadata": {},
   "source": [
    "### 123. Use contextlib to create context manager"
   ]
  },
  {
   "cell_type": "code",
   "execution_count": null,
   "id": "5ddc907d",
   "metadata": {},
   "outputs": [],
   "source": []
  },
  {
   "cell_type": "markdown",
   "id": "e3370a3d",
   "metadata": {},
   "source": [
    "### 124. Context manager for timer"
   ]
  },
  {
   "cell_type": "code",
   "execution_count": null,
   "id": "afaf3736",
   "metadata": {},
   "outputs": [],
   "source": []
  },
  {
   "cell_type": "markdown",
   "id": "df908ca9",
   "metadata": {},
   "source": [
    "### 125. Safe database connection mock"
   ]
  },
  {
   "cell_type": "code",
   "execution_count": null,
   "id": "d3a6b4fb",
   "metadata": {},
   "outputs": [],
   "source": []
  },
  {
   "cell_type": "markdown",
   "id": "36d9e489",
   "metadata": {},
   "source": [
    "### 126. File lock context manager"
   ]
  },
  {
   "cell_type": "code",
   "execution_count": null,
   "id": "8a5b7007",
   "metadata": {},
   "outputs": [],
   "source": []
  },
  {
   "cell_type": "markdown",
   "id": "a31f535e",
   "metadata": {},
   "source": [
    "### 127. Suppress exception using contextlib"
   ]
  },
  {
   "cell_type": "code",
   "execution_count": null,
   "id": "2f5d5f09",
   "metadata": {},
   "outputs": [],
   "source": []
  },
  {
   "cell_type": "markdown",
   "id": "888f7e2d",
   "metadata": {},
   "source": [
    "### 128. Logging context"
   ]
  },
  {
   "cell_type": "code",
   "execution_count": null,
   "id": "f01b1a5f",
   "metadata": {},
   "outputs": [],
   "source": []
  },
  {
   "cell_type": "markdown",
   "id": "0fde2330",
   "metadata": {},
   "source": [
    "### 129. Context manager to temporarily change working dir"
   ]
  },
  {
   "cell_type": "code",
   "execution_count": null,
   "id": "02194e11",
   "metadata": {},
   "outputs": [],
   "source": []
  },
  {
   "cell_type": "markdown",
   "id": "3e4dc47e",
   "metadata": {},
   "source": [
    "### 130. Implement retry logic context"
   ]
  },
  {
   "cell_type": "code",
   "execution_count": null,
   "id": "29824925",
   "metadata": {},
   "outputs": [],
   "source": []
  },
  {
   "cell_type": "markdown",
   "id": "be4834b0",
   "metadata": {},
   "source": [
    "## Regular Expressions"
   ]
  },
  {
   "cell_type": "markdown",
   "id": "360bb6dd",
   "metadata": {},
   "source": [
    "### 131. Validate email address"
   ]
  },
  {
   "cell_type": "code",
   "execution_count": null,
   "id": "65090445",
   "metadata": {},
   "outputs": [],
   "source": []
  },
  {
   "cell_type": "markdown",
   "id": "570fc2c0",
   "metadata": {},
   "source": [
    "### 132. Extract all numbers from text"
   ]
  },
  {
   "cell_type": "code",
   "execution_count": null,
   "id": "51d78ff2",
   "metadata": {},
   "outputs": [],
   "source": []
  },
  {
   "cell_type": "markdown",
   "id": "20b8ffb5",
   "metadata": {},
   "source": [
    "### 133. Replace all whitespaces with '-'"
   ]
  },
  {
   "cell_type": "code",
   "execution_count": null,
   "id": "3b7f02bf",
   "metadata": {},
   "outputs": [],
   "source": []
  },
  {
   "cell_type": "markdown",
   "id": "3f26721e",
   "metadata": {},
   "source": [
    "### 134. Check for valid mobile number"
   ]
  },
  {
   "cell_type": "code",
   "execution_count": null,
   "id": "470c6d8f",
   "metadata": {},
   "outputs": [],
   "source": []
  },
  {
   "cell_type": "markdown",
   "id": "d59d1a25",
   "metadata": {},
   "source": [
    "### 135. Count word frequency with regex"
   ]
  },
  {
   "cell_type": "code",
   "execution_count": null,
   "id": "1f51bd97",
   "metadata": {},
   "outputs": [],
   "source": []
  },
  {
   "cell_type": "markdown",
   "id": "182a961c",
   "metadata": {},
   "source": [
    "### 136. Extract hashtags from tweet"
   ]
  },
  {
   "cell_type": "code",
   "execution_count": null,
   "id": "52a9161d",
   "metadata": {},
   "outputs": [],
   "source": []
  },
  {
   "cell_type": "markdown",
   "id": "a82153d0",
   "metadata": {},
   "source": [
    "### 137. Validate strong password"
   ]
  },
  {
   "cell_type": "code",
   "execution_count": null,
   "id": "23496f6e",
   "metadata": {},
   "outputs": [],
   "source": []
  },
  {
   "cell_type": "markdown",
   "id": "1e6f0786",
   "metadata": {},
   "source": [
    "### 138. Find duplicate words in a string"
   ]
  },
  {
   "cell_type": "code",
   "execution_count": null,
   "id": "11593fd2",
   "metadata": {},
   "outputs": [],
   "source": []
  },
  {
   "cell_type": "markdown",
   "id": "16a5d2cc",
   "metadata": {},
   "source": [
    "### 139. Split text on punctuation"
   ]
  },
  {
   "cell_type": "code",
   "execution_count": null,
   "id": "8eac0e77",
   "metadata": {},
   "outputs": [],
   "source": []
  },
  {
   "cell_type": "markdown",
   "id": "5ff8acaa",
   "metadata": {},
   "source": [
    "### 140. Match a date format (dd-mm-yyyy)"
   ]
  },
  {
   "cell_type": "code",
   "execution_count": null,
   "id": "cd280c13",
   "metadata": {},
   "outputs": [],
   "source": []
  },
  {
   "cell_type": "markdown",
   "id": "4af862ea",
   "metadata": {},
   "source": [
    "## Date and Time"
   ]
  },
  {
   "cell_type": "markdown",
   "id": "f9cd6598",
   "metadata": {},
   "source": [
    "### 141. Get current date and time"
   ]
  },
  {
   "cell_type": "code",
   "execution_count": null,
   "id": "b99d4b5f",
   "metadata": {},
   "outputs": [],
   "source": []
  },
  {
   "cell_type": "markdown",
   "id": "79ea5ecb",
   "metadata": {},
   "source": [
    "### 142. Convert string to datetime"
   ]
  },
  {
   "cell_type": "code",
   "execution_count": null,
   "id": "ed54acc3",
   "metadata": {},
   "outputs": [],
   "source": []
  },
  {
   "cell_type": "markdown",
   "id": "def65e84",
   "metadata": {},
   "source": [
    "### 143. Find difference between two dates"
   ]
  },
  {
   "cell_type": "code",
   "execution_count": null,
   "id": "da89d762",
   "metadata": {},
   "outputs": [],
   "source": []
  },
  {
   "cell_type": "markdown",
   "id": "287d9c1e",
   "metadata": {},
   "source": [
    "### 144. Countdown timer using sleep()"
   ]
  },
  {
   "cell_type": "code",
   "execution_count": null,
   "id": "3c57d119",
   "metadata": {},
   "outputs": [],
   "source": []
  },
  {
   "cell_type": "markdown",
   "id": "06c01018",
   "metadata": {},
   "source": [
    "### 145. Add 5 days to current date"
   ]
  },
  {
   "cell_type": "code",
   "execution_count": null,
   "id": "2486c36c",
   "metadata": {},
   "outputs": [],
   "source": []
  },
  {
   "cell_type": "markdown",
   "id": "d5271ff5",
   "metadata": {},
   "source": [
    "### 146. Print time in 12hr format"
   ]
  },
  {
   "cell_type": "code",
   "execution_count": null,
   "id": "d72d0f82",
   "metadata": {},
   "outputs": [],
   "source": []
  },
  {
   "cell_type": "markdown",
   "id": "75cf8752",
   "metadata": {},
   "source": [
    "### 147. Parse date with different format"
   ]
  },
  {
   "cell_type": "code",
   "execution_count": null,
   "id": "37876de0",
   "metadata": {},
   "outputs": [],
   "source": []
  },
  {
   "cell_type": "markdown",
   "id": "0cc2964e",
   "metadata": {},
   "source": [
    "### 148. Measure code execution time"
   ]
  },
  {
   "cell_type": "code",
   "execution_count": null,
   "id": "ee6a784b",
   "metadata": {},
   "outputs": [],
   "source": []
  },
  {
   "cell_type": "markdown",
   "id": "582b1287",
   "metadata": {},
   "source": [
    "### 149. Schedule future event logic"
   ]
  },
  {
   "cell_type": "code",
   "execution_count": null,
   "id": "d7808c98",
   "metadata": {},
   "outputs": [],
   "source": []
  },
  {
   "cell_type": "markdown",
   "id": "dc9a8f5e",
   "metadata": {},
   "source": [
    "### 150. List all dates of current month"
   ]
  },
  {
   "cell_type": "code",
   "execution_count": null,
   "id": "f498718a",
   "metadata": {},
   "outputs": [],
   "source": []
  },
  {
   "cell_type": "markdown",
   "id": "97478ac0",
   "metadata": {},
   "source": [
    "## Math and Statistics"
   ]
  },
  {
   "cell_type": "markdown",
   "id": "430bb73f",
   "metadata": {},
   "source": [
    "### 151. Find factorial using math"
   ]
  },
  {
   "cell_type": "code",
   "execution_count": null,
   "id": "4379bd5a",
   "metadata": {},
   "outputs": [],
   "source": []
  },
  {
   "cell_type": "markdown",
   "id": "c8cd6793",
   "metadata": {},
   "source": [
    "### 152. Generate random numbers"
   ]
  },
  {
   "cell_type": "code",
   "execution_count": null,
   "id": "455bae41",
   "metadata": {},
   "outputs": [],
   "source": []
  },
  {
   "cell_type": "markdown",
   "id": "aeb79b5d",
   "metadata": {},
   "source": [
    "### 153. Convert binary to decimal"
   ]
  },
  {
   "cell_type": "code",
   "execution_count": null,
   "id": "79ce52ba",
   "metadata": {},
   "outputs": [],
   "source": []
  },
  {
   "cell_type": "markdown",
   "id": "fc755a84",
   "metadata": {},
   "source": [
    "### 154. Check for Armstrong number"
   ]
  },
  {
   "cell_type": "code",
   "execution_count": null,
   "id": "8d89d0f5",
   "metadata": {},
   "outputs": [],
   "source": []
  },
  {
   "cell_type": "markdown",
   "id": "9a508b68",
   "metadata": {},
   "source": [
    "### 155. Calculate mean, median, mode"
   ]
  },
  {
   "cell_type": "code",
   "execution_count": null,
   "id": "b47e7576",
   "metadata": {},
   "outputs": [],
   "source": []
  },
  {
   "cell_type": "markdown",
   "id": "b76e7b3e",
   "metadata": {},
   "source": [
    "### 156. Calculate GCD and LCM"
   ]
  },
  {
   "cell_type": "code",
   "execution_count": null,
   "id": "8b9048ef",
   "metadata": {},
   "outputs": [],
   "source": []
  },
  {
   "cell_type": "markdown",
   "id": "c26929bb",
   "metadata": {},
   "source": [
    "### 157. Use cmath for complex roots"
   ]
  },
  {
   "cell_type": "code",
   "execution_count": null,
   "id": "4563c94e",
   "metadata": {},
   "outputs": [],
   "source": []
  },
  {
   "cell_type": "markdown",
   "id": "7263fc2f",
   "metadata": {},
   "source": [
    "### 158. Simulate a dice throw"
   ]
  },
  {
   "cell_type": "code",
   "execution_count": null,
   "id": "a4fb14c8",
   "metadata": {},
   "outputs": [],
   "source": []
  },
  {
   "cell_type": "markdown",
   "id": "c665ab7a",
   "metadata": {},
   "source": [
    "### 159. Use statistics.variance()"
   ]
  },
  {
   "cell_type": "code",
   "execution_count": null,
   "id": "8a2cb4f0",
   "metadata": {},
   "outputs": [],
   "source": []
  },
  {
   "cell_type": "markdown",
   "id": "dd1b0602",
   "metadata": {},
   "source": [
    "### 160. Convert between number bases"
   ]
  },
  {
   "cell_type": "code",
   "execution_count": null,
   "id": "da7d7717",
   "metadata": {},
   "outputs": [],
   "source": []
  },
  {
   "cell_type": "markdown",
   "id": "373ec5d2",
   "metadata": {},
   "source": [
    "## Functional Programming Tools"
   ]
  },
  {
   "cell_type": "markdown",
   "id": "1e13fc9e",
   "metadata": {},
   "source": [
    "### 161. Use map() to square numbers"
   ]
  },
  {
   "cell_type": "code",
   "execution_count": null,
   "id": "12ae1cee",
   "metadata": {},
   "outputs": [],
   "source": []
  },
  {
   "cell_type": "markdown",
   "id": "99e65623",
   "metadata": {},
   "source": [
    "### 162. Use filter() to get odd numbers"
   ]
  },
  {
   "cell_type": "code",
   "execution_count": null,
   "id": "5f1e95f8",
   "metadata": {},
   "outputs": [],
   "source": []
  },
  {
   "cell_type": "markdown",
   "id": "3c65fc16",
   "metadata": {},
   "source": [
    "### 163. Use reduce() to compute factorial"
   ]
  },
  {
   "cell_type": "code",
   "execution_count": null,
   "id": "eee6b3e0",
   "metadata": {},
   "outputs": [],
   "source": []
  },
  {
   "cell_type": "markdown",
   "id": "538c957d",
   "metadata": {},
   "source": [
    "### 164. Use zip() to merge lists"
   ]
  },
  {
   "cell_type": "code",
   "execution_count": null,
   "id": "09f59d48",
   "metadata": {},
   "outputs": [],
   "source": []
  },
  {
   "cell_type": "markdown",
   "id": "460629d1",
   "metadata": {},
   "source": [
    "### 165. Use enumerate() to get index"
   ]
  },
  {
   "cell_type": "code",
   "execution_count": null,
   "id": "4615a725",
   "metadata": {},
   "outputs": [],
   "source": []
  },
  {
   "cell_type": "markdown",
   "id": "f7b72490",
   "metadata": {},
   "source": [
    "### 166. Use sorted() with lambda key"
   ]
  },
  {
   "cell_type": "code",
   "execution_count": null,
   "id": "8ebf2bff",
   "metadata": {},
   "outputs": [],
   "source": []
  },
  {
   "cell_type": "markdown",
   "id": "86544665",
   "metadata": {},
   "source": [
    "### 167. Use all() to validate list"
   ]
  },
  {
   "cell_type": "code",
   "execution_count": null,
   "id": "08eaa6f1",
   "metadata": {},
   "outputs": [],
   "source": []
  },
  {
   "cell_type": "markdown",
   "id": "bd7d8d29",
   "metadata": {},
   "source": [
    "### 168. Use any() to check presence"
   ]
  },
  {
   "cell_type": "code",
   "execution_count": null,
   "id": "cf490a0f",
   "metadata": {},
   "outputs": [],
   "source": []
  },
  {
   "cell_type": "markdown",
   "id": "10ce5554",
   "metadata": {},
   "source": [
    "### 169. Chain map, filter and reduce"
   ]
  },
  {
   "cell_type": "code",
   "execution_count": null,
   "id": "35e14292",
   "metadata": {},
   "outputs": [],
   "source": []
  },
  {
   "cell_type": "markdown",
   "id": "24868d20",
   "metadata": {},
   "source": [
    "### 170. Compare two lists element-wise"
   ]
  },
  {
   "cell_type": "code",
   "execution_count": null,
   "id": "43ecbe48",
   "metadata": {},
   "outputs": [],
   "source": []
  },
  {
   "cell_type": "markdown",
   "id": "242d0d95",
   "metadata": {},
   "source": [
    "## Command-line Arguments"
   ]
  },
  {
   "cell_type": "markdown",
   "id": "617453c9",
   "metadata": {},
   "source": [
    "### 171. Access command-line args using sys.argv"
   ]
  },
  {
   "cell_type": "code",
   "execution_count": null,
   "id": "90885af6",
   "metadata": {},
   "outputs": [],
   "source": []
  },
  {
   "cell_type": "markdown",
   "id": "1d8d1653",
   "metadata": {},
   "source": [
    "### 172. Create script to add numbers from args"
   ]
  },
  {
   "cell_type": "code",
   "execution_count": null,
   "id": "48c38a9e",
   "metadata": {},
   "outputs": [],
   "source": []
  },
  {
   "cell_type": "markdown",
   "id": "1c31f0f2",
   "metadata": {},
   "source": [
    "### 173. Use argparse to take user input"
   ]
  },
  {
   "cell_type": "code",
   "execution_count": null,
   "id": "6c5b7ca2",
   "metadata": {},
   "outputs": [],
   "source": []
  },
  {
   "cell_type": "markdown",
   "id": "2a166310",
   "metadata": {},
   "source": [
    "### 174. Add optional flags using argparse"
   ]
  },
  {
   "cell_type": "code",
   "execution_count": null,
   "id": "e6d5f863",
   "metadata": {},
   "outputs": [],
   "source": []
  },
  {
   "cell_type": "markdown",
   "id": "d237ce8f",
   "metadata": {},
   "source": [
    "### 175. Require --help and usage text"
   ]
  },
  {
   "cell_type": "code",
   "execution_count": null,
   "id": "ba247e8e",
   "metadata": {},
   "outputs": [],
   "source": []
  },
  {
   "cell_type": "markdown",
   "id": "dc060c89",
   "metadata": {},
   "source": [
    "### 176. Add positional arguments"
   ]
  },
  {
   "cell_type": "code",
   "execution_count": null,
   "id": "19761f61",
   "metadata": {},
   "outputs": [],
   "source": []
  },
  {
   "cell_type": "markdown",
   "id": "a677f9de",
   "metadata": {},
   "source": [
    "### 177. Use default values"
   ]
  },
  {
   "cell_type": "code",
   "execution_count": null,
   "id": "c4205ccf",
   "metadata": {},
   "outputs": [],
   "source": []
  },
  {
   "cell_type": "markdown",
   "id": "0e0b7f81",
   "metadata": {},
   "source": [
    "### 178. Combine flags and options"
   ]
  },
  {
   "cell_type": "code",
   "execution_count": null,
   "id": "311d34ed",
   "metadata": {},
   "outputs": [],
   "source": []
  },
  {
   "cell_type": "markdown",
   "id": "aed96e4d",
   "metadata": {},
   "source": [
    "### 179. Create CLI for a mini calculator"
   ]
  },
  {
   "cell_type": "code",
   "execution_count": null,
   "id": "36ac0f34",
   "metadata": {},
   "outputs": [],
   "source": []
  },
  {
   "cell_type": "markdown",
   "id": "b1026c1a",
   "metadata": {},
   "source": [
    "### 180. Validate inputs with argparse"
   ]
  },
  {
   "cell_type": "code",
   "execution_count": null,
   "id": "bcc51fd8",
   "metadata": {},
   "outputs": [],
   "source": []
  },
  {
   "cell_type": "markdown",
   "id": "ddecaee6",
   "metadata": {},
   "source": [
    "## JSON & CSV"
   ]
  },
  {
   "cell_type": "markdown",
   "id": "3edc1455",
   "metadata": {},
   "source": [
    "### 181. Convert dict to JSON string"
   ]
  },
  {
   "cell_type": "code",
   "execution_count": null,
   "id": "8ab13734",
   "metadata": {},
   "outputs": [],
   "source": []
  },
  {
   "cell_type": "markdown",
   "id": "fc632b50",
   "metadata": {},
   "source": [
    "### 182. Read JSON file"
   ]
  },
  {
   "cell_type": "code",
   "execution_count": null,
   "id": "99410567",
   "metadata": {},
   "outputs": [],
   "source": []
  },
  {
   "cell_type": "markdown",
   "id": "12e43883",
   "metadata": {},
   "source": [
    "### 183. Write JSON file"
   ]
  },
  {
   "cell_type": "code",
   "execution_count": null,
   "id": "891eeda7",
   "metadata": {},
   "outputs": [],
   "source": []
  },
  {
   "cell_type": "markdown",
   "id": "2562f107",
   "metadata": {},
   "source": [
    "### 184. Parse nested JSON"
   ]
  },
  {
   "cell_type": "code",
   "execution_count": null,
   "id": "8872e8da",
   "metadata": {},
   "outputs": [],
   "source": []
  },
  {
   "cell_type": "markdown",
   "id": "eb2bc7ca",
   "metadata": {},
   "source": [
    "### 185. Load CSV file and print first 5 rows"
   ]
  },
  {
   "cell_type": "code",
   "execution_count": null,
   "id": "a9c66065",
   "metadata": {},
   "outputs": [],
   "source": []
  },
  {
   "cell_type": "markdown",
   "id": "73bc36c5",
   "metadata": {},
   "source": [
    "### 186. Count rows in CSV"
   ]
  },
  {
   "cell_type": "code",
   "execution_count": null,
   "id": "7856a692",
   "metadata": {},
   "outputs": [],
   "source": []
  },
  {
   "cell_type": "markdown",
   "id": "702434ad",
   "metadata": {},
   "source": [
    "### 187. Convert CSV to list of dicts"
   ]
  },
  {
   "cell_type": "code",
   "execution_count": null,
   "id": "798a1e94",
   "metadata": {},
   "outputs": [],
   "source": []
  },
  {
   "cell_type": "markdown",
   "id": "e88fcf69",
   "metadata": {},
   "source": [
    "### 188. Write to CSV"
   ]
  },
  {
   "cell_type": "code",
   "execution_count": null,
   "id": "81a21c7b",
   "metadata": {},
   "outputs": [],
   "source": []
  },
  {
   "cell_type": "markdown",
   "id": "b6a1d850",
   "metadata": {},
   "source": [
    "### 189. Remove empty rows from CSV"
   ]
  },
  {
   "cell_type": "code",
   "execution_count": null,
   "id": "6c266a25",
   "metadata": {},
   "outputs": [],
   "source": []
  },
  {
   "cell_type": "markdown",
   "id": "bd6915b7",
   "metadata": {},
   "source": [
    "### 190. Merge multiple CSVs"
   ]
  },
  {
   "cell_type": "code",
   "execution_count": null,
   "id": "8f1ed076",
   "metadata": {},
   "outputs": [],
   "source": []
  },
  {
   "cell_type": "markdown",
   "id": "7463d079",
   "metadata": {},
   "source": [
    "## Performance and Memory"
   ]
  },
  {
   "cell_type": "markdown",
   "id": "6052378e",
   "metadata": {},
   "source": [
    "### 191. Use timeit to compare two functions"
   ]
  },
  {
   "cell_type": "code",
   "execution_count": null,
   "id": "ecc8ae52",
   "metadata": {},
   "outputs": [],
   "source": []
  },
  {
   "cell_type": "markdown",
   "id": "49ec0465",
   "metadata": {},
   "source": [
    "### 192. Profile a function with cProfile"
   ]
  },
  {
   "cell_type": "code",
   "execution_count": null,
   "id": "a21d819d",
   "metadata": {},
   "outputs": [],
   "source": []
  },
  {
   "cell_type": "markdown",
   "id": "5f8aca6f",
   "metadata": {},
   "source": [
    "### 193. Measure memory usage with sys.getsizeof()"
   ]
  },
  {
   "cell_type": "code",
   "execution_count": null,
   "id": "f4e53fa2",
   "metadata": {},
   "outputs": [],
   "source": []
  },
  {
   "cell_type": "markdown",
   "id": "13940797",
   "metadata": {},
   "source": [
    "### 194. Optimize a recursive function"
   ]
  },
  {
   "cell_type": "code",
   "execution_count": null,
   "id": "6e935674",
   "metadata": {},
   "outputs": [],
   "source": []
  },
  {
   "cell_type": "markdown",
   "id": "8188f908",
   "metadata": {},
   "source": [
    "### 195. Compare list vs generator memory"
   ]
  },
  {
   "cell_type": "code",
   "execution_count": null,
   "id": "060bdfbe",
   "metadata": {},
   "outputs": [],
   "source": []
  },
  {
   "cell_type": "markdown",
   "id": "a188e5d6",
   "metadata": {},
   "source": [
    "### 196. Use lru_cache for memoization"
   ]
  },
  {
   "cell_type": "code",
   "execution_count": null,
   "id": "15971599",
   "metadata": {},
   "outputs": [],
   "source": []
  },
  {
   "cell_type": "markdown",
   "id": "70466af7",
   "metadata": {},
   "source": [
    "### 197. Create lazy loader using generator"
   ]
  },
  {
   "cell_type": "code",
   "execution_count": null,
   "id": "daf8c4ba",
   "metadata": {},
   "outputs": [],
   "source": []
  },
  {
   "cell_type": "markdown",
   "id": "3d75e4c9",
   "metadata": {},
   "source": [
    "### 198. Check Python version and build"
   ]
  },
  {
   "cell_type": "code",
   "execution_count": null,
   "id": "997e8d2b",
   "metadata": {},
   "outputs": [],
   "source": []
  },
  {
   "cell_type": "markdown",
   "id": "e3beb1bf",
   "metadata": {},
   "source": [
    "### 199. Find bottleneck using profiler"
   ]
  },
  {
   "cell_type": "code",
   "execution_count": null,
   "id": "61e9c287",
   "metadata": {},
   "outputs": [],
   "source": []
  },
  {
   "cell_type": "markdown",
   "id": "640311b3",
   "metadata": {},
   "source": [
    "### 200. Create memory-efficient large data pipeline"
   ]
  },
  {
   "cell_type": "code",
   "execution_count": null,
   "id": "bfc768c6",
   "metadata": {},
   "outputs": [],
   "source": []
  }
 ],
 "metadata": {},
 "nbformat": 4,
 "nbformat_minor": 5
}